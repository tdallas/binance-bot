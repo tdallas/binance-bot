{
 "cells": [
  {
   "cell_type": "code",
   "execution_count": 36,
   "outputs": [],
   "source": [
    "import pandas as pd\n",
    "from neupy import algorithms\n",
    "import numpy as np\n",
    "import json\n",
    "from tqdm import tqdm"
   ],
   "metadata": {
    "collapsed": false,
    "pycharm": {
     "name": "#%%\n"
    }
   }
  },
  {
   "cell_type": "code",
   "execution_count": 37,
   "metadata": {
    "pycharm": {
     "name": "#%%\n"
    }
   },
   "outputs": [],
   "source": [
    "def ret(n, n_1):\n",
    "    return (n_1 - n) / n\n",
    "\n",
    "\n",
    "# prices every 15 seconds\n",
    "# df = pd.read_csv(\"prices.csv\")\n",
    "f = open(\"BTC_USDT-1m.json\")\n",
    "df = pd.DataFrame.from_records(json.load(f), columns=['timestamp', 'open', 'high', 'low', 'close', 'vol'])\n",
    "# df.columns = ['price']\n",
    "df['ret'] = (df['high'].shift(-1) - df['open']) / df['open']\n",
    "df = df.iloc[:3600]"
   ]
  },
  {
   "cell_type": "code",
   "execution_count": 38,
   "outputs": [
    {
     "data": {
      "text/plain": "          timestamp      open      high       low     close       vol  \\\n0     1643760000000  38694.59  38739.04  38692.56  38722.39  16.39465   \n1     1643760060000  38724.92  38786.36  38714.47  38763.09  14.60847   \n2     1643760120000  38763.08  38768.18  38715.64  38746.91  28.64245   \n3     1643760180000  38746.90  38754.50  38725.00  38728.05  15.48239   \n4     1643760240000  38728.05  38728.05  38714.00  38720.95  11.37676   \n...             ...       ...       ...       ...       ...       ...   \n3595  1643975700000  37829.41  37838.43  37818.72  37825.20   7.43072   \n3596  1643975760000  37825.21  37844.99  37818.72  37844.84  21.59401   \n3597  1643975820000  37844.83  37844.84  37828.11  37831.90   8.03157   \n3598  1643975880000  37831.90  37835.00  37819.01  37825.44  16.43789   \n3599  1643975940000  37825.43  37828.94  37810.00  37810.00  28.17299   \n\n           ret  \n0     0.002372  \n1     0.001117  \n2    -0.000221  \n3    -0.000486  \n4     0.000062  \n...        ...  \n3595  0.000412  \n3596  0.000519  \n3597 -0.000260  \n3598 -0.000078  \n3599  0.001073  \n\n[3600 rows x 7 columns]",
      "text/html": "<div>\n<style scoped>\n    .dataframe tbody tr th:only-of-type {\n        vertical-align: middle;\n    }\n\n    .dataframe tbody tr th {\n        vertical-align: top;\n    }\n\n    .dataframe thead th {\n        text-align: right;\n    }\n</style>\n<table border=\"1\" class=\"dataframe\">\n  <thead>\n    <tr style=\"text-align: right;\">\n      <th></th>\n      <th>timestamp</th>\n      <th>open</th>\n      <th>high</th>\n      <th>low</th>\n      <th>close</th>\n      <th>vol</th>\n      <th>ret</th>\n    </tr>\n  </thead>\n  <tbody>\n    <tr>\n      <th>0</th>\n      <td>1643760000000</td>\n      <td>38694.59</td>\n      <td>38739.04</td>\n      <td>38692.56</td>\n      <td>38722.39</td>\n      <td>16.39465</td>\n      <td>0.002372</td>\n    </tr>\n    <tr>\n      <th>1</th>\n      <td>1643760060000</td>\n      <td>38724.92</td>\n      <td>38786.36</td>\n      <td>38714.47</td>\n      <td>38763.09</td>\n      <td>14.60847</td>\n      <td>0.001117</td>\n    </tr>\n    <tr>\n      <th>2</th>\n      <td>1643760120000</td>\n      <td>38763.08</td>\n      <td>38768.18</td>\n      <td>38715.64</td>\n      <td>38746.91</td>\n      <td>28.64245</td>\n      <td>-0.000221</td>\n    </tr>\n    <tr>\n      <th>3</th>\n      <td>1643760180000</td>\n      <td>38746.90</td>\n      <td>38754.50</td>\n      <td>38725.00</td>\n      <td>38728.05</td>\n      <td>15.48239</td>\n      <td>-0.000486</td>\n    </tr>\n    <tr>\n      <th>4</th>\n      <td>1643760240000</td>\n      <td>38728.05</td>\n      <td>38728.05</td>\n      <td>38714.00</td>\n      <td>38720.95</td>\n      <td>11.37676</td>\n      <td>0.000062</td>\n    </tr>\n    <tr>\n      <th>...</th>\n      <td>...</td>\n      <td>...</td>\n      <td>...</td>\n      <td>...</td>\n      <td>...</td>\n      <td>...</td>\n      <td>...</td>\n    </tr>\n    <tr>\n      <th>3595</th>\n      <td>1643975700000</td>\n      <td>37829.41</td>\n      <td>37838.43</td>\n      <td>37818.72</td>\n      <td>37825.20</td>\n      <td>7.43072</td>\n      <td>0.000412</td>\n    </tr>\n    <tr>\n      <th>3596</th>\n      <td>1643975760000</td>\n      <td>37825.21</td>\n      <td>37844.99</td>\n      <td>37818.72</td>\n      <td>37844.84</td>\n      <td>21.59401</td>\n      <td>0.000519</td>\n    </tr>\n    <tr>\n      <th>3597</th>\n      <td>1643975820000</td>\n      <td>37844.83</td>\n      <td>37844.84</td>\n      <td>37828.11</td>\n      <td>37831.90</td>\n      <td>8.03157</td>\n      <td>-0.000260</td>\n    </tr>\n    <tr>\n      <th>3598</th>\n      <td>1643975880000</td>\n      <td>37831.90</td>\n      <td>37835.00</td>\n      <td>37819.01</td>\n      <td>37825.44</td>\n      <td>16.43789</td>\n      <td>-0.000078</td>\n    </tr>\n    <tr>\n      <th>3599</th>\n      <td>1643975940000</td>\n      <td>37825.43</td>\n      <td>37828.94</td>\n      <td>37810.00</td>\n      <td>37810.00</td>\n      <td>28.17299</td>\n      <td>0.001073</td>\n    </tr>\n  </tbody>\n</table>\n<p>3600 rows × 7 columns</p>\n</div>"
     },
     "execution_count": 38,
     "metadata": {},
     "output_type": "execute_result"
    }
   ],
   "source": [
    "df"
   ],
   "metadata": {
    "collapsed": false,
    "pycharm": {
     "name": "#%%\n"
    }
   }
  },
  {
   "cell_type": "code",
   "execution_count": 50,
   "outputs": [
    {
     "name": "stderr",
     "output_type": "stream",
     "text": [
      "  0%|          | 1/300 [00:07<39:22,  7.90s/it]"
     ]
    },
    {
     "name": "stdout",
     "output_type": "stream",
     "text": [
      "found max hit_rate 0.7302725968436155 std: 0.0036 predictions= 3485\n"
     ]
    },
    {
     "name": "stderr",
     "output_type": "stream",
     "text": [
      "100%|██████████| 300/300 [39:08<00:00,  7.83s/it]\n"
     ]
    }
   ],
   "source": [
    "max_hit_rate = -1\n",
    "std = 0.0037GF                       ----------------------\n",
    "for std in tqdm(np.arange(0.0036, 0.0039, 0.000001)):\n",
    "    predictions = []\n",
    "    for i in range(len(df) - NDTR) :\n",
    "        small_df = df.iloc[i: i + NDTR].copy(deep=True)[['open', 'high', 'ret']]\n",
    "        small_df['open'] = small_df['open'] / small_df['open'].mean()\n",
    "        small_df['high'] = small_df['high'] / small_df['high'].mean()\n",
    "        x_train = small_df.iloc[0:NDTR - 1][['open', 'high']].values\n",
    "        y_train = small_df['ret'].iloc[0:NDTR - 1]\n",
    "        grnn = algorithms.GRNN(std=std, verbose=False)\n",
    "        grnn.train(x_train, y_train.values)\n",
    "\n",
    "        x_predict = small_df.iloc[NDTR - 1][['open', 'high']].values\n",
    "        prediction = grnn.predict([x_predict])\n",
    "        predictions.append(prediction[0][0])\n",
    "    y_test= df['ret'].iloc[NDTR:].values\n",
    "    hits = 0\n",
    "    for i in range(len(predictions)):\n",
    "        if np.sign(y_test[i]) == np.sign(predictions[i]):\n",
    "            hits+=1\n",
    "    hit_rate = hits / len(predictions)\n",
    "    if hit_rate > max_hit_rate:\n",
    "        max_hit_rate = hit_rate\n",
    "        print(\"found max hit_rate\", hit_rate, \"std:\", std, \"spredictions=\", len(predictions))"
   ],
   "metadata": {
    "collapsed": false,
    "pycharm": {
     "name": "#%%\n"
    }
   }
  },
  {
   "cell_type": "code",
   "execution_count": 39,
   "outputs": [],
   "source": [],
   "metadata": {
    "collapsed": false,
    "pycharm": {
     "name": "#%%\n"
    }
   }
  }
 ],
 "metadata": {
  "kernelspec": {
   "display_name": "Python 3.8.10 64-bit ('3.8.10')",
   "language": "python",
   "name": "python3"
  },
  "language_info": {
   "codemirror_mode": {
    "name": "ipython",
    "version": 3
   },
   "file_extension": ".py",
   "mimetype": "text/x-python",
   "name": "python",
   "nbconvert_exporter": "python",
   "pygments_lexer": "ipython3",
   "version": "3.8.10"
  },
  "orig_nbformat": 4,
  "vscode": {
   "interpreter": {
    "hash": "51358056f74a2d21998dc5d866dbfaea4db2646fd9139b55e1f67d5243b0204f"
   }
  }
 },
 "nbformat": 4,
 "nbformat_minor": 2
}