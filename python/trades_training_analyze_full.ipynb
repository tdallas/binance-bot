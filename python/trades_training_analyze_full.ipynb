{
 "cells": [
  {
   "cell_type": "code",
   "execution_count": 77,
   "metadata": {
    "collapsed": true,
    "pycharm": {
     "name": "#%%\n"
    }
   },
   "outputs": [],
   "source": [
    "import json\n",
    "import math\n",
    "\n",
    "import numpy as np\n",
    "import pandas as pd\n",
    "import plotly.graph_objects as go\n",
    "from plotly.subplots import make_subplots\n",
    "from sklearn.neighbors import KNeighborsClassifier\n",
    "from tqdm import tqdm\n",
    "from datetime import datetime\n",
    "from sklearn.preprocessing import StandardScaler, MinMaxScaler, RobustScaler\n",
    "import plotly.express as px\n",
    "import requests"
   ]
  },
  {
   "cell_type": "code",
   "execution_count": 78,
   "outputs": [],
   "source": [
    "columns = ['timestamp', 'price', 'pair']"
   ],
   "metadata": {
    "collapsed": false,
    "pycharm": {
     "name": "#%%\n"
    }
   }
  },
  {
   "cell_type": "code",
   "execution_count": 79,
   "outputs": [],
   "source": [
    "last_year = 1633118092 * 1000\n",
    "august_2021 = 1627846933 * 1000\n",
    "\n",
    "df = pd.read_csv(\"trades_all_500.csv\")\n",
    "df.columns = columns\n",
    "# df = df[df['timestamp'] >= last_year]\n",
    "# df = df[df['timestamp'] >= august_2021]\n",
    "PAIRS = df['pair'].unique()"
   ],
   "metadata": {
    "collapsed": false,
    "pycharm": {
     "name": "#%%\n"
    }
   }
  },
  {
   "cell_type": "markdown",
   "source": [
    "Analyzing buy price"
   ],
   "metadata": {
    "collapsed": false,
    "pycharm": {
     "name": "#%% md\n"
    }
   }
  },
  {
   "cell_type": "code",
   "execution_count": 80,
   "outputs": [
    {
     "name": "stderr",
     "output_type": "stream",
     "text": [
      "100%|██████████| 862/862 [00:17<00:00, 50.42it/s]\n"
     ]
    }
   ],
   "source": [
    "#ret_first_Second, pair\n",
    "rets = []\n",
    "#pair, buy_time, sell_time, buy_price_multiplier, ret\n",
    "trades_df = []\n",
    "# buy_ret, sell_ret, hit\n",
    "hits = []\n",
    "for pair in tqdm(PAIRS):\n",
    "    trades = df[df['pair'] == pair]\n",
    "    first_price = float(trades['price'].iloc[0])\n",
    "    second_price = float(trades['price'].iloc[1])\n",
    "    ret = (second_price - first_price) / first_price\n",
    "    rets.append([ret, pair])\n",
    "\n",
    "rets = pd.DataFrame(rets, columns=['ret_first_second', 'pair'])\n"
   ],
   "metadata": {
    "collapsed": false,
    "pycharm": {
     "name": "#%%\n"
    }
   }
  },
  {
   "cell_type": "code",
   "execution_count": 81,
   "outputs": [
    {
     "data": {
      "application/vnd.plotly.v1+json": {
       "data": [
        {
         "x": [
          "RENBUSD",
          "ALGOUSDC",
          "EOSUSDC",
          "XTZUSDT",
          "BURGERUSDT",
          "GASBUSD",
          "POWRBUSD",
          "HNTUSDT",
          "FXSUSDT",
          "STPTBUSD",
          "WAVESBUSD",
          "TRXUPUSDT",
          "BELBUSD",
          "GMTBUSD",
          "DATAUSDT",
          "SANDUSDT",
          "DGBBUSD",
          "HEGICBUSD",
          "JUVUSDT",
          "BUSDBRL",
          "RAREBUSD",
          "LEVERUSDT",
          "POLYXUSDT",
          "CVCBUSD",
          "GMXUSDT",
          "USDCBNB",
          "CLVUSDT",
          "MOVRBUSD",
          "BCHDOWNUSDT",
          "RGTUSDT",
          "TLMUSDT",
          "HIVEBUSD",
          "CELRUSDT",
          "UTKBUSD",
          "BUSDTRY",
          "ADXUSDT",
          "HBARBUSD",
          "DOTUPUSDT",
          "BAKEBUSD",
          "BUSDUSDT",
          "FIDABUSD",
          "ARKBUSD",
          "YFIDOWNUSDT",
          "FTTBUSD",
          "ATOMBUSD",
          "BTTUSDC",
          "NMRBUSD",
          "XLMBUSD",
          "ALGOTUSD",
          "XNOUSDT",
          "ZECUSDT",
          "MITHUSDT",
          "CELRBUSD",
          "XLMUSDC",
          "LITBUSD",
          "TROYBUSD",
          "MTLUSDT",
          "SUPERBUSD",
          "POLYUSDT",
          "SXPDOWNUSDT",
          "TKOBUSD",
          "DOTDOWNUSDT",
          "BONDUSDT",
          "IOTAUSDT",
          "APEUSDT",
          "USDTUAH",
          "DIAUSDT",
          "QTUMBUSD",
          "USDCBUSD",
          "C98BUSD",
          "GTCBUSD",
          "PAXGBUSD",
          "FTMUSDC",
          "YFIIUSDT",
          "BATTUSD",
          "ARPAUSDT",
          "CHZBUSD",
          "ELFUSDT",
          "OXTBUSD",
          "UMAUSDT",
          "BNBBEARBUSD",
          "OMUSDT",
          "LINKBUSD",
          "SANDBUSD",
          "ANKRUSDT",
          "DASHUSDT",
          "BCHABCUSDT",
          "FTMUSDT",
          "STRATUSDT",
          "GTOUSDC",
          "GALAUSDT",
          "ALPACAUSDT",
          "FTMBUSD",
          "EOSUPUSDT",
          "MCUSDT",
          "DARBUSD",
          "ANTUSDT",
          "EOSBULLUSDT",
          "PHABUSD",
          "PSGBUSD",
          "CLVBUSD",
          "PERPBUSD",
          "XRPUSDT",
          "DENTBUSD",
          "VGXUSDT",
          "BANDUSDT",
          "XVSBUSD",
          "PERLUSDC",
          "XRPBEARUSDT",
          "SNMBUSD",
          "BUSDVAI",
          "KLAYBUSD",
          "TOMOUSDT",
          "TORNBUSD",
          "XLMUPUSDT",
          "ETCBUSD",
          "TUSDT",
          "AVAXBUSD",
          "DNTUSDT",
          "TFUELTUSD",
          "CAKEBUSD",
          "ALPINEBUSD",
          "CVXUSDT",
          "DATABUSD",
          "REIBUSD",
          "TRBBUSD",
          "DOTBUSD",
          "MATICUSDT",
          "SNXBUSD",
          "GLMRUSDT",
          "ARPABUSD",
          "YFIUPUSDT",
          "ANKRTUSD",
          "AUTOUSDT",
          "TRXUSDT",
          "ZILBUSD",
          "PERLUSDT",
          "SHIBUSDT",
          "KEYBUSD",
          "BNBBEARUSDT",
          "BCPTUSDC",
          "XZCUSDT",
          "ADABUSD",
          "HIGHUSDT",
          "XRPBEARBUSD",
          "LINKUSDT",
          "USDSUSDC",
          "SANTOSUSDT",
          "USDTTRY",
          "VOXELBUSD",
          "CRVUSDT",
          "BCHSVTUSD",
          "NANOUSDT",
          "IMXBUSD",
          "UNIBUSD",
          "AUDBUSD",
          "TWTUSDT",
          "OXTUSDT",
          "UMABUSD",
          "SXPBUSD",
          "LDOUSDT",
          "ADADOWNUSDT",
          "CVPBUSD",
          "BSWUSDT",
          "NBSUSDT",
          "IOTABUSD",
          "BNBUSDC",
          "DODOUSDT",
          "XLMDOWNUSDT",
          "XNOBUSD",
          "DOGEUSDC",
          "ATABUSD",
          "LEVERBUSD",
          "FLUXBUSD",
          "BCHBUSD",
          "WINGBUSD",
          "CFXUSDT",
          "FORBUSD",
          "DREPBUSD",
          "1INCHBUSD",
          "USDTBRL",
          "OMGUSDT",
          "YFIUSDT",
          "ORNUSDT",
          "GBPUSDT",
          "CHRBUSD",
          "HOTBUSD",
          "FLMUSDT",
          "FORTHBUSD",
          "WOOBUSD",
          "PERPUSDT",
          "XECUSDT",
          "USDTNGN",
          "GNOUSDT",
          "ZILUSDT",
          "RAMPBUSD",
          "MDTBUSD",
          "ASTRUSDT",
          "XMRUSDT",
          "PONDBUSD",
          "NEOUSDC",
          "FRONTBUSD",
          "BGBPUSDC",
          "DIABUSD",
          "MLNBUSD",
          "AVAUSDT",
          "RIFUSDT",
          "KMDUSDT",
          "SRMBUSD",
          "IOSTUSDT",
          "BNBTUSD",
          "LTCUSDT",
          "ATOMUSDC",
          "MTLBUSD",
          "KSMBUSD",
          "ALPINEUSDT",
          "RVNBUSD",
          "USDTBKRW",
          "DYDXUSDT",
          "AVAXUSDT",
          "BNBDOWNUSDT",
          "REEFUSDT",
          "LTOUSDT",
          "SKLBUSD",
          "BTTTUSD",
          "YFIBUSD",
          "BTTCUSDT",
          "REIUSDT",
          "EOSBEARBUSD",
          "BTTBUSD",
          "ZECBUSD",
          "TVKBUSD",
          "QNTUSDT",
          "RNDRUSDT",
          "DUSKUSDC",
          "ASTRBUSD",
          "BADGERUSDT",
          "CKBUSDT",
          "LOKABUSD",
          "WAXPBUSD",
          "ARUSDT",
          "PUNDIXBUSD",
          "FORUSDT",
          "TOMOBUSD",
          "USDSBUSDT",
          "TRUUSDT",
          "USDPUSDT",
          "COSUSDT",
          "ATAUSDT",
          "XRPUSDC",
          "OOKIBUSD",
          "UNIUPUSDT",
          "FARMBUSD",
          "ENJUSDT",
          "INJUSDT",
          "YGGUSDT",
          "ALCXBUSD",
          "KEEPUSDT",
          "AMBBUSD",
          "GALBUSD",
          "OGNBUSD",
          "LTOBUSD",
          "XECBUSD",
          "OGBUSD",
          "KAVABUSD",
          "SNXUSDT",
          "LINABUSD",
          "STEEMBUSD",
          "BUSDUAH",
          "AUDUSDT",
          "MLNUSDT",
          "LPTBUSD",
          "ENSBUSD",
          "OCEANUSDT",
          "SFPUSDT",
          "VETUSDT",
          "AXSUSDT",
          "ACABUSD",
          "OOKIUSDT",
          "AERGOBUSD",
          "WINBUSD",
          "BAKEUSDT",
          "BUSDZAR",
          "BEAMUSDT",
          "EOSBULLBUSD",
          "EGLDBUSD",
          "ALICEUSDT",
          "PAXTUSD",
          "SLPUSDT",
          "BTGUSDT",
          "STORJBUSD",
          "BCHUSDT",
          "FUNUSDT",
          "TBUSD",
          "GNOBUSD",
          "ATMBUSD",
          "UTKUSDT",
          "EOSTUSD",
          "ONEBUSD",
          "TFUELUSDC",
          "EPXUSDT",
          "WAVESTUSD",
          "TWTBUSD",
          "INJBUSD",
          "RGTBUSD",
          "UNIDOWNUSDT",
          "MKRUSDT",
          "ARBUSD",
          "SOLUSDC",
          "LRCUSDT",
          "ZECUSDC",
          "BNXUSDT",
          "FILDOWNUSDT",
          "XVGUSDT",
          "AGLDBUSD",
          "PAXGUSDT",
          "CVCUSDT",
          "ACHUSDT",
          "SPELLBUSD",
          "WANUSDT",
          "DAIBUSD",
          "MOBUSDT",
          "JASMYBUSD",
          "BCHUPUSDT",
          "HIGHBUSD",
          "SCRTUSDT",
          "EURBUSD",
          "USTCBUSD",
          "POLYXBUSD",
          "1INCHUSDT",
          "SKLUSDT",
          "ZECTUSD",
          "BUSDBVND",
          "SUSDUSDT",
          "MASKUSDT",
          "FIOBUSD",
          "TRIBEBUSD",
          "TORNUSDT",
          "ACHBUSD",
          "PAXUSDT",
          "WNXMUSDT",
          "ADAUPUSDT",
          "XLMUSDT",
          "ALCXUSDT",
          "OPBUSD",
          "STORMUSDT",
          "HIVEUSDT",
          "RLCBUSD",
          "REPUSDT",
          "LTCDOWNUSDT",
          "GLMRBUSD",
          "ALPHABUSD",
          "EOSUSDT",
          "LRCBUSD",
          "USDTDAI",
          "XTZUPUSDT",
          "USDTIDRT",
          "MOVRUSDT",
          "RSRUSDT",
          "USTBUSD",
          "GHSTUSDT",
          "WAVESUSDT",
          "BCHSVUSDT",
          "AVABUSD",
          "MINABUSD",
          "CHESSBUSD",
          "SSVBUSD",
          "FILBUSD",
          "NUBUSD",
          "KNCUSDT",
          "BADGERBUSD",
          "MCBUSD",
          "THETAUSDT",
          "STGBUSD",
          "ETCUSDT",
          "VTHOBUSD",
          "JASMYUSDT",
          "AAVEUPUSDT",
          "BNBBULLBUSD",
          "DFUSDT",
          "VENUSDT",
          "PHBTUSD",
          "AAVEUSDT",
          "CTKBUSD",
          "CELOUSDT",
          "ALPHAUSDT",
          "BSWBUSD",
          "PAXBUSD",
          "KSMUSDT",
          "ADAUSDT",
          "RUNEUSDT",
          "WNXMBUSD",
          "RAYUSDT",
          "ERDBUSD",
          "AMPBUSD",
          "BCHABCUSDC",
          "MBOXUSDT",
          "VETBUSD",
          "MKRBUSD",
          "LOKAUSDT",
          "BKRWBUSD",
          "PROSBUSD",
          "MULTIUSDT",
          "KDAUSDT",
          "OPUSDT",
          "ATOMUSDT",
          "COCOSUSDT",
          "ILVUSDT",
          "XLMTUSD",
          "FTMTUSD",
          "AUCTIONUSDT",
          "MASKBUSD",
          "BUSDBKRW",
          "USDTZAR",
          "DOTUSDT",
          "PNTUSDT",
          "GBPBUSD",
          "ELFBUSD",
          "LOOMBUSD",
          "UFTBUSD",
          "SXPUSDT",
          "IOTXUSDT",
          "TUSDBNB",
          "VIDTUSDT",
          "CELOBUSD",
          "NPXSUSDC",
          "ATOMTUSD",
          "GTCUSDT",
          "CHRUSDT",
          "AGIXBUSD",
          "BTTCBUSD",
          "ERNUSDT",
          "RSRBUSD",
          "BNBUPUSDT",
          "GRTBUSD",
          "LDOBUSD",
          "NEOBUSD",
          "LINKTUSD",
          "IRISBUSD",
          "GXSUSDT",
          "USDSPAX",
          "ERNBUSD",
          "DUSKBUSD",
          "PORTOBUSD",
          "ONTBUSD",
          "WINUSDC",
          "POLSUSDT",
          "ZRXUSDT",
          "KNCBUSD",
          "BTSUSDT",
          "CAKEUSDT",
          "SHIBBUSD",
          "ETCUSDC",
          "WAXPUSDT",
          "MBLUSDT",
          "STXBUSD",
          "AUDIOBUSD",
          "MDXUSDT",
          "USDSUSDT",
          "LSKUSDT",
          "IOTXBUSD",
          "QNTBUSD",
          "TUSDUSDT",
          "RAMPUSDT",
          "LTCUPUSDT",
          "MBOXBUSD",
          "GRTUSDT",
          "FETUSDT",
          "ACAUSDT",
          "BNXBUSD",
          "USDCPAX",
          "EPXBUSD",
          "USDSBUSDS",
          "ERDUSDT",
          "ONEUSDC",
          "BNBBULLUSDT",
          "FARMUSDT",
          "AIONUSDT",
          "ONTUSDC",
          "SUSHIUSDT",
          "SCBUSD",
          "DEGOBUSD",
          "AUDIOUSDT",
          "STRATBUSD",
          "FILUSDT",
          "LAZIOBUSD",
          "FORTHUSDT",
          "REQUSDT",
          "EURUSDT",
          "BATBUSD",
          "TKOUSDT",
          "COTIBUSD",
          "FLMBUSD",
          "FIOUSDT",
          "DENTUSDT",
          "AAVEBUSD",
          "BOTBUSD",
          "DOGEBUSD",
          "CRVBUSD",
          "LTCBUSD",
          "PYRUSDT",
          "ADXBUSD",
          "ANKRUSDC",
          "SCUSDT",
          "RAREUSDT",
          "WOOUSDT",
          "VTHOUSDT",
          "FRONTUSDT",
          "CTKUSDT",
          "AGLDUSDT",
          "EGLDUSDT",
          "BONDBUSD",
          "CHZUSDT",
          "BCHTUSD",
          "MANABUSD",
          "XEMUSDT",
          "UNFIBUSD",
          "NEOTUSD",
          "BIFIBUSD",
          "1INCHUPUSDT",
          "JOEBUSD",
          "ACMUSDT",
          "RADBUSD",
          "DEXEUSDT",
          "BULLUSDT",
          "STMXUSDT",
          "LUNCUSDT",
          "XRPDOWNUSDT",
          "BCHABUSD",
          "IDEXUSDT",
          "CFXBUSD",
          "REPBUSD",
          "LTCUSDC",
          "REQBUSD",
          "ALICEBUSD",
          "CITYBUSD",
          "DUSKUSDT",
          "SUNUSDT",
          "AAVEDOWNUSDT",
          "ALPACABUSD",
          "TROYUSDT",
          "SFPBUSD",
          "LINAUSDT",
          "BEARBUSD",
          "BARUSDT",
          "GALABUSD",
          "MIRUSDT",
          "BTGBUSD",
          "CVXBUSD",
          "SOLUSDT",
          "KDABUSD",
          "RAYBUSD",
          "BARBUSD",
          "STRAXUSDT",
          "USDTBIDR",
          "LINKDOWNUSDT",
          "SUPERUSDT",
          "DFBUSD",
          "FTTUSDT",
          "LTCTUSD",
          "TFUELUSDT",
          "XRPBUSD",
          "FILUPUSDT",
          "HARDBUSD",
          "DOCKUSDT",
          "CHESSUSDT",
          "CITYUSDT",
          "AKROBUSD",
          "PLAUSDT",
          "ICXUSDT",
          "WAVESUSDC",
          "CTSIUSDT",
          "XRPBULLUSDT",
          "NEARBUSD",
          "BLZBUSD",
          "SUSHIUPUSDT",
          "SNTBUSD",
          "DREPUSDT",
          "GLMBUSD",
          "MULTIBUSD",
          "KLAYUSDT",
          "COCOSBUSD",
          "ANTBUSD",
          "DOCKBUSD",
          "ENSUSDT",
          "VIBBUSD",
          "THETABUSD",
          "DARUSDT",
          "FISUSDT",
          "ICXBUSD",
          "CKBBUSD",
          "LENDUSDT",
          "API3BUSD",
          "NANOBUSD",
          "REEFBUSD",
          "DEGOUSDT",
          "BELUSDT",
          "NEXOBUSD",
          "NMRUSDT",
          "ADAUSDC",
          "ETCTUSD",
          "BUSDNGN",
          "MFTUSDT",
          "RUNEBUSD",
          "DGBUSDT",
          "ZENUSDT",
          "BATUSDT",
          "FLOWUSDT",
          "EPSBUSD",
          "ONEUSDT",
          "BNBBUSD",
          "BNTUSDT",
          "1INCHDOWNUSDT",
          "LAZIOUSDT",
          "JSTUSDT",
          "HARDUSDT",
          "AKROUSDT",
          "BNBUSDT",
          "FXSBUSD",
          "TFUELBUSD",
          "DNTBUSD",
          "BUSDBIDR",
          "ONETUSD",
          "XMRBUSD",
          "XRPTUSD",
          "DCRUSDT",
          "DEXEBUSD",
          "QTUMUSDT",
          "PEOPLEBUSD",
          "DODOBUSD",
          "XRPUPUSDT",
          "BCHABCBUSD",
          "LPTUSDT",
          "DAIUSDT",
          "TRIBEUSDT",
          "MDTUSDT",
          "CTSIBUSD",
          "BNBUSDP",
          "BANDBUSD",
          "XVSUSDT",
          "ADATUSD",
          "PLABUSD",
          "BCHABCTUSD",
          "QUICKBUSD",
          "UNFIUSDT",
          "VITEUSDT",
          "PSGUSDT",
          "BTTUSDT",
          "OGUSDT",
          "BICOBUSD",
          "GMXBUSD",
          "TOMOUSDC",
          "ANCUSDT",
          "ICPUSDT",
          "CTXCBUSD",
          "BCPTTUSD",
          "CTXCUSDT",
          "SWRVBUSD",
          "CVPUSDT",
          "ANYUSDT",
          "XEMBUSD",
          "TUSDBUSD",
          "XRPBULLBUSD",
          "TRXDOWNUSDT",
          "WRXBUSD",
          "PYRBUSD",
          "KMDBUSD",
          "BUSDIDRT",
          "LENDBUSD",
          "ARDRUSDT",
          "AUTOBUSD",
          "FLUXUSDT",
          "TRBUSDT",
          "ACMBUSD",
          "BZRXBUSD",
          "OMGBUSD",
          "EOSBEARUSDT",
          "AUDUSDC",
          "EPSUSDT",
          "AMPUSDT",
          "GTOBUSD",
          "SOLBUSD",
          "BURGERBUSD",
          "GTOUSDT",
          "USDCTUSD",
          "BALUSDT",
          "BETAUSDT",
          "PHBBUSD",
          "HCUSDT",
          "USDPBUSD",
          "JUVBUSD",
          "VOXELUSDT",
          "APEBUSD",
          "LINKUSDC",
          "IOSTBUSD",
          "IRISUSDT",
          "API3USDT",
          "FLOWBUSD",
          "EOSDOWNUSDT",
          "BCCUSDT",
          "ATMUSDT",
          "BTSBUSD",
          "PEOPLEUSDT",
          "C98USDT",
          "ROSEUSDT",
          "BETABUSD",
          "BULLBUSD",
          "BUSDDAI",
          "COMPUSDT",
          "MIRBUSD",
          "JOEUSDT",
          "COVERBUSD",
          "NKNBUSD",
          "ANKRBUSD",
          "ENJBUSD",
          "TRXUSDC",
          "YFIIBUSD",
          "XTZBUSD",
          "ILVBUSD",
          "OMBUSD",
          "TRXBUSD",
          "QIUSDT",
          "SUNBUSD",
          "LUNABUSD",
          "NEOUSDT",
          "LITUSDT",
          "LUNCBUSD",
          "FIDAUSDT",
          "BKRWUSDT",
          "RADUSDT",
          "STXUSDT",
          "WINGUSDT",
          "OGNUSDT",
          "BTTCUSDC",
          "JSTBUSD",
          "SCRTBUSD",
          "TUSDBTUSD",
          "IDEXBUSD",
          "ONTUSDT",
          "MATICBUSD",
          "VIDTBUSD",
          "WRXUSDT",
          "BEARUSDT",
          "ALGOUSDT",
          "BUSDRUB",
          "SYSBUSD",
          "SANTOSBUSD",
          "RLCUSDT",
          "BZRXUSDT",
          "NULSBUSD",
          "TRUBUSD",
          "NPXSUSDT",
          "DCRBUSD",
          "COTIUSDT",
          "USDSTUSD",
          "HOTUSDT",
          "DOGEUSDT",
          "BICOUSDT",
          "GALUSDT",
          "SUSHIDOWNUSDT",
          "BIFIUSDT",
          "SUSHIBUSD",
          "NUUSDT",
          "SYSUSDT",
          "ICPBUSD",
          "NKNUSDT",
          "CREAMBUSD",
          "FISBUSD",
          "BATUSDC",
          "WINUSDT",
          "ROSEBUSD",
          "GMTUSDT",
          "KEEPBUSD",
          "IMXUSDT",
          "QIBUSD",
          "KP3RBUSD",
          "EOSBUSD",
          "BNBUSDS",
          "RNDRBUSD",
          "MDXBUSD",
          "KAVAUSDT",
          "ALGOBUSD",
          "COMPBUSD",
          "UNIUSDT",
          "LINKUPUSDT",
          "USDCUSDT",
          "FETBUSD",
          "QUICKUSDT",
          "TRXTUSD",
          "MCOUSDT",
          "OCEANBUSD",
          "NEARUSDT",
          "HNTBUSD",
          "GTOTUSD",
          "FIROUSDT",
          "YGGBUSD",
          "AIONBUSD",
          "BALBUSD",
          "MOBBUSD",
          "RVNUSDT",
          "STORJUSDT",
          "PHAUSDT",
          "WTCUSDT",
          "SPELLUSDT",
          "DYDXBUSD",
          "MINAUSDT",
          "KP3RUSDT",
          "PHBUSDC",
          "ZENBUSD",
          "TLMBUSD",
          "POLSBUSD",
          "NEXOUSDT",
          "LUNAUSDT",
          "ANCBUSD",
          "ASRUSDT",
          "IQBUSD",
          "AXSBUSD",
          "MBLBUSD",
          "POLYBUSD",
          "SXPUPUSDT",
          "MANAUSDT",
          "USTUSDT",
          "NULSUSDT",
          "ANYBUSD",
          "NEBLBUSD",
          "ONGUSDT",
          "BCHUSDC",
          "STGUSDT",
          "BNTBUSD",
          "KEYUSDT",
          "LSKBUSD",
          "GHSTBUSD",
          "XVGBUSD",
          "PROMBUSD",
          "XTZDOWNUSDT",
          "HBARUSDT",
          "ASRBUSD",
          "FIROBUSD",
          "BLZUSDT",
          "PUNDIXUSDT",
          "TCTUSDT",
          "AUCTIONBUSD",
          "PORTOUSDT",
          "STPTUSDT",
          "BCHSVUSDC",
          "STMXBUSD",
          "USDTRUB",
          "SRMUSDT",
          "ERDUSDC",
          "RENUSDT",
          "USDTBVND",
          "ORNBUSD",
          "STRAXBUSD",
          "ZRXBUSD",
          "SLPBUSD",
          "PONDUSDT",
          "TVKUSDT",
          "DASHBUSD",
          "POWRUSDT",
          "STEEMUSDT",
          "NEBLUSDT",
          "COSBUSD"
         ],
         "y": [
          0.0,
          -0.09090909090909086,
          1.2764999999999997,
          0.004926108374384351,
          0.7330210772833726,
          0.29182549767047844,
          -0.025410775697363355,
          0.5752688172043011,
          0.06869873228933633,
          0.04934268702470075,
          0.6040293040293039,
          -0.0034000000000000696,
          4.0,
          3.9950049950049955,
          1.201320939334638,
          3.2001680067202694,
          0.2685774946921445,
          0.020988971896122234,
          0.17476125511596188,
          -0.0011320754716981562,
          1.1771467207572683,
          0.17728531855955673,
          0.15561118064246987,
          0.09890109890109886,
          0.09997555609875346,
          0.0,
          0.31927212572373853,
          0.38421733505821476,
          0.020100000000000052,
          0.4001357159013797,
          0.6,
          0.0516955181408584,
          0.0,
          0.16883116883116878,
          -0.00606060606060614,
          0.3275991024682122,
          0.29556106975461816,
          -0.007900000000000063,
          3.916090819348471,
          0.25000000000000006,
          0.19830328738069986,
          0.013657703798548786,
          0.010599999999999988,
          -0.004484304932735596,
          3.476657429119591,
          0.03386581469648564,
          0.0,
          0.5734067663257278,
          -0.0848484848484848,
          0.7491007194244603,
          0.0,
          0.19999999999999984,
          0.3241285649615212,
          -0.9,
          3.0,
          0.20422169675298454,
          -0.02222222222222224,
          0.47601476014760147,
          0.07700815705792889,
          0.02949999999999999,
          4.0,
          0.010299999999999976,
          0.05389541088580585,
          0.18621428571428583,
          17.8,
          -0.01725431357839463,
          -0.2135922330097087,
          1.795389048991354,
          1.9999999999997797E-4,
          3.974134500596896,
          0.5684210526315789,
          0.027770497700351993,
          -0.25000000000000006,
          0.4734455958549223,
          -0.16416666666666663,
          -0.02797534376481746,
          0.7413422030913716,
          0.06955966815571155,
          0.13450531479967298,
          0.15982312065698037,
          0.06967662373252938,
          0.7068843151171043,
          -0.019230769230769332,
          1.6041041641665668,
          0.0,
          0.06666666666666667,
          0.0,
          -0.027855153203342642,
          0.9697832275016421,
          -0.016666666666666684,
          1.5915359010936756,
          0.6283425241910311,
          0.0706866705135602,
          -0.028800000000000027,
          0.14864864864864874,
          4.000000000000001,
          0.5729166666666667,
          0.31681963288108544,
          2.079991136716153,
          -0.0010108864696733982,
          0.49875104079933386,
          1.8815368196371403,
          0.8,
          0.10997267759562834,
          0.5339857180640041,
          -0.37006342494714595,
          0.4075,
          2.083870967741935,
          3.7664442326024785,
          0.12146529562982006,
          -0.04800000000000004,
          0.6739203213927016,
          -0.08620689655172403,
          0.36814184001116856,
          0.0,
          -0.013355555555555614,
          -0.013698630136986337,
          4.0,
          0.19009838146620103,
          0.0,
          1.5,
          0.09451556819977885,
          0.25785510257076083,
          1.4492895639392454,
          0.31868131868131866,
          0.1572498298162015,
          0.8269230769230768,
          -0.0707070707070708,
          0.12625389138706322,
          3.0,
          0.053688407861008196,
          0.0,
          -0.08333333333333341,
          0.5862553652755,
          0.0,
          1.089864158829676,
          0.9561290322580647,
          1.695467422096317,
          0.24118257261410794,
          2.9504154747309634,
          -0.07571428571428589,
          0.6882386043894204,
          0.0,
          0.6188524590163935,
          0.0,
          -0.03006535947712419,
          -9.523809523808475E-5,
          4.0,
          3.8494983277591968,
          3.9995002498750627,
          1.64,
          -0.0025724343352287807,
          -0.1647058823529412,
          0.1540511727078892,
          4.0,
          0.012342254888365024,
          1.9446407538280328,
          0.39303482587064675,
          0.05963855421686737,
          0.19993239817475064,
          0.3843416370106762,
          0.0,
          0.2500000000000001,
          1.7730616864742503,
          0.4216867469879518,
          0.45085751978891814,
          -0.1666666666666666,
          2.586800573888092,
          0.016699999999999982,
          0.12359550561797748,
          0.024390243902438876,
          3.8774569279301145,
          0.34948096885813135,
          0.8018018018018018,
          3.9960031974420467,
          1.5,
          0.43522110162917005,
          -0.058191584601611474,
          0.1611246282779129,
          -0.3070058009817046,
          -0.03905967450271251,
          -0.1838800000000001,
          0.3810748833969652,
          0.7500000000000001,
          0.562900641025641,
          0.20117187499999992,
          -0.0075107296137339715,
          3.773333333333333,
          0.3524936601859678,
          0.3946717134954142,
          0.8763326226012793,
          0.2499455598623753,
          -0.043230016313213736,
          0.4174296371651408,
          0.0,
          0.7910447761194028,
          0.2717253073336159,
          0.27873563218390807,
          -0.0026928255433737365,
          0.23425692695214112,
          0.0,
          0.4982876712328766,
          0.0,
          0.4030612244897959,
          0.016508013013616155,
          0.19254658385093157,
          0.6012396694214877,
          0.0772138228941685,
          4.000000000000001,
          -0.005833333333333269,
          -0.09518628992247123,
          0.003676470588235294,
          0.10615384615384628,
          0.0654519299928074,
          0.30486358244365364,
          4.0,
          -0.04965753424657527,
          -0.5082139759685419,
          3.814666666666667,
          3.9988235294117644,
          -0.003999999999999915,
          4.0,
          0.15148830616584,
          2.3333333333333335,
          -8.992805755395902E-4,
          0.5523325908005781,
          0.28205128205128216,
          0.09561752988047806,
          -0.0021849963583394855,
          3.8522512806686438,
          0.0019015021867274066,
          0.7346549752192149,
          0.25498007968127484,
          0.23770491803278693,
          -0.07692307692307698,
          0.4357501794687724,
          0.24131274131274133,
          0.3469119579500659,
          3.9968769519050595,
          1.6968716289104637,
          1.8623988226637231,
          0.06157112526539284,
          1.3073064704898847,
          0.06279809220985706,
          0.03939299449121718,
          0.5612327656123276,
          0.18599999999999994,
          0.0,
          3.8320850446967865,
          -0.4753245887431457,
          0.7948243992606285,
          0.0,
          1.484725050916497,
          -0.09592178770949716,
          0.4999999999999999,
          0.39184542328475513,
          0.1220595922634605,
          1.0051986632008914,
          0.4722536806342016,
          3.996668887408395,
          0.015498476273399927,
          0.11772486772486779,
          0.5956808638272347,
          0.15486558121923508,
          -0.4800747198007472,
          0.10611821638437623,
          3.4470588235294115,
          0.011736139214892811,
          0.029433406916850653,
          0.38353713926350363,
          0.1299843392362365,
          0.1568123393316195,
          1.403846153846154,
          0.17623995295040185,
          4.0,
          0.0,
          1.22,
          0.49925037481259377,
          0.8089053803339519,
          0.022537562604340665,
          0.045558520777735596,
          0.2917663061363288,
          -6.920415224913757E-4,
          0.0676156583629893,
          0.0265493802479009,
          0.271617497456765,
          4.0,
          -0.007228438459253475,
          0.5780141843971631,
          0.16455696202531644,
          0.5454545454545454,
          -0.036623046165030905,
          -0.05882352941176461,
          -0.0290846877673225,
          0.5587936292782106,
          -0.0053557765876052245,
          0.7359591539022611,
          0.06104561446824269,
          0.06029106029106036,
          0.0,
          0.6150330116810566,
          0.003089996137504831,
          0.7180094786729856,
          1.9999999999999998,
          0.46087743102668466,
          0.007399999999999985,
          0.07948969578017664,
          1.2091310751104567,
          -0.06362153344208818,
          0.8746652383502944,
          -0.1213195622013258,
          1.0783956244302644,
          -0.019100000000000072,
          0.5724447772369899,
          0.34641407307171856,
          0.027261748760245615,
          -0.041666666666666706,
          0.45420792079207917,
          3.0712468193384224,
          -0.3136,
          0.07920792079207928,
          1.535211267605634,
          0.831955922865014,
          9.999999999999788E-4,
          0.6386726751331422,
          0.34173055859802853,
          7.167174341515067E-4,
          0.045946564831316844,
          0.1134278565471226,
          4.0,
          2.3333333333333335,
          3.480076561684901E-4,
          -0.783827027027027,
          0.018000000000000016,
          0.3550135501355013,
          0.571244080929832,
          0.582649472450176,
          0.18931701210182222,
          0.4385150812064965,
          7.960199004976458E-4,
          0.0842880523731587,
          0.0,
          0.0018914385639341026,
          0.19738562091503267,
          1.6925746009715474,
          -0.052631578947368446,
          1.2020105313547151,
          0.1258728061898471,
          0.06310645724258289,
          0.009999999999999964,
          3.4782087165133952,
          3.0,
          0.0,
          0.09825350905389477,
          -0.75,
          0.0,
          -0.7756841633019291,
          0.39823925427239776,
          0.09942806863176411,
          0.10000000000000009,
          0.16044399596367298,
          -0.2418772563176895,
          0.6937820369957657,
          1.1523636363636365,
          0.364913689281413,
          2.6616623947272062,
          0.07373653686826848,
          4.0,
          0.24171708441371353,
          0.10831889081455806,
          0.31274131274131284,
          0.4464802314368371,
          -0.1111111111111112,
          0.6166419019316494,
          0.006172839506172928,
          3.914744232698094,
          0.791867677463818,
          0.08460000000000001,
          -0.045701146121510335,
          0.21951219512195116,
          3.174804749514605E-5,
          -5.530667551757074E-7,
          0.14719035582344936,
          1.8571428571428572,
          1.2040302267002518,
          3.0,
          1.7722772277227725,
          1.9999999999997797E-4,
          0.08922363847045195,
          0.0,
          0.10434659493133228,
          0.19063109954456733,
          0.4241325737959606,
          -0.002770083102493082,
          0.8083182640144664,
          0.0,
          1.031488065007618,
          0.020705745115194,
          0.3746312684365782,
          4.0,
          0.014561947958940048,
          0.8926226342217073,
          0.11026615969581743,
          0.41201094831750107,
          0.5208333333333334,
          -0.01156677181913769,
          0.0,
          0.43546441495778043,
          0.0,
          0.0,
          0.17885004334007507,
          0.47837871134655646,
          0.5933572257836555,
          0.0,
          1.1244019138755985,
          0.12856322938588086,
          0.008123476848090989,
          0.22884012539184953,
          0.013986013986014022,
          2.2967032967032965,
          0.08054054054054055,
          -0.11067193675889339,
          1.0526315789469603E-4,
          0.279058911399496,
          0.06660456450861672,
          0.0,
          -0.038498742503385544,
          1.5210084033613447,
          0.06459761818837964,
          1.8631208016738245,
          0.01694915254237284,
          0.226379677136779,
          0.24252185918085598,
          0.013000000000000077,
          -0.12628145386766082,
          0.2628957666310921,
          0.8285453021412786,
          -0.03605211493842583,
          0.12192329708070979,
          0.11259754738015605,
          0.023407022106631856,
          0.2818901596078924,
          0.09140328697850811,
          0.591045223120695,
          3.907734589713389,
          0.05263157894736838,
          0.23990055935363588,
          0.0,
          0.5621198957428323,
          1.8266244057052294,
          2.1413612565445024,
          2.472714386959603,
          -0.15366666666666662,
          1.9697624190064795,
          0.017230641478098347,
          -0.031065088757396477,
          2.0205,
          0.5555970381432394,
          0.0,
          0.06474820143884898,
          0.04399008674101603,
          0.2761714855433699,
          0.0,
          0.6470588235294118,
          0.019500000000000028,
          1.0090863200403835,
          3.9,
          0.0,
          0.3999999999999999,
          1.6296633303002728,
          -0.0024912805181865156,
          0.9318759532282664,
          0.0,
          0.0,
          -5.005005005004801E-4,
          0.0,
          0.522935779816514,
          0.15606936416184983,
          -0.09090909090909098,
          0.8914473684210527,
          0.03492063492063482,
          1.7448275862068963,
          2.7249999999999996,
          0.0922063666300768,
          4.0,
          0.3370349393227548,
          0.26724866234863426,
          1.016544117647059,
          0.0030482338174646494,
          -0.010329890036654422,
          4.0,
          1.120294244915621,
          4.0,
          0.1023622047244094,
          -0.03174603174603183,
          0.05004860976083994,
          -0.0023345371829918307,
          0.23527549081697266,
          2.332,
          -0.018518518518518517,
          0.31622244159262913,
          0.2361868626986008,
          -0.08333333333333341,
          0.007725898555592884,
          1.3632680621201891,
          0.260337798485731,
          2.0010010010010006,
          0.20867124142233318,
          1.7272727272727273,
          0.41985767536428337,
          0.47133434804667673,
          0.0179480310742031,
          0.376850605652759,
          0.044504995458673986,
          -0.03941100043308796,
          0.25260960334029225,
          3.5384615384615388,
          0.3642857142857144,
          2.5770440251572326,
          0.0,
          0.1940298507462688,
          0.07692307692307693,
          0.7318608731551245,
          2.7433829089992434,
          7.547169811320755E-5,
          0.0204081632653061,
          0.19741162835619105,
          0.0028999999999999916,
          0.9333333333333333,
          0.5177097759480945,
          0.5062111801242235,
          0.03330540427314623,
          -0.18800000000000008,
          0.015644047135310816,
          4.0,
          1.4186851211072669,
          0.0,
          0.1319845857418111,
          0.0,
          0.7461802307452448,
          0.31999999999999995,
          4.0,
          3.305882352941176,
          0.0182648401826485,
          0.9324430479183032,
          1.4703651019440491,
          0.8441064638783271,
          0.012067510548523265,
          0.10539979231568003,
          0.2175087719298245,
          0.5421764327108822,
          0.2916559028674761,
          1.0371825085100812,
          0.2214518760195758,
          -0.09527454937713133,
          0.12799999999999995,
          0.17712177121771217,
          0.3112582781456954,
          0.05618556701030927,
          6.395906619763215E-4,
          0.0,
          0.0,
          0.026900000000000014,
          -0.7528235294117647,
          0.0,
          2.381109886071297,
          2.6703601108033244,
          0.1367521367521366,
          0.37295081967213123,
          0.024327784891165223,
          -0.2300406367441718,
          3.183266932270916,
          0.23295851105079507,
          1.4615384615384617,
          0.2098679638637944,
          -0.03490000000000002,
          0.3530655391120507,
          -0.012352309344790558,
          0.015193370165745715,
          0.16261398176291797,
          0.5110318698462226,
          -0.004773344148753586,
          0.5434782608695653,
          -0.03565425108378312,
          1.7485112230874944,
          1.2176831047563466,
          0.18724899598393585,
          4.0,
          0.1942532175995211,
          1.1751904243743199,
          0.3012683248229288,
          0.07274969173859437,
          3.761904761904762,
          -0.010307380820909349,
          -0.07702100572883498,
          1.329379310344828,
          3.8000000000000003,
          0.4629713766469787,
          -0.09163030543435154,
          0.0,
          0.2,
          -0.00466721900027616,
          -0.0833333333333332,
          0.4402375649591687,
          0.10000000000000005,
          0.03417624521072795,
          -0.024246008279124733,
          0.43091206990715464,
          1.1545979564637938,
          0.0,
          -3.4430551690637956E-4,
          2.5260930888575452,
          0.008999999999999985,
          4.0,
          0.30310845663092173,
          0.4117647058823529,
          0.1893568070421125,
          0.0,
          1.2880215343203232,
          0.10850439882697946,
          0.0361962216224796,
          0.007940377516194192,
          -0.4,
          -0.0037095163361393225,
          0.005149269279995265,
          0.0,
          0.5441176470588235,
          -0.18125000000000002,
          0.5640839971035482,
          2.161685271876125,
          0.00129999999999999,
          0.0,
          0.09023763648041112,
          0.0772277227722773,
          0.6124303723248314,
          0.04433887569279491,
          2.8461538461538463,
          -0.16004923849291594,
          -0.05525336387059836,
          -0.5,
          -0.025917926565874612,
          0.3928717738631709,
          0.004080612924716813,
          0.04971376920759265,
          2.8461538461538463,
          -0.2693230916946712,
          0.5357142857142857,
          0.3999999999999998,
          0.7291066282420748,
          0.3139204545454547,
          0.40518084066471155,
          -0.08620689655172403,
          0.27096774193548384,
          2.5622593068035946,
          0.5458122540753233,
          -0.14285714285714296,
          -0.06132665832290365,
          0.0620805369127517,
          0.3548120611317638,
          0.3315579227696405,
          0.07361963190184047,
          3.8875,
          0.047243788819875614,
          0.009200000000000052,
          7.535227187107228E-5,
          0.3120683985531075,
          0.3265849760255727,
          -0.07020130785998205,
          -0.04466580976863743,
          0.13143004115226348,
          1.9779512489527535,
          1.3524590163934427,
          1.2187708009762592,
          2.076923076923077,
          0.24796527400976662,
          0.2377108558418711,
          -0.032727272727272674,
          0.036755730367557325,
          3.997778764993337,
          0.5075376884422109,
          0.22792303897385294,
          2.5,
          0.7391304347826089,
          -0.04761904761904766,
          -6.995103427599909E-4,
          0.20426123205187588,
          3.9991668055324108,
          0.23251517550804965,
          -0.044585987261146535,
          0.3500000000000001,
          -0.17695473251028807,
          4.0,
          3.9996000399960003,
          -0.04104211277658819,
          1.0673971469919372,
          0.28662702990504935,
          0.30071599045346054,
          0.5207877461706782,
          0.032199999999999916,
          0.18452618453865338,
          0.6762452107279694,
          -0.5226912091399557,
          0.4492753623188405,
          3.9728152764885296,
          2.3333333333333335,
          3.996668887408394,
          -0.015849056603773583,
          0.0,
          0.19514293909551578,
          0.7468274111675128,
          0.21266968325791866,
          0.35690875310523357,
          0.15743440233236158,
          0.2383389746553289,
          0.0010980966325037425,
          -0.31184210526315786,
          0.6590305444887118,
          2.7181996086105675,
          0.4423540762180414,
          0.5980113636363635,
          -0.6935,
          0.7251293847038527,
          0.10830527497194171,
          0.10430586488492953,
          0.0,
          4.0,
          0.9531250000000002,
          0.18125552608311218,
          1.012279446828803,
          0.972992475002577,
          0.6600265604249667,
          0.9,
          1.5783619817997978,
          0.34183673469387754,
          0.5136920324755746,
          0.19671190976868666,
          -9.998000399918915E-5,
          0.5384615384615387,
          0.0026394721055786998,
          0.06711065573770503,
          0.4304787335494946,
          1.6,
          0.09589041095890419,
          0.0,
          3.9450549450549453,
          0.29668049792531137,
          0.3876200976531738,
          -0.013333333333333345,
          0.7068169618894258,
          0.5445284258954977,
          0.5537325676784252,
          -0.6000000000000001,
          0.9076072821846553,
          -0.12013536379018616,
          -0.007142857142857202,
          0.08717008317506053,
          -0.020044543429844054,
          0.4205292132836085,
          4.0,
          0.02959999999999994,
          0.17588235294117646,
          1.062706270627063,
          1.3034840195796142,
          0.14914425427872866,
          2.53045013239188,
          0.0,
          0.34183160013418307,
          0.22938530734632676,
          0.24137931034482762,
          0.21270919233567795,
          2.966666666666667,
          4.0,
          0.3558692421991085,
          0.14636097040789123,
          2.620689655172414,
          0.2045401899467222,
          -0.63875,
          0.0,
          0.30919220055710317,
          0.6686383164186539,
          0.2999999999999999,
          -0.004502118644067742,
          0.1096166778749159,
          4.0,
          -0.016000000000000066,
          0.0,
          -0.018778758860838206,
          0.3003289989033371,
          -0.015243902439024402,
          -0.9979645289231459,
          0.6732901066722443,
          0.446153846153846,
          0.1995721271393643,
          -0.3333333333333333,
          0.4349977507872245,
          0.35374038304141425,
          0.06043046357615883,
          0.5655172413793104,
          0.6840326668544072,
          -0.019841269841269858,
          0.009325287986834926,
          0.1937409259557993,
          0.01610429447852775,
          0.19219346627068304,
          3.4651782739086974,
          0.5638855300282145,
          0.11497593748510992,
          0.0,
          0.0,
          4.0,
          0.23966428349393842,
          1.0818181818181818,
          -0.09208819714656286,
          0.2379110251450677,
          0.23885034687809714,
          0.7139677239844184,
          2.4999999999999996,
          -5.078720162518839E-4,
          5.08517670989152E-4,
          0.008399999999999963,
          0.10013052396046988,
          0.050000000000000044,
          0.0,
          0.33067198935462416,
          0.5686653771760154,
          -0.16666666666666663,
          0.04403086699954602,
          0.6290130796670632,
          2.532320734722713,
          -0.11111111111111105,
          0.08888888888888881,
          0.16237482117310442,
          0.12721417069243157,
          0.13930348258706482,
          0.01799999999999997,
          0.2897196261682244,
          0.08736717827626918,
          0.21341898643825832,
          0.3197575003886213,
          0.03840682788051203,
          0.30668716372021526,
          0.6491807990801953,
          4.0,
          -0.1249455811928603,
          -0.024133333333333364,
          0.033243486073674805,
          -0.6463022508038585,
          4.000000000000001,
          0.0,
          0.0,
          -0.09997837837837838,
          0.10472325555179803,
          0.11088504577823001,
          2.0273900447721886,
          0.6711111111111111,
          0.25156445556946194,
          1.312528064660979,
          3.2492917847025495,
          0.43321230651633863,
          -0.044756179024716174,
          0.16608996539792387,
          0.8698578908002993
         ],
         "type": "bar"
        }
       ],
       "layout": {
        "template": {
         "data": {
          "histogram2dcontour": [
           {
            "type": "histogram2dcontour",
            "colorbar": {
             "outlinewidth": 0,
             "ticks": ""
            },
            "colorscale": [
             [
              0.0,
              "#0d0887"
             ],
             [
              0.1111111111111111,
              "#46039f"
             ],
             [
              0.2222222222222222,
              "#7201a8"
             ],
             [
              0.3333333333333333,
              "#9c179e"
             ],
             [
              0.4444444444444444,
              "#bd3786"
             ],
             [
              0.5555555555555556,
              "#d8576b"
             ],
             [
              0.6666666666666666,
              "#ed7953"
             ],
             [
              0.7777777777777778,
              "#fb9f3a"
             ],
             [
              0.8888888888888888,
              "#fdca26"
             ],
             [
              1.0,
              "#f0f921"
             ]
            ]
           }
          ],
          "choropleth": [
           {
            "type": "choropleth",
            "colorbar": {
             "outlinewidth": 0,
             "ticks": ""
            }
           }
          ],
          "histogram2d": [
           {
            "type": "histogram2d",
            "colorbar": {
             "outlinewidth": 0,
             "ticks": ""
            },
            "colorscale": [
             [
              0.0,
              "#0d0887"
             ],
             [
              0.1111111111111111,
              "#46039f"
             ],
             [
              0.2222222222222222,
              "#7201a8"
             ],
             [
              0.3333333333333333,
              "#9c179e"
             ],
             [
              0.4444444444444444,
              "#bd3786"
             ],
             [
              0.5555555555555556,
              "#d8576b"
             ],
             [
              0.6666666666666666,
              "#ed7953"
             ],
             [
              0.7777777777777778,
              "#fb9f3a"
             ],
             [
              0.8888888888888888,
              "#fdca26"
             ],
             [
              1.0,
              "#f0f921"
             ]
            ]
           }
          ],
          "heatmap": [
           {
            "type": "heatmap",
            "colorbar": {
             "outlinewidth": 0,
             "ticks": ""
            },
            "colorscale": [
             [
              0.0,
              "#0d0887"
             ],
             [
              0.1111111111111111,
              "#46039f"
             ],
             [
              0.2222222222222222,
              "#7201a8"
             ],
             [
              0.3333333333333333,
              "#9c179e"
             ],
             [
              0.4444444444444444,
              "#bd3786"
             ],
             [
              0.5555555555555556,
              "#d8576b"
             ],
             [
              0.6666666666666666,
              "#ed7953"
             ],
             [
              0.7777777777777778,
              "#fb9f3a"
             ],
             [
              0.8888888888888888,
              "#fdca26"
             ],
             [
              1.0,
              "#f0f921"
             ]
            ]
           }
          ],
          "heatmapgl": [
           {
            "type": "heatmapgl",
            "colorbar": {
             "outlinewidth": 0,
             "ticks": ""
            },
            "colorscale": [
             [
              0.0,
              "#0d0887"
             ],
             [
              0.1111111111111111,
              "#46039f"
             ],
             [
              0.2222222222222222,
              "#7201a8"
             ],
             [
              0.3333333333333333,
              "#9c179e"
             ],
             [
              0.4444444444444444,
              "#bd3786"
             ],
             [
              0.5555555555555556,
              "#d8576b"
             ],
             [
              0.6666666666666666,
              "#ed7953"
             ],
             [
              0.7777777777777778,
              "#fb9f3a"
             ],
             [
              0.8888888888888888,
              "#fdca26"
             ],
             [
              1.0,
              "#f0f921"
             ]
            ]
           }
          ],
          "contourcarpet": [
           {
            "type": "contourcarpet",
            "colorbar": {
             "outlinewidth": 0,
             "ticks": ""
            }
           }
          ],
          "contour": [
           {
            "type": "contour",
            "colorbar": {
             "outlinewidth": 0,
             "ticks": ""
            },
            "colorscale": [
             [
              0.0,
              "#0d0887"
             ],
             [
              0.1111111111111111,
              "#46039f"
             ],
             [
              0.2222222222222222,
              "#7201a8"
             ],
             [
              0.3333333333333333,
              "#9c179e"
             ],
             [
              0.4444444444444444,
              "#bd3786"
             ],
             [
              0.5555555555555556,
              "#d8576b"
             ],
             [
              0.6666666666666666,
              "#ed7953"
             ],
             [
              0.7777777777777778,
              "#fb9f3a"
             ],
             [
              0.8888888888888888,
              "#fdca26"
             ],
             [
              1.0,
              "#f0f921"
             ]
            ]
           }
          ],
          "surface": [
           {
            "type": "surface",
            "colorbar": {
             "outlinewidth": 0,
             "ticks": ""
            },
            "colorscale": [
             [
              0.0,
              "#0d0887"
             ],
             [
              0.1111111111111111,
              "#46039f"
             ],
             [
              0.2222222222222222,
              "#7201a8"
             ],
             [
              0.3333333333333333,
              "#9c179e"
             ],
             [
              0.4444444444444444,
              "#bd3786"
             ],
             [
              0.5555555555555556,
              "#d8576b"
             ],
             [
              0.6666666666666666,
              "#ed7953"
             ],
             [
              0.7777777777777778,
              "#fb9f3a"
             ],
             [
              0.8888888888888888,
              "#fdca26"
             ],
             [
              1.0,
              "#f0f921"
             ]
            ]
           }
          ],
          "mesh3d": [
           {
            "type": "mesh3d",
            "colorbar": {
             "outlinewidth": 0,
             "ticks": ""
            }
           }
          ],
          "scatter": [
           {
            "marker": {
             "line": {
              "color": "#283442"
             }
            },
            "type": "scatter"
           }
          ],
          "parcoords": [
           {
            "type": "parcoords",
            "line": {
             "colorbar": {
              "outlinewidth": 0,
              "ticks": ""
             }
            }
           }
          ],
          "scatterpolargl": [
           {
            "type": "scatterpolargl",
            "marker": {
             "colorbar": {
              "outlinewidth": 0,
              "ticks": ""
             }
            }
           }
          ],
          "bar": [
           {
            "error_x": {
             "color": "#f2f5fa"
            },
            "error_y": {
             "color": "#f2f5fa"
            },
            "marker": {
             "line": {
              "color": "rgb(17,17,17)",
              "width": 0.5
             },
             "pattern": {
              "fillmode": "overlay",
              "size": 10,
              "solidity": 0.2
             }
            },
            "type": "bar"
           }
          ],
          "scattergeo": [
           {
            "type": "scattergeo",
            "marker": {
             "colorbar": {
              "outlinewidth": 0,
              "ticks": ""
             }
            }
           }
          ],
          "scatterpolar": [
           {
            "type": "scatterpolar",
            "marker": {
             "colorbar": {
              "outlinewidth": 0,
              "ticks": ""
             }
            }
           }
          ],
          "histogram": [
           {
            "marker": {
             "pattern": {
              "fillmode": "overlay",
              "size": 10,
              "solidity": 0.2
             }
            },
            "type": "histogram"
           }
          ],
          "scattergl": [
           {
            "marker": {
             "line": {
              "color": "#283442"
             }
            },
            "type": "scattergl"
           }
          ],
          "scatter3d": [
           {
            "type": "scatter3d",
            "line": {
             "colorbar": {
              "outlinewidth": 0,
              "ticks": ""
             }
            },
            "marker": {
             "colorbar": {
              "outlinewidth": 0,
              "ticks": ""
             }
            }
           }
          ],
          "scattermapbox": [
           {
            "type": "scattermapbox",
            "marker": {
             "colorbar": {
              "outlinewidth": 0,
              "ticks": ""
             }
            }
           }
          ],
          "scatterternary": [
           {
            "type": "scatterternary",
            "marker": {
             "colorbar": {
              "outlinewidth": 0,
              "ticks": ""
             }
            }
           }
          ],
          "scattercarpet": [
           {
            "type": "scattercarpet",
            "marker": {
             "colorbar": {
              "outlinewidth": 0,
              "ticks": ""
             }
            }
           }
          ],
          "carpet": [
           {
            "aaxis": {
             "endlinecolor": "#A2B1C6",
             "gridcolor": "#506784",
             "linecolor": "#506784",
             "minorgridcolor": "#506784",
             "startlinecolor": "#A2B1C6"
            },
            "baxis": {
             "endlinecolor": "#A2B1C6",
             "gridcolor": "#506784",
             "linecolor": "#506784",
             "minorgridcolor": "#506784",
             "startlinecolor": "#A2B1C6"
            },
            "type": "carpet"
           }
          ],
          "table": [
           {
            "cells": {
             "fill": {
              "color": "#506784"
             },
             "line": {
              "color": "rgb(17,17,17)"
             }
            },
            "header": {
             "fill": {
              "color": "#2a3f5f"
             },
             "line": {
              "color": "rgb(17,17,17)"
             }
            },
            "type": "table"
           }
          ],
          "barpolar": [
           {
            "marker": {
             "line": {
              "color": "rgb(17,17,17)",
              "width": 0.5
             },
             "pattern": {
              "fillmode": "overlay",
              "size": 10,
              "solidity": 0.2
             }
            },
            "type": "barpolar"
           }
          ],
          "pie": [
           {
            "automargin": true,
            "type": "pie"
           }
          ]
         },
         "layout": {
          "autotypenumbers": "strict",
          "colorway": [
           "#636efa",
           "#EF553B",
           "#00cc96",
           "#ab63fa",
           "#FFA15A",
           "#19d3f3",
           "#FF6692",
           "#B6E880",
           "#FF97FF",
           "#FECB52"
          ],
          "font": {
           "color": "#f2f5fa"
          },
          "hovermode": "closest",
          "hoverlabel": {
           "align": "left"
          },
          "paper_bgcolor": "rgb(17,17,17)",
          "plot_bgcolor": "rgb(17,17,17)",
          "polar": {
           "bgcolor": "rgb(17,17,17)",
           "angularaxis": {
            "gridcolor": "#506784",
            "linecolor": "#506784",
            "ticks": ""
           },
           "radialaxis": {
            "gridcolor": "#506784",
            "linecolor": "#506784",
            "ticks": ""
           }
          },
          "ternary": {
           "bgcolor": "rgb(17,17,17)",
           "aaxis": {
            "gridcolor": "#506784",
            "linecolor": "#506784",
            "ticks": ""
           },
           "baxis": {
            "gridcolor": "#506784",
            "linecolor": "#506784",
            "ticks": ""
           },
           "caxis": {
            "gridcolor": "#506784",
            "linecolor": "#506784",
            "ticks": ""
           }
          },
          "coloraxis": {
           "colorbar": {
            "outlinewidth": 0,
            "ticks": ""
           }
          },
          "colorscale": {
           "sequential": [
            [
             0.0,
             "#0d0887"
            ],
            [
             0.1111111111111111,
             "#46039f"
            ],
            [
             0.2222222222222222,
             "#7201a8"
            ],
            [
             0.3333333333333333,
             "#9c179e"
            ],
            [
             0.4444444444444444,
             "#bd3786"
            ],
            [
             0.5555555555555556,
             "#d8576b"
            ],
            [
             0.6666666666666666,
             "#ed7953"
            ],
            [
             0.7777777777777778,
             "#fb9f3a"
            ],
            [
             0.8888888888888888,
             "#fdca26"
            ],
            [
             1.0,
             "#f0f921"
            ]
           ],
           "sequentialminus": [
            [
             0.0,
             "#0d0887"
            ],
            [
             0.1111111111111111,
             "#46039f"
            ],
            [
             0.2222222222222222,
             "#7201a8"
            ],
            [
             0.3333333333333333,
             "#9c179e"
            ],
            [
             0.4444444444444444,
             "#bd3786"
            ],
            [
             0.5555555555555556,
             "#d8576b"
            ],
            [
             0.6666666666666666,
             "#ed7953"
            ],
            [
             0.7777777777777778,
             "#fb9f3a"
            ],
            [
             0.8888888888888888,
             "#fdca26"
            ],
            [
             1.0,
             "#f0f921"
            ]
           ],
           "diverging": [
            [
             0,
             "#8e0152"
            ],
            [
             0.1,
             "#c51b7d"
            ],
            [
             0.2,
             "#de77ae"
            ],
            [
             0.3,
             "#f1b6da"
            ],
            [
             0.4,
             "#fde0ef"
            ],
            [
             0.5,
             "#f7f7f7"
            ],
            [
             0.6,
             "#e6f5d0"
            ],
            [
             0.7,
             "#b8e186"
            ],
            [
             0.8,
             "#7fbc41"
            ],
            [
             0.9,
             "#4d9221"
            ],
            [
             1,
             "#276419"
            ]
           ]
          },
          "xaxis": {
           "gridcolor": "#283442",
           "linecolor": "#506784",
           "ticks": "",
           "title": {
            "standoff": 15
           },
           "zerolinecolor": "#283442",
           "automargin": true,
           "zerolinewidth": 2
          },
          "yaxis": {
           "gridcolor": "#283442",
           "linecolor": "#506784",
           "ticks": "",
           "title": {
            "standoff": 15
           },
           "zerolinecolor": "#283442",
           "automargin": true,
           "zerolinewidth": 2
          },
          "scene": {
           "xaxis": {
            "backgroundcolor": "rgb(17,17,17)",
            "gridcolor": "#506784",
            "linecolor": "#506784",
            "showbackground": true,
            "ticks": "",
            "zerolinecolor": "#C8D4E3",
            "gridwidth": 2
           },
           "yaxis": {
            "backgroundcolor": "rgb(17,17,17)",
            "gridcolor": "#506784",
            "linecolor": "#506784",
            "showbackground": true,
            "ticks": "",
            "zerolinecolor": "#C8D4E3",
            "gridwidth": 2
           },
           "zaxis": {
            "backgroundcolor": "rgb(17,17,17)",
            "gridcolor": "#506784",
            "linecolor": "#506784",
            "showbackground": true,
            "ticks": "",
            "zerolinecolor": "#C8D4E3",
            "gridwidth": 2
           }
          },
          "shapedefaults": {
           "line": {
            "color": "#f2f5fa"
           }
          },
          "annotationdefaults": {
           "arrowcolor": "#f2f5fa",
           "arrowhead": 0,
           "arrowwidth": 1
          },
          "geo": {
           "bgcolor": "rgb(17,17,17)",
           "landcolor": "rgb(17,17,17)",
           "subunitcolor": "#506784",
           "showland": true,
           "showlakes": true,
           "lakecolor": "rgb(17,17,17)"
          },
          "title": {
           "x": 0.05
          },
          "updatemenudefaults": {
           "bgcolor": "#506784",
           "borderwidth": 0
          },
          "sliderdefaults": {
           "bgcolor": "#C8D4E3",
           "borderwidth": 1,
           "bordercolor": "rgb(17,17,17)",
           "tickwidth": 0
          },
          "mapbox": {
           "style": "dark"
          }
         }
        },
        "yaxis": {
         "tickformat": ".2%"
        },
        "title": {
         "text": "Retorno del precio del primer trade contra el segundo | Cantidad de pares= 862"
        }
       },
       "config": {
        "plotlyServerURL": "https://plot.ly"
       }
      },
      "text/html": "<div>                            <div id=\"2ae52ee9-882f-40db-b4b4-62261a5dc4ea\" class=\"plotly-graph-div\" style=\"height:525px; width:100%;\"></div>            <script type=\"text/javascript\">                require([\"plotly\"], function(Plotly) {                    window.PLOTLYENV=window.PLOTLYENV || {};                                    if (document.getElementById(\"2ae52ee9-882f-40db-b4b4-62261a5dc4ea\")) {                    Plotly.newPlot(                        \"2ae52ee9-882f-40db-b4b4-62261a5dc4ea\",                        [{\"x\":[\"RENBUSD\",\"ALGOUSDC\",\"EOSUSDC\",\"XTZUSDT\",\"BURGERUSDT\",\"GASBUSD\",\"POWRBUSD\",\"HNTUSDT\",\"FXSUSDT\",\"STPTBUSD\",\"WAVESBUSD\",\"TRXUPUSDT\",\"BELBUSD\",\"GMTBUSD\",\"DATAUSDT\",\"SANDUSDT\",\"DGBBUSD\",\"HEGICBUSD\",\"JUVUSDT\",\"BUSDBRL\",\"RAREBUSD\",\"LEVERUSDT\",\"POLYXUSDT\",\"CVCBUSD\",\"GMXUSDT\",\"USDCBNB\",\"CLVUSDT\",\"MOVRBUSD\",\"BCHDOWNUSDT\",\"RGTUSDT\",\"TLMUSDT\",\"HIVEBUSD\",\"CELRUSDT\",\"UTKBUSD\",\"BUSDTRY\",\"ADXUSDT\",\"HBARBUSD\",\"DOTUPUSDT\",\"BAKEBUSD\",\"BUSDUSDT\",\"FIDABUSD\",\"ARKBUSD\",\"YFIDOWNUSDT\",\"FTTBUSD\",\"ATOMBUSD\",\"BTTUSDC\",\"NMRBUSD\",\"XLMBUSD\",\"ALGOTUSD\",\"XNOUSDT\",\"ZECUSDT\",\"MITHUSDT\",\"CELRBUSD\",\"XLMUSDC\",\"LITBUSD\",\"TROYBUSD\",\"MTLUSDT\",\"SUPERBUSD\",\"POLYUSDT\",\"SXPDOWNUSDT\",\"TKOBUSD\",\"DOTDOWNUSDT\",\"BONDUSDT\",\"IOTAUSDT\",\"APEUSDT\",\"USDTUAH\",\"DIAUSDT\",\"QTUMBUSD\",\"USDCBUSD\",\"C98BUSD\",\"GTCBUSD\",\"PAXGBUSD\",\"FTMUSDC\",\"YFIIUSDT\",\"BATTUSD\",\"ARPAUSDT\",\"CHZBUSD\",\"ELFUSDT\",\"OXTBUSD\",\"UMAUSDT\",\"BNBBEARBUSD\",\"OMUSDT\",\"LINKBUSD\",\"SANDBUSD\",\"ANKRUSDT\",\"DASHUSDT\",\"BCHABCUSDT\",\"FTMUSDT\",\"STRATUSDT\",\"GTOUSDC\",\"GALAUSDT\",\"ALPACAUSDT\",\"FTMBUSD\",\"EOSUPUSDT\",\"MCUSDT\",\"DARBUSD\",\"ANTUSDT\",\"EOSBULLUSDT\",\"PHABUSD\",\"PSGBUSD\",\"CLVBUSD\",\"PERPBUSD\",\"XRPUSDT\",\"DENTBUSD\",\"VGXUSDT\",\"BANDUSDT\",\"XVSBUSD\",\"PERLUSDC\",\"XRPBEARUSDT\",\"SNMBUSD\",\"BUSDVAI\",\"KLAYBUSD\",\"TOMOUSDT\",\"TORNBUSD\",\"XLMUPUSDT\",\"ETCBUSD\",\"TUSDT\",\"AVAXBUSD\",\"DNTUSDT\",\"TFUELTUSD\",\"CAKEBUSD\",\"ALPINEBUSD\",\"CVXUSDT\",\"DATABUSD\",\"REIBUSD\",\"TRBBUSD\",\"DOTBUSD\",\"MATICUSDT\",\"SNXBUSD\",\"GLMRUSDT\",\"ARPABUSD\",\"YFIUPUSDT\",\"ANKRTUSD\",\"AUTOUSDT\",\"TRXUSDT\",\"ZILBUSD\",\"PERLUSDT\",\"SHIBUSDT\",\"KEYBUSD\",\"BNBBEARUSDT\",\"BCPTUSDC\",\"XZCUSDT\",\"ADABUSD\",\"HIGHUSDT\",\"XRPBEARBUSD\",\"LINKUSDT\",\"USDSUSDC\",\"SANTOSUSDT\",\"USDTTRY\",\"VOXELBUSD\",\"CRVUSDT\",\"BCHSVTUSD\",\"NANOUSDT\",\"IMXBUSD\",\"UNIBUSD\",\"AUDBUSD\",\"TWTUSDT\",\"OXTUSDT\",\"UMABUSD\",\"SXPBUSD\",\"LDOUSDT\",\"ADADOWNUSDT\",\"CVPBUSD\",\"BSWUSDT\",\"NBSUSDT\",\"IOTABUSD\",\"BNBUSDC\",\"DODOUSDT\",\"XLMDOWNUSDT\",\"XNOBUSD\",\"DOGEUSDC\",\"ATABUSD\",\"LEVERBUSD\",\"FLUXBUSD\",\"BCHBUSD\",\"WINGBUSD\",\"CFXUSDT\",\"FORBUSD\",\"DREPBUSD\",\"1INCHBUSD\",\"USDTBRL\",\"OMGUSDT\",\"YFIUSDT\",\"ORNUSDT\",\"GBPUSDT\",\"CHRBUSD\",\"HOTBUSD\",\"FLMUSDT\",\"FORTHBUSD\",\"WOOBUSD\",\"PERPUSDT\",\"XECUSDT\",\"USDTNGN\",\"GNOUSDT\",\"ZILUSDT\",\"RAMPBUSD\",\"MDTBUSD\",\"ASTRUSDT\",\"XMRUSDT\",\"PONDBUSD\",\"NEOUSDC\",\"FRONTBUSD\",\"BGBPUSDC\",\"DIABUSD\",\"MLNBUSD\",\"AVAUSDT\",\"RIFUSDT\",\"KMDUSDT\",\"SRMBUSD\",\"IOSTUSDT\",\"BNBTUSD\",\"LTCUSDT\",\"ATOMUSDC\",\"MTLBUSD\",\"KSMBUSD\",\"ALPINEUSDT\",\"RVNBUSD\",\"USDTBKRW\",\"DYDXUSDT\",\"AVAXUSDT\",\"BNBDOWNUSDT\",\"REEFUSDT\",\"LTOUSDT\",\"SKLBUSD\",\"BTTTUSD\",\"YFIBUSD\",\"BTTCUSDT\",\"REIUSDT\",\"EOSBEARBUSD\",\"BTTBUSD\",\"ZECBUSD\",\"TVKBUSD\",\"QNTUSDT\",\"RNDRUSDT\",\"DUSKUSDC\",\"ASTRBUSD\",\"BADGERUSDT\",\"CKBUSDT\",\"LOKABUSD\",\"WAXPBUSD\",\"ARUSDT\",\"PUNDIXBUSD\",\"FORUSDT\",\"TOMOBUSD\",\"USDSBUSDT\",\"TRUUSDT\",\"USDPUSDT\",\"COSUSDT\",\"ATAUSDT\",\"XRPUSDC\",\"OOKIBUSD\",\"UNIUPUSDT\",\"FARMBUSD\",\"ENJUSDT\",\"INJUSDT\",\"YGGUSDT\",\"ALCXBUSD\",\"KEEPUSDT\",\"AMBBUSD\",\"GALBUSD\",\"OGNBUSD\",\"LTOBUSD\",\"XECBUSD\",\"OGBUSD\",\"KAVABUSD\",\"SNXUSDT\",\"LINABUSD\",\"STEEMBUSD\",\"BUSDUAH\",\"AUDUSDT\",\"MLNUSDT\",\"LPTBUSD\",\"ENSBUSD\",\"OCEANUSDT\",\"SFPUSDT\",\"VETUSDT\",\"AXSUSDT\",\"ACABUSD\",\"OOKIUSDT\",\"AERGOBUSD\",\"WINBUSD\",\"BAKEUSDT\",\"BUSDZAR\",\"BEAMUSDT\",\"EOSBULLBUSD\",\"EGLDBUSD\",\"ALICEUSDT\",\"PAXTUSD\",\"SLPUSDT\",\"BTGUSDT\",\"STORJBUSD\",\"BCHUSDT\",\"FUNUSDT\",\"TBUSD\",\"GNOBUSD\",\"ATMBUSD\",\"UTKUSDT\",\"EOSTUSD\",\"ONEBUSD\",\"TFUELUSDC\",\"EPXUSDT\",\"WAVESTUSD\",\"TWTBUSD\",\"INJBUSD\",\"RGTBUSD\",\"UNIDOWNUSDT\",\"MKRUSDT\",\"ARBUSD\",\"SOLUSDC\",\"LRCUSDT\",\"ZECUSDC\",\"BNXUSDT\",\"FILDOWNUSDT\",\"XVGUSDT\",\"AGLDBUSD\",\"PAXGUSDT\",\"CVCUSDT\",\"ACHUSDT\",\"SPELLBUSD\",\"WANUSDT\",\"DAIBUSD\",\"MOBUSDT\",\"JASMYBUSD\",\"BCHUPUSDT\",\"HIGHBUSD\",\"SCRTUSDT\",\"EURBUSD\",\"USTCBUSD\",\"POLYXBUSD\",\"1INCHUSDT\",\"SKLUSDT\",\"ZECTUSD\",\"BUSDBVND\",\"SUSDUSDT\",\"MASKUSDT\",\"FIOBUSD\",\"TRIBEBUSD\",\"TORNUSDT\",\"ACHBUSD\",\"PAXUSDT\",\"WNXMUSDT\",\"ADAUPUSDT\",\"XLMUSDT\",\"ALCXUSDT\",\"OPBUSD\",\"STORMUSDT\",\"HIVEUSDT\",\"RLCBUSD\",\"REPUSDT\",\"LTCDOWNUSDT\",\"GLMRBUSD\",\"ALPHABUSD\",\"EOSUSDT\",\"LRCBUSD\",\"USDTDAI\",\"XTZUPUSDT\",\"USDTIDRT\",\"MOVRUSDT\",\"RSRUSDT\",\"USTBUSD\",\"GHSTUSDT\",\"WAVESUSDT\",\"BCHSVUSDT\",\"AVABUSD\",\"MINABUSD\",\"CHESSBUSD\",\"SSVBUSD\",\"FILBUSD\",\"NUBUSD\",\"KNCUSDT\",\"BADGERBUSD\",\"MCBUSD\",\"THETAUSDT\",\"STGBUSD\",\"ETCUSDT\",\"VTHOBUSD\",\"JASMYUSDT\",\"AAVEUPUSDT\",\"BNBBULLBUSD\",\"DFUSDT\",\"VENUSDT\",\"PHBTUSD\",\"AAVEUSDT\",\"CTKBUSD\",\"CELOUSDT\",\"ALPHAUSDT\",\"BSWBUSD\",\"PAXBUSD\",\"KSMUSDT\",\"ADAUSDT\",\"RUNEUSDT\",\"WNXMBUSD\",\"RAYUSDT\",\"ERDBUSD\",\"AMPBUSD\",\"BCHABCUSDC\",\"MBOXUSDT\",\"VETBUSD\",\"MKRBUSD\",\"LOKAUSDT\",\"BKRWBUSD\",\"PROSBUSD\",\"MULTIUSDT\",\"KDAUSDT\",\"OPUSDT\",\"ATOMUSDT\",\"COCOSUSDT\",\"ILVUSDT\",\"XLMTUSD\",\"FTMTUSD\",\"AUCTIONUSDT\",\"MASKBUSD\",\"BUSDBKRW\",\"USDTZAR\",\"DOTUSDT\",\"PNTUSDT\",\"GBPBUSD\",\"ELFBUSD\",\"LOOMBUSD\",\"UFTBUSD\",\"SXPUSDT\",\"IOTXUSDT\",\"TUSDBNB\",\"VIDTUSDT\",\"CELOBUSD\",\"NPXSUSDC\",\"ATOMTUSD\",\"GTCUSDT\",\"CHRUSDT\",\"AGIXBUSD\",\"BTTCBUSD\",\"ERNUSDT\",\"RSRBUSD\",\"BNBUPUSDT\",\"GRTBUSD\",\"LDOBUSD\",\"NEOBUSD\",\"LINKTUSD\",\"IRISBUSD\",\"GXSUSDT\",\"USDSPAX\",\"ERNBUSD\",\"DUSKBUSD\",\"PORTOBUSD\",\"ONTBUSD\",\"WINUSDC\",\"POLSUSDT\",\"ZRXUSDT\",\"KNCBUSD\",\"BTSUSDT\",\"CAKEUSDT\",\"SHIBBUSD\",\"ETCUSDC\",\"WAXPUSDT\",\"MBLUSDT\",\"STXBUSD\",\"AUDIOBUSD\",\"MDXUSDT\",\"USDSUSDT\",\"LSKUSDT\",\"IOTXBUSD\",\"QNTBUSD\",\"TUSDUSDT\",\"RAMPUSDT\",\"LTCUPUSDT\",\"MBOXBUSD\",\"GRTUSDT\",\"FETUSDT\",\"ACAUSDT\",\"BNXBUSD\",\"USDCPAX\",\"EPXBUSD\",\"USDSBUSDS\",\"ERDUSDT\",\"ONEUSDC\",\"BNBBULLUSDT\",\"FARMUSDT\",\"AIONUSDT\",\"ONTUSDC\",\"SUSHIUSDT\",\"SCBUSD\",\"DEGOBUSD\",\"AUDIOUSDT\",\"STRATBUSD\",\"FILUSDT\",\"LAZIOBUSD\",\"FORTHUSDT\",\"REQUSDT\",\"EURUSDT\",\"BATBUSD\",\"TKOUSDT\",\"COTIBUSD\",\"FLMBUSD\",\"FIOUSDT\",\"DENTUSDT\",\"AAVEBUSD\",\"BOTBUSD\",\"DOGEBUSD\",\"CRVBUSD\",\"LTCBUSD\",\"PYRUSDT\",\"ADXBUSD\",\"ANKRUSDC\",\"SCUSDT\",\"RAREUSDT\",\"WOOUSDT\",\"VTHOUSDT\",\"FRONTUSDT\",\"CTKUSDT\",\"AGLDUSDT\",\"EGLDUSDT\",\"BONDBUSD\",\"CHZUSDT\",\"BCHTUSD\",\"MANABUSD\",\"XEMUSDT\",\"UNFIBUSD\",\"NEOTUSD\",\"BIFIBUSD\",\"1INCHUPUSDT\",\"JOEBUSD\",\"ACMUSDT\",\"RADBUSD\",\"DEXEUSDT\",\"BULLUSDT\",\"STMXUSDT\",\"LUNCUSDT\",\"XRPDOWNUSDT\",\"BCHABUSD\",\"IDEXUSDT\",\"CFXBUSD\",\"REPBUSD\",\"LTCUSDC\",\"REQBUSD\",\"ALICEBUSD\",\"CITYBUSD\",\"DUSKUSDT\",\"SUNUSDT\",\"AAVEDOWNUSDT\",\"ALPACABUSD\",\"TROYUSDT\",\"SFPBUSD\",\"LINAUSDT\",\"BEARBUSD\",\"BARUSDT\",\"GALABUSD\",\"MIRUSDT\",\"BTGBUSD\",\"CVXBUSD\",\"SOLUSDT\",\"KDABUSD\",\"RAYBUSD\",\"BARBUSD\",\"STRAXUSDT\",\"USDTBIDR\",\"LINKDOWNUSDT\",\"SUPERUSDT\",\"DFBUSD\",\"FTTUSDT\",\"LTCTUSD\",\"TFUELUSDT\",\"XRPBUSD\",\"FILUPUSDT\",\"HARDBUSD\",\"DOCKUSDT\",\"CHESSUSDT\",\"CITYUSDT\",\"AKROBUSD\",\"PLAUSDT\",\"ICXUSDT\",\"WAVESUSDC\",\"CTSIUSDT\",\"XRPBULLUSDT\",\"NEARBUSD\",\"BLZBUSD\",\"SUSHIUPUSDT\",\"SNTBUSD\",\"DREPUSDT\",\"GLMBUSD\",\"MULTIBUSD\",\"KLAYUSDT\",\"COCOSBUSD\",\"ANTBUSD\",\"DOCKBUSD\",\"ENSUSDT\",\"VIBBUSD\",\"THETABUSD\",\"DARUSDT\",\"FISUSDT\",\"ICXBUSD\",\"CKBBUSD\",\"LENDUSDT\",\"API3BUSD\",\"NANOBUSD\",\"REEFBUSD\",\"DEGOUSDT\",\"BELUSDT\",\"NEXOBUSD\",\"NMRUSDT\",\"ADAUSDC\",\"ETCTUSD\",\"BUSDNGN\",\"MFTUSDT\",\"RUNEBUSD\",\"DGBUSDT\",\"ZENUSDT\",\"BATUSDT\",\"FLOWUSDT\",\"EPSBUSD\",\"ONEUSDT\",\"BNBBUSD\",\"BNTUSDT\",\"1INCHDOWNUSDT\",\"LAZIOUSDT\",\"JSTUSDT\",\"HARDUSDT\",\"AKROUSDT\",\"BNBUSDT\",\"FXSBUSD\",\"TFUELBUSD\",\"DNTBUSD\",\"BUSDBIDR\",\"ONETUSD\",\"XMRBUSD\",\"XRPTUSD\",\"DCRUSDT\",\"DEXEBUSD\",\"QTUMUSDT\",\"PEOPLEBUSD\",\"DODOBUSD\",\"XRPUPUSDT\",\"BCHABCBUSD\",\"LPTUSDT\",\"DAIUSDT\",\"TRIBEUSDT\",\"MDTUSDT\",\"CTSIBUSD\",\"BNBUSDP\",\"BANDBUSD\",\"XVSUSDT\",\"ADATUSD\",\"PLABUSD\",\"BCHABCTUSD\",\"QUICKBUSD\",\"UNFIUSDT\",\"VITEUSDT\",\"PSGUSDT\",\"BTTUSDT\",\"OGUSDT\",\"BICOBUSD\",\"GMXBUSD\",\"TOMOUSDC\",\"ANCUSDT\",\"ICPUSDT\",\"CTXCBUSD\",\"BCPTTUSD\",\"CTXCUSDT\",\"SWRVBUSD\",\"CVPUSDT\",\"ANYUSDT\",\"XEMBUSD\",\"TUSDBUSD\",\"XRPBULLBUSD\",\"TRXDOWNUSDT\",\"WRXBUSD\",\"PYRBUSD\",\"KMDBUSD\",\"BUSDIDRT\",\"LENDBUSD\",\"ARDRUSDT\",\"AUTOBUSD\",\"FLUXUSDT\",\"TRBUSDT\",\"ACMBUSD\",\"BZRXBUSD\",\"OMGBUSD\",\"EOSBEARUSDT\",\"AUDUSDC\",\"EPSUSDT\",\"AMPUSDT\",\"GTOBUSD\",\"SOLBUSD\",\"BURGERBUSD\",\"GTOUSDT\",\"USDCTUSD\",\"BALUSDT\",\"BETAUSDT\",\"PHBBUSD\",\"HCUSDT\",\"USDPBUSD\",\"JUVBUSD\",\"VOXELUSDT\",\"APEBUSD\",\"LINKUSDC\",\"IOSTBUSD\",\"IRISUSDT\",\"API3USDT\",\"FLOWBUSD\",\"EOSDOWNUSDT\",\"BCCUSDT\",\"ATMUSDT\",\"BTSBUSD\",\"PEOPLEUSDT\",\"C98USDT\",\"ROSEUSDT\",\"BETABUSD\",\"BULLBUSD\",\"BUSDDAI\",\"COMPUSDT\",\"MIRBUSD\",\"JOEUSDT\",\"COVERBUSD\",\"NKNBUSD\",\"ANKRBUSD\",\"ENJBUSD\",\"TRXUSDC\",\"YFIIBUSD\",\"XTZBUSD\",\"ILVBUSD\",\"OMBUSD\",\"TRXBUSD\",\"QIUSDT\",\"SUNBUSD\",\"LUNABUSD\",\"NEOUSDT\",\"LITUSDT\",\"LUNCBUSD\",\"FIDAUSDT\",\"BKRWUSDT\",\"RADUSDT\",\"STXUSDT\",\"WINGUSDT\",\"OGNUSDT\",\"BTTCUSDC\",\"JSTBUSD\",\"SCRTBUSD\",\"TUSDBTUSD\",\"IDEXBUSD\",\"ONTUSDT\",\"MATICBUSD\",\"VIDTBUSD\",\"WRXUSDT\",\"BEARUSDT\",\"ALGOUSDT\",\"BUSDRUB\",\"SYSBUSD\",\"SANTOSBUSD\",\"RLCUSDT\",\"BZRXUSDT\",\"NULSBUSD\",\"TRUBUSD\",\"NPXSUSDT\",\"DCRBUSD\",\"COTIUSDT\",\"USDSTUSD\",\"HOTUSDT\",\"DOGEUSDT\",\"BICOUSDT\",\"GALUSDT\",\"SUSHIDOWNUSDT\",\"BIFIUSDT\",\"SUSHIBUSD\",\"NUUSDT\",\"SYSUSDT\",\"ICPBUSD\",\"NKNUSDT\",\"CREAMBUSD\",\"FISBUSD\",\"BATUSDC\",\"WINUSDT\",\"ROSEBUSD\",\"GMTUSDT\",\"KEEPBUSD\",\"IMXUSDT\",\"QIBUSD\",\"KP3RBUSD\",\"EOSBUSD\",\"BNBUSDS\",\"RNDRBUSD\",\"MDXBUSD\",\"KAVAUSDT\",\"ALGOBUSD\",\"COMPBUSD\",\"UNIUSDT\",\"LINKUPUSDT\",\"USDCUSDT\",\"FETBUSD\",\"QUICKUSDT\",\"TRXTUSD\",\"MCOUSDT\",\"OCEANBUSD\",\"NEARUSDT\",\"HNTBUSD\",\"GTOTUSD\",\"FIROUSDT\",\"YGGBUSD\",\"AIONBUSD\",\"BALBUSD\",\"MOBBUSD\",\"RVNUSDT\",\"STORJUSDT\",\"PHAUSDT\",\"WTCUSDT\",\"SPELLUSDT\",\"DYDXBUSD\",\"MINAUSDT\",\"KP3RUSDT\",\"PHBUSDC\",\"ZENBUSD\",\"TLMBUSD\",\"POLSBUSD\",\"NEXOUSDT\",\"LUNAUSDT\",\"ANCBUSD\",\"ASRUSDT\",\"IQBUSD\",\"AXSBUSD\",\"MBLBUSD\",\"POLYBUSD\",\"SXPUPUSDT\",\"MANAUSDT\",\"USTUSDT\",\"NULSUSDT\",\"ANYBUSD\",\"NEBLBUSD\",\"ONGUSDT\",\"BCHUSDC\",\"STGUSDT\",\"BNTBUSD\",\"KEYUSDT\",\"LSKBUSD\",\"GHSTBUSD\",\"XVGBUSD\",\"PROMBUSD\",\"XTZDOWNUSDT\",\"HBARUSDT\",\"ASRBUSD\",\"FIROBUSD\",\"BLZUSDT\",\"PUNDIXUSDT\",\"TCTUSDT\",\"AUCTIONBUSD\",\"PORTOUSDT\",\"STPTUSDT\",\"BCHSVUSDC\",\"STMXBUSD\",\"USDTRUB\",\"SRMUSDT\",\"ERDUSDC\",\"RENUSDT\",\"USDTBVND\",\"ORNBUSD\",\"STRAXBUSD\",\"ZRXBUSD\",\"SLPBUSD\",\"PONDUSDT\",\"TVKUSDT\",\"DASHBUSD\",\"POWRUSDT\",\"STEEMUSDT\",\"NEBLUSDT\",\"COSBUSD\"],\"y\":[0.0,-0.09090909090909086,1.2764999999999997,0.004926108374384351,0.7330210772833726,0.29182549767047844,-0.025410775697363355,0.5752688172043011,0.06869873228933633,0.04934268702470075,0.6040293040293039,-0.0034000000000000696,4.0,3.9950049950049955,1.201320939334638,3.2001680067202694,0.2685774946921445,0.020988971896122234,0.17476125511596188,-0.0011320754716981562,1.1771467207572683,0.17728531855955673,0.15561118064246987,0.09890109890109886,0.09997555609875346,0.0,0.31927212572373853,0.38421733505821476,0.020100000000000052,0.4001357159013797,0.6,0.0516955181408584,0.0,0.16883116883116878,-0.00606060606060614,0.3275991024682122,0.29556106975461816,-0.007900000000000063,3.916090819348471,0.25000000000000006,0.19830328738069986,0.013657703798548786,0.010599999999999988,-0.004484304932735596,3.476657429119591,0.03386581469648564,0.0,0.5734067663257278,-0.0848484848484848,0.7491007194244603,0.0,0.19999999999999984,0.3241285649615212,-0.9,3.0,0.20422169675298454,-0.02222222222222224,0.47601476014760147,0.07700815705792889,0.02949999999999999,4.0,0.010299999999999976,0.05389541088580585,0.18621428571428583,17.8,-0.01725431357839463,-0.2135922330097087,1.795389048991354,0.00019999999999997797,3.974134500596896,0.5684210526315789,0.027770497700351993,-0.25000000000000006,0.4734455958549223,-0.16416666666666663,-0.02797534376481746,0.7413422030913716,0.06955966815571155,0.13450531479967298,0.15982312065698037,0.06967662373252938,0.7068843151171043,-0.019230769230769332,1.6041041641665668,0.0,0.06666666666666667,0.0,-0.027855153203342642,0.9697832275016421,-0.016666666666666684,1.5915359010936756,0.6283425241910311,0.0706866705135602,-0.028800000000000027,0.14864864864864874,4.000000000000001,0.5729166666666667,0.31681963288108544,2.079991136716153,-0.0010108864696733982,0.49875104079933386,1.8815368196371403,0.8,0.10997267759562834,0.5339857180640041,-0.37006342494714595,0.4075,2.083870967741935,3.7664442326024785,0.12146529562982006,-0.04800000000000004,0.6739203213927016,-0.08620689655172403,0.36814184001116856,0.0,-0.013355555555555614,-0.013698630136986337,4.0,0.19009838146620103,0.0,1.5,0.09451556819977885,0.25785510257076083,1.4492895639392454,0.31868131868131866,0.1572498298162015,0.8269230769230768,-0.0707070707070708,0.12625389138706322,3.0,0.053688407861008196,0.0,-0.08333333333333341,0.5862553652755,0.0,1.089864158829676,0.9561290322580647,1.695467422096317,0.24118257261410794,2.9504154747309634,-0.07571428571428589,0.6882386043894204,0.0,0.6188524590163935,0.0,-0.03006535947712419,-9.523809523808475e-05,4.0,3.8494983277591968,3.9995002498750627,1.64,-0.0025724343352287807,-0.1647058823529412,0.1540511727078892,4.0,0.012342254888365024,1.9446407538280328,0.39303482587064675,0.05963855421686737,0.19993239817475064,0.3843416370106762,0.0,0.2500000000000001,1.7730616864742503,0.4216867469879518,0.45085751978891814,-0.1666666666666666,2.586800573888092,0.016699999999999982,0.12359550561797748,0.024390243902438876,3.8774569279301145,0.34948096885813135,0.8018018018018018,3.9960031974420467,1.5,0.43522110162917005,-0.058191584601611474,0.1611246282779129,-0.3070058009817046,-0.03905967450271251,-0.1838800000000001,0.3810748833969652,0.7500000000000001,0.562900641025641,0.20117187499999992,-0.0075107296137339715,3.773333333333333,0.3524936601859678,0.3946717134954142,0.8763326226012793,0.2499455598623753,-0.043230016313213736,0.4174296371651408,0.0,0.7910447761194028,0.2717253073336159,0.27873563218390807,-0.0026928255433737365,0.23425692695214112,0.0,0.4982876712328766,0.0,0.4030612244897959,0.016508013013616155,0.19254658385093157,0.6012396694214877,0.0772138228941685,4.000000000000001,-0.005833333333333269,-0.09518628992247123,0.003676470588235294,0.10615384615384628,0.0654519299928074,0.30486358244365364,4.0,-0.04965753424657527,-0.5082139759685419,3.814666666666667,3.9988235294117644,-0.003999999999999915,4.0,0.15148830616584,2.3333333333333335,-0.0008992805755395902,0.5523325908005781,0.28205128205128216,0.09561752988047806,-0.0021849963583394855,3.8522512806686438,0.0019015021867274066,0.7346549752192149,0.25498007968127484,0.23770491803278693,-0.07692307692307698,0.4357501794687724,0.24131274131274133,0.3469119579500659,3.9968769519050595,1.6968716289104637,1.8623988226637231,0.06157112526539284,1.3073064704898847,0.06279809220985706,0.03939299449121718,0.5612327656123276,0.18599999999999994,0.0,3.8320850446967865,-0.4753245887431457,0.7948243992606285,0.0,1.484725050916497,-0.09592178770949716,0.4999999999999999,0.39184542328475513,0.1220595922634605,1.0051986632008914,0.4722536806342016,3.996668887408395,0.015498476273399927,0.11772486772486779,0.5956808638272347,0.15486558121923508,-0.4800747198007472,0.10611821638437623,3.4470588235294115,0.011736139214892811,0.029433406916850653,0.38353713926350363,0.1299843392362365,0.1568123393316195,1.403846153846154,0.17623995295040185,4.0,0.0,1.22,0.49925037481259377,0.8089053803339519,0.022537562604340665,0.045558520777735596,0.2917663061363288,-0.0006920415224913757,0.0676156583629893,0.0265493802479009,0.271617497456765,4.0,-0.007228438459253475,0.5780141843971631,0.16455696202531644,0.5454545454545454,-0.036623046165030905,-0.05882352941176461,-0.0290846877673225,0.5587936292782106,-0.0053557765876052245,0.7359591539022611,0.06104561446824269,0.06029106029106036,0.0,0.6150330116810566,0.003089996137504831,0.7180094786729856,1.9999999999999998,0.46087743102668466,0.007399999999999985,0.07948969578017664,1.2091310751104567,-0.06362153344208818,0.8746652383502944,-0.1213195622013258,1.0783956244302644,-0.019100000000000072,0.5724447772369899,0.34641407307171856,0.027261748760245615,-0.041666666666666706,0.45420792079207917,3.0712468193384224,-0.3136,0.07920792079207928,1.535211267605634,0.831955922865014,0.0009999999999999788,0.6386726751331422,0.34173055859802853,0.0007167174341515067,0.045946564831316844,0.1134278565471226,4.0,2.3333333333333335,0.0003480076561684901,-0.783827027027027,0.018000000000000016,0.3550135501355013,0.571244080929832,0.582649472450176,0.18931701210182222,0.4385150812064965,0.0007960199004976458,0.0842880523731587,0.0,0.0018914385639341026,0.19738562091503267,1.6925746009715474,-0.052631578947368446,1.2020105313547151,0.1258728061898471,0.06310645724258289,0.009999999999999964,3.4782087165133952,3.0,0.0,0.09825350905389477,-0.75,0.0,-0.7756841633019291,0.39823925427239776,0.09942806863176411,0.10000000000000009,0.16044399596367298,-0.2418772563176895,0.6937820369957657,1.1523636363636365,0.364913689281413,2.6616623947272062,0.07373653686826848,4.0,0.24171708441371353,0.10831889081455806,0.31274131274131284,0.4464802314368371,-0.1111111111111112,0.6166419019316494,0.006172839506172928,3.914744232698094,0.791867677463818,0.08460000000000001,-0.045701146121510335,0.21951219512195116,3.174804749514605e-05,-5.530667551757074e-07,0.14719035582344936,1.8571428571428572,1.2040302267002518,3.0,1.7722772277227725,0.00019999999999997797,0.08922363847045195,0.0,0.10434659493133228,0.19063109954456733,0.4241325737959606,-0.002770083102493082,0.8083182640144664,0.0,1.031488065007618,0.020705745115194,0.3746312684365782,4.0,0.014561947958940048,0.8926226342217073,0.11026615969581743,0.41201094831750107,0.5208333333333334,-0.01156677181913769,0.0,0.43546441495778043,0.0,0.0,0.17885004334007507,0.47837871134655646,0.5933572257836555,0.0,1.1244019138755985,0.12856322938588086,0.008123476848090989,0.22884012539184953,0.013986013986014022,2.2967032967032965,0.08054054054054055,-0.11067193675889339,0.00010526315789469603,0.279058911399496,0.06660456450861672,0.0,-0.038498742503385544,1.5210084033613447,0.06459761818837964,1.8631208016738245,0.01694915254237284,0.226379677136779,0.24252185918085598,0.013000000000000077,-0.12628145386766082,0.2628957666310921,0.8285453021412786,-0.03605211493842583,0.12192329708070979,0.11259754738015605,0.023407022106631856,0.2818901596078924,0.09140328697850811,0.591045223120695,3.907734589713389,0.05263157894736838,0.23990055935363588,0.0,0.5621198957428323,1.8266244057052294,2.1413612565445024,2.472714386959603,-0.15366666666666662,1.9697624190064795,0.017230641478098347,-0.031065088757396477,2.0205,0.5555970381432394,0.0,0.06474820143884898,0.04399008674101603,0.2761714855433699,0.0,0.6470588235294118,0.019500000000000028,1.0090863200403835,3.9,0.0,0.3999999999999999,1.6296633303002728,-0.0024912805181865156,0.9318759532282664,0.0,0.0,-0.0005005005005004801,0.0,0.522935779816514,0.15606936416184983,-0.09090909090909098,0.8914473684210527,0.03492063492063482,1.7448275862068963,2.7249999999999996,0.0922063666300768,4.0,0.3370349393227548,0.26724866234863426,1.016544117647059,0.0030482338174646494,-0.010329890036654422,4.0,1.120294244915621,4.0,0.1023622047244094,-0.03174603174603183,0.05004860976083994,-0.0023345371829918307,0.23527549081697266,2.332,-0.018518518518518517,0.31622244159262913,0.2361868626986008,-0.08333333333333341,0.007725898555592884,1.3632680621201891,0.260337798485731,2.0010010010010006,0.20867124142233318,1.7272727272727273,0.41985767536428337,0.47133434804667673,0.0179480310742031,0.376850605652759,0.044504995458673986,-0.03941100043308796,0.25260960334029225,3.5384615384615388,0.3642857142857144,2.5770440251572326,0.0,0.1940298507462688,0.07692307692307693,0.7318608731551245,2.7433829089992434,7.547169811320755e-05,0.0204081632653061,0.19741162835619105,0.0028999999999999916,0.9333333333333333,0.5177097759480945,0.5062111801242235,0.03330540427314623,-0.18800000000000008,0.015644047135310816,4.0,1.4186851211072669,0.0,0.1319845857418111,0.0,0.7461802307452448,0.31999999999999995,4.0,3.305882352941176,0.0182648401826485,0.9324430479183032,1.4703651019440491,0.8441064638783271,0.012067510548523265,0.10539979231568003,0.2175087719298245,0.5421764327108822,0.2916559028674761,1.0371825085100812,0.2214518760195758,-0.09527454937713133,0.12799999999999995,0.17712177121771217,0.3112582781456954,0.05618556701030927,0.0006395906619763215,0.0,0.0,0.026900000000000014,-0.7528235294117647,0.0,2.381109886071297,2.6703601108033244,0.1367521367521366,0.37295081967213123,0.024327784891165223,-0.2300406367441718,3.183266932270916,0.23295851105079507,1.4615384615384617,0.2098679638637944,-0.03490000000000002,0.3530655391120507,-0.012352309344790558,0.015193370165745715,0.16261398176291797,0.5110318698462226,-0.004773344148753586,0.5434782608695653,-0.03565425108378312,1.7485112230874944,1.2176831047563466,0.18724899598393585,4.0,0.1942532175995211,1.1751904243743199,0.3012683248229288,0.07274969173859437,3.761904761904762,-0.010307380820909349,-0.07702100572883498,1.329379310344828,3.8000000000000003,0.4629713766469787,-0.09163030543435154,0.0,0.2,-0.00466721900027616,-0.0833333333333332,0.4402375649591687,0.10000000000000005,0.03417624521072795,-0.024246008279124733,0.43091206990715464,1.1545979564637938,0.0,-0.00034430551690637956,2.5260930888575452,0.008999999999999985,4.0,0.30310845663092173,0.4117647058823529,0.1893568070421125,0.0,1.2880215343203232,0.10850439882697946,0.0361962216224796,0.007940377516194192,-0.4,-0.0037095163361393225,0.005149269279995265,0.0,0.5441176470588235,-0.18125000000000002,0.5640839971035482,2.161685271876125,0.00129999999999999,0.0,0.09023763648041112,0.0772277227722773,0.6124303723248314,0.04433887569279491,2.8461538461538463,-0.16004923849291594,-0.05525336387059836,-0.5,-0.025917926565874612,0.3928717738631709,0.004080612924716813,0.04971376920759265,2.8461538461538463,-0.2693230916946712,0.5357142857142857,0.3999999999999998,0.7291066282420748,0.3139204545454547,0.40518084066471155,-0.08620689655172403,0.27096774193548384,2.5622593068035946,0.5458122540753233,-0.14285714285714296,-0.06132665832290365,0.0620805369127517,0.3548120611317638,0.3315579227696405,0.07361963190184047,3.8875,0.047243788819875614,0.009200000000000052,7.535227187107228e-05,0.3120683985531075,0.3265849760255727,-0.07020130785998205,-0.04466580976863743,0.13143004115226348,1.9779512489527535,1.3524590163934427,1.2187708009762592,2.076923076923077,0.24796527400976662,0.2377108558418711,-0.032727272727272674,0.036755730367557325,3.997778764993337,0.5075376884422109,0.22792303897385294,2.5,0.7391304347826089,-0.04761904761904766,-0.0006995103427599909,0.20426123205187588,3.9991668055324108,0.23251517550804965,-0.044585987261146535,0.3500000000000001,-0.17695473251028807,4.0,3.9996000399960003,-0.04104211277658819,1.0673971469919372,0.28662702990504935,0.30071599045346054,0.5207877461706782,0.032199999999999916,0.18452618453865338,0.6762452107279694,-0.5226912091399557,0.4492753623188405,3.9728152764885296,2.3333333333333335,3.996668887408394,-0.015849056603773583,0.0,0.19514293909551578,0.7468274111675128,0.21266968325791866,0.35690875310523357,0.15743440233236158,0.2383389746553289,0.0010980966325037425,-0.31184210526315786,0.6590305444887118,2.7181996086105675,0.4423540762180414,0.5980113636363635,-0.6935,0.7251293847038527,0.10830527497194171,0.10430586488492953,0.0,4.0,0.9531250000000002,0.18125552608311218,1.012279446828803,0.972992475002577,0.6600265604249667,0.9,1.5783619817997978,0.34183673469387754,0.5136920324755746,0.19671190976868666,-9.998000399918915e-05,0.5384615384615387,0.0026394721055786998,0.06711065573770503,0.4304787335494946,1.6,0.09589041095890419,0.0,3.9450549450549453,0.29668049792531137,0.3876200976531738,-0.013333333333333345,0.7068169618894258,0.5445284258954977,0.5537325676784252,-0.6000000000000001,0.9076072821846553,-0.12013536379018616,-0.007142857142857202,0.08717008317506053,-0.020044543429844054,0.4205292132836085,4.0,0.02959999999999994,0.17588235294117646,1.062706270627063,1.3034840195796142,0.14914425427872866,2.53045013239188,0.0,0.34183160013418307,0.22938530734632676,0.24137931034482762,0.21270919233567795,2.966666666666667,4.0,0.3558692421991085,0.14636097040789123,2.620689655172414,0.2045401899467222,-0.63875,0.0,0.30919220055710317,0.6686383164186539,0.2999999999999999,-0.004502118644067742,0.1096166778749159,4.0,-0.016000000000000066,0.0,-0.018778758860838206,0.3003289989033371,-0.015243902439024402,-0.9979645289231459,0.6732901066722443,0.446153846153846,0.1995721271393643,-0.3333333333333333,0.4349977507872245,0.35374038304141425,0.06043046357615883,0.5655172413793104,0.6840326668544072,-0.019841269841269858,0.009325287986834926,0.1937409259557993,0.01610429447852775,0.19219346627068304,3.4651782739086974,0.5638855300282145,0.11497593748510992,0.0,0.0,4.0,0.23966428349393842,1.0818181818181818,-0.09208819714656286,0.2379110251450677,0.23885034687809714,0.7139677239844184,2.4999999999999996,-0.0005078720162518839,0.000508517670989152,0.008399999999999963,0.10013052396046988,0.050000000000000044,0.0,0.33067198935462416,0.5686653771760154,-0.16666666666666663,0.04403086699954602,0.6290130796670632,2.532320734722713,-0.11111111111111105,0.08888888888888881,0.16237482117310442,0.12721417069243157,0.13930348258706482,0.01799999999999997,0.2897196261682244,0.08736717827626918,0.21341898643825832,0.3197575003886213,0.03840682788051203,0.30668716372021526,0.6491807990801953,4.0,-0.1249455811928603,-0.024133333333333364,0.033243486073674805,-0.6463022508038585,4.000000000000001,0.0,0.0,-0.09997837837837838,0.10472325555179803,0.11088504577823001,2.0273900447721886,0.6711111111111111,0.25156445556946194,1.312528064660979,3.2492917847025495,0.43321230651633863,-0.044756179024716174,0.16608996539792387,0.8698578908002993],\"type\":\"bar\"}],                        {\"template\":{\"data\":{\"histogram2dcontour\":[{\"type\":\"histogram2dcontour\",\"colorbar\":{\"outlinewidth\":0,\"ticks\":\"\"},\"colorscale\":[[0.0,\"#0d0887\"],[0.1111111111111111,\"#46039f\"],[0.2222222222222222,\"#7201a8\"],[0.3333333333333333,\"#9c179e\"],[0.4444444444444444,\"#bd3786\"],[0.5555555555555556,\"#d8576b\"],[0.6666666666666666,\"#ed7953\"],[0.7777777777777778,\"#fb9f3a\"],[0.8888888888888888,\"#fdca26\"],[1.0,\"#f0f921\"]]}],\"choropleth\":[{\"type\":\"choropleth\",\"colorbar\":{\"outlinewidth\":0,\"ticks\":\"\"}}],\"histogram2d\":[{\"type\":\"histogram2d\",\"colorbar\":{\"outlinewidth\":0,\"ticks\":\"\"},\"colorscale\":[[0.0,\"#0d0887\"],[0.1111111111111111,\"#46039f\"],[0.2222222222222222,\"#7201a8\"],[0.3333333333333333,\"#9c179e\"],[0.4444444444444444,\"#bd3786\"],[0.5555555555555556,\"#d8576b\"],[0.6666666666666666,\"#ed7953\"],[0.7777777777777778,\"#fb9f3a\"],[0.8888888888888888,\"#fdca26\"],[1.0,\"#f0f921\"]]}],\"heatmap\":[{\"type\":\"heatmap\",\"colorbar\":{\"outlinewidth\":0,\"ticks\":\"\"},\"colorscale\":[[0.0,\"#0d0887\"],[0.1111111111111111,\"#46039f\"],[0.2222222222222222,\"#7201a8\"],[0.3333333333333333,\"#9c179e\"],[0.4444444444444444,\"#bd3786\"],[0.5555555555555556,\"#d8576b\"],[0.6666666666666666,\"#ed7953\"],[0.7777777777777778,\"#fb9f3a\"],[0.8888888888888888,\"#fdca26\"],[1.0,\"#f0f921\"]]}],\"heatmapgl\":[{\"type\":\"heatmapgl\",\"colorbar\":{\"outlinewidth\":0,\"ticks\":\"\"},\"colorscale\":[[0.0,\"#0d0887\"],[0.1111111111111111,\"#46039f\"],[0.2222222222222222,\"#7201a8\"],[0.3333333333333333,\"#9c179e\"],[0.4444444444444444,\"#bd3786\"],[0.5555555555555556,\"#d8576b\"],[0.6666666666666666,\"#ed7953\"],[0.7777777777777778,\"#fb9f3a\"],[0.8888888888888888,\"#fdca26\"],[1.0,\"#f0f921\"]]}],\"contourcarpet\":[{\"type\":\"contourcarpet\",\"colorbar\":{\"outlinewidth\":0,\"ticks\":\"\"}}],\"contour\":[{\"type\":\"contour\",\"colorbar\":{\"outlinewidth\":0,\"ticks\":\"\"},\"colorscale\":[[0.0,\"#0d0887\"],[0.1111111111111111,\"#46039f\"],[0.2222222222222222,\"#7201a8\"],[0.3333333333333333,\"#9c179e\"],[0.4444444444444444,\"#bd3786\"],[0.5555555555555556,\"#d8576b\"],[0.6666666666666666,\"#ed7953\"],[0.7777777777777778,\"#fb9f3a\"],[0.8888888888888888,\"#fdca26\"],[1.0,\"#f0f921\"]]}],\"surface\":[{\"type\":\"surface\",\"colorbar\":{\"outlinewidth\":0,\"ticks\":\"\"},\"colorscale\":[[0.0,\"#0d0887\"],[0.1111111111111111,\"#46039f\"],[0.2222222222222222,\"#7201a8\"],[0.3333333333333333,\"#9c179e\"],[0.4444444444444444,\"#bd3786\"],[0.5555555555555556,\"#d8576b\"],[0.6666666666666666,\"#ed7953\"],[0.7777777777777778,\"#fb9f3a\"],[0.8888888888888888,\"#fdca26\"],[1.0,\"#f0f921\"]]}],\"mesh3d\":[{\"type\":\"mesh3d\",\"colorbar\":{\"outlinewidth\":0,\"ticks\":\"\"}}],\"scatter\":[{\"marker\":{\"line\":{\"color\":\"#283442\"}},\"type\":\"scatter\"}],\"parcoords\":[{\"type\":\"parcoords\",\"line\":{\"colorbar\":{\"outlinewidth\":0,\"ticks\":\"\"}}}],\"scatterpolargl\":[{\"type\":\"scatterpolargl\",\"marker\":{\"colorbar\":{\"outlinewidth\":0,\"ticks\":\"\"}}}],\"bar\":[{\"error_x\":{\"color\":\"#f2f5fa\"},\"error_y\":{\"color\":\"#f2f5fa\"},\"marker\":{\"line\":{\"color\":\"rgb(17,17,17)\",\"width\":0.5},\"pattern\":{\"fillmode\":\"overlay\",\"size\":10,\"solidity\":0.2}},\"type\":\"bar\"}],\"scattergeo\":[{\"type\":\"scattergeo\",\"marker\":{\"colorbar\":{\"outlinewidth\":0,\"ticks\":\"\"}}}],\"scatterpolar\":[{\"type\":\"scatterpolar\",\"marker\":{\"colorbar\":{\"outlinewidth\":0,\"ticks\":\"\"}}}],\"histogram\":[{\"marker\":{\"pattern\":{\"fillmode\":\"overlay\",\"size\":10,\"solidity\":0.2}},\"type\":\"histogram\"}],\"scattergl\":[{\"marker\":{\"line\":{\"color\":\"#283442\"}},\"type\":\"scattergl\"}],\"scatter3d\":[{\"type\":\"scatter3d\",\"line\":{\"colorbar\":{\"outlinewidth\":0,\"ticks\":\"\"}},\"marker\":{\"colorbar\":{\"outlinewidth\":0,\"ticks\":\"\"}}}],\"scattermapbox\":[{\"type\":\"scattermapbox\",\"marker\":{\"colorbar\":{\"outlinewidth\":0,\"ticks\":\"\"}}}],\"scatterternary\":[{\"type\":\"scatterternary\",\"marker\":{\"colorbar\":{\"outlinewidth\":0,\"ticks\":\"\"}}}],\"scattercarpet\":[{\"type\":\"scattercarpet\",\"marker\":{\"colorbar\":{\"outlinewidth\":0,\"ticks\":\"\"}}}],\"carpet\":[{\"aaxis\":{\"endlinecolor\":\"#A2B1C6\",\"gridcolor\":\"#506784\",\"linecolor\":\"#506784\",\"minorgridcolor\":\"#506784\",\"startlinecolor\":\"#A2B1C6\"},\"baxis\":{\"endlinecolor\":\"#A2B1C6\",\"gridcolor\":\"#506784\",\"linecolor\":\"#506784\",\"minorgridcolor\":\"#506784\",\"startlinecolor\":\"#A2B1C6\"},\"type\":\"carpet\"}],\"table\":[{\"cells\":{\"fill\":{\"color\":\"#506784\"},\"line\":{\"color\":\"rgb(17,17,17)\"}},\"header\":{\"fill\":{\"color\":\"#2a3f5f\"},\"line\":{\"color\":\"rgb(17,17,17)\"}},\"type\":\"table\"}],\"barpolar\":[{\"marker\":{\"line\":{\"color\":\"rgb(17,17,17)\",\"width\":0.5},\"pattern\":{\"fillmode\":\"overlay\",\"size\":10,\"solidity\":0.2}},\"type\":\"barpolar\"}],\"pie\":[{\"automargin\":true,\"type\":\"pie\"}]},\"layout\":{\"autotypenumbers\":\"strict\",\"colorway\":[\"#636efa\",\"#EF553B\",\"#00cc96\",\"#ab63fa\",\"#FFA15A\",\"#19d3f3\",\"#FF6692\",\"#B6E880\",\"#FF97FF\",\"#FECB52\"],\"font\":{\"color\":\"#f2f5fa\"},\"hovermode\":\"closest\",\"hoverlabel\":{\"align\":\"left\"},\"paper_bgcolor\":\"rgb(17,17,17)\",\"plot_bgcolor\":\"rgb(17,17,17)\",\"polar\":{\"bgcolor\":\"rgb(17,17,17)\",\"angularaxis\":{\"gridcolor\":\"#506784\",\"linecolor\":\"#506784\",\"ticks\":\"\"},\"radialaxis\":{\"gridcolor\":\"#506784\",\"linecolor\":\"#506784\",\"ticks\":\"\"}},\"ternary\":{\"bgcolor\":\"rgb(17,17,17)\",\"aaxis\":{\"gridcolor\":\"#506784\",\"linecolor\":\"#506784\",\"ticks\":\"\"},\"baxis\":{\"gridcolor\":\"#506784\",\"linecolor\":\"#506784\",\"ticks\":\"\"},\"caxis\":{\"gridcolor\":\"#506784\",\"linecolor\":\"#506784\",\"ticks\":\"\"}},\"coloraxis\":{\"colorbar\":{\"outlinewidth\":0,\"ticks\":\"\"}},\"colorscale\":{\"sequential\":[[0.0,\"#0d0887\"],[0.1111111111111111,\"#46039f\"],[0.2222222222222222,\"#7201a8\"],[0.3333333333333333,\"#9c179e\"],[0.4444444444444444,\"#bd3786\"],[0.5555555555555556,\"#d8576b\"],[0.6666666666666666,\"#ed7953\"],[0.7777777777777778,\"#fb9f3a\"],[0.8888888888888888,\"#fdca26\"],[1.0,\"#f0f921\"]],\"sequentialminus\":[[0.0,\"#0d0887\"],[0.1111111111111111,\"#46039f\"],[0.2222222222222222,\"#7201a8\"],[0.3333333333333333,\"#9c179e\"],[0.4444444444444444,\"#bd3786\"],[0.5555555555555556,\"#d8576b\"],[0.6666666666666666,\"#ed7953\"],[0.7777777777777778,\"#fb9f3a\"],[0.8888888888888888,\"#fdca26\"],[1.0,\"#f0f921\"]],\"diverging\":[[0,\"#8e0152\"],[0.1,\"#c51b7d\"],[0.2,\"#de77ae\"],[0.3,\"#f1b6da\"],[0.4,\"#fde0ef\"],[0.5,\"#f7f7f7\"],[0.6,\"#e6f5d0\"],[0.7,\"#b8e186\"],[0.8,\"#7fbc41\"],[0.9,\"#4d9221\"],[1,\"#276419\"]]},\"xaxis\":{\"gridcolor\":\"#283442\",\"linecolor\":\"#506784\",\"ticks\":\"\",\"title\":{\"standoff\":15},\"zerolinecolor\":\"#283442\",\"automargin\":true,\"zerolinewidth\":2},\"yaxis\":{\"gridcolor\":\"#283442\",\"linecolor\":\"#506784\",\"ticks\":\"\",\"title\":{\"standoff\":15},\"zerolinecolor\":\"#283442\",\"automargin\":true,\"zerolinewidth\":2},\"scene\":{\"xaxis\":{\"backgroundcolor\":\"rgb(17,17,17)\",\"gridcolor\":\"#506784\",\"linecolor\":\"#506784\",\"showbackground\":true,\"ticks\":\"\",\"zerolinecolor\":\"#C8D4E3\",\"gridwidth\":2},\"yaxis\":{\"backgroundcolor\":\"rgb(17,17,17)\",\"gridcolor\":\"#506784\",\"linecolor\":\"#506784\",\"showbackground\":true,\"ticks\":\"\",\"zerolinecolor\":\"#C8D4E3\",\"gridwidth\":2},\"zaxis\":{\"backgroundcolor\":\"rgb(17,17,17)\",\"gridcolor\":\"#506784\",\"linecolor\":\"#506784\",\"showbackground\":true,\"ticks\":\"\",\"zerolinecolor\":\"#C8D4E3\",\"gridwidth\":2}},\"shapedefaults\":{\"line\":{\"color\":\"#f2f5fa\"}},\"annotationdefaults\":{\"arrowcolor\":\"#f2f5fa\",\"arrowhead\":0,\"arrowwidth\":1},\"geo\":{\"bgcolor\":\"rgb(17,17,17)\",\"landcolor\":\"rgb(17,17,17)\",\"subunitcolor\":\"#506784\",\"showland\":true,\"showlakes\":true,\"lakecolor\":\"rgb(17,17,17)\"},\"title\":{\"x\":0.05},\"updatemenudefaults\":{\"bgcolor\":\"#506784\",\"borderwidth\":0},\"sliderdefaults\":{\"bgcolor\":\"#C8D4E3\",\"borderwidth\":1,\"bordercolor\":\"rgb(17,17,17)\",\"tickwidth\":0},\"mapbox\":{\"style\":\"dark\"}}},\"yaxis\":{\"tickformat\":\".2%\"},\"title\":{\"text\":\"Retorno del precio del primer trade contra el segundo | Cantidad de pares= 862\"}},                        {\"responsive\": true}                    ).then(function(){\n                            \nvar gd = document.getElementById('2ae52ee9-882f-40db-b4b4-62261a5dc4ea');\nvar x = new MutationObserver(function (mutations, observer) {{\n        var display = window.getComputedStyle(gd).display;\n        if (!display || display === 'none') {{\n            console.log([gd, 'removed!']);\n            Plotly.purge(gd);\n            observer.disconnect();\n        }}\n}});\n\n// Listen for the removal of the full notebook cells\nvar notebookContainer = gd.closest('#notebook-container');\nif (notebookContainer) {{\n    x.observe(notebookContainer, {childList: true});\n}}\n\n// Listen for the clearing of the current output cell\nvar outputEl = gd.closest('.output');\nif (outputEl) {{\n    x.observe(outputEl, {childList: true});\n}}\n\n                        })                };                });            </script>        </div>"
     },
     "metadata": {},
     "output_type": "display_data"
    }
   ],
   "source": [
    "fig = go.Figure()\n",
    "fig.add_trace(\n",
    "    go.Bar(y=rets['ret_first_second'], x=rets['pair'])\n",
    ")\n",
    "fig.update_layout(title=\"Retorno del precio del primer trade contra el segundo | Cantidad de pares= \" + str(len(rets['pair'])) , yaxis_tickformat=\".2%\")\n",
    "fig.show()\n",
    "# fig = go.Figure()\n",
    "# fig.add_trace(\n",
    "#     go.Histogram(x=rets['ret_first_second'], y=rets['pair'], xbins=dict(\n",
    "#         start=-1, end=2, size=0.1\n",
    "#     ))\n",
    "# )\n",
    "# fig.update_layout(yaxis_title=\"Cantidad\", xaxis_title=\"Retorno=(precio_segundo_trade-precio_primer_trade)/precio_primer_trade\", title=\"Retorno del precio del primer trade contra el segundo | Cantidad de pares= \" + str(len(rets['pair'])))\n",
    "# fig.show()"
   ],
   "metadata": {
    "collapsed": false,
    "pycharm": {
     "name": "#%%\n"
    }
   }
  },
  {
   "cell_type": "code",
   "execution_count": 81,
   "outputs": [],
   "source": [],
   "metadata": {
    "collapsed": false,
    "pycharm": {
     "name": "#%%\n"
    }
   }
  }
 ],
 "metadata": {
  "kernelspec": {
   "display_name": "Python 3",
   "language": "python",
   "name": "python3"
  },
  "language_info": {
   "codemirror_mode": {
    "name": "ipython",
    "version": 2
   },
   "file_extension": ".py",
   "mimetype": "text/x-python",
   "name": "python",
   "nbconvert_exporter": "python",
   "pygments_lexer": "ipython2",
   "version": "2.7.6"
  }
 },
 "nbformat": 4,
 "nbformat_minor": 0
}