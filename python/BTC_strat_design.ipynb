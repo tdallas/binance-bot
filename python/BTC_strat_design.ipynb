{
 "cells": [
  {
   "cell_type": "code",
   "execution_count": 167,
   "outputs": [],
   "source": [
    "import math\n",
    "\n",
    "import pandas as pd\n",
    "from neupy import algorithms\n",
    "import numpy as np\n",
    "import json\n",
    "from tqdm import tqdm\n",
    "from datetime import datetime\n",
    "import plotly.graph_objects as go\n",
    "from plotly.subplots import make_subplots\n",
    "import plotly.express as px\n",
    "from sklearn.metrics import mean_squared_error, mean_absolute_percentage_error\n",
    "from numpy import sqrt\n",
    "import math"
   ],
   "metadata": {
    "collapsed": false,
    "pycharm": {
     "name": "#%%\n"
    }
   }
  },
  {
   "cell_type": "code",
   "execution_count": 168,
   "metadata": {
    "pycharm": {
     "name": "#%%\n"
    }
   },
   "outputs": [],
   "source": [
    "def ret(n, n_1):\n",
    "    return (n_1 - n) / n\n",
    "\n",
    "\n",
    "NDTR = 2\n",
    "std = 0.0003\n",
    "\n",
    "# prices every 15 seconds\n",
    "# df = pd.read_csv(\"prices.csv\")\n",
    "f = open(\"BTC_USDT-1m.json\")\n",
    "df = pd.DataFrame.from_records(json.load(f), columns=['timestamp', 'open', 'high', 'low', 'close', 'vol'])\n",
    "# df.columns = ['price']\n",
    "df['ret_c'] = (df['close'] - df['close'].shift(1)) / df['close'].shift(1)\n",
    "df['ret_o'] = (df['open'] - df['open'].shift(1)) / df['open'].shift(1)\n",
    "df['ret'] = (df['close'].shift(-1) - df['close']) / df['close']\n",
    "df = df.iloc[1:NDTR + 1001]"
   ]
  },
  {
   "cell_type": "code",
   "execution_count": 169,
   "outputs": [
    {
     "data": {
      "text/plain": "          timestamp      open      high       low     close       vol  \\\n1     1643760060000  38724.92  38786.36  38714.47  38763.09  14.60847   \n2     1643760120000  38763.08  38768.18  38715.64  38746.91  28.64245   \n3     1643760180000  38746.90  38754.50  38725.00  38728.05  15.48239   \n4     1643760240000  38728.05  38728.05  38714.00  38720.95  11.37676   \n5     1643760300000  38720.95  38730.46  38675.93  38675.95  15.71739   \n...             ...       ...       ...       ...       ...       ...   \n998   1643819880000  37196.08  37196.09  37121.33  37122.28  28.10698   \n999   1643819940000  37122.28  37140.49  37100.00  37135.05  42.44593   \n1000  1643820000000  37135.05  37173.99  37126.04  37173.98  16.25093   \n1001  1643820060000  37173.98  37199.99  37171.27  37180.97  19.89329   \n1002  1643820120000  37180.97  37196.65  37150.74  37182.65  13.01259   \n\n         ret_c     ret_o       ret  \n1     0.001051  0.000784 -0.000417  \n2    -0.000417  0.000985 -0.000487  \n3    -0.000487 -0.000417 -0.000183  \n4    -0.000183 -0.000486 -0.001162  \n5    -0.001162 -0.000183 -0.001328  \n...        ...       ...       ...  \n998  -0.001984  0.000513  0.000344  \n999   0.000344 -0.001984  0.001048  \n1000  0.001048  0.000344  0.000188  \n1001  0.000188  0.001048  0.000045  \n1002  0.000045  0.000188  0.000235  \n\n[1002 rows x 9 columns]",
      "text/html": "<div>\n<style scoped>\n    .dataframe tbody tr th:only-of-type {\n        vertical-align: middle;\n    }\n\n    .dataframe tbody tr th {\n        vertical-align: top;\n    }\n\n    .dataframe thead th {\n        text-align: right;\n    }\n</style>\n<table border=\"1\" class=\"dataframe\">\n  <thead>\n    <tr style=\"text-align: right;\">\n      <th></th>\n      <th>timestamp</th>\n      <th>open</th>\n      <th>high</th>\n      <th>low</th>\n      <th>close</th>\n      <th>vol</th>\n      <th>ret_c</th>\n      <th>ret_o</th>\n      <th>ret</th>\n    </tr>\n  </thead>\n  <tbody>\n    <tr>\n      <th>1</th>\n      <td>1643760060000</td>\n      <td>38724.92</td>\n      <td>38786.36</td>\n      <td>38714.47</td>\n      <td>38763.09</td>\n      <td>14.60847</td>\n      <td>0.001051</td>\n      <td>0.000784</td>\n      <td>-0.000417</td>\n    </tr>\n    <tr>\n      <th>2</th>\n      <td>1643760120000</td>\n      <td>38763.08</td>\n      <td>38768.18</td>\n      <td>38715.64</td>\n      <td>38746.91</td>\n      <td>28.64245</td>\n      <td>-0.000417</td>\n      <td>0.000985</td>\n      <td>-0.000487</td>\n    </tr>\n    <tr>\n      <th>3</th>\n      <td>1643760180000</td>\n      <td>38746.90</td>\n      <td>38754.50</td>\n      <td>38725.00</td>\n      <td>38728.05</td>\n      <td>15.48239</td>\n      <td>-0.000487</td>\n      <td>-0.000417</td>\n      <td>-0.000183</td>\n    </tr>\n    <tr>\n      <th>4</th>\n      <td>1643760240000</td>\n      <td>38728.05</td>\n      <td>38728.05</td>\n      <td>38714.00</td>\n      <td>38720.95</td>\n      <td>11.37676</td>\n      <td>-0.000183</td>\n      <td>-0.000486</td>\n      <td>-0.001162</td>\n    </tr>\n    <tr>\n      <th>5</th>\n      <td>1643760300000</td>\n      <td>38720.95</td>\n      <td>38730.46</td>\n      <td>38675.93</td>\n      <td>38675.95</td>\n      <td>15.71739</td>\n      <td>-0.001162</td>\n      <td>-0.000183</td>\n      <td>-0.001328</td>\n    </tr>\n    <tr>\n      <th>...</th>\n      <td>...</td>\n      <td>...</td>\n      <td>...</td>\n      <td>...</td>\n      <td>...</td>\n      <td>...</td>\n      <td>...</td>\n      <td>...</td>\n      <td>...</td>\n    </tr>\n    <tr>\n      <th>998</th>\n      <td>1643819880000</td>\n      <td>37196.08</td>\n      <td>37196.09</td>\n      <td>37121.33</td>\n      <td>37122.28</td>\n      <td>28.10698</td>\n      <td>-0.001984</td>\n      <td>0.000513</td>\n      <td>0.000344</td>\n    </tr>\n    <tr>\n      <th>999</th>\n      <td>1643819940000</td>\n      <td>37122.28</td>\n      <td>37140.49</td>\n      <td>37100.00</td>\n      <td>37135.05</td>\n      <td>42.44593</td>\n      <td>0.000344</td>\n      <td>-0.001984</td>\n      <td>0.001048</td>\n    </tr>\n    <tr>\n      <th>1000</th>\n      <td>1643820000000</td>\n      <td>37135.05</td>\n      <td>37173.99</td>\n      <td>37126.04</td>\n      <td>37173.98</td>\n      <td>16.25093</td>\n      <td>0.001048</td>\n      <td>0.000344</td>\n      <td>0.000188</td>\n    </tr>\n    <tr>\n      <th>1001</th>\n      <td>1643820060000</td>\n      <td>37173.98</td>\n      <td>37199.99</td>\n      <td>37171.27</td>\n      <td>37180.97</td>\n      <td>19.89329</td>\n      <td>0.000188</td>\n      <td>0.001048</td>\n      <td>0.000045</td>\n    </tr>\n    <tr>\n      <th>1002</th>\n      <td>1643820120000</td>\n      <td>37180.97</td>\n      <td>37196.65</td>\n      <td>37150.74</td>\n      <td>37182.65</td>\n      <td>13.01259</td>\n      <td>0.000045</td>\n      <td>0.000188</td>\n      <td>0.000235</td>\n    </tr>\n  </tbody>\n</table>\n<p>1002 rows × 9 columns</p>\n</div>"
     },
     "execution_count": 169,
     "metadata": {},
     "output_type": "execute_result"
    }
   ],
   "source": [
    "df"
   ],
   "metadata": {
    "collapsed": false,
    "pycharm": {
     "name": "#%%\n"
    }
   }
  },
  {
   "cell_type": "code",
   "execution_count": 170,
   "outputs": [],
   "source": [
    "predictions = [0] * NDTR\n",
    "for i in np.arange(NDTR, NDTR + 1000):\n",
    "    small_df = df.iloc[i: i + NDTR + 1].copy(deep=True)[['ret_c', 'ret_o', 'ret']].reset_index(drop=True)\n",
    "    x_train = small_df.iloc[0:NDTR][['ret_c', 'ret_o']].values\n",
    "    y_train = small_df['ret'].iloc[0:NDTR].values\n",
    "    grnn = algorithms.GRNN(std=std, verbose=False)\n",
    "    grnn.train(x_train, y_train)\n",
    "    if len(small_df) > NDTR:\n",
    "        x_predict = small_df.iloc[NDTR][['ret_c', 'ret_o']].values\n",
    "        prediction = grnn.predict([x_predict])\n",
    "        if math.isnan(prediction):\n",
    "            prediction = 0\n",
    "        else:\n",
    "            prediction = prediction[0][0]\n",
    "        predictions.append(prediction)\n",
    "    else:\n",
    "        predictions.append(0)\n",
    "\n",
    "df['ret_p'] = predictions"
   ],
   "metadata": {
    "collapsed": false,
    "pycharm": {
     "name": "#%%\n"
    }
   }
  },
  {
   "cell_type": "code",
   "execution_count": 171,
   "outputs": [
    {
     "data": {
      "text/plain": "          timestamp      open      high       low     close       vol  \\\n1     1643760060000  38724.92  38786.36  38714.47  38763.09  14.60847   \n2     1643760120000  38763.08  38768.18  38715.64  38746.91  28.64245   \n3     1643760180000  38746.90  38754.50  38725.00  38728.05  15.48239   \n4     1643760240000  38728.05  38728.05  38714.00  38720.95  11.37676   \n5     1643760300000  38720.95  38730.46  38675.93  38675.95  15.71739   \n...             ...       ...       ...       ...       ...       ...   \n998   1643819880000  37196.08  37196.09  37121.33  37122.28  28.10698   \n999   1643819940000  37122.28  37140.49  37100.00  37135.05  42.44593   \n1000  1643820000000  37135.05  37173.99  37126.04  37173.98  16.25093   \n1001  1643820060000  37173.98  37199.99  37171.27  37180.97  19.89329   \n1002  1643820120000  37180.97  37196.65  37150.74  37182.65  13.01259   \n\n         ret_c     ret_o       ret     ret_p  \n1     0.001051  0.000784 -0.000417  0.000000  \n2    -0.000417  0.000985 -0.000487  0.000000  \n3    -0.000487 -0.000417 -0.000183 -0.000186  \n4    -0.000183 -0.000486 -0.001162 -0.001328  \n5    -0.001162 -0.000183 -0.001328  0.000776  \n...        ...       ...       ...       ...  \n998  -0.001984  0.000513  0.000344  0.001048  \n999   0.000344 -0.001984  0.001048  0.000188  \n1000  0.001048  0.000344  0.000188  0.000052  \n1001  0.000188  0.001048  0.000045  0.000000  \n1002  0.000045  0.000188  0.000235  0.000000  \n\n[1002 rows x 10 columns]",
      "text/html": "<div>\n<style scoped>\n    .dataframe tbody tr th:only-of-type {\n        vertical-align: middle;\n    }\n\n    .dataframe tbody tr th {\n        vertical-align: top;\n    }\n\n    .dataframe thead th {\n        text-align: right;\n    }\n</style>\n<table border=\"1\" class=\"dataframe\">\n  <thead>\n    <tr style=\"text-align: right;\">\n      <th></th>\n      <th>timestamp</th>\n      <th>open</th>\n      <th>high</th>\n      <th>low</th>\n      <th>close</th>\n      <th>vol</th>\n      <th>ret_c</th>\n      <th>ret_o</th>\n      <th>ret</th>\n      <th>ret_p</th>\n    </tr>\n  </thead>\n  <tbody>\n    <tr>\n      <th>1</th>\n      <td>1643760060000</td>\n      <td>38724.92</td>\n      <td>38786.36</td>\n      <td>38714.47</td>\n      <td>38763.09</td>\n      <td>14.60847</td>\n      <td>0.001051</td>\n      <td>0.000784</td>\n      <td>-0.000417</td>\n      <td>0.000000</td>\n    </tr>\n    <tr>\n      <th>2</th>\n      <td>1643760120000</td>\n      <td>38763.08</td>\n      <td>38768.18</td>\n      <td>38715.64</td>\n      <td>38746.91</td>\n      <td>28.64245</td>\n      <td>-0.000417</td>\n      <td>0.000985</td>\n      <td>-0.000487</td>\n      <td>0.000000</td>\n    </tr>\n    <tr>\n      <th>3</th>\n      <td>1643760180000</td>\n      <td>38746.90</td>\n      <td>38754.50</td>\n      <td>38725.00</td>\n      <td>38728.05</td>\n      <td>15.48239</td>\n      <td>-0.000487</td>\n      <td>-0.000417</td>\n      <td>-0.000183</td>\n      <td>-0.000186</td>\n    </tr>\n    <tr>\n      <th>4</th>\n      <td>1643760240000</td>\n      <td>38728.05</td>\n      <td>38728.05</td>\n      <td>38714.00</td>\n      <td>38720.95</td>\n      <td>11.37676</td>\n      <td>-0.000183</td>\n      <td>-0.000486</td>\n      <td>-0.001162</td>\n      <td>-0.001328</td>\n    </tr>\n    <tr>\n      <th>5</th>\n      <td>1643760300000</td>\n      <td>38720.95</td>\n      <td>38730.46</td>\n      <td>38675.93</td>\n      <td>38675.95</td>\n      <td>15.71739</td>\n      <td>-0.001162</td>\n      <td>-0.000183</td>\n      <td>-0.001328</td>\n      <td>0.000776</td>\n    </tr>\n    <tr>\n      <th>...</th>\n      <td>...</td>\n      <td>...</td>\n      <td>...</td>\n      <td>...</td>\n      <td>...</td>\n      <td>...</td>\n      <td>...</td>\n      <td>...</td>\n      <td>...</td>\n      <td>...</td>\n    </tr>\n    <tr>\n      <th>998</th>\n      <td>1643819880000</td>\n      <td>37196.08</td>\n      <td>37196.09</td>\n      <td>37121.33</td>\n      <td>37122.28</td>\n      <td>28.10698</td>\n      <td>-0.001984</td>\n      <td>0.000513</td>\n      <td>0.000344</td>\n      <td>0.001048</td>\n    </tr>\n    <tr>\n      <th>999</th>\n      <td>1643819940000</td>\n      <td>37122.28</td>\n      <td>37140.49</td>\n      <td>37100.00</td>\n      <td>37135.05</td>\n      <td>42.44593</td>\n      <td>0.000344</td>\n      <td>-0.001984</td>\n      <td>0.001048</td>\n      <td>0.000188</td>\n    </tr>\n    <tr>\n      <th>1000</th>\n      <td>1643820000000</td>\n      <td>37135.05</td>\n      <td>37173.99</td>\n      <td>37126.04</td>\n      <td>37173.98</td>\n      <td>16.25093</td>\n      <td>0.001048</td>\n      <td>0.000344</td>\n      <td>0.000188</td>\n      <td>0.000052</td>\n    </tr>\n    <tr>\n      <th>1001</th>\n      <td>1643820060000</td>\n      <td>37173.98</td>\n      <td>37199.99</td>\n      <td>37171.27</td>\n      <td>37180.97</td>\n      <td>19.89329</td>\n      <td>0.000188</td>\n      <td>0.001048</td>\n      <td>0.000045</td>\n      <td>0.000000</td>\n    </tr>\n    <tr>\n      <th>1002</th>\n      <td>1643820120000</td>\n      <td>37180.97</td>\n      <td>37196.65</td>\n      <td>37150.74</td>\n      <td>37182.65</td>\n      <td>13.01259</td>\n      <td>0.000045</td>\n      <td>0.000188</td>\n      <td>0.000235</td>\n      <td>0.000000</td>\n    </tr>\n  </tbody>\n</table>\n<p>1002 rows × 10 columns</p>\n</div>"
     },
     "execution_count": 171,
     "metadata": {},
     "output_type": "execute_result"
    }
   ],
   "source": [
    "df"
   ],
   "metadata": {
    "collapsed": false,
    "pycharm": {
     "name": "#%%\n"
    }
   }
  },
  {
   "cell_type": "code",
   "execution_count": 172,
   "outputs": [],
   "source": [
    "# copy_df = df.groupby(df.index // 6)['ret'].sum()\n",
    "# negatives = list(filter(lambda x: x < 0, copy_df.values))\n",
    "# positives = list(filter(lambda x: x > 0, copy_df.values))\n",
    "#\n",
    "# fig = make_subplots()\n",
    "# fig.add_trace(go.Scatter(x=[*range(len(copy_df))], y=copy_df.values, mode='lines+markers'))\n",
    "# fig.add_trace(go.Scatter(x=[*range(len(copy_df))], y=[np.array(negatives).mean()] * len(copy_df), name=\"Average of negatives\"))\n",
    "# fig.add_trace(go.Scatter(x=[*range(len(copy_df))], y=[np.array(positives).mean()] * len(copy_df), name=\"Average of positives\"))\n",
    "#\n",
    "# fig.show()"
   ],
   "metadata": {
    "collapsed": false,
    "pycharm": {
     "name": "#%%\n"
    }
   }
  },
  {
   "cell_type": "code",
   "execution_count": 173,
   "outputs": [],
   "source": [
    "buy_top_thr = 0\n",
    "buy_bot_thr = -0.001\n",
    "sell_top_thr = 0.001\n",
    "sell_bot_thr = 0"
   ],
   "metadata": {
    "collapsed": false,
    "pycharm": {
     "name": "#%%\n"
    }
   }
  },
  {
   "cell_type": "code",
   "execution_count": 174,
   "outputs": [],
   "source": [
    "# # buys\n",
    "CANDLES_TO_LOOK = 6\n",
    "\n",
    "buys = [0] * (NDTR + CANDLES_TO_LOOK)\n",
    "sells = [0] * (NDTR + CANDLES_TO_LOOK)\n",
    "timeout = 0\n",
    "for i in np.arange(NDTR + CANDLES_TO_LOOK, NDTR + 1000):\n",
    "    small_df = df.iloc[i + (NDTR - CANDLES_TO_LOOK): i + (NDTR + 1)].copy(deep=True).reset_index(\n",
    "        drop=True)  # me traigo ultimas CANDLES_TO_LOOK velas + actual\n",
    "    ret_sum = small_df.iloc[:CANDLES_TO_LOOK]['ret'].sum()  # ultimas CANDLES_TO_LOOK velas\n",
    "    if len(small_df) > CANDLES_TO_LOOK:\n",
    "        actual = small_df['ret_p'].iloc[3]\n",
    "    else:\n",
    "        actual = 0\n",
    "\n",
    "    if timeout == 10:\n",
    "        timeout = 0\n",
    "    elif timeout != 0:\n",
    "        timeout += 1\n",
    "\n",
    "    if ret_sum < buy_bot_thr and actual > buy_top_thr and timeout == 0:\n",
    "        buys.append(1)\n",
    "        timeout = 1\n",
    "    else:\n",
    "        buys.append(0)\n",
    "\n",
    "    if ret_sum > sell_top_thr and actual < sell_bot_thr:\n",
    "        sells.append(1)\n",
    "        timeout=1\n",
    "    else:\n",
    "        sells.append(0)\n",
    "\n",
    "df['buy'] = buys\n",
    "df['sell'] = sells\n",
    "#\n",
    "# print('buys=', len(df[df['buy'] == 1]))\n",
    "# print('sells=', len(df[df['sell'] == 1]))\n",
    "#\n",
    "# fig = make_subplots()\n",
    "# fig.add_trace(go.Scatter(x=df['timestamp'].apply(lambda x: datetime.fromtimestamp(x / 1000)), y=df['close'],\n",
    "#                          name=\"Close price in time\"))\n",
    "# fig.add_trace(go.Scatter(x=df[df['buy'] == 1]['timestamp'].apply(lambda x: datetime.fromtimestamp(x / 1000)),\n",
    "#                          y=df[df['buy'] == 1]['close'], name=\"Buys\", mode=\"markers\"))\n",
    "# fig.add_trace(go.Scatter(x=df[df['sell'] == 1]['timestamp'].apply(lambda x: datetime.fromtimestamp(x / 1000)),\n",
    "#                          y=df[df['sell'] == 1]['close'], name=\"Sells\", mode=\"markers\"))\n",
    "# fig.update_layout(title=\"Probable buys and sells for NDTR=\" + str(NDTR) + \" and std=\" + str(std))\n",
    "# fig.show()"
   ],
   "metadata": {
    "collapsed": false,
    "pycharm": {
     "name": "#%%\n"
    }
   }
  },
  {
   "cell_type": "code",
   "execution_count": 175,
   "outputs": [
    {
     "data": {
      "application/vnd.plotly.v1+json": {
       "data": [
        {
         "mode": "lines+markers",
         "x": [
          "2022-02-01T21:44:00",
          "2022-02-01T22:08:00",
          "2022-02-01T22:48:00",
          "2022-02-01T23:09:00",
          "2022-02-01T23:12:00",
          "2022-02-01T23:37:00",
          "2022-02-02T01:18:00",
          "2022-02-02T01:22:00",
          "2022-02-02T01:23:00",
          "2022-02-02T01:36:00",
          "2022-02-02T01:55:00",
          "2022-02-02T02:05:00",
          "2022-02-02T03:06:00",
          "2022-02-02T03:30:00",
          "2022-02-02T04:13:00",
          "2022-02-02T04:24:00",
          "2022-02-02T04:53:00",
          "2022-02-02T05:04:00",
          "2022-02-02T05:51:00",
          "2022-02-02T06:22:00",
          "2022-02-02T07:29:00",
          "2022-02-02T07:45:00",
          "2022-02-02T09:57:00",
          "2022-02-02T10:27:00",
          "2022-02-02T10:29:00",
          "2022-02-02T10:38:00",
          "2022-02-02T11:02:00",
          "2022-02-02T11:26:00",
          "2022-02-02T11:37:00",
          "2022-02-02T11:52:00",
          "2022-02-02T12:25:00",
          "2022-02-02T12:41:00",
          "2022-02-02T12:43:00",
          "2022-02-02T13:21:00",
          "2022-02-02T13:22:00",
          "2022-02-02T13:24:00"
         ],
         "y": [
          -0.006567664046464426,
          -0.006673751993890306,
          -0.013003353884828185,
          -0.01073841872787698,
          -0.0072808007188900166,
          -0.007267589765611077,
          -0.012726129330841676,
          -0.016224241023490158,
          -0.01769131765541831,
          -0.015629614283218646,
          -0.013849349919030661,
          -0.014537545239769934,
          -0.017527374058635636,
          -0.015050120438004182,
          -0.015299529721508123,
          -0.012010586181138726,
          -0.011517613785238023,
          -0.009704095117593065,
          -0.009102924111554564,
          -0.008211297129141893,
          -0.008718942301776228,
          -0.010055454619562636,
          -0.007306397251614782,
          -0.010080112125126276,
          -0.014354524212563955,
          -0.016098282890872683,
          -0.018896346405433896,
          -0.021221253772405965,
          -0.033279189845427146,
          -0.0339525044011481,
          -0.03827949760147389,
          -0.041402110610420706,
          -0.04414464757672509,
          -0.05073018000018824,
          -0.055906008453556554,
          -0.055960466385206915
         ],
         "type": "scatter"
        }
       ],
       "layout": {
        "template": {
         "data": {
          "histogram2dcontour": [
           {
            "type": "histogram2dcontour",
            "colorbar": {
             "outlinewidth": 0,
             "ticks": ""
            },
            "colorscale": [
             [
              0.0,
              "#0d0887"
             ],
             [
              0.1111111111111111,
              "#46039f"
             ],
             [
              0.2222222222222222,
              "#7201a8"
             ],
             [
              0.3333333333333333,
              "#9c179e"
             ],
             [
              0.4444444444444444,
              "#bd3786"
             ],
             [
              0.5555555555555556,
              "#d8576b"
             ],
             [
              0.6666666666666666,
              "#ed7953"
             ],
             [
              0.7777777777777778,
              "#fb9f3a"
             ],
             [
              0.8888888888888888,
              "#fdca26"
             ],
             [
              1.0,
              "#f0f921"
             ]
            ]
           }
          ],
          "choropleth": [
           {
            "type": "choropleth",
            "colorbar": {
             "outlinewidth": 0,
             "ticks": ""
            }
           }
          ],
          "histogram2d": [
           {
            "type": "histogram2d",
            "colorbar": {
             "outlinewidth": 0,
             "ticks": ""
            },
            "colorscale": [
             [
              0.0,
              "#0d0887"
             ],
             [
              0.1111111111111111,
              "#46039f"
             ],
             [
              0.2222222222222222,
              "#7201a8"
             ],
             [
              0.3333333333333333,
              "#9c179e"
             ],
             [
              0.4444444444444444,
              "#bd3786"
             ],
             [
              0.5555555555555556,
              "#d8576b"
             ],
             [
              0.6666666666666666,
              "#ed7953"
             ],
             [
              0.7777777777777778,
              "#fb9f3a"
             ],
             [
              0.8888888888888888,
              "#fdca26"
             ],
             [
              1.0,
              "#f0f921"
             ]
            ]
           }
          ],
          "heatmap": [
           {
            "type": "heatmap",
            "colorbar": {
             "outlinewidth": 0,
             "ticks": ""
            },
            "colorscale": [
             [
              0.0,
              "#0d0887"
             ],
             [
              0.1111111111111111,
              "#46039f"
             ],
             [
              0.2222222222222222,
              "#7201a8"
             ],
             [
              0.3333333333333333,
              "#9c179e"
             ],
             [
              0.4444444444444444,
              "#bd3786"
             ],
             [
              0.5555555555555556,
              "#d8576b"
             ],
             [
              0.6666666666666666,
              "#ed7953"
             ],
             [
              0.7777777777777778,
              "#fb9f3a"
             ],
             [
              0.8888888888888888,
              "#fdca26"
             ],
             [
              1.0,
              "#f0f921"
             ]
            ]
           }
          ],
          "heatmapgl": [
           {
            "type": "heatmapgl",
            "colorbar": {
             "outlinewidth": 0,
             "ticks": ""
            },
            "colorscale": [
             [
              0.0,
              "#0d0887"
             ],
             [
              0.1111111111111111,
              "#46039f"
             ],
             [
              0.2222222222222222,
              "#7201a8"
             ],
             [
              0.3333333333333333,
              "#9c179e"
             ],
             [
              0.4444444444444444,
              "#bd3786"
             ],
             [
              0.5555555555555556,
              "#d8576b"
             ],
             [
              0.6666666666666666,
              "#ed7953"
             ],
             [
              0.7777777777777778,
              "#fb9f3a"
             ],
             [
              0.8888888888888888,
              "#fdca26"
             ],
             [
              1.0,
              "#f0f921"
             ]
            ]
           }
          ],
          "contourcarpet": [
           {
            "type": "contourcarpet",
            "colorbar": {
             "outlinewidth": 0,
             "ticks": ""
            }
           }
          ],
          "contour": [
           {
            "type": "contour",
            "colorbar": {
             "outlinewidth": 0,
             "ticks": ""
            },
            "colorscale": [
             [
              0.0,
              "#0d0887"
             ],
             [
              0.1111111111111111,
              "#46039f"
             ],
             [
              0.2222222222222222,
              "#7201a8"
             ],
             [
              0.3333333333333333,
              "#9c179e"
             ],
             [
              0.4444444444444444,
              "#bd3786"
             ],
             [
              0.5555555555555556,
              "#d8576b"
             ],
             [
              0.6666666666666666,
              "#ed7953"
             ],
             [
              0.7777777777777778,
              "#fb9f3a"
             ],
             [
              0.8888888888888888,
              "#fdca26"
             ],
             [
              1.0,
              "#f0f921"
             ]
            ]
           }
          ],
          "surface": [
           {
            "type": "surface",
            "colorbar": {
             "outlinewidth": 0,
             "ticks": ""
            },
            "colorscale": [
             [
              0.0,
              "#0d0887"
             ],
             [
              0.1111111111111111,
              "#46039f"
             ],
             [
              0.2222222222222222,
              "#7201a8"
             ],
             [
              0.3333333333333333,
              "#9c179e"
             ],
             [
              0.4444444444444444,
              "#bd3786"
             ],
             [
              0.5555555555555556,
              "#d8576b"
             ],
             [
              0.6666666666666666,
              "#ed7953"
             ],
             [
              0.7777777777777778,
              "#fb9f3a"
             ],
             [
              0.8888888888888888,
              "#fdca26"
             ],
             [
              1.0,
              "#f0f921"
             ]
            ]
           }
          ],
          "mesh3d": [
           {
            "type": "mesh3d",
            "colorbar": {
             "outlinewidth": 0,
             "ticks": ""
            }
           }
          ],
          "scatter": [
           {
            "marker": {
             "line": {
              "color": "#283442"
             }
            },
            "type": "scatter"
           }
          ],
          "parcoords": [
           {
            "type": "parcoords",
            "line": {
             "colorbar": {
              "outlinewidth": 0,
              "ticks": ""
             }
            }
           }
          ],
          "scatterpolargl": [
           {
            "type": "scatterpolargl",
            "marker": {
             "colorbar": {
              "outlinewidth": 0,
              "ticks": ""
             }
            }
           }
          ],
          "bar": [
           {
            "error_x": {
             "color": "#f2f5fa"
            },
            "error_y": {
             "color": "#f2f5fa"
            },
            "marker": {
             "line": {
              "color": "rgb(17,17,17)",
              "width": 0.5
             },
             "pattern": {
              "fillmode": "overlay",
              "size": 10,
              "solidity": 0.2
             }
            },
            "type": "bar"
           }
          ],
          "scattergeo": [
           {
            "type": "scattergeo",
            "marker": {
             "colorbar": {
              "outlinewidth": 0,
              "ticks": ""
             }
            }
           }
          ],
          "scatterpolar": [
           {
            "type": "scatterpolar",
            "marker": {
             "colorbar": {
              "outlinewidth": 0,
              "ticks": ""
             }
            }
           }
          ],
          "histogram": [
           {
            "marker": {
             "pattern": {
              "fillmode": "overlay",
              "size": 10,
              "solidity": 0.2
             }
            },
            "type": "histogram"
           }
          ],
          "scattergl": [
           {
            "marker": {
             "line": {
              "color": "#283442"
             }
            },
            "type": "scattergl"
           }
          ],
          "scatter3d": [
           {
            "type": "scatter3d",
            "line": {
             "colorbar": {
              "outlinewidth": 0,
              "ticks": ""
             }
            },
            "marker": {
             "colorbar": {
              "outlinewidth": 0,
              "ticks": ""
             }
            }
           }
          ],
          "scattermapbox": [
           {
            "type": "scattermapbox",
            "marker": {
             "colorbar": {
              "outlinewidth": 0,
              "ticks": ""
             }
            }
           }
          ],
          "scatterternary": [
           {
            "type": "scatterternary",
            "marker": {
             "colorbar": {
              "outlinewidth": 0,
              "ticks": ""
             }
            }
           }
          ],
          "scattercarpet": [
           {
            "type": "scattercarpet",
            "marker": {
             "colorbar": {
              "outlinewidth": 0,
              "ticks": ""
             }
            }
           }
          ],
          "carpet": [
           {
            "aaxis": {
             "endlinecolor": "#A2B1C6",
             "gridcolor": "#506784",
             "linecolor": "#506784",
             "minorgridcolor": "#506784",
             "startlinecolor": "#A2B1C6"
            },
            "baxis": {
             "endlinecolor": "#A2B1C6",
             "gridcolor": "#506784",
             "linecolor": "#506784",
             "minorgridcolor": "#506784",
             "startlinecolor": "#A2B1C6"
            },
            "type": "carpet"
           }
          ],
          "table": [
           {
            "cells": {
             "fill": {
              "color": "#506784"
             },
             "line": {
              "color": "rgb(17,17,17)"
             }
            },
            "header": {
             "fill": {
              "color": "#2a3f5f"
             },
             "line": {
              "color": "rgb(17,17,17)"
             }
            },
            "type": "table"
           }
          ],
          "barpolar": [
           {
            "marker": {
             "line": {
              "color": "rgb(17,17,17)",
              "width": 0.5
             },
             "pattern": {
              "fillmode": "overlay",
              "size": 10,
              "solidity": 0.2
             }
            },
            "type": "barpolar"
           }
          ],
          "pie": [
           {
            "automargin": true,
            "type": "pie"
           }
          ]
         },
         "layout": {
          "autotypenumbers": "strict",
          "colorway": [
           "#636efa",
           "#EF553B",
           "#00cc96",
           "#ab63fa",
           "#FFA15A",
           "#19d3f3",
           "#FF6692",
           "#B6E880",
           "#FF97FF",
           "#FECB52"
          ],
          "font": {
           "color": "#f2f5fa"
          },
          "hovermode": "closest",
          "hoverlabel": {
           "align": "left"
          },
          "paper_bgcolor": "rgb(17,17,17)",
          "plot_bgcolor": "rgb(17,17,17)",
          "polar": {
           "bgcolor": "rgb(17,17,17)",
           "angularaxis": {
            "gridcolor": "#506784",
            "linecolor": "#506784",
            "ticks": ""
           },
           "radialaxis": {
            "gridcolor": "#506784",
            "linecolor": "#506784",
            "ticks": ""
           }
          },
          "ternary": {
           "bgcolor": "rgb(17,17,17)",
           "aaxis": {
            "gridcolor": "#506784",
            "linecolor": "#506784",
            "ticks": ""
           },
           "baxis": {
            "gridcolor": "#506784",
            "linecolor": "#506784",
            "ticks": ""
           },
           "caxis": {
            "gridcolor": "#506784",
            "linecolor": "#506784",
            "ticks": ""
           }
          },
          "coloraxis": {
           "colorbar": {
            "outlinewidth": 0,
            "ticks": ""
           }
          },
          "colorscale": {
           "sequential": [
            [
             0.0,
             "#0d0887"
            ],
            [
             0.1111111111111111,
             "#46039f"
            ],
            [
             0.2222222222222222,
             "#7201a8"
            ],
            [
             0.3333333333333333,
             "#9c179e"
            ],
            [
             0.4444444444444444,
             "#bd3786"
            ],
            [
             0.5555555555555556,
             "#d8576b"
            ],
            [
             0.6666666666666666,
             "#ed7953"
            ],
            [
             0.7777777777777778,
             "#fb9f3a"
            ],
            [
             0.8888888888888888,
             "#fdca26"
            ],
            [
             1.0,
             "#f0f921"
            ]
           ],
           "sequentialminus": [
            [
             0.0,
             "#0d0887"
            ],
            [
             0.1111111111111111,
             "#46039f"
            ],
            [
             0.2222222222222222,
             "#7201a8"
            ],
            [
             0.3333333333333333,
             "#9c179e"
            ],
            [
             0.4444444444444444,
             "#bd3786"
            ],
            [
             0.5555555555555556,
             "#d8576b"
            ],
            [
             0.6666666666666666,
             "#ed7953"
            ],
            [
             0.7777777777777778,
             "#fb9f3a"
            ],
            [
             0.8888888888888888,
             "#fdca26"
            ],
            [
             1.0,
             "#f0f921"
            ]
           ],
           "diverging": [
            [
             0,
             "#8e0152"
            ],
            [
             0.1,
             "#c51b7d"
            ],
            [
             0.2,
             "#de77ae"
            ],
            [
             0.3,
             "#f1b6da"
            ],
            [
             0.4,
             "#fde0ef"
            ],
            [
             0.5,
             "#f7f7f7"
            ],
            [
             0.6,
             "#e6f5d0"
            ],
            [
             0.7,
             "#b8e186"
            ],
            [
             0.8,
             "#7fbc41"
            ],
            [
             0.9,
             "#4d9221"
            ],
            [
             1,
             "#276419"
            ]
           ]
          },
          "xaxis": {
           "gridcolor": "#283442",
           "linecolor": "#506784",
           "ticks": "",
           "title": {
            "standoff": 15
           },
           "zerolinecolor": "#283442",
           "automargin": true,
           "zerolinewidth": 2
          },
          "yaxis": {
           "gridcolor": "#283442",
           "linecolor": "#506784",
           "ticks": "",
           "title": {
            "standoff": 15
           },
           "zerolinecolor": "#283442",
           "automargin": true,
           "zerolinewidth": 2
          },
          "scene": {
           "xaxis": {
            "backgroundcolor": "rgb(17,17,17)",
            "gridcolor": "#506784",
            "linecolor": "#506784",
            "showbackground": true,
            "ticks": "",
            "zerolinecolor": "#C8D4E3",
            "gridwidth": 2
           },
           "yaxis": {
            "backgroundcolor": "rgb(17,17,17)",
            "gridcolor": "#506784",
            "linecolor": "#506784",
            "showbackground": true,
            "ticks": "",
            "zerolinecolor": "#C8D4E3",
            "gridwidth": 2
           },
           "zaxis": {
            "backgroundcolor": "rgb(17,17,17)",
            "gridcolor": "#506784",
            "linecolor": "#506784",
            "showbackground": true,
            "ticks": "",
            "zerolinecolor": "#C8D4E3",
            "gridwidth": 2
           }
          },
          "shapedefaults": {
           "line": {
            "color": "#f2f5fa"
           }
          },
          "annotationdefaults": {
           "arrowcolor": "#f2f5fa",
           "arrowhead": 0,
           "arrowwidth": 1
          },
          "geo": {
           "bgcolor": "rgb(17,17,17)",
           "landcolor": "rgb(17,17,17)",
           "subunitcolor": "#506784",
           "showland": true,
           "showlakes": true,
           "lakecolor": "rgb(17,17,17)"
          },
          "title": {
           "x": 0.05
          },
          "updatemenudefaults": {
           "bgcolor": "#506784",
           "borderwidth": 0
          },
          "sliderdefaults": {
           "bgcolor": "#C8D4E3",
           "borderwidth": 1,
           "bordercolor": "rgb(17,17,17)",
           "tickwidth": 0
          },
          "mapbox": {
           "style": "dark"
          }
         }
        },
        "xaxis": {
         "anchor": "y",
         "domain": [
          0.0,
          1.0
         ]
        },
        "yaxis": {
         "anchor": "x",
         "domain": [
          0.0,
          1.0
         ],
         "tickformat": ".00%"
        },
        "title": {
         "text": "Cumsum rets in time. Amount of trades=36"
        }
       },
       "config": {
        "plotlyServerURL": "https://plot.ly"
       }
      },
      "text/html": "<div>                            <div id=\"de9dc893-8406-44af-81a1-ab1f2eb4063d\" class=\"plotly-graph-div\" style=\"height:525px; width:100%;\"></div>            <script type=\"text/javascript\">                require([\"plotly\"], function(Plotly) {                    window.PLOTLYENV=window.PLOTLYENV || {};                                    if (document.getElementById(\"de9dc893-8406-44af-81a1-ab1f2eb4063d\")) {                    Plotly.newPlot(                        \"de9dc893-8406-44af-81a1-ab1f2eb4063d\",                        [{\"mode\":\"lines+markers\",\"x\":[\"2022-02-01T21:44:00\",\"2022-02-01T22:08:00\",\"2022-02-01T22:48:00\",\"2022-02-01T23:09:00\",\"2022-02-01T23:12:00\",\"2022-02-01T23:37:00\",\"2022-02-02T01:18:00\",\"2022-02-02T01:22:00\",\"2022-02-02T01:23:00\",\"2022-02-02T01:36:00\",\"2022-02-02T01:55:00\",\"2022-02-02T02:05:00\",\"2022-02-02T03:06:00\",\"2022-02-02T03:30:00\",\"2022-02-02T04:13:00\",\"2022-02-02T04:24:00\",\"2022-02-02T04:53:00\",\"2022-02-02T05:04:00\",\"2022-02-02T05:51:00\",\"2022-02-02T06:22:00\",\"2022-02-02T07:29:00\",\"2022-02-02T07:45:00\",\"2022-02-02T09:57:00\",\"2022-02-02T10:27:00\",\"2022-02-02T10:29:00\",\"2022-02-02T10:38:00\",\"2022-02-02T11:02:00\",\"2022-02-02T11:26:00\",\"2022-02-02T11:37:00\",\"2022-02-02T11:52:00\",\"2022-02-02T12:25:00\",\"2022-02-02T12:41:00\",\"2022-02-02T12:43:00\",\"2022-02-02T13:21:00\",\"2022-02-02T13:22:00\",\"2022-02-02T13:24:00\"],\"y\":[-0.006567664046464426,-0.006673751993890306,-0.013003353884828185,-0.01073841872787698,-0.0072808007188900166,-0.007267589765611077,-0.012726129330841676,-0.016224241023490158,-0.01769131765541831,-0.015629614283218646,-0.013849349919030661,-0.014537545239769934,-0.017527374058635636,-0.015050120438004182,-0.015299529721508123,-0.012010586181138726,-0.011517613785238023,-0.009704095117593065,-0.009102924111554564,-0.008211297129141893,-0.008718942301776228,-0.010055454619562636,-0.007306397251614782,-0.010080112125126276,-0.014354524212563955,-0.016098282890872683,-0.018896346405433896,-0.021221253772405965,-0.033279189845427146,-0.0339525044011481,-0.03827949760147389,-0.041402110610420706,-0.04414464757672509,-0.05073018000018824,-0.055906008453556554,-0.055960466385206915],\"type\":\"scatter\"}],                        {\"template\":{\"data\":{\"histogram2dcontour\":[{\"type\":\"histogram2dcontour\",\"colorbar\":{\"outlinewidth\":0,\"ticks\":\"\"},\"colorscale\":[[0.0,\"#0d0887\"],[0.1111111111111111,\"#46039f\"],[0.2222222222222222,\"#7201a8\"],[0.3333333333333333,\"#9c179e\"],[0.4444444444444444,\"#bd3786\"],[0.5555555555555556,\"#d8576b\"],[0.6666666666666666,\"#ed7953\"],[0.7777777777777778,\"#fb9f3a\"],[0.8888888888888888,\"#fdca26\"],[1.0,\"#f0f921\"]]}],\"choropleth\":[{\"type\":\"choropleth\",\"colorbar\":{\"outlinewidth\":0,\"ticks\":\"\"}}],\"histogram2d\":[{\"type\":\"histogram2d\",\"colorbar\":{\"outlinewidth\":0,\"ticks\":\"\"},\"colorscale\":[[0.0,\"#0d0887\"],[0.1111111111111111,\"#46039f\"],[0.2222222222222222,\"#7201a8\"],[0.3333333333333333,\"#9c179e\"],[0.4444444444444444,\"#bd3786\"],[0.5555555555555556,\"#d8576b\"],[0.6666666666666666,\"#ed7953\"],[0.7777777777777778,\"#fb9f3a\"],[0.8888888888888888,\"#fdca26\"],[1.0,\"#f0f921\"]]}],\"heatmap\":[{\"type\":\"heatmap\",\"colorbar\":{\"outlinewidth\":0,\"ticks\":\"\"},\"colorscale\":[[0.0,\"#0d0887\"],[0.1111111111111111,\"#46039f\"],[0.2222222222222222,\"#7201a8\"],[0.3333333333333333,\"#9c179e\"],[0.4444444444444444,\"#bd3786\"],[0.5555555555555556,\"#d8576b\"],[0.6666666666666666,\"#ed7953\"],[0.7777777777777778,\"#fb9f3a\"],[0.8888888888888888,\"#fdca26\"],[1.0,\"#f0f921\"]]}],\"heatmapgl\":[{\"type\":\"heatmapgl\",\"colorbar\":{\"outlinewidth\":0,\"ticks\":\"\"},\"colorscale\":[[0.0,\"#0d0887\"],[0.1111111111111111,\"#46039f\"],[0.2222222222222222,\"#7201a8\"],[0.3333333333333333,\"#9c179e\"],[0.4444444444444444,\"#bd3786\"],[0.5555555555555556,\"#d8576b\"],[0.6666666666666666,\"#ed7953\"],[0.7777777777777778,\"#fb9f3a\"],[0.8888888888888888,\"#fdca26\"],[1.0,\"#f0f921\"]]}],\"contourcarpet\":[{\"type\":\"contourcarpet\",\"colorbar\":{\"outlinewidth\":0,\"ticks\":\"\"}}],\"contour\":[{\"type\":\"contour\",\"colorbar\":{\"outlinewidth\":0,\"ticks\":\"\"},\"colorscale\":[[0.0,\"#0d0887\"],[0.1111111111111111,\"#46039f\"],[0.2222222222222222,\"#7201a8\"],[0.3333333333333333,\"#9c179e\"],[0.4444444444444444,\"#bd3786\"],[0.5555555555555556,\"#d8576b\"],[0.6666666666666666,\"#ed7953\"],[0.7777777777777778,\"#fb9f3a\"],[0.8888888888888888,\"#fdca26\"],[1.0,\"#f0f921\"]]}],\"surface\":[{\"type\":\"surface\",\"colorbar\":{\"outlinewidth\":0,\"ticks\":\"\"},\"colorscale\":[[0.0,\"#0d0887\"],[0.1111111111111111,\"#46039f\"],[0.2222222222222222,\"#7201a8\"],[0.3333333333333333,\"#9c179e\"],[0.4444444444444444,\"#bd3786\"],[0.5555555555555556,\"#d8576b\"],[0.6666666666666666,\"#ed7953\"],[0.7777777777777778,\"#fb9f3a\"],[0.8888888888888888,\"#fdca26\"],[1.0,\"#f0f921\"]]}],\"mesh3d\":[{\"type\":\"mesh3d\",\"colorbar\":{\"outlinewidth\":0,\"ticks\":\"\"}}],\"scatter\":[{\"marker\":{\"line\":{\"color\":\"#283442\"}},\"type\":\"scatter\"}],\"parcoords\":[{\"type\":\"parcoords\",\"line\":{\"colorbar\":{\"outlinewidth\":0,\"ticks\":\"\"}}}],\"scatterpolargl\":[{\"type\":\"scatterpolargl\",\"marker\":{\"colorbar\":{\"outlinewidth\":0,\"ticks\":\"\"}}}],\"bar\":[{\"error_x\":{\"color\":\"#f2f5fa\"},\"error_y\":{\"color\":\"#f2f5fa\"},\"marker\":{\"line\":{\"color\":\"rgb(17,17,17)\",\"width\":0.5},\"pattern\":{\"fillmode\":\"overlay\",\"size\":10,\"solidity\":0.2}},\"type\":\"bar\"}],\"scattergeo\":[{\"type\":\"scattergeo\",\"marker\":{\"colorbar\":{\"outlinewidth\":0,\"ticks\":\"\"}}}],\"scatterpolar\":[{\"type\":\"scatterpolar\",\"marker\":{\"colorbar\":{\"outlinewidth\":0,\"ticks\":\"\"}}}],\"histogram\":[{\"marker\":{\"pattern\":{\"fillmode\":\"overlay\",\"size\":10,\"solidity\":0.2}},\"type\":\"histogram\"}],\"scattergl\":[{\"marker\":{\"line\":{\"color\":\"#283442\"}},\"type\":\"scattergl\"}],\"scatter3d\":[{\"type\":\"scatter3d\",\"line\":{\"colorbar\":{\"outlinewidth\":0,\"ticks\":\"\"}},\"marker\":{\"colorbar\":{\"outlinewidth\":0,\"ticks\":\"\"}}}],\"scattermapbox\":[{\"type\":\"scattermapbox\",\"marker\":{\"colorbar\":{\"outlinewidth\":0,\"ticks\":\"\"}}}],\"scatterternary\":[{\"type\":\"scatterternary\",\"marker\":{\"colorbar\":{\"outlinewidth\":0,\"ticks\":\"\"}}}],\"scattercarpet\":[{\"type\":\"scattercarpet\",\"marker\":{\"colorbar\":{\"outlinewidth\":0,\"ticks\":\"\"}}}],\"carpet\":[{\"aaxis\":{\"endlinecolor\":\"#A2B1C6\",\"gridcolor\":\"#506784\",\"linecolor\":\"#506784\",\"minorgridcolor\":\"#506784\",\"startlinecolor\":\"#A2B1C6\"},\"baxis\":{\"endlinecolor\":\"#A2B1C6\",\"gridcolor\":\"#506784\",\"linecolor\":\"#506784\",\"minorgridcolor\":\"#506784\",\"startlinecolor\":\"#A2B1C6\"},\"type\":\"carpet\"}],\"table\":[{\"cells\":{\"fill\":{\"color\":\"#506784\"},\"line\":{\"color\":\"rgb(17,17,17)\"}},\"header\":{\"fill\":{\"color\":\"#2a3f5f\"},\"line\":{\"color\":\"rgb(17,17,17)\"}},\"type\":\"table\"}],\"barpolar\":[{\"marker\":{\"line\":{\"color\":\"rgb(17,17,17)\",\"width\":0.5},\"pattern\":{\"fillmode\":\"overlay\",\"size\":10,\"solidity\":0.2}},\"type\":\"barpolar\"}],\"pie\":[{\"automargin\":true,\"type\":\"pie\"}]},\"layout\":{\"autotypenumbers\":\"strict\",\"colorway\":[\"#636efa\",\"#EF553B\",\"#00cc96\",\"#ab63fa\",\"#FFA15A\",\"#19d3f3\",\"#FF6692\",\"#B6E880\",\"#FF97FF\",\"#FECB52\"],\"font\":{\"color\":\"#f2f5fa\"},\"hovermode\":\"closest\",\"hoverlabel\":{\"align\":\"left\"},\"paper_bgcolor\":\"rgb(17,17,17)\",\"plot_bgcolor\":\"rgb(17,17,17)\",\"polar\":{\"bgcolor\":\"rgb(17,17,17)\",\"angularaxis\":{\"gridcolor\":\"#506784\",\"linecolor\":\"#506784\",\"ticks\":\"\"},\"radialaxis\":{\"gridcolor\":\"#506784\",\"linecolor\":\"#506784\",\"ticks\":\"\"}},\"ternary\":{\"bgcolor\":\"rgb(17,17,17)\",\"aaxis\":{\"gridcolor\":\"#506784\",\"linecolor\":\"#506784\",\"ticks\":\"\"},\"baxis\":{\"gridcolor\":\"#506784\",\"linecolor\":\"#506784\",\"ticks\":\"\"},\"caxis\":{\"gridcolor\":\"#506784\",\"linecolor\":\"#506784\",\"ticks\":\"\"}},\"coloraxis\":{\"colorbar\":{\"outlinewidth\":0,\"ticks\":\"\"}},\"colorscale\":{\"sequential\":[[0.0,\"#0d0887\"],[0.1111111111111111,\"#46039f\"],[0.2222222222222222,\"#7201a8\"],[0.3333333333333333,\"#9c179e\"],[0.4444444444444444,\"#bd3786\"],[0.5555555555555556,\"#d8576b\"],[0.6666666666666666,\"#ed7953\"],[0.7777777777777778,\"#fb9f3a\"],[0.8888888888888888,\"#fdca26\"],[1.0,\"#f0f921\"]],\"sequentialminus\":[[0.0,\"#0d0887\"],[0.1111111111111111,\"#46039f\"],[0.2222222222222222,\"#7201a8\"],[0.3333333333333333,\"#9c179e\"],[0.4444444444444444,\"#bd3786\"],[0.5555555555555556,\"#d8576b\"],[0.6666666666666666,\"#ed7953\"],[0.7777777777777778,\"#fb9f3a\"],[0.8888888888888888,\"#fdca26\"],[1.0,\"#f0f921\"]],\"diverging\":[[0,\"#8e0152\"],[0.1,\"#c51b7d\"],[0.2,\"#de77ae\"],[0.3,\"#f1b6da\"],[0.4,\"#fde0ef\"],[0.5,\"#f7f7f7\"],[0.6,\"#e6f5d0\"],[0.7,\"#b8e186\"],[0.8,\"#7fbc41\"],[0.9,\"#4d9221\"],[1,\"#276419\"]]},\"xaxis\":{\"gridcolor\":\"#283442\",\"linecolor\":\"#506784\",\"ticks\":\"\",\"title\":{\"standoff\":15},\"zerolinecolor\":\"#283442\",\"automargin\":true,\"zerolinewidth\":2},\"yaxis\":{\"gridcolor\":\"#283442\",\"linecolor\":\"#506784\",\"ticks\":\"\",\"title\":{\"standoff\":15},\"zerolinecolor\":\"#283442\",\"automargin\":true,\"zerolinewidth\":2},\"scene\":{\"xaxis\":{\"backgroundcolor\":\"rgb(17,17,17)\",\"gridcolor\":\"#506784\",\"linecolor\":\"#506784\",\"showbackground\":true,\"ticks\":\"\",\"zerolinecolor\":\"#C8D4E3\",\"gridwidth\":2},\"yaxis\":{\"backgroundcolor\":\"rgb(17,17,17)\",\"gridcolor\":\"#506784\",\"linecolor\":\"#506784\",\"showbackground\":true,\"ticks\":\"\",\"zerolinecolor\":\"#C8D4E3\",\"gridwidth\":2},\"zaxis\":{\"backgroundcolor\":\"rgb(17,17,17)\",\"gridcolor\":\"#506784\",\"linecolor\":\"#506784\",\"showbackground\":true,\"ticks\":\"\",\"zerolinecolor\":\"#C8D4E3\",\"gridwidth\":2}},\"shapedefaults\":{\"line\":{\"color\":\"#f2f5fa\"}},\"annotationdefaults\":{\"arrowcolor\":\"#f2f5fa\",\"arrowhead\":0,\"arrowwidth\":1},\"geo\":{\"bgcolor\":\"rgb(17,17,17)\",\"landcolor\":\"rgb(17,17,17)\",\"subunitcolor\":\"#506784\",\"showland\":true,\"showlakes\":true,\"lakecolor\":\"rgb(17,17,17)\"},\"title\":{\"x\":0.05},\"updatemenudefaults\":{\"bgcolor\":\"#506784\",\"borderwidth\":0},\"sliderdefaults\":{\"bgcolor\":\"#C8D4E3\",\"borderwidth\":1,\"bordercolor\":\"rgb(17,17,17)\",\"tickwidth\":0},\"mapbox\":{\"style\":\"dark\"}}},\"xaxis\":{\"anchor\":\"y\",\"domain\":[0.0,1.0]},\"yaxis\":{\"anchor\":\"x\",\"domain\":[0.0,1.0],\"tickformat\":\".00%\"},\"title\":{\"text\":\"Cumsum rets in time. Amount of trades=36\"}},                        {\"responsive\": true}                    ).then(function(){\n                            \nvar gd = document.getElementById('de9dc893-8406-44af-81a1-ab1f2eb4063d');\nvar x = new MutationObserver(function (mutations, observer) {{\n        var display = window.getComputedStyle(gd).display;\n        if (!display || display === 'none') {{\n            console.log([gd, 'removed!']);\n            Plotly.purge(gd);\n            observer.disconnect();\n        }}\n}});\n\n// Listen for the removal of the full notebook cells\nvar notebookContainer = gd.closest('#notebook-container');\nif (notebookContainer) {{\n    x.observe(notebookContainer, {childList: true});\n}}\n\n// Listen for the clearing of the current output cell\nvar outputEl = gd.closest('.output');\nif (outputEl) {{\n    x.observe(outputEl, {childList: true});\n}}\n\n                        })                };                });            </script>        </div>"
     },
     "metadata": {},
     "output_type": "display_data"
    },
    {
     "data": {
      "application/vnd.plotly.v1+json": {
       "data": [
        {
         "name": "Close price in time",
         "x": [
          "2022-02-01T21:01:00",
          "2022-02-01T21:02:00",
          "2022-02-01T21:03:00",
          "2022-02-01T21:04:00",
          "2022-02-01T21:05:00",
          "2022-02-01T21:06:00",
          "2022-02-01T21:07:00",
          "2022-02-01T21:08:00",
          "2022-02-01T21:09:00",
          "2022-02-01T21:10:00",
          "2022-02-01T21:11:00",
          "2022-02-01T21:12:00",
          "2022-02-01T21:13:00",
          "2022-02-01T21:14:00",
          "2022-02-01T21:15:00",
          "2022-02-01T21:16:00",
          "2022-02-01T21:17:00",
          "2022-02-01T21:18:00",
          "2022-02-01T21:19:00",
          "2022-02-01T21:20:00",
          "2022-02-01T21:21:00",
          "2022-02-01T21:22:00",
          "2022-02-01T21:23:00",
          "2022-02-01T21:24:00",
          "2022-02-01T21:25:00",
          "2022-02-01T21:26:00",
          "2022-02-01T21:27:00",
          "2022-02-01T21:28:00",
          "2022-02-01T21:29:00",
          "2022-02-01T21:30:00",
          "2022-02-01T21:31:00",
          "2022-02-01T21:32:00",
          "2022-02-01T21:33:00",
          "2022-02-01T21:34:00",
          "2022-02-01T21:35:00",
          "2022-02-01T21:36:00",
          "2022-02-01T21:37:00",
          "2022-02-01T21:38:00",
          "2022-02-01T21:39:00",
          "2022-02-01T21:40:00",
          "2022-02-01T21:41:00",
          "2022-02-01T21:42:00",
          "2022-02-01T21:43:00",
          "2022-02-01T21:44:00",
          "2022-02-01T21:45:00",
          "2022-02-01T21:46:00",
          "2022-02-01T21:47:00",
          "2022-02-01T21:48:00",
          "2022-02-01T21:49:00",
          "2022-02-01T21:50:00",
          "2022-02-01T21:51:00",
          "2022-02-01T21:52:00",
          "2022-02-01T21:53:00",
          "2022-02-01T21:54:00",
          "2022-02-01T21:55:00",
          "2022-02-01T21:56:00",
          "2022-02-01T21:57:00",
          "2022-02-01T21:58:00",
          "2022-02-01T21:59:00",
          "2022-02-01T22:00:00",
          "2022-02-01T22:01:00",
          "2022-02-01T22:02:00",
          "2022-02-01T22:03:00",
          "2022-02-01T22:04:00",
          "2022-02-01T22:05:00",
          "2022-02-01T22:06:00",
          "2022-02-01T22:07:00",
          "2022-02-01T22:08:00",
          "2022-02-01T22:09:00",
          "2022-02-01T22:10:00",
          "2022-02-01T22:11:00",
          "2022-02-01T22:12:00",
          "2022-02-01T22:13:00",
          "2022-02-01T22:14:00",
          "2022-02-01T22:15:00",
          "2022-02-01T22:16:00",
          "2022-02-01T22:17:00",
          "2022-02-01T22:18:00",
          "2022-02-01T22:19:00",
          "2022-02-01T22:20:00",
          "2022-02-01T22:21:00",
          "2022-02-01T22:22:00",
          "2022-02-01T22:23:00",
          "2022-02-01T22:24:00",
          "2022-02-01T22:25:00",
          "2022-02-01T22:26:00",
          "2022-02-01T22:27:00",
          "2022-02-01T22:28:00",
          "2022-02-01T22:29:00",
          "2022-02-01T22:30:00",
          "2022-02-01T22:31:00",
          "2022-02-01T22:32:00",
          "2022-02-01T22:33:00",
          "2022-02-01T22:34:00",
          "2022-02-01T22:35:00",
          "2022-02-01T22:36:00",
          "2022-02-01T22:37:00",
          "2022-02-01T22:38:00",
          "2022-02-01T22:39:00",
          "2022-02-01T22:40:00",
          "2022-02-01T22:41:00",
          "2022-02-01T22:42:00",
          "2022-02-01T22:43:00",
          "2022-02-01T22:44:00",
          "2022-02-01T22:45:00",
          "2022-02-01T22:46:00",
          "2022-02-01T22:47:00",
          "2022-02-01T22:48:00",
          "2022-02-01T22:49:00",
          "2022-02-01T22:50:00",
          "2022-02-01T22:51:00",
          "2022-02-01T22:52:00",
          "2022-02-01T22:53:00",
          "2022-02-01T22:54:00",
          "2022-02-01T22:55:00",
          "2022-02-01T22:56:00",
          "2022-02-01T22:57:00",
          "2022-02-01T22:58:00",
          "2022-02-01T22:59:00",
          "2022-02-01T23:00:00",
          "2022-02-01T23:01:00",
          "2022-02-01T23:02:00",
          "2022-02-01T23:03:00",
          "2022-02-01T23:04:00",
          "2022-02-01T23:05:00",
          "2022-02-01T23:06:00",
          "2022-02-01T23:07:00",
          "2022-02-01T23:08:00",
          "2022-02-01T23:09:00",
          "2022-02-01T23:10:00",
          "2022-02-01T23:11:00",
          "2022-02-01T23:12:00",
          "2022-02-01T23:13:00",
          "2022-02-01T23:14:00",
          "2022-02-01T23:15:00",
          "2022-02-01T23:16:00",
          "2022-02-01T23:17:00",
          "2022-02-01T23:18:00",
          "2022-02-01T23:19:00",
          "2022-02-01T23:20:00",
          "2022-02-01T23:21:00",
          "2022-02-01T23:22:00",
          "2022-02-01T23:23:00",
          "2022-02-01T23:24:00",
          "2022-02-01T23:25:00",
          "2022-02-01T23:26:00",
          "2022-02-01T23:27:00",
          "2022-02-01T23:28:00",
          "2022-02-01T23:29:00",
          "2022-02-01T23:30:00",
          "2022-02-01T23:31:00",
          "2022-02-01T23:32:00",
          "2022-02-01T23:33:00",
          "2022-02-01T23:34:00",
          "2022-02-01T23:35:00",
          "2022-02-01T23:36:00",
          "2022-02-01T23:37:00",
          "2022-02-01T23:38:00",
          "2022-02-01T23:39:00",
          "2022-02-01T23:40:00",
          "2022-02-01T23:41:00",
          "2022-02-01T23:42:00",
          "2022-02-01T23:43:00",
          "2022-02-01T23:44:00",
          "2022-02-01T23:45:00",
          "2022-02-01T23:46:00",
          "2022-02-01T23:47:00",
          "2022-02-01T23:48:00",
          "2022-02-01T23:49:00",
          "2022-02-01T23:50:00",
          "2022-02-01T23:51:00",
          "2022-02-01T23:52:00",
          "2022-02-01T23:53:00",
          "2022-02-01T23:54:00",
          "2022-02-01T23:55:00",
          "2022-02-01T23:56:00",
          "2022-02-01T23:57:00",
          "2022-02-01T23:58:00",
          "2022-02-01T23:59:00",
          "2022-02-02T00:00:00",
          "2022-02-02T00:01:00",
          "2022-02-02T00:02:00",
          "2022-02-02T00:03:00",
          "2022-02-02T00:04:00",
          "2022-02-02T00:05:00",
          "2022-02-02T00:06:00",
          "2022-02-02T00:07:00",
          "2022-02-02T00:08:00",
          "2022-02-02T00:09:00",
          "2022-02-02T00:10:00",
          "2022-02-02T00:11:00",
          "2022-02-02T00:12:00",
          "2022-02-02T00:13:00",
          "2022-02-02T00:14:00",
          "2022-02-02T00:15:00",
          "2022-02-02T00:16:00",
          "2022-02-02T00:17:00",
          "2022-02-02T00:18:00",
          "2022-02-02T00:19:00",
          "2022-02-02T00:20:00",
          "2022-02-02T00:21:00",
          "2022-02-02T00:22:00",
          "2022-02-02T00:23:00",
          "2022-02-02T00:24:00",
          "2022-02-02T00:25:00",
          "2022-02-02T00:26:00",
          "2022-02-02T00:27:00",
          "2022-02-02T00:28:00",
          "2022-02-02T00:29:00",
          "2022-02-02T00:30:00",
          "2022-02-02T00:31:00",
          "2022-02-02T00:32:00",
          "2022-02-02T00:33:00",
          "2022-02-02T00:34:00",
          "2022-02-02T00:35:00",
          "2022-02-02T00:36:00",
          "2022-02-02T00:37:00",
          "2022-02-02T00:38:00",
          "2022-02-02T00:39:00",
          "2022-02-02T00:40:00",
          "2022-02-02T00:41:00",
          "2022-02-02T00:42:00",
          "2022-02-02T00:43:00",
          "2022-02-02T00:44:00",
          "2022-02-02T00:45:00",
          "2022-02-02T00:46:00",
          "2022-02-02T00:47:00",
          "2022-02-02T00:48:00",
          "2022-02-02T00:49:00",
          "2022-02-02T00:50:00",
          "2022-02-02T00:51:00",
          "2022-02-02T00:52:00",
          "2022-02-02T00:53:00",
          "2022-02-02T00:54:00",
          "2022-02-02T00:55:00",
          "2022-02-02T00:56:00",
          "2022-02-02T00:57:00",
          "2022-02-02T00:58:00",
          "2022-02-02T00:59:00",
          "2022-02-02T01:00:00",
          "2022-02-02T01:01:00",
          "2022-02-02T01:02:00",
          "2022-02-02T01:03:00",
          "2022-02-02T01:04:00",
          "2022-02-02T01:05:00",
          "2022-02-02T01:06:00",
          "2022-02-02T01:07:00",
          "2022-02-02T01:08:00",
          "2022-02-02T01:09:00",
          "2022-02-02T01:10:00",
          "2022-02-02T01:11:00",
          "2022-02-02T01:12:00",
          "2022-02-02T01:13:00",
          "2022-02-02T01:14:00",
          "2022-02-02T01:15:00",
          "2022-02-02T01:16:00",
          "2022-02-02T01:17:00",
          "2022-02-02T01:18:00",
          "2022-02-02T01:19:00",
          "2022-02-02T01:20:00",
          "2022-02-02T01:21:00",
          "2022-02-02T01:22:00",
          "2022-02-02T01:23:00",
          "2022-02-02T01:24:00",
          "2022-02-02T01:25:00",
          "2022-02-02T01:26:00",
          "2022-02-02T01:27:00",
          "2022-02-02T01:28:00",
          "2022-02-02T01:29:00",
          "2022-02-02T01:30:00",
          "2022-02-02T01:31:00",
          "2022-02-02T01:32:00",
          "2022-02-02T01:33:00",
          "2022-02-02T01:34:00",
          "2022-02-02T01:35:00",
          "2022-02-02T01:36:00",
          "2022-02-02T01:37:00",
          "2022-02-02T01:38:00",
          "2022-02-02T01:39:00",
          "2022-02-02T01:40:00",
          "2022-02-02T01:41:00",
          "2022-02-02T01:42:00",
          "2022-02-02T01:43:00",
          "2022-02-02T01:44:00",
          "2022-02-02T01:45:00",
          "2022-02-02T01:46:00",
          "2022-02-02T01:47:00",
          "2022-02-02T01:48:00",
          "2022-02-02T01:49:00",
          "2022-02-02T01:50:00",
          "2022-02-02T01:51:00",
          "2022-02-02T01:52:00",
          "2022-02-02T01:53:00",
          "2022-02-02T01:54:00",
          "2022-02-02T01:55:00",
          "2022-02-02T01:56:00",
          "2022-02-02T01:57:00",
          "2022-02-02T01:58:00",
          "2022-02-02T01:59:00",
          "2022-02-02T02:00:00",
          "2022-02-02T02:01:00",
          "2022-02-02T02:02:00",
          "2022-02-02T02:03:00",
          "2022-02-02T02:04:00",
          "2022-02-02T02:05:00",
          "2022-02-02T02:06:00",
          "2022-02-02T02:07:00",
          "2022-02-02T02:08:00",
          "2022-02-02T02:09:00",
          "2022-02-02T02:10:00",
          "2022-02-02T02:11:00",
          "2022-02-02T02:12:00",
          "2022-02-02T02:13:00",
          "2022-02-02T02:14:00",
          "2022-02-02T02:15:00",
          "2022-02-02T02:16:00",
          "2022-02-02T02:17:00",
          "2022-02-02T02:18:00",
          "2022-02-02T02:19:00",
          "2022-02-02T02:20:00",
          "2022-02-02T02:21:00",
          "2022-02-02T02:22:00",
          "2022-02-02T02:23:00",
          "2022-02-02T02:24:00",
          "2022-02-02T02:25:00",
          "2022-02-02T02:26:00",
          "2022-02-02T02:27:00",
          "2022-02-02T02:28:00",
          "2022-02-02T02:29:00",
          "2022-02-02T02:30:00",
          "2022-02-02T02:31:00",
          "2022-02-02T02:32:00",
          "2022-02-02T02:33:00",
          "2022-02-02T02:34:00",
          "2022-02-02T02:35:00",
          "2022-02-02T02:36:00",
          "2022-02-02T02:37:00",
          "2022-02-02T02:38:00",
          "2022-02-02T02:39:00",
          "2022-02-02T02:40:00",
          "2022-02-02T02:41:00",
          "2022-02-02T02:42:00",
          "2022-02-02T02:43:00",
          "2022-02-02T02:44:00",
          "2022-02-02T02:45:00",
          "2022-02-02T02:46:00",
          "2022-02-02T02:47:00",
          "2022-02-02T02:48:00",
          "2022-02-02T02:49:00",
          "2022-02-02T02:50:00",
          "2022-02-02T02:51:00",
          "2022-02-02T02:52:00",
          "2022-02-02T02:53:00",
          "2022-02-02T02:54:00",
          "2022-02-02T02:55:00",
          "2022-02-02T02:56:00",
          "2022-02-02T02:57:00",
          "2022-02-02T02:58:00",
          "2022-02-02T02:59:00",
          "2022-02-02T03:00:00",
          "2022-02-02T03:01:00",
          "2022-02-02T03:02:00",
          "2022-02-02T03:03:00",
          "2022-02-02T03:04:00",
          "2022-02-02T03:05:00",
          "2022-02-02T03:06:00",
          "2022-02-02T03:07:00",
          "2022-02-02T03:08:00",
          "2022-02-02T03:09:00",
          "2022-02-02T03:10:00",
          "2022-02-02T03:11:00",
          "2022-02-02T03:12:00",
          "2022-02-02T03:13:00",
          "2022-02-02T03:14:00",
          "2022-02-02T03:15:00",
          "2022-02-02T03:16:00",
          "2022-02-02T03:17:00",
          "2022-02-02T03:18:00",
          "2022-02-02T03:19:00",
          "2022-02-02T03:20:00",
          "2022-02-02T03:21:00",
          "2022-02-02T03:22:00",
          "2022-02-02T03:23:00",
          "2022-02-02T03:24:00",
          "2022-02-02T03:25:00",
          "2022-02-02T03:26:00",
          "2022-02-02T03:27:00",
          "2022-02-02T03:28:00",
          "2022-02-02T03:29:00",
          "2022-02-02T03:30:00",
          "2022-02-02T03:31:00",
          "2022-02-02T03:32:00",
          "2022-02-02T03:33:00",
          "2022-02-02T03:34:00",
          "2022-02-02T03:35:00",
          "2022-02-02T03:36:00",
          "2022-02-02T03:37:00",
          "2022-02-02T03:38:00",
          "2022-02-02T03:39:00",
          "2022-02-02T03:40:00",
          "2022-02-02T03:41:00",
          "2022-02-02T03:42:00",
          "2022-02-02T03:43:00",
          "2022-02-02T03:44:00",
          "2022-02-02T03:45:00",
          "2022-02-02T03:46:00",
          "2022-02-02T03:47:00",
          "2022-02-02T03:48:00",
          "2022-02-02T03:49:00",
          "2022-02-02T03:50:00",
          "2022-02-02T03:51:00",
          "2022-02-02T03:52:00",
          "2022-02-02T03:53:00",
          "2022-02-02T03:54:00",
          "2022-02-02T03:55:00",
          "2022-02-02T03:56:00",
          "2022-02-02T03:57:00",
          "2022-02-02T03:58:00",
          "2022-02-02T03:59:00",
          "2022-02-02T04:00:00",
          "2022-02-02T04:01:00",
          "2022-02-02T04:02:00",
          "2022-02-02T04:03:00",
          "2022-02-02T04:04:00",
          "2022-02-02T04:05:00",
          "2022-02-02T04:06:00",
          "2022-02-02T04:07:00",
          "2022-02-02T04:08:00",
          "2022-02-02T04:09:00",
          "2022-02-02T04:10:00",
          "2022-02-02T04:11:00",
          "2022-02-02T04:12:00",
          "2022-02-02T04:13:00",
          "2022-02-02T04:14:00",
          "2022-02-02T04:15:00",
          "2022-02-02T04:16:00",
          "2022-02-02T04:17:00",
          "2022-02-02T04:18:00",
          "2022-02-02T04:19:00",
          "2022-02-02T04:20:00",
          "2022-02-02T04:21:00",
          "2022-02-02T04:22:00",
          "2022-02-02T04:23:00",
          "2022-02-02T04:24:00",
          "2022-02-02T04:25:00",
          "2022-02-02T04:26:00",
          "2022-02-02T04:27:00",
          "2022-02-02T04:28:00",
          "2022-02-02T04:29:00",
          "2022-02-02T04:30:00",
          "2022-02-02T04:31:00",
          "2022-02-02T04:32:00",
          "2022-02-02T04:33:00",
          "2022-02-02T04:34:00",
          "2022-02-02T04:35:00",
          "2022-02-02T04:36:00",
          "2022-02-02T04:37:00",
          "2022-02-02T04:38:00",
          "2022-02-02T04:39:00",
          "2022-02-02T04:40:00",
          "2022-02-02T04:41:00",
          "2022-02-02T04:42:00",
          "2022-02-02T04:43:00",
          "2022-02-02T04:44:00",
          "2022-02-02T04:45:00",
          "2022-02-02T04:46:00",
          "2022-02-02T04:47:00",
          "2022-02-02T04:48:00",
          "2022-02-02T04:49:00",
          "2022-02-02T04:50:00",
          "2022-02-02T04:51:00",
          "2022-02-02T04:52:00",
          "2022-02-02T04:53:00",
          "2022-02-02T04:54:00",
          "2022-02-02T04:55:00",
          "2022-02-02T04:56:00",
          "2022-02-02T04:57:00",
          "2022-02-02T04:58:00",
          "2022-02-02T04:59:00",
          "2022-02-02T05:00:00",
          "2022-02-02T05:01:00",
          "2022-02-02T05:02:00",
          "2022-02-02T05:03:00",
          "2022-02-02T05:04:00",
          "2022-02-02T05:05:00",
          "2022-02-02T05:06:00",
          "2022-02-02T05:07:00",
          "2022-02-02T05:08:00",
          "2022-02-02T05:09:00",
          "2022-02-02T05:10:00",
          "2022-02-02T05:11:00",
          "2022-02-02T05:12:00",
          "2022-02-02T05:13:00",
          "2022-02-02T05:14:00",
          "2022-02-02T05:15:00",
          "2022-02-02T05:16:00",
          "2022-02-02T05:17:00",
          "2022-02-02T05:18:00",
          "2022-02-02T05:19:00",
          "2022-02-02T05:20:00",
          "2022-02-02T05:21:00",
          "2022-02-02T05:22:00",
          "2022-02-02T05:23:00",
          "2022-02-02T05:24:00",
          "2022-02-02T05:25:00",
          "2022-02-02T05:26:00",
          "2022-02-02T05:27:00",
          "2022-02-02T05:28:00",
          "2022-02-02T05:29:00",
          "2022-02-02T05:30:00",
          "2022-02-02T05:31:00",
          "2022-02-02T05:32:00",
          "2022-02-02T05:33:00",
          "2022-02-02T05:34:00",
          "2022-02-02T05:35:00",
          "2022-02-02T05:36:00",
          "2022-02-02T05:37:00",
          "2022-02-02T05:38:00",
          "2022-02-02T05:39:00",
          "2022-02-02T05:40:00",
          "2022-02-02T05:41:00",
          "2022-02-02T05:42:00",
          "2022-02-02T05:43:00",
          "2022-02-02T05:44:00",
          "2022-02-02T05:45:00",
          "2022-02-02T05:46:00",
          "2022-02-02T05:47:00",
          "2022-02-02T05:48:00",
          "2022-02-02T05:49:00",
          "2022-02-02T05:50:00",
          "2022-02-02T05:51:00",
          "2022-02-02T05:52:00",
          "2022-02-02T05:53:00",
          "2022-02-02T05:54:00",
          "2022-02-02T05:55:00",
          "2022-02-02T05:56:00",
          "2022-02-02T05:57:00",
          "2022-02-02T05:58:00",
          "2022-02-02T05:59:00",
          "2022-02-02T06:00:00",
          "2022-02-02T06:01:00",
          "2022-02-02T06:02:00",
          "2022-02-02T06:03:00",
          "2022-02-02T06:04:00",
          "2022-02-02T06:05:00",
          "2022-02-02T06:06:00",
          "2022-02-02T06:07:00",
          "2022-02-02T06:08:00",
          "2022-02-02T06:09:00",
          "2022-02-02T06:10:00",
          "2022-02-02T06:11:00",
          "2022-02-02T06:12:00",
          "2022-02-02T06:13:00",
          "2022-02-02T06:14:00",
          "2022-02-02T06:15:00",
          "2022-02-02T06:16:00",
          "2022-02-02T06:17:00",
          "2022-02-02T06:18:00",
          "2022-02-02T06:19:00",
          "2022-02-02T06:20:00",
          "2022-02-02T06:21:00",
          "2022-02-02T06:22:00",
          "2022-02-02T06:23:00",
          "2022-02-02T06:24:00",
          "2022-02-02T06:25:00",
          "2022-02-02T06:26:00",
          "2022-02-02T06:27:00",
          "2022-02-02T06:28:00",
          "2022-02-02T06:29:00",
          "2022-02-02T06:30:00",
          "2022-02-02T06:31:00",
          "2022-02-02T06:32:00",
          "2022-02-02T06:33:00",
          "2022-02-02T06:34:00",
          "2022-02-02T06:35:00",
          "2022-02-02T06:36:00",
          "2022-02-02T06:37:00",
          "2022-02-02T06:38:00",
          "2022-02-02T06:39:00",
          "2022-02-02T06:40:00",
          "2022-02-02T06:41:00",
          "2022-02-02T06:42:00",
          "2022-02-02T06:43:00",
          "2022-02-02T06:44:00",
          "2022-02-02T06:45:00",
          "2022-02-02T06:46:00",
          "2022-02-02T06:47:00",
          "2022-02-02T06:48:00",
          "2022-02-02T06:49:00",
          "2022-02-02T06:50:00",
          "2022-02-02T06:51:00",
          "2022-02-02T06:52:00",
          "2022-02-02T06:53:00",
          "2022-02-02T06:54:00",
          "2022-02-02T06:55:00",
          "2022-02-02T06:56:00",
          "2022-02-02T06:57:00",
          "2022-02-02T06:58:00",
          "2022-02-02T06:59:00",
          "2022-02-02T07:00:00",
          "2022-02-02T07:01:00",
          "2022-02-02T07:02:00",
          "2022-02-02T07:03:00",
          "2022-02-02T07:04:00",
          "2022-02-02T07:05:00",
          "2022-02-02T07:06:00",
          "2022-02-02T07:07:00",
          "2022-02-02T07:08:00",
          "2022-02-02T07:09:00",
          "2022-02-02T07:10:00",
          "2022-02-02T07:11:00",
          "2022-02-02T07:12:00",
          "2022-02-02T07:13:00",
          "2022-02-02T07:14:00",
          "2022-02-02T07:15:00",
          "2022-02-02T07:16:00",
          "2022-02-02T07:17:00",
          "2022-02-02T07:18:00",
          "2022-02-02T07:19:00",
          "2022-02-02T07:20:00",
          "2022-02-02T07:21:00",
          "2022-02-02T07:22:00",
          "2022-02-02T07:23:00",
          "2022-02-02T07:24:00",
          "2022-02-02T07:25:00",
          "2022-02-02T07:26:00",
          "2022-02-02T07:27:00",
          "2022-02-02T07:28:00",
          "2022-02-02T07:29:00",
          "2022-02-02T07:30:00",
          "2022-02-02T07:31:00",
          "2022-02-02T07:32:00",
          "2022-02-02T07:33:00",
          "2022-02-02T07:34:00",
          "2022-02-02T07:35:00",
          "2022-02-02T07:36:00",
          "2022-02-02T07:37:00",
          "2022-02-02T07:38:00",
          "2022-02-02T07:39:00",
          "2022-02-02T07:40:00",
          "2022-02-02T07:41:00",
          "2022-02-02T07:42:00",
          "2022-02-02T07:43:00",
          "2022-02-02T07:44:00",
          "2022-02-02T07:45:00",
          "2022-02-02T07:46:00",
          "2022-02-02T07:47:00",
          "2022-02-02T07:48:00",
          "2022-02-02T07:49:00",
          "2022-02-02T07:50:00",
          "2022-02-02T07:51:00",
          "2022-02-02T07:52:00",
          "2022-02-02T07:53:00",
          "2022-02-02T07:54:00",
          "2022-02-02T07:55:00",
          "2022-02-02T07:56:00",
          "2022-02-02T07:57:00",
          "2022-02-02T07:58:00",
          "2022-02-02T07:59:00",
          "2022-02-02T08:00:00",
          "2022-02-02T08:01:00",
          "2022-02-02T08:02:00",
          "2022-02-02T08:03:00",
          "2022-02-02T08:04:00",
          "2022-02-02T08:05:00",
          "2022-02-02T08:06:00",
          "2022-02-02T08:07:00",
          "2022-02-02T08:08:00",
          "2022-02-02T08:09:00",
          "2022-02-02T08:10:00",
          "2022-02-02T08:11:00",
          "2022-02-02T08:12:00",
          "2022-02-02T08:13:00",
          "2022-02-02T08:14:00",
          "2022-02-02T08:15:00",
          "2022-02-02T08:16:00",
          "2022-02-02T08:17:00",
          "2022-02-02T08:18:00",
          "2022-02-02T08:19:00",
          "2022-02-02T08:20:00",
          "2022-02-02T08:21:00",
          "2022-02-02T08:22:00",
          "2022-02-02T08:23:00",
          "2022-02-02T08:24:00",
          "2022-02-02T08:25:00",
          "2022-02-02T08:26:00",
          "2022-02-02T08:27:00",
          "2022-02-02T08:28:00",
          "2022-02-02T08:29:00",
          "2022-02-02T08:30:00",
          "2022-02-02T08:31:00",
          "2022-02-02T08:32:00",
          "2022-02-02T08:33:00",
          "2022-02-02T08:34:00",
          "2022-02-02T08:35:00",
          "2022-02-02T08:36:00",
          "2022-02-02T08:37:00",
          "2022-02-02T08:38:00",
          "2022-02-02T08:39:00",
          "2022-02-02T08:40:00",
          "2022-02-02T08:41:00",
          "2022-02-02T08:42:00",
          "2022-02-02T08:43:00",
          "2022-02-02T08:44:00",
          "2022-02-02T08:45:00",
          "2022-02-02T08:46:00",
          "2022-02-02T08:47:00",
          "2022-02-02T08:48:00",
          "2022-02-02T08:49:00",
          "2022-02-02T08:50:00",
          "2022-02-02T08:51:00",
          "2022-02-02T08:52:00",
          "2022-02-02T08:53:00",
          "2022-02-02T08:54:00",
          "2022-02-02T08:55:00",
          "2022-02-02T08:56:00",
          "2022-02-02T08:57:00",
          "2022-02-02T08:58:00",
          "2022-02-02T08:59:00",
          "2022-02-02T09:00:00",
          "2022-02-02T09:01:00",
          "2022-02-02T09:02:00",
          "2022-02-02T09:03:00",
          "2022-02-02T09:04:00",
          "2022-02-02T09:05:00",
          "2022-02-02T09:06:00",
          "2022-02-02T09:07:00",
          "2022-02-02T09:08:00",
          "2022-02-02T09:09:00",
          "2022-02-02T09:10:00",
          "2022-02-02T09:11:00",
          "2022-02-02T09:12:00",
          "2022-02-02T09:13:00",
          "2022-02-02T09:14:00",
          "2022-02-02T09:15:00",
          "2022-02-02T09:16:00",
          "2022-02-02T09:17:00",
          "2022-02-02T09:18:00",
          "2022-02-02T09:19:00",
          "2022-02-02T09:20:00",
          "2022-02-02T09:21:00",
          "2022-02-02T09:22:00",
          "2022-02-02T09:23:00",
          "2022-02-02T09:24:00",
          "2022-02-02T09:25:00",
          "2022-02-02T09:26:00",
          "2022-02-02T09:27:00",
          "2022-02-02T09:28:00",
          "2022-02-02T09:29:00",
          "2022-02-02T09:30:00",
          "2022-02-02T09:31:00",
          "2022-02-02T09:32:00",
          "2022-02-02T09:33:00",
          "2022-02-02T09:34:00",
          "2022-02-02T09:35:00",
          "2022-02-02T09:36:00",
          "2022-02-02T09:37:00",
          "2022-02-02T09:38:00",
          "2022-02-02T09:39:00",
          "2022-02-02T09:40:00",
          "2022-02-02T09:41:00",
          "2022-02-02T09:42:00",
          "2022-02-02T09:43:00",
          "2022-02-02T09:44:00",
          "2022-02-02T09:45:00",
          "2022-02-02T09:46:00",
          "2022-02-02T09:47:00",
          "2022-02-02T09:48:00",
          "2022-02-02T09:49:00",
          "2022-02-02T09:50:00",
          "2022-02-02T09:51:00",
          "2022-02-02T09:52:00",
          "2022-02-02T09:53:00",
          "2022-02-02T09:54:00",
          "2022-02-02T09:55:00",
          "2022-02-02T09:56:00",
          "2022-02-02T09:57:00",
          "2022-02-02T09:58:00",
          "2022-02-02T09:59:00",
          "2022-02-02T10:00:00",
          "2022-02-02T10:01:00",
          "2022-02-02T10:02:00",
          "2022-02-02T10:03:00",
          "2022-02-02T10:04:00",
          "2022-02-02T10:05:00",
          "2022-02-02T10:06:00",
          "2022-02-02T10:07:00",
          "2022-02-02T10:08:00",
          "2022-02-02T10:09:00",
          "2022-02-02T10:10:00",
          "2022-02-02T10:11:00",
          "2022-02-02T10:12:00",
          "2022-02-02T10:13:00",
          "2022-02-02T10:14:00",
          "2022-02-02T10:15:00",
          "2022-02-02T10:16:00",
          "2022-02-02T10:17:00",
          "2022-02-02T10:18:00",
          "2022-02-02T10:19:00",
          "2022-02-02T10:20:00",
          "2022-02-02T10:21:00",
          "2022-02-02T10:22:00",
          "2022-02-02T10:23:00",
          "2022-02-02T10:24:00",
          "2022-02-02T10:25:00",
          "2022-02-02T10:26:00",
          "2022-02-02T10:27:00",
          "2022-02-02T10:28:00",
          "2022-02-02T10:29:00",
          "2022-02-02T10:30:00",
          "2022-02-02T10:31:00",
          "2022-02-02T10:32:00",
          "2022-02-02T10:33:00",
          "2022-02-02T10:34:00",
          "2022-02-02T10:35:00",
          "2022-02-02T10:36:00",
          "2022-02-02T10:37:00",
          "2022-02-02T10:38:00",
          "2022-02-02T10:39:00",
          "2022-02-02T10:40:00",
          "2022-02-02T10:41:00",
          "2022-02-02T10:42:00",
          "2022-02-02T10:43:00",
          "2022-02-02T10:44:00",
          "2022-02-02T10:45:00",
          "2022-02-02T10:46:00",
          "2022-02-02T10:47:00",
          "2022-02-02T10:48:00",
          "2022-02-02T10:49:00",
          "2022-02-02T10:50:00",
          "2022-02-02T10:51:00",
          "2022-02-02T10:52:00",
          "2022-02-02T10:53:00",
          "2022-02-02T10:54:00",
          "2022-02-02T10:55:00",
          "2022-02-02T10:56:00",
          "2022-02-02T10:57:00",
          "2022-02-02T10:58:00",
          "2022-02-02T10:59:00",
          "2022-02-02T11:00:00",
          "2022-02-02T11:01:00",
          "2022-02-02T11:02:00",
          "2022-02-02T11:03:00",
          "2022-02-02T11:04:00",
          "2022-02-02T11:05:00",
          "2022-02-02T11:06:00",
          "2022-02-02T11:07:00",
          "2022-02-02T11:08:00",
          "2022-02-02T11:09:00",
          "2022-02-02T11:10:00",
          "2022-02-02T11:11:00",
          "2022-02-02T11:12:00",
          "2022-02-02T11:13:00",
          "2022-02-02T11:14:00",
          "2022-02-02T11:15:00",
          "2022-02-02T11:16:00",
          "2022-02-02T11:17:00",
          "2022-02-02T11:18:00",
          "2022-02-02T11:19:00",
          "2022-02-02T11:20:00",
          "2022-02-02T11:21:00",
          "2022-02-02T11:22:00",
          "2022-02-02T11:23:00",
          "2022-02-02T11:24:00",
          "2022-02-02T11:25:00",
          "2022-02-02T11:26:00",
          "2022-02-02T11:27:00",
          "2022-02-02T11:28:00",
          "2022-02-02T11:29:00",
          "2022-02-02T11:30:00",
          "2022-02-02T11:31:00",
          "2022-02-02T11:32:00",
          "2022-02-02T11:33:00",
          "2022-02-02T11:34:00",
          "2022-02-02T11:35:00",
          "2022-02-02T11:36:00",
          "2022-02-02T11:37:00",
          "2022-02-02T11:38:00",
          "2022-02-02T11:39:00",
          "2022-02-02T11:40:00",
          "2022-02-02T11:41:00",
          "2022-02-02T11:42:00",
          "2022-02-02T11:43:00",
          "2022-02-02T11:44:00",
          "2022-02-02T11:45:00",
          "2022-02-02T11:46:00",
          "2022-02-02T11:47:00",
          "2022-02-02T11:48:00",
          "2022-02-02T11:49:00",
          "2022-02-02T11:50:00",
          "2022-02-02T11:51:00",
          "2022-02-02T11:52:00",
          "2022-02-02T11:53:00",
          "2022-02-02T11:54:00",
          "2022-02-02T11:55:00",
          "2022-02-02T11:56:00",
          "2022-02-02T11:57:00",
          "2022-02-02T11:58:00",
          "2022-02-02T11:59:00",
          "2022-02-02T12:00:00",
          "2022-02-02T12:01:00",
          "2022-02-02T12:02:00",
          "2022-02-02T12:03:00",
          "2022-02-02T12:04:00",
          "2022-02-02T12:05:00",
          "2022-02-02T12:06:00",
          "2022-02-02T12:07:00",
          "2022-02-02T12:08:00",
          "2022-02-02T12:09:00",
          "2022-02-02T12:10:00",
          "2022-02-02T12:11:00",
          "2022-02-02T12:12:00",
          "2022-02-02T12:13:00",
          "2022-02-02T12:14:00",
          "2022-02-02T12:15:00",
          "2022-02-02T12:16:00",
          "2022-02-02T12:17:00",
          "2022-02-02T12:18:00",
          "2022-02-02T12:19:00",
          "2022-02-02T12:20:00",
          "2022-02-02T12:21:00",
          "2022-02-02T12:22:00",
          "2022-02-02T12:23:00",
          "2022-02-02T12:24:00",
          "2022-02-02T12:25:00",
          "2022-02-02T12:26:00",
          "2022-02-02T12:27:00",
          "2022-02-02T12:28:00",
          "2022-02-02T12:29:00",
          "2022-02-02T12:30:00",
          "2022-02-02T12:31:00",
          "2022-02-02T12:32:00",
          "2022-02-02T12:33:00",
          "2022-02-02T12:34:00",
          "2022-02-02T12:35:00",
          "2022-02-02T12:36:00",
          "2022-02-02T12:37:00",
          "2022-02-02T12:38:00",
          "2022-02-02T12:39:00",
          "2022-02-02T12:40:00",
          "2022-02-02T12:41:00",
          "2022-02-02T12:42:00",
          "2022-02-02T12:43:00",
          "2022-02-02T12:44:00",
          "2022-02-02T12:45:00",
          "2022-02-02T12:46:00",
          "2022-02-02T12:47:00",
          "2022-02-02T12:48:00",
          "2022-02-02T12:49:00",
          "2022-02-02T12:50:00",
          "2022-02-02T12:51:00",
          "2022-02-02T12:52:00",
          "2022-02-02T12:53:00",
          "2022-02-02T12:54:00",
          "2022-02-02T12:55:00",
          "2022-02-02T12:56:00",
          "2022-02-02T12:57:00",
          "2022-02-02T12:58:00",
          "2022-02-02T12:59:00",
          "2022-02-02T13:00:00",
          "2022-02-02T13:01:00",
          "2022-02-02T13:02:00",
          "2022-02-02T13:03:00",
          "2022-02-02T13:04:00",
          "2022-02-02T13:05:00",
          "2022-02-02T13:06:00",
          "2022-02-02T13:07:00",
          "2022-02-02T13:08:00",
          "2022-02-02T13:09:00",
          "2022-02-02T13:10:00",
          "2022-02-02T13:11:00",
          "2022-02-02T13:12:00",
          "2022-02-02T13:13:00",
          "2022-02-02T13:14:00",
          "2022-02-02T13:15:00",
          "2022-02-02T13:16:00",
          "2022-02-02T13:17:00",
          "2022-02-02T13:18:00",
          "2022-02-02T13:19:00",
          "2022-02-02T13:20:00",
          "2022-02-02T13:21:00",
          "2022-02-02T13:22:00",
          "2022-02-02T13:23:00",
          "2022-02-02T13:24:00",
          "2022-02-02T13:25:00",
          "2022-02-02T13:26:00",
          "2022-02-02T13:27:00",
          "2022-02-02T13:28:00",
          "2022-02-02T13:29:00",
          "2022-02-02T13:30:00",
          "2022-02-02T13:31:00",
          "2022-02-02T13:32:00",
          "2022-02-02T13:33:00",
          "2022-02-02T13:34:00",
          "2022-02-02T13:35:00",
          "2022-02-02T13:36:00",
          "2022-02-02T13:37:00",
          "2022-02-02T13:38:00",
          "2022-02-02T13:39:00",
          "2022-02-02T13:40:00",
          "2022-02-02T13:41:00",
          "2022-02-02T13:42:00"
         ],
         "y": [
          38763.09,
          38746.91,
          38728.05,
          38720.95,
          38675.95,
          38624.58,
          38654.65,
          38659.66,
          38686.7,
          38682.51,
          38747.76,
          38814.15,
          38802.79,
          38775.1,
          38787.77,
          38805.44,
          38823.4,
          38827.15,
          38804.95,
          38837.63,
          38841.02,
          38823.88,
          38799.42,
          38761.88,
          38756.55,
          38783.28,
          38801.99,
          38780.0,
          38754.14,
          38700.8,
          38630.88,
          38625.01,
          38517.26,
          38523.01,
          38511.2,
          38496.21,
          38480.25,
          38481.63,
          38469.03,
          38453.46,
          38490.7,
          38517.6,
          38502.17,
          38502.01,
          38480.9,
          38584.79,
          38555.76,
          38595.0,
          38622.39,
          38601.19,
          38616.3,
          38626.21,
          38647.18,
          38600.22,
          38564.19,
          38548.18,
          38547.95,
          38550.54,
          38557.27,
          38569.35,
          38555.41,
          38512.46,
          38529.22,
          38520.0,
          38559.37,
          38589.28,
          38619.27,
          38643.08,
          38639.91,
          38650.11,
          38645.24,
          38651.17,
          38651.72,
          38653.02,
          38571.01,
          38590.65,
          38585.99,
          38576.55,
          38550.0,
          38527.0,
          38515.15,
          38553.27,
          38532.74,
          38516.47,
          38484.13,
          38480.38,
          38499.47,
          38517.72,
          38496.31,
          38426.01,
          38389.62,
          38403.27,
          38426.34,
          38402.36,
          38399.92,
          38433.2,
          38402.88,
          38437.77,
          38422.63,
          38421.76,
          38427.52,
          38403.59,
          38400.0,
          38404.6,
          38409.45,
          38434.04,
          38444.42,
          38407.07,
          38426.86,
          38449.89,
          38459.98,
          38450.64,
          38410.0,
          38390.01,
          38402.16,
          38422.55,
          38410.54,
          38425.92,
          38439.76,
          38449.45,
          38465.78,
          38447.66,
          38422.2,
          38401.23,
          38433.14,
          38445.98,
          38441.06,
          38477.69,
          38476.57,
          38476.62,
          38511.52,
          38534.94,
          38530.91,
          38552.11,
          38558.2,
          38558.24,
          38595.62,
          38595.66,
          38580.85,
          38588.01,
          38599.6,
          38576.02,
          38607.9,
          38615.23,
          38609.31,
          38596.42,
          38600.01,
          38584.13,
          38604.33,
          38587.22,
          38569.22,
          38558.03,
          38563.38,
          38577.64,
          38595.09,
          38605.77,
          38604.84,
          38601.72,
          38619.05,
          38624.53,
          38625.0,
          38604.78,
          38630.64,
          38629.98,
          38628.16,
          38632.03,
          38634.9,
          38628.11,
          38625.51,
          38590.5,
          38599.83,
          38628.38,
          38640.38,
          38657.0,
          38663.45,
          38640.15,
          38644.36,
          38632.39,
          38622.81,
          38638.16,
          38654.51,
          38651.72,
          38661.29,
          38686.43,
          38676.91,
          38674.51,
          38663.31,
          38667.83,
          38676.54,
          38673.25,
          38673.14,
          38694.29,
          38695.99,
          38724.01,
          38738.23,
          38722.75,
          38691.85,
          38679.17,
          38666.02,
          38684.24,
          38695.35,
          38698.15,
          38698.13,
          38700.75,
          38697.0,
          38699.11,
          38693.41,
          38674.65,
          38674.58,
          38650.99,
          38639.29,
          38635.11,
          38635.13,
          38646.13,
          38614.98,
          38603.34,
          38579.95,
          38561.11,
          38578.34,
          38591.65,
          38583.38,
          38552.06,
          38552.07,
          38555.29,
          38558.99,
          38560.01,
          38560.01,
          38562.83,
          38564.86,
          38577.59,
          38585.69,
          38582.01,
          38578.8,
          38569.45,
          38573.07,
          38553.23,
          38552.87,
          38552.86,
          38552.87,
          38513.84,
          38499.25,
          38502.57,
          38486.65,
          38481.17,
          38480.99,
          38463.01,
          38456.67,
          38453.86,
          38430.03,
          38448.79,
          38432.53,
          38416.64,
          38431.14,
          38424.82,
          38426.67,
          38448.38,
          38467.41,
          38454.96,
          38464.7,
          38483.01,
          38494.84,
          38499.98,
          38496.3,
          38493.72,
          38509.98,
          38508.43,
          38502.91,
          38475.48,
          38460.58,
          38493.64,
          38415.27,
          38449.74,
          38459.99,
          38490.95,
          38527.78,
          38528.06,
          38525.89,
          38541.39,
          38543.51,
          38533.16,
          38525.01,
          38503.61,
          38506.51,
          38501.76,
          38475.92,
          38466.15,
          38450.49,
          38454.44,
          38455.85,
          38455.12,
          38451.17,
          38464.75,
          38509.16,
          38513.6,
          38529.05,
          38508.11,
          38520.6,
          38474.18,
          38423.44,
          38439.37,
          38427.68,
          38427.68,
          38474.16,
          38479.98,
          38480.01,
          38479.19,
          38496.11,
          38503.99,
          38488.83,
          38492.0,
          38468.19,
          38450.8,
          38432.49,
          38430.01,
          38420.0,
          38396.33,
          38395.94,
          38380.51,
          38373.14,
          38377.15,
          38342.17,
          38332.54,
          38345.34,
          38359.49,
          38333.85,
          38345.81,
          38340.7,
          38357.08,
          38366.64,
          38397.85,
          38350.0,
          38342.76,
          38346.99,
          38346.5,
          38359.8,
          38373.36,
          38380.01,
          38395.01,
          38389.08,
          38380.01,
          38380.91,
          38364.93,
          38341.28,
          38341.55,
          38356.85,
          38360.82,
          38370.0,
          38359.69,
          38364.37,
          38374.98,
          38369.0,
          38373.95,
          38362.1,
          38377.78,
          38379.06,
          38374.14,
          38387.09,
          38400.0,
          38416.38,
          38413.99,
          38391.96,
          38377.2,
          38400.0,
          38398.37,
          38410.24,
          38405.43,
          38418.39,
          38420.37,
          38429.74,
          38437.47,
          38440.09,
          38463.63,
          38446.63,
          38463.43,
          38467.41,
          38451.0,
          38446.63,
          38460.0,
          38465.89,
          38491.31,
          38511.23,
          38480.56,
          38480.4,
          38461.85,
          38436.53,
          38428.23,
          38428.23,
          38428.22,
          38451.92,
          38468.2,
          38461.14,
          38466.75,
          38459.36,
          38442.21,
          38349.44,
          38342.9,
          38330.57,
          38341.01,
          38327.04,
          38368.25,
          38376.7,
          38359.72,
          38280.0,
          38260.0,
          38296.82,
          38305.8,
          38280.75,
          38284.79,
          38252.24,
          38222.0,
          38229.99,
          38221.06,
          38202.99,
          38210.68,
          38222.15,
          38206.67,
          38219.99,
          38256.34,
          38277.51,
          38304.79,
          38262.68,
          38252.6,
          38217.43,
          38232.55,
          38272.47,
          38270.65,
          38244.07,
          38250.0,
          38256.04,
          38258.85,
          38293.54,
          38315.46,
          38321.01,
          38312.69,
          38332.22,
          38311.76,
          38283.29,
          38309.58,
          38304.21,
          38306.02,
          38314.99,
          38333.27,
          38341.5,
          38347.71,
          38345.56,
          38353.98,
          38352.77,
          38347.0,
          38353.5,
          38375.23,
          38355.19,
          38367.08,
          38345.9,
          38322.33,
          38320.0,
          38300.01,
          38294.17,
          38270.23,
          38275.58,
          38290.7,
          38292.54,
          38321.0,
          38295.1,
          38290.78,
          38255.5,
          38250.0,
          38240.38,
          38208.26,
          38217.15,
          38230.87,
          38211.02,
          38233.37,
          38235.99,
          38227.32,
          38265.63,
          38278.51,
          38295.6,
          38258.29,
          38284.69,
          38252.79,
          38226.91,
          38293.88,
          38333.0,
          38354.12,
          38340.36,
          38374.67,
          38370.01,
          38340.0,
          38364.65,
          38362.09,
          38363.04,
          38373.19,
          38368.01,
          38367.48,
          38398.83,
          38396.94,
          38404.42,
          38404.03,
          38397.19,
          38450.01,
          38380.0,
          38387.76,
          38406.05,
          38411.61,
          38404.26,
          38405.99,
          38408.02,
          38387.3,
          38369.26,
          38365.16,
          38372.08,
          38395.42,
          38385.63,
          38379.99,
          38390.71,
          38398.62,
          38409.29,
          38395.27,
          38387.92,
          38399.99,
          38394.67,
          38402.93,
          38401.74,
          38391.49,
          38385.02,
          38368.4,
          38358.47,
          38362.98,
          38343.94,
          38382.49,
          38381.53,
          38444.0,
          38397.65,
          38431.01,
          38429.52,
          38445.62,
          38462.86,
          38448.27,
          38447.49,
          38411.46,
          38427.05,
          38466.25,
          38488.78,
          38495.61,
          38487.56,
          38496.51,
          38473.55,
          38448.38,
          38424.14,
          38439.21,
          38404.47,
          38427.08,
          38423.59,
          38426.59,
          38428.55,
          38424.19,
          38405.0,
          38411.86,
          38417.75,
          38429.61,
          38469.14,
          38458.4,
          38443.74,
          38460.39,
          38478.38,
          38491.06,
          38483.02,
          38471.2,
          38445.01,
          38451.7,
          38469.23,
          38479.34,
          38472.59,
          38473.35,
          38472.51,
          38490.26,
          38478.06,
          38489.32,
          38481.5,
          38471.4,
          38472.09,
          38487.81,
          38501.05,
          38510.99,
          38503.74,
          38503.41,
          38528.49,
          38537.64,
          38538.08,
          38539.26,
          38541.74,
          38540.01,
          38522.2,
          38524.39,
          38544.33,
          38536.06,
          38518.03,
          38515.44,
          38530.85,
          38504.26,
          38503.49,
          38511.26,
          38503.03,
          38503.52,
          38511.86,
          38469.43,
          38468.61,
          38470.03,
          38466.09,
          38432.79,
          38416.81,
          38416.54,
          38434.86,
          38443.42,
          38452.1,
          38457.77,
          38447.89,
          38418.0,
          38407.49,
          38426.08,
          38427.89,
          38419.98,
          38443.48,
          38429.61,
          38434.91,
          38461.05,
          38482.32,
          38513.06,
          38511.29,
          38525.05,
          38540.0,
          38542.99,
          38538.5,
          38548.44,
          38550.51,
          38524.86,
          38524.85,
          38530.43,
          38540.61,
          38536.69,
          38485.55,
          38500.0,
          38497.15,
          38497.16,
          38489.1,
          38540.0,
          38531.65,
          38576.57,
          38572.17,
          38594.92,
          38577.01,
          38589.87,
          38591.71,
          38585.32,
          38580.02,
          38580.0,
          38567.94,
          38560.94,
          38566.26,
          38562.81,
          38539.17,
          38528.55,
          38527.81,
          38534.91,
          38529.36,
          38524.56,
          38500.6,
          38500.0,
          38483.59,
          38491.7,
          38485.98,
          38489.49,
          38487.0,
          38501.75,
          38500.43,
          38500.23,
          38494.68,
          38490.81,
          38458.56,
          38443.55,
          38470.13,
          38475.2,
          38499.99,
          38484.45,
          38480.31,
          38483.93,
          38483.99,
          38506.17,
          38521.46,
          38538.36,
          38521.46,
          38497.57,
          38473.26,
          38476.7,
          38474.65,
          38489.8,
          38485.17,
          38494.59,
          38508.53,
          38521.2,
          38506.85,
          38476.56,
          38477.49,
          38480.13,
          38505.86,
          38520.25,
          38529.24,
          38518.26,
          38509.64,
          38497.18,
          38491.71,
          38492.42,
          38499.97,
          38500.71,
          38506.04,
          38510.0,
          38511.21,
          38503.6,
          38490.0,
          38527.47,
          38503.43,
          38507.35,
          38519.53,
          38536.55,
          38539.95,
          38549.99,
          38555.41,
          38562.76,
          38565.83,
          38653.9,
          38652.23,
          38633.04,
          38663.33,
          38650.16,
          38674.91,
          38656.53,
          38629.3,
          38628.74,
          38582.41,
          38591.41,
          38580.61,
          38589.99,
          38589.52,
          38605.69,
          38607.68,
          38611.17,
          38631.33,
          38646.99,
          38643.09,
          38608.77,
          38594.45,
          38600.0,
          38589.0,
          38580.09,
          38620.0,
          38608.05,
          38606.82,
          38602.96,
          38609.92,
          38624.84,
          38645.5,
          38683.97,
          38698.11,
          38701.21,
          38710.89,
          38705.79,
          38725.95,
          38687.77,
          38695.38,
          38692.92,
          38651.65,
          38650.9,
          38668.51,
          38689.31,
          38709.93,
          38711.28,
          38697.5,
          38685.91,
          38723.99,
          38721.72,
          38732.1,
          38735.38,
          38748.61,
          38715.02,
          38719.29,
          38716.55,
          38700.84,
          38710.0,
          38710.02,
          38690.0,
          38662.27,
          38632.97,
          38608.95,
          38596.16,
          38594.79,
          38604.74,
          38564.43,
          38507.35,
          38557.12,
          38557.07,
          38514.88,
          38530.83,
          38490.01,
          38491.0,
          38472.45,
          38501.13,
          38487.4,
          38515.84,
          38529.98,
          38500.38,
          38520.0,
          38494.89,
          38505.11,
          38515.72,
          38529.47,
          38536.0,
          38541.61,
          38527.49,
          38533.38,
          38561.93,
          38551.3,
          38556.81,
          38485.36,
          38494.48,
          38450.14,
          38434.63,
          38450.7,
          38450.01,
          38406.91,
          38358.97,
          38410.77,
          38366.21,
          38373.92,
          38367.36,
          38391.81,
          38374.23,
          38381.64,
          38346.28,
          38361.61,
          38353.15,
          38395.13,
          38386.77,
          38395.21,
          38402.95,
          38390.0,
          38385.59,
          38337.53,
          38370.82,
          38379.48,
          38388.03,
          38384.15,
          38397.2,
          38424.57,
          38400.88,
          38423.83,
          38400.2,
          38401.53,
          38332.16,
          38331.59,
          38303.97,
          38306.96,
          38286.01,
          38264.88,
          38290.06,
          38324.72,
          38312.25,
          38338.22,
          38355.91,
          38346.2,
          38358.14,
          38315.22,
          38133.77,
          37895.99,
          37962.83,
          37945.75,
          37941.34,
          37895.62,
          37981.22,
          37951.26,
          37899.49,
          37864.3,
          37805.99,
          37768.38,
          37808.29,
          37828.46,
          37735.82,
          37760.63,
          37723.4,
          37626.66,
          37731.99,
          37749.36,
          37742.95,
          37725.15,
          37776.81,
          37725.67,
          37635.87,
          37671.97,
          37690.73,
          37703.72,
          37767.0,
          37797.65,
          37709.22,
          37652.3,
          37612.73,
          37680.64,
          37639.84,
          37689.84,
          37678.2,
          37712.13,
          37644.01,
          37692.59,
          37660.73,
          37630.68,
          37589.75,
          37622.1,
          37652.79,
          37604.74,
          37624.45,
          37658.62,
          37635.76,
          37613.82,
          37636.86,
          37612.53,
          37628.32,
          37613.35,
          37553.75,
          37653.28,
          37662.79,
          37619.97,
          37652.45,
          37627.95,
          37550.76,
          37485.2,
          37486.27,
          37453.59,
          37452.5,
          37447.82,
          37485.82,
          37487.77,
          37534.0,
          37495.28,
          37530.32,
          37518.92,
          37566.97,
          37540.01,
          37522.05,
          37502.27,
          37506.1,
          37498.12,
          37487.74,
          37483.67,
          37438.08,
          37404.64,
          37409.33,
          37429.88,
          37434.04,
          37384.62,
          37382.71,
          37429.78,
          37361.7,
          37404.32,
          37342.82,
          37276.48,
          37329.04,
          37306.08,
          37268.92,
          37215.99,
          37231.42,
          37240.0,
          37293.47,
          37253.92,
          37228.34,
          37193.37,
          37181.34,
          37069.57,
          37140.92,
          37152.43,
          37130.31,
          37162.8,
          37210.01,
          37238.34,
          37211.04,
          37250.08,
          37274.45,
          37258.2,
          37274.55,
          37305.74,
          37279.59,
          37239.02,
          37178.02,
          37214.99,
          37197.83,
          37192.82,
          37190.01,
          37185.4,
          37176.99,
          37196.08,
          37122.28,
          37135.05,
          37173.98,
          37180.97,
          37182.65
         ],
         "type": "scatter"
        },
        {
         "mode": "markers",
         "name": "Buys",
         "x": [
          "2022-02-01T21:25:00",
          "2022-02-01T21:53:00",
          "2022-02-01T22:13:00",
          "2022-02-01T22:31:00",
          "2022-02-01T22:55:00",
          "2022-02-01T23:29:00",
          "2022-02-02T00:19:00",
          "2022-02-02T00:33:00",
          "2022-02-02T00:58:00",
          "2022-02-02T01:10:00",
          "2022-02-02T01:29:00",
          "2022-02-02T01:43:00",
          "2022-02-02T01:57:00",
          "2022-02-02T02:19:00",
          "2022-02-02T03:37:00",
          "2022-02-02T03:50:00",
          "2022-02-02T04:49:00",
          "2022-02-02T04:59:00",
          "2022-02-02T05:47:00",
          "2022-02-02T06:09:00",
          "2022-02-02T06:59:00",
          "2022-02-02T07:39:00",
          "2022-02-02T09:20:00",
          "2022-02-02T09:31:00",
          "2022-02-02T09:49:00",
          "2022-02-02T10:15:00",
          "2022-02-02T10:44:00",
          "2022-02-02T11:17:00",
          "2022-02-02T11:30:00",
          "2022-02-02T11:43:00",
          "2022-02-02T11:54:00",
          "2022-02-02T12:04:00",
          "2022-02-02T12:15:00",
          "2022-02-02T12:33:00",
          "2022-02-02T12:53:00",
          "2022-02-02T13:03:00",
          "2022-02-02T13:16:00",
          "2022-02-02T13:31:00"
         ],
         "y": [
          38756.55,
          38647.18,
          38651.72,
          38389.62,
          38402.16,
          38604.33,
          38666.02,
          38635.13,
          38552.86,
          38448.79,
          38460.58,
          38506.51,
          38520.6,
          38373.14,
          38330.57,
          38222.0,
          38217.15,
          38284.69,
          38358.47,
          38424.14,
          38530.85,
          38540.61,
          38591.41,
          38594.45,
          38695.38,
          38594.79,
          38494.48,
          38401.53,
          38358.14,
          37768.38,
          37776.81,
          37612.73,
          37622.1,
          37485.2,
          37404.64,
          37276.48,
          37140.92,
          37214.99
         ],
         "type": "scatter"
        },
        {
         "mode": "markers",
         "name": "Sells",
         "x": [
          "2022-02-01T21:10:00",
          "2022-02-01T21:12:00",
          "2022-02-01T21:13:00",
          "2022-02-01T21:18:00",
          "2022-02-01T21:19:00",
          "2022-02-01T21:44:00",
          "2022-02-01T21:45:00",
          "2022-02-01T21:47:00",
          "2022-02-01T21:49:00",
          "2022-02-01T22:08:00",
          "2022-02-01T22:48:00",
          "2022-02-01T23:09:00",
          "2022-02-01T23:12:00",
          "2022-02-01T23:37:00",
          "2022-02-01T23:55:00",
          "2022-02-02T01:18:00",
          "2022-02-02T01:22:00",
          "2022-02-02T01:23:00",
          "2022-02-02T01:36:00",
          "2022-02-02T01:55:00",
          "2022-02-02T02:05:00",
          "2022-02-02T03:06:00",
          "2022-02-02T03:30:00",
          "2022-02-02T04:13:00",
          "2022-02-02T04:24:00",
          "2022-02-02T04:53:00",
          "2022-02-02T04:54:00",
          "2022-02-02T04:57:00",
          "2022-02-02T05:04:00",
          "2022-02-02T05:05:00",
          "2022-02-02T05:18:00",
          "2022-02-02T05:51:00",
          "2022-02-02T05:53:00",
          "2022-02-02T05:57:00",
          "2022-02-02T06:04:00",
          "2022-02-02T06:22:00",
          "2022-02-02T06:34:00",
          "2022-02-02T06:45:00",
          "2022-02-02T07:29:00",
          "2022-02-02T07:45:00",
          "2022-02-02T07:47:00",
          "2022-02-02T07:49:00",
          "2022-02-02T07:51:00",
          "2022-02-02T08:24:00",
          "2022-02-02T09:11:00",
          "2022-02-02T09:57:00",
          "2022-02-02T10:27:00",
          "2022-02-02T10:29:00",
          "2022-02-02T10:38:00",
          "2022-02-02T11:02:00",
          "2022-02-02T11:11:00",
          "2022-02-02T11:26:00",
          "2022-02-02T11:28:00",
          "2022-02-02T11:37:00",
          "2022-02-02T11:52:00",
          "2022-02-02T11:53:00",
          "2022-02-02T12:25:00",
          "2022-02-02T12:41:00",
          "2022-02-02T12:43:00",
          "2022-02-02T13:21:00",
          "2022-02-02T13:22:00",
          "2022-02-02T13:24:00"
         ],
         "y": [
          38682.51,
          38814.15,
          38802.79,
          38827.15,
          38804.95,
          38502.01,
          38480.9,
          38555.76,
          38622.39,
          38643.08,
          38407.07,
          38476.57,
          38534.94,
          38604.84,
          38663.45,
          38454.96,
          38499.98,
          38496.3,
          38528.06,
          38529.05,
          38480.01,
          38405.43,
          38468.2,
          38321.01,
          38347.71,
          38235.99,
          38227.32,
          38295.6,
          38354.12,
          38340.36,
          38404.03,
          38381.53,
          38397.65,
          38462.86,
          38495.61,
          38458.4,
          38473.35,
          38503.74,
          38511.29,
          38489.1,
          38531.65,
          38572.17,
          38577.01,
          38484.45,
          38652.23,
          38697.5,
          38487.4,
          38529.98,
          38527.49,
          38386.77,
          38384.15,
          38312.25,
          38355.91,
          37895.62,
          37742.95,
          37725.15,
          37613.35,
          37495.28,
          37518.92,
          37238.34,
          37211.04,
          37274.45
         ],
         "type": "scatter"
        }
       ],
       "layout": {
        "template": {
         "data": {
          "histogram2dcontour": [
           {
            "type": "histogram2dcontour",
            "colorbar": {
             "outlinewidth": 0,
             "ticks": ""
            },
            "colorscale": [
             [
              0.0,
              "#0d0887"
             ],
             [
              0.1111111111111111,
              "#46039f"
             ],
             [
              0.2222222222222222,
              "#7201a8"
             ],
             [
              0.3333333333333333,
              "#9c179e"
             ],
             [
              0.4444444444444444,
              "#bd3786"
             ],
             [
              0.5555555555555556,
              "#d8576b"
             ],
             [
              0.6666666666666666,
              "#ed7953"
             ],
             [
              0.7777777777777778,
              "#fb9f3a"
             ],
             [
              0.8888888888888888,
              "#fdca26"
             ],
             [
              1.0,
              "#f0f921"
             ]
            ]
           }
          ],
          "choropleth": [
           {
            "type": "choropleth",
            "colorbar": {
             "outlinewidth": 0,
             "ticks": ""
            }
           }
          ],
          "histogram2d": [
           {
            "type": "histogram2d",
            "colorbar": {
             "outlinewidth": 0,
             "ticks": ""
            },
            "colorscale": [
             [
              0.0,
              "#0d0887"
             ],
             [
              0.1111111111111111,
              "#46039f"
             ],
             [
              0.2222222222222222,
              "#7201a8"
             ],
             [
              0.3333333333333333,
              "#9c179e"
             ],
             [
              0.4444444444444444,
              "#bd3786"
             ],
             [
              0.5555555555555556,
              "#d8576b"
             ],
             [
              0.6666666666666666,
              "#ed7953"
             ],
             [
              0.7777777777777778,
              "#fb9f3a"
             ],
             [
              0.8888888888888888,
              "#fdca26"
             ],
             [
              1.0,
              "#f0f921"
             ]
            ]
           }
          ],
          "heatmap": [
           {
            "type": "heatmap",
            "colorbar": {
             "outlinewidth": 0,
             "ticks": ""
            },
            "colorscale": [
             [
              0.0,
              "#0d0887"
             ],
             [
              0.1111111111111111,
              "#46039f"
             ],
             [
              0.2222222222222222,
              "#7201a8"
             ],
             [
              0.3333333333333333,
              "#9c179e"
             ],
             [
              0.4444444444444444,
              "#bd3786"
             ],
             [
              0.5555555555555556,
              "#d8576b"
             ],
             [
              0.6666666666666666,
              "#ed7953"
             ],
             [
              0.7777777777777778,
              "#fb9f3a"
             ],
             [
              0.8888888888888888,
              "#fdca26"
             ],
             [
              1.0,
              "#f0f921"
             ]
            ]
           }
          ],
          "heatmapgl": [
           {
            "type": "heatmapgl",
            "colorbar": {
             "outlinewidth": 0,
             "ticks": ""
            },
            "colorscale": [
             [
              0.0,
              "#0d0887"
             ],
             [
              0.1111111111111111,
              "#46039f"
             ],
             [
              0.2222222222222222,
              "#7201a8"
             ],
             [
              0.3333333333333333,
              "#9c179e"
             ],
             [
              0.4444444444444444,
              "#bd3786"
             ],
             [
              0.5555555555555556,
              "#d8576b"
             ],
             [
              0.6666666666666666,
              "#ed7953"
             ],
             [
              0.7777777777777778,
              "#fb9f3a"
             ],
             [
              0.8888888888888888,
              "#fdca26"
             ],
             [
              1.0,
              "#f0f921"
             ]
            ]
           }
          ],
          "contourcarpet": [
           {
            "type": "contourcarpet",
            "colorbar": {
             "outlinewidth": 0,
             "ticks": ""
            }
           }
          ],
          "contour": [
           {
            "type": "contour",
            "colorbar": {
             "outlinewidth": 0,
             "ticks": ""
            },
            "colorscale": [
             [
              0.0,
              "#0d0887"
             ],
             [
              0.1111111111111111,
              "#46039f"
             ],
             [
              0.2222222222222222,
              "#7201a8"
             ],
             [
              0.3333333333333333,
              "#9c179e"
             ],
             [
              0.4444444444444444,
              "#bd3786"
             ],
             [
              0.5555555555555556,
              "#d8576b"
             ],
             [
              0.6666666666666666,
              "#ed7953"
             ],
             [
              0.7777777777777778,
              "#fb9f3a"
             ],
             [
              0.8888888888888888,
              "#fdca26"
             ],
             [
              1.0,
              "#f0f921"
             ]
            ]
           }
          ],
          "surface": [
           {
            "type": "surface",
            "colorbar": {
             "outlinewidth": 0,
             "ticks": ""
            },
            "colorscale": [
             [
              0.0,
              "#0d0887"
             ],
             [
              0.1111111111111111,
              "#46039f"
             ],
             [
              0.2222222222222222,
              "#7201a8"
             ],
             [
              0.3333333333333333,
              "#9c179e"
             ],
             [
              0.4444444444444444,
              "#bd3786"
             ],
             [
              0.5555555555555556,
              "#d8576b"
             ],
             [
              0.6666666666666666,
              "#ed7953"
             ],
             [
              0.7777777777777778,
              "#fb9f3a"
             ],
             [
              0.8888888888888888,
              "#fdca26"
             ],
             [
              1.0,
              "#f0f921"
             ]
            ]
           }
          ],
          "mesh3d": [
           {
            "type": "mesh3d",
            "colorbar": {
             "outlinewidth": 0,
             "ticks": ""
            }
           }
          ],
          "scatter": [
           {
            "marker": {
             "line": {
              "color": "#283442"
             }
            },
            "type": "scatter"
           }
          ],
          "parcoords": [
           {
            "type": "parcoords",
            "line": {
             "colorbar": {
              "outlinewidth": 0,
              "ticks": ""
             }
            }
           }
          ],
          "scatterpolargl": [
           {
            "type": "scatterpolargl",
            "marker": {
             "colorbar": {
              "outlinewidth": 0,
              "ticks": ""
             }
            }
           }
          ],
          "bar": [
           {
            "error_x": {
             "color": "#f2f5fa"
            },
            "error_y": {
             "color": "#f2f5fa"
            },
            "marker": {
             "line": {
              "color": "rgb(17,17,17)",
              "width": 0.5
             },
             "pattern": {
              "fillmode": "overlay",
              "size": 10,
              "solidity": 0.2
             }
            },
            "type": "bar"
           }
          ],
          "scattergeo": [
           {
            "type": "scattergeo",
            "marker": {
             "colorbar": {
              "outlinewidth": 0,
              "ticks": ""
             }
            }
           }
          ],
          "scatterpolar": [
           {
            "type": "scatterpolar",
            "marker": {
             "colorbar": {
              "outlinewidth": 0,
              "ticks": ""
             }
            }
           }
          ],
          "histogram": [
           {
            "marker": {
             "pattern": {
              "fillmode": "overlay",
              "size": 10,
              "solidity": 0.2
             }
            },
            "type": "histogram"
           }
          ],
          "scattergl": [
           {
            "marker": {
             "line": {
              "color": "#283442"
             }
            },
            "type": "scattergl"
           }
          ],
          "scatter3d": [
           {
            "type": "scatter3d",
            "line": {
             "colorbar": {
              "outlinewidth": 0,
              "ticks": ""
             }
            },
            "marker": {
             "colorbar": {
              "outlinewidth": 0,
              "ticks": ""
             }
            }
           }
          ],
          "scattermapbox": [
           {
            "type": "scattermapbox",
            "marker": {
             "colorbar": {
              "outlinewidth": 0,
              "ticks": ""
             }
            }
           }
          ],
          "scatterternary": [
           {
            "type": "scatterternary",
            "marker": {
             "colorbar": {
              "outlinewidth": 0,
              "ticks": ""
             }
            }
           }
          ],
          "scattercarpet": [
           {
            "type": "scattercarpet",
            "marker": {
             "colorbar": {
              "outlinewidth": 0,
              "ticks": ""
             }
            }
           }
          ],
          "carpet": [
           {
            "aaxis": {
             "endlinecolor": "#A2B1C6",
             "gridcolor": "#506784",
             "linecolor": "#506784",
             "minorgridcolor": "#506784",
             "startlinecolor": "#A2B1C6"
            },
            "baxis": {
             "endlinecolor": "#A2B1C6",
             "gridcolor": "#506784",
             "linecolor": "#506784",
             "minorgridcolor": "#506784",
             "startlinecolor": "#A2B1C6"
            },
            "type": "carpet"
           }
          ],
          "table": [
           {
            "cells": {
             "fill": {
              "color": "#506784"
             },
             "line": {
              "color": "rgb(17,17,17)"
             }
            },
            "header": {
             "fill": {
              "color": "#2a3f5f"
             },
             "line": {
              "color": "rgb(17,17,17)"
             }
            },
            "type": "table"
           }
          ],
          "barpolar": [
           {
            "marker": {
             "line": {
              "color": "rgb(17,17,17)",
              "width": 0.5
             },
             "pattern": {
              "fillmode": "overlay",
              "size": 10,
              "solidity": 0.2
             }
            },
            "type": "barpolar"
           }
          ],
          "pie": [
           {
            "automargin": true,
            "type": "pie"
           }
          ]
         },
         "layout": {
          "autotypenumbers": "strict",
          "colorway": [
           "#636efa",
           "#EF553B",
           "#00cc96",
           "#ab63fa",
           "#FFA15A",
           "#19d3f3",
           "#FF6692",
           "#B6E880",
           "#FF97FF",
           "#FECB52"
          ],
          "font": {
           "color": "#f2f5fa"
          },
          "hovermode": "closest",
          "hoverlabel": {
           "align": "left"
          },
          "paper_bgcolor": "rgb(17,17,17)",
          "plot_bgcolor": "rgb(17,17,17)",
          "polar": {
           "bgcolor": "rgb(17,17,17)",
           "angularaxis": {
            "gridcolor": "#506784",
            "linecolor": "#506784",
            "ticks": ""
           },
           "radialaxis": {
            "gridcolor": "#506784",
            "linecolor": "#506784",
            "ticks": ""
           }
          },
          "ternary": {
           "bgcolor": "rgb(17,17,17)",
           "aaxis": {
            "gridcolor": "#506784",
            "linecolor": "#506784",
            "ticks": ""
           },
           "baxis": {
            "gridcolor": "#506784",
            "linecolor": "#506784",
            "ticks": ""
           },
           "caxis": {
            "gridcolor": "#506784",
            "linecolor": "#506784",
            "ticks": ""
           }
          },
          "coloraxis": {
           "colorbar": {
            "outlinewidth": 0,
            "ticks": ""
           }
          },
          "colorscale": {
           "sequential": [
            [
             0.0,
             "#0d0887"
            ],
            [
             0.1111111111111111,
             "#46039f"
            ],
            [
             0.2222222222222222,
             "#7201a8"
            ],
            [
             0.3333333333333333,
             "#9c179e"
            ],
            [
             0.4444444444444444,
             "#bd3786"
            ],
            [
             0.5555555555555556,
             "#d8576b"
            ],
            [
             0.6666666666666666,
             "#ed7953"
            ],
            [
             0.7777777777777778,
             "#fb9f3a"
            ],
            [
             0.8888888888888888,
             "#fdca26"
            ],
            [
             1.0,
             "#f0f921"
            ]
           ],
           "sequentialminus": [
            [
             0.0,
             "#0d0887"
            ],
            [
             0.1111111111111111,
             "#46039f"
            ],
            [
             0.2222222222222222,
             "#7201a8"
            ],
            [
             0.3333333333333333,
             "#9c179e"
            ],
            [
             0.4444444444444444,
             "#bd3786"
            ],
            [
             0.5555555555555556,
             "#d8576b"
            ],
            [
             0.6666666666666666,
             "#ed7953"
            ],
            [
             0.7777777777777778,
             "#fb9f3a"
            ],
            [
             0.8888888888888888,
             "#fdca26"
            ],
            [
             1.0,
             "#f0f921"
            ]
           ],
           "diverging": [
            [
             0,
             "#8e0152"
            ],
            [
             0.1,
             "#c51b7d"
            ],
            [
             0.2,
             "#de77ae"
            ],
            [
             0.3,
             "#f1b6da"
            ],
            [
             0.4,
             "#fde0ef"
            ],
            [
             0.5,
             "#f7f7f7"
            ],
            [
             0.6,
             "#e6f5d0"
            ],
            [
             0.7,
             "#b8e186"
            ],
            [
             0.8,
             "#7fbc41"
            ],
            [
             0.9,
             "#4d9221"
            ],
            [
             1,
             "#276419"
            ]
           ]
          },
          "xaxis": {
           "gridcolor": "#283442",
           "linecolor": "#506784",
           "ticks": "",
           "title": {
            "standoff": 15
           },
           "zerolinecolor": "#283442",
           "automargin": true,
           "zerolinewidth": 2
          },
          "yaxis": {
           "gridcolor": "#283442",
           "linecolor": "#506784",
           "ticks": "",
           "title": {
            "standoff": 15
           },
           "zerolinecolor": "#283442",
           "automargin": true,
           "zerolinewidth": 2
          },
          "scene": {
           "xaxis": {
            "backgroundcolor": "rgb(17,17,17)",
            "gridcolor": "#506784",
            "linecolor": "#506784",
            "showbackground": true,
            "ticks": "",
            "zerolinecolor": "#C8D4E3",
            "gridwidth": 2
           },
           "yaxis": {
            "backgroundcolor": "rgb(17,17,17)",
            "gridcolor": "#506784",
            "linecolor": "#506784",
            "showbackground": true,
            "ticks": "",
            "zerolinecolor": "#C8D4E3",
            "gridwidth": 2
           },
           "zaxis": {
            "backgroundcolor": "rgb(17,17,17)",
            "gridcolor": "#506784",
            "linecolor": "#506784",
            "showbackground": true,
            "ticks": "",
            "zerolinecolor": "#C8D4E3",
            "gridwidth": 2
           }
          },
          "shapedefaults": {
           "line": {
            "color": "#f2f5fa"
           }
          },
          "annotationdefaults": {
           "arrowcolor": "#f2f5fa",
           "arrowhead": 0,
           "arrowwidth": 1
          },
          "geo": {
           "bgcolor": "rgb(17,17,17)",
           "landcolor": "rgb(17,17,17)",
           "subunitcolor": "#506784",
           "showland": true,
           "showlakes": true,
           "lakecolor": "rgb(17,17,17)"
          },
          "title": {
           "x": 0.05
          },
          "updatemenudefaults": {
           "bgcolor": "#506784",
           "borderwidth": 0
          },
          "sliderdefaults": {
           "bgcolor": "#C8D4E3",
           "borderwidth": 1,
           "bordercolor": "rgb(17,17,17)",
           "tickwidth": 0
          },
          "mapbox": {
           "style": "dark"
          }
         }
        },
        "xaxis": {
         "anchor": "y",
         "domain": [
          0.0,
          1.0
         ]
        },
        "yaxis": {
         "anchor": "x",
         "domain": [
          0.0,
          1.0
         ]
        },
        "title": {
         "text": "Probable buys and sells for NDTR=2 and std=0.0003 | Amount of trades=36"
        }
       },
       "config": {
        "plotlyServerURL": "https://plot.ly"
       }
      },
      "text/html": "<div>                            <div id=\"a14b93bc-da90-4201-9c7f-b159da0a2ab8\" class=\"plotly-graph-div\" style=\"height:525px; width:100%;\"></div>            <script type=\"text/javascript\">                require([\"plotly\"], function(Plotly) {                    window.PLOTLYENV=window.PLOTLYENV || {};                                    if (document.getElementById(\"a14b93bc-da90-4201-9c7f-b159da0a2ab8\")) {                    Plotly.newPlot(                        \"a14b93bc-da90-4201-9c7f-b159da0a2ab8\",                        [{\"name\":\"Close price in time\",\"x\":[\"2022-02-01T21:01:00\",\"2022-02-01T21:02:00\",\"2022-02-01T21:03:00\",\"2022-02-01T21:04:00\",\"2022-02-01T21:05:00\",\"2022-02-01T21:06:00\",\"2022-02-01T21:07:00\",\"2022-02-01T21:08:00\",\"2022-02-01T21:09:00\",\"2022-02-01T21:10:00\",\"2022-02-01T21:11:00\",\"2022-02-01T21:12:00\",\"2022-02-01T21:13:00\",\"2022-02-01T21:14:00\",\"2022-02-01T21:15:00\",\"2022-02-01T21:16:00\",\"2022-02-01T21:17:00\",\"2022-02-01T21:18:00\",\"2022-02-01T21:19:00\",\"2022-02-01T21:20:00\",\"2022-02-01T21:21:00\",\"2022-02-01T21:22:00\",\"2022-02-01T21:23:00\",\"2022-02-01T21:24:00\",\"2022-02-01T21:25:00\",\"2022-02-01T21:26:00\",\"2022-02-01T21:27:00\",\"2022-02-01T21:28:00\",\"2022-02-01T21:29:00\",\"2022-02-01T21:30:00\",\"2022-02-01T21:31:00\",\"2022-02-01T21:32:00\",\"2022-02-01T21:33:00\",\"2022-02-01T21:34:00\",\"2022-02-01T21:35:00\",\"2022-02-01T21:36:00\",\"2022-02-01T21:37:00\",\"2022-02-01T21:38:00\",\"2022-02-01T21:39:00\",\"2022-02-01T21:40:00\",\"2022-02-01T21:41:00\",\"2022-02-01T21:42:00\",\"2022-02-01T21:43:00\",\"2022-02-01T21:44:00\",\"2022-02-01T21:45:00\",\"2022-02-01T21:46:00\",\"2022-02-01T21:47:00\",\"2022-02-01T21:48:00\",\"2022-02-01T21:49:00\",\"2022-02-01T21:50:00\",\"2022-02-01T21:51:00\",\"2022-02-01T21:52:00\",\"2022-02-01T21:53:00\",\"2022-02-01T21:54:00\",\"2022-02-01T21:55:00\",\"2022-02-01T21:56:00\",\"2022-02-01T21:57:00\",\"2022-02-01T21:58:00\",\"2022-02-01T21:59:00\",\"2022-02-01T22:00:00\",\"2022-02-01T22:01:00\",\"2022-02-01T22:02:00\",\"2022-02-01T22:03:00\",\"2022-02-01T22:04:00\",\"2022-02-01T22:05:00\",\"2022-02-01T22:06:00\",\"2022-02-01T22:07:00\",\"2022-02-01T22:08:00\",\"2022-02-01T22:09:00\",\"2022-02-01T22:10:00\",\"2022-02-01T22:11:00\",\"2022-02-01T22:12:00\",\"2022-02-01T22:13:00\",\"2022-02-01T22:14:00\",\"2022-02-01T22:15:00\",\"2022-02-01T22:16:00\",\"2022-02-01T22:17:00\",\"2022-02-01T22:18:00\",\"2022-02-01T22:19:00\",\"2022-02-01T22:20:00\",\"2022-02-01T22:21:00\",\"2022-02-01T22:22:00\",\"2022-02-01T22:23:00\",\"2022-02-01T22:24:00\",\"2022-02-01T22:25:00\",\"2022-02-01T22:26:00\",\"2022-02-01T22:27:00\",\"2022-02-01T22:28:00\",\"2022-02-01T22:29:00\",\"2022-02-01T22:30:00\",\"2022-02-01T22:31:00\",\"2022-02-01T22:32:00\",\"2022-02-01T22:33:00\",\"2022-02-01T22:34:00\",\"2022-02-01T22:35:00\",\"2022-02-01T22:36:00\",\"2022-02-01T22:37:00\",\"2022-02-01T22:38:00\",\"2022-02-01T22:39:00\",\"2022-02-01T22:40:00\",\"2022-02-01T22:41:00\",\"2022-02-01T22:42:00\",\"2022-02-01T22:43:00\",\"2022-02-01T22:44:00\",\"2022-02-01T22:45:00\",\"2022-02-01T22:46:00\",\"2022-02-01T22:47:00\",\"2022-02-01T22:48:00\",\"2022-02-01T22:49:00\",\"2022-02-01T22:50:00\",\"2022-02-01T22:51:00\",\"2022-02-01T22:52:00\",\"2022-02-01T22:53:00\",\"2022-02-01T22:54:00\",\"2022-02-01T22:55:00\",\"2022-02-01T22:56:00\",\"2022-02-01T22:57:00\",\"2022-02-01T22:58:00\",\"2022-02-01T22:59:00\",\"2022-02-01T23:00:00\",\"2022-02-01T23:01:00\",\"2022-02-01T23:02:00\",\"2022-02-01T23:03:00\",\"2022-02-01T23:04:00\",\"2022-02-01T23:05:00\",\"2022-02-01T23:06:00\",\"2022-02-01T23:07:00\",\"2022-02-01T23:08:00\",\"2022-02-01T23:09:00\",\"2022-02-01T23:10:00\",\"2022-02-01T23:11:00\",\"2022-02-01T23:12:00\",\"2022-02-01T23:13:00\",\"2022-02-01T23:14:00\",\"2022-02-01T23:15:00\",\"2022-02-01T23:16:00\",\"2022-02-01T23:17:00\",\"2022-02-01T23:18:00\",\"2022-02-01T23:19:00\",\"2022-02-01T23:20:00\",\"2022-02-01T23:21:00\",\"2022-02-01T23:22:00\",\"2022-02-01T23:23:00\",\"2022-02-01T23:24:00\",\"2022-02-01T23:25:00\",\"2022-02-01T23:26:00\",\"2022-02-01T23:27:00\",\"2022-02-01T23:28:00\",\"2022-02-01T23:29:00\",\"2022-02-01T23:30:00\",\"2022-02-01T23:31:00\",\"2022-02-01T23:32:00\",\"2022-02-01T23:33:00\",\"2022-02-01T23:34:00\",\"2022-02-01T23:35:00\",\"2022-02-01T23:36:00\",\"2022-02-01T23:37:00\",\"2022-02-01T23:38:00\",\"2022-02-01T23:39:00\",\"2022-02-01T23:40:00\",\"2022-02-01T23:41:00\",\"2022-02-01T23:42:00\",\"2022-02-01T23:43:00\",\"2022-02-01T23:44:00\",\"2022-02-01T23:45:00\",\"2022-02-01T23:46:00\",\"2022-02-01T23:47:00\",\"2022-02-01T23:48:00\",\"2022-02-01T23:49:00\",\"2022-02-01T23:50:00\",\"2022-02-01T23:51:00\",\"2022-02-01T23:52:00\",\"2022-02-01T23:53:00\",\"2022-02-01T23:54:00\",\"2022-02-01T23:55:00\",\"2022-02-01T23:56:00\",\"2022-02-01T23:57:00\",\"2022-02-01T23:58:00\",\"2022-02-01T23:59:00\",\"2022-02-02T00:00:00\",\"2022-02-02T00:01:00\",\"2022-02-02T00:02:00\",\"2022-02-02T00:03:00\",\"2022-02-02T00:04:00\",\"2022-02-02T00:05:00\",\"2022-02-02T00:06:00\",\"2022-02-02T00:07:00\",\"2022-02-02T00:08:00\",\"2022-02-02T00:09:00\",\"2022-02-02T00:10:00\",\"2022-02-02T00:11:00\",\"2022-02-02T00:12:00\",\"2022-02-02T00:13:00\",\"2022-02-02T00:14:00\",\"2022-02-02T00:15:00\",\"2022-02-02T00:16:00\",\"2022-02-02T00:17:00\",\"2022-02-02T00:18:00\",\"2022-02-02T00:19:00\",\"2022-02-02T00:20:00\",\"2022-02-02T00:21:00\",\"2022-02-02T00:22:00\",\"2022-02-02T00:23:00\",\"2022-02-02T00:24:00\",\"2022-02-02T00:25:00\",\"2022-02-02T00:26:00\",\"2022-02-02T00:27:00\",\"2022-02-02T00:28:00\",\"2022-02-02T00:29:00\",\"2022-02-02T00:30:00\",\"2022-02-02T00:31:00\",\"2022-02-02T00:32:00\",\"2022-02-02T00:33:00\",\"2022-02-02T00:34:00\",\"2022-02-02T00:35:00\",\"2022-02-02T00:36:00\",\"2022-02-02T00:37:00\",\"2022-02-02T00:38:00\",\"2022-02-02T00:39:00\",\"2022-02-02T00:40:00\",\"2022-02-02T00:41:00\",\"2022-02-02T00:42:00\",\"2022-02-02T00:43:00\",\"2022-02-02T00:44:00\",\"2022-02-02T00:45:00\",\"2022-02-02T00:46:00\",\"2022-02-02T00:47:00\",\"2022-02-02T00:48:00\",\"2022-02-02T00:49:00\",\"2022-02-02T00:50:00\",\"2022-02-02T00:51:00\",\"2022-02-02T00:52:00\",\"2022-02-02T00:53:00\",\"2022-02-02T00:54:00\",\"2022-02-02T00:55:00\",\"2022-02-02T00:56:00\",\"2022-02-02T00:57:00\",\"2022-02-02T00:58:00\",\"2022-02-02T00:59:00\",\"2022-02-02T01:00:00\",\"2022-02-02T01:01:00\",\"2022-02-02T01:02:00\",\"2022-02-02T01:03:00\",\"2022-02-02T01:04:00\",\"2022-02-02T01:05:00\",\"2022-02-02T01:06:00\",\"2022-02-02T01:07:00\",\"2022-02-02T01:08:00\",\"2022-02-02T01:09:00\",\"2022-02-02T01:10:00\",\"2022-02-02T01:11:00\",\"2022-02-02T01:12:00\",\"2022-02-02T01:13:00\",\"2022-02-02T01:14:00\",\"2022-02-02T01:15:00\",\"2022-02-02T01:16:00\",\"2022-02-02T01:17:00\",\"2022-02-02T01:18:00\",\"2022-02-02T01:19:00\",\"2022-02-02T01:20:00\",\"2022-02-02T01:21:00\",\"2022-02-02T01:22:00\",\"2022-02-02T01:23:00\",\"2022-02-02T01:24:00\",\"2022-02-02T01:25:00\",\"2022-02-02T01:26:00\",\"2022-02-02T01:27:00\",\"2022-02-02T01:28:00\",\"2022-02-02T01:29:00\",\"2022-02-02T01:30:00\",\"2022-02-02T01:31:00\",\"2022-02-02T01:32:00\",\"2022-02-02T01:33:00\",\"2022-02-02T01:34:00\",\"2022-02-02T01:35:00\",\"2022-02-02T01:36:00\",\"2022-02-02T01:37:00\",\"2022-02-02T01:38:00\",\"2022-02-02T01:39:00\",\"2022-02-02T01:40:00\",\"2022-02-02T01:41:00\",\"2022-02-02T01:42:00\",\"2022-02-02T01:43:00\",\"2022-02-02T01:44:00\",\"2022-02-02T01:45:00\",\"2022-02-02T01:46:00\",\"2022-02-02T01:47:00\",\"2022-02-02T01:48:00\",\"2022-02-02T01:49:00\",\"2022-02-02T01:50:00\",\"2022-02-02T01:51:00\",\"2022-02-02T01:52:00\",\"2022-02-02T01:53:00\",\"2022-02-02T01:54:00\",\"2022-02-02T01:55:00\",\"2022-02-02T01:56:00\",\"2022-02-02T01:57:00\",\"2022-02-02T01:58:00\",\"2022-02-02T01:59:00\",\"2022-02-02T02:00:00\",\"2022-02-02T02:01:00\",\"2022-02-02T02:02:00\",\"2022-02-02T02:03:00\",\"2022-02-02T02:04:00\",\"2022-02-02T02:05:00\",\"2022-02-02T02:06:00\",\"2022-02-02T02:07:00\",\"2022-02-02T02:08:00\",\"2022-02-02T02:09:00\",\"2022-02-02T02:10:00\",\"2022-02-02T02:11:00\",\"2022-02-02T02:12:00\",\"2022-02-02T02:13:00\",\"2022-02-02T02:14:00\",\"2022-02-02T02:15:00\",\"2022-02-02T02:16:00\",\"2022-02-02T02:17:00\",\"2022-02-02T02:18:00\",\"2022-02-02T02:19:00\",\"2022-02-02T02:20:00\",\"2022-02-02T02:21:00\",\"2022-02-02T02:22:00\",\"2022-02-02T02:23:00\",\"2022-02-02T02:24:00\",\"2022-02-02T02:25:00\",\"2022-02-02T02:26:00\",\"2022-02-02T02:27:00\",\"2022-02-02T02:28:00\",\"2022-02-02T02:29:00\",\"2022-02-02T02:30:00\",\"2022-02-02T02:31:00\",\"2022-02-02T02:32:00\",\"2022-02-02T02:33:00\",\"2022-02-02T02:34:00\",\"2022-02-02T02:35:00\",\"2022-02-02T02:36:00\",\"2022-02-02T02:37:00\",\"2022-02-02T02:38:00\",\"2022-02-02T02:39:00\",\"2022-02-02T02:40:00\",\"2022-02-02T02:41:00\",\"2022-02-02T02:42:00\",\"2022-02-02T02:43:00\",\"2022-02-02T02:44:00\",\"2022-02-02T02:45:00\",\"2022-02-02T02:46:00\",\"2022-02-02T02:47:00\",\"2022-02-02T02:48:00\",\"2022-02-02T02:49:00\",\"2022-02-02T02:50:00\",\"2022-02-02T02:51:00\",\"2022-02-02T02:52:00\",\"2022-02-02T02:53:00\",\"2022-02-02T02:54:00\",\"2022-02-02T02:55:00\",\"2022-02-02T02:56:00\",\"2022-02-02T02:57:00\",\"2022-02-02T02:58:00\",\"2022-02-02T02:59:00\",\"2022-02-02T03:00:00\",\"2022-02-02T03:01:00\",\"2022-02-02T03:02:00\",\"2022-02-02T03:03:00\",\"2022-02-02T03:04:00\",\"2022-02-02T03:05:00\",\"2022-02-02T03:06:00\",\"2022-02-02T03:07:00\",\"2022-02-02T03:08:00\",\"2022-02-02T03:09:00\",\"2022-02-02T03:10:00\",\"2022-02-02T03:11:00\",\"2022-02-02T03:12:00\",\"2022-02-02T03:13:00\",\"2022-02-02T03:14:00\",\"2022-02-02T03:15:00\",\"2022-02-02T03:16:00\",\"2022-02-02T03:17:00\",\"2022-02-02T03:18:00\",\"2022-02-02T03:19:00\",\"2022-02-02T03:20:00\",\"2022-02-02T03:21:00\",\"2022-02-02T03:22:00\",\"2022-02-02T03:23:00\",\"2022-02-02T03:24:00\",\"2022-02-02T03:25:00\",\"2022-02-02T03:26:00\",\"2022-02-02T03:27:00\",\"2022-02-02T03:28:00\",\"2022-02-02T03:29:00\",\"2022-02-02T03:30:00\",\"2022-02-02T03:31:00\",\"2022-02-02T03:32:00\",\"2022-02-02T03:33:00\",\"2022-02-02T03:34:00\",\"2022-02-02T03:35:00\",\"2022-02-02T03:36:00\",\"2022-02-02T03:37:00\",\"2022-02-02T03:38:00\",\"2022-02-02T03:39:00\",\"2022-02-02T03:40:00\",\"2022-02-02T03:41:00\",\"2022-02-02T03:42:00\",\"2022-02-02T03:43:00\",\"2022-02-02T03:44:00\",\"2022-02-02T03:45:00\",\"2022-02-02T03:46:00\",\"2022-02-02T03:47:00\",\"2022-02-02T03:48:00\",\"2022-02-02T03:49:00\",\"2022-02-02T03:50:00\",\"2022-02-02T03:51:00\",\"2022-02-02T03:52:00\",\"2022-02-02T03:53:00\",\"2022-02-02T03:54:00\",\"2022-02-02T03:55:00\",\"2022-02-02T03:56:00\",\"2022-02-02T03:57:00\",\"2022-02-02T03:58:00\",\"2022-02-02T03:59:00\",\"2022-02-02T04:00:00\",\"2022-02-02T04:01:00\",\"2022-02-02T04:02:00\",\"2022-02-02T04:03:00\",\"2022-02-02T04:04:00\",\"2022-02-02T04:05:00\",\"2022-02-02T04:06:00\",\"2022-02-02T04:07:00\",\"2022-02-02T04:08:00\",\"2022-02-02T04:09:00\",\"2022-02-02T04:10:00\",\"2022-02-02T04:11:00\",\"2022-02-02T04:12:00\",\"2022-02-02T04:13:00\",\"2022-02-02T04:14:00\",\"2022-02-02T04:15:00\",\"2022-02-02T04:16:00\",\"2022-02-02T04:17:00\",\"2022-02-02T04:18:00\",\"2022-02-02T04:19:00\",\"2022-02-02T04:20:00\",\"2022-02-02T04:21:00\",\"2022-02-02T04:22:00\",\"2022-02-02T04:23:00\",\"2022-02-02T04:24:00\",\"2022-02-02T04:25:00\",\"2022-02-02T04:26:00\",\"2022-02-02T04:27:00\",\"2022-02-02T04:28:00\",\"2022-02-02T04:29:00\",\"2022-02-02T04:30:00\",\"2022-02-02T04:31:00\",\"2022-02-02T04:32:00\",\"2022-02-02T04:33:00\",\"2022-02-02T04:34:00\",\"2022-02-02T04:35:00\",\"2022-02-02T04:36:00\",\"2022-02-02T04:37:00\",\"2022-02-02T04:38:00\",\"2022-02-02T04:39:00\",\"2022-02-02T04:40:00\",\"2022-02-02T04:41:00\",\"2022-02-02T04:42:00\",\"2022-02-02T04:43:00\",\"2022-02-02T04:44:00\",\"2022-02-02T04:45:00\",\"2022-02-02T04:46:00\",\"2022-02-02T04:47:00\",\"2022-02-02T04:48:00\",\"2022-02-02T04:49:00\",\"2022-02-02T04:50:00\",\"2022-02-02T04:51:00\",\"2022-02-02T04:52:00\",\"2022-02-02T04:53:00\",\"2022-02-02T04:54:00\",\"2022-02-02T04:55:00\",\"2022-02-02T04:56:00\",\"2022-02-02T04:57:00\",\"2022-02-02T04:58:00\",\"2022-02-02T04:59:00\",\"2022-02-02T05:00:00\",\"2022-02-02T05:01:00\",\"2022-02-02T05:02:00\",\"2022-02-02T05:03:00\",\"2022-02-02T05:04:00\",\"2022-02-02T05:05:00\",\"2022-02-02T05:06:00\",\"2022-02-02T05:07:00\",\"2022-02-02T05:08:00\",\"2022-02-02T05:09:00\",\"2022-02-02T05:10:00\",\"2022-02-02T05:11:00\",\"2022-02-02T05:12:00\",\"2022-02-02T05:13:00\",\"2022-02-02T05:14:00\",\"2022-02-02T05:15:00\",\"2022-02-02T05:16:00\",\"2022-02-02T05:17:00\",\"2022-02-02T05:18:00\",\"2022-02-02T05:19:00\",\"2022-02-02T05:20:00\",\"2022-02-02T05:21:00\",\"2022-02-02T05:22:00\",\"2022-02-02T05:23:00\",\"2022-02-02T05:24:00\",\"2022-02-02T05:25:00\",\"2022-02-02T05:26:00\",\"2022-02-02T05:27:00\",\"2022-02-02T05:28:00\",\"2022-02-02T05:29:00\",\"2022-02-02T05:30:00\",\"2022-02-02T05:31:00\",\"2022-02-02T05:32:00\",\"2022-02-02T05:33:00\",\"2022-02-02T05:34:00\",\"2022-02-02T05:35:00\",\"2022-02-02T05:36:00\",\"2022-02-02T05:37:00\",\"2022-02-02T05:38:00\",\"2022-02-02T05:39:00\",\"2022-02-02T05:40:00\",\"2022-02-02T05:41:00\",\"2022-02-02T05:42:00\",\"2022-02-02T05:43:00\",\"2022-02-02T05:44:00\",\"2022-02-02T05:45:00\",\"2022-02-02T05:46:00\",\"2022-02-02T05:47:00\",\"2022-02-02T05:48:00\",\"2022-02-02T05:49:00\",\"2022-02-02T05:50:00\",\"2022-02-02T05:51:00\",\"2022-02-02T05:52:00\",\"2022-02-02T05:53:00\",\"2022-02-02T05:54:00\",\"2022-02-02T05:55:00\",\"2022-02-02T05:56:00\",\"2022-02-02T05:57:00\",\"2022-02-02T05:58:00\",\"2022-02-02T05:59:00\",\"2022-02-02T06:00:00\",\"2022-02-02T06:01:00\",\"2022-02-02T06:02:00\",\"2022-02-02T06:03:00\",\"2022-02-02T06:04:00\",\"2022-02-02T06:05:00\",\"2022-02-02T06:06:00\",\"2022-02-02T06:07:00\",\"2022-02-02T06:08:00\",\"2022-02-02T06:09:00\",\"2022-02-02T06:10:00\",\"2022-02-02T06:11:00\",\"2022-02-02T06:12:00\",\"2022-02-02T06:13:00\",\"2022-02-02T06:14:00\",\"2022-02-02T06:15:00\",\"2022-02-02T06:16:00\",\"2022-02-02T06:17:00\",\"2022-02-02T06:18:00\",\"2022-02-02T06:19:00\",\"2022-02-02T06:20:00\",\"2022-02-02T06:21:00\",\"2022-02-02T06:22:00\",\"2022-02-02T06:23:00\",\"2022-02-02T06:24:00\",\"2022-02-02T06:25:00\",\"2022-02-02T06:26:00\",\"2022-02-02T06:27:00\",\"2022-02-02T06:28:00\",\"2022-02-02T06:29:00\",\"2022-02-02T06:30:00\",\"2022-02-02T06:31:00\",\"2022-02-02T06:32:00\",\"2022-02-02T06:33:00\",\"2022-02-02T06:34:00\",\"2022-02-02T06:35:00\",\"2022-02-02T06:36:00\",\"2022-02-02T06:37:00\",\"2022-02-02T06:38:00\",\"2022-02-02T06:39:00\",\"2022-02-02T06:40:00\",\"2022-02-02T06:41:00\",\"2022-02-02T06:42:00\",\"2022-02-02T06:43:00\",\"2022-02-02T06:44:00\",\"2022-02-02T06:45:00\",\"2022-02-02T06:46:00\",\"2022-02-02T06:47:00\",\"2022-02-02T06:48:00\",\"2022-02-02T06:49:00\",\"2022-02-02T06:50:00\",\"2022-02-02T06:51:00\",\"2022-02-02T06:52:00\",\"2022-02-02T06:53:00\",\"2022-02-02T06:54:00\",\"2022-02-02T06:55:00\",\"2022-02-02T06:56:00\",\"2022-02-02T06:57:00\",\"2022-02-02T06:58:00\",\"2022-02-02T06:59:00\",\"2022-02-02T07:00:00\",\"2022-02-02T07:01:00\",\"2022-02-02T07:02:00\",\"2022-02-02T07:03:00\",\"2022-02-02T07:04:00\",\"2022-02-02T07:05:00\",\"2022-02-02T07:06:00\",\"2022-02-02T07:07:00\",\"2022-02-02T07:08:00\",\"2022-02-02T07:09:00\",\"2022-02-02T07:10:00\",\"2022-02-02T07:11:00\",\"2022-02-02T07:12:00\",\"2022-02-02T07:13:00\",\"2022-02-02T07:14:00\",\"2022-02-02T07:15:00\",\"2022-02-02T07:16:00\",\"2022-02-02T07:17:00\",\"2022-02-02T07:18:00\",\"2022-02-02T07:19:00\",\"2022-02-02T07:20:00\",\"2022-02-02T07:21:00\",\"2022-02-02T07:22:00\",\"2022-02-02T07:23:00\",\"2022-02-02T07:24:00\",\"2022-02-02T07:25:00\",\"2022-02-02T07:26:00\",\"2022-02-02T07:27:00\",\"2022-02-02T07:28:00\",\"2022-02-02T07:29:00\",\"2022-02-02T07:30:00\",\"2022-02-02T07:31:00\",\"2022-02-02T07:32:00\",\"2022-02-02T07:33:00\",\"2022-02-02T07:34:00\",\"2022-02-02T07:35:00\",\"2022-02-02T07:36:00\",\"2022-02-02T07:37:00\",\"2022-02-02T07:38:00\",\"2022-02-02T07:39:00\",\"2022-02-02T07:40:00\",\"2022-02-02T07:41:00\",\"2022-02-02T07:42:00\",\"2022-02-02T07:43:00\",\"2022-02-02T07:44:00\",\"2022-02-02T07:45:00\",\"2022-02-02T07:46:00\",\"2022-02-02T07:47:00\",\"2022-02-02T07:48:00\",\"2022-02-02T07:49:00\",\"2022-02-02T07:50:00\",\"2022-02-02T07:51:00\",\"2022-02-02T07:52:00\",\"2022-02-02T07:53:00\",\"2022-02-02T07:54:00\",\"2022-02-02T07:55:00\",\"2022-02-02T07:56:00\",\"2022-02-02T07:57:00\",\"2022-02-02T07:58:00\",\"2022-02-02T07:59:00\",\"2022-02-02T08:00:00\",\"2022-02-02T08:01:00\",\"2022-02-02T08:02:00\",\"2022-02-02T08:03:00\",\"2022-02-02T08:04:00\",\"2022-02-02T08:05:00\",\"2022-02-02T08:06:00\",\"2022-02-02T08:07:00\",\"2022-02-02T08:08:00\",\"2022-02-02T08:09:00\",\"2022-02-02T08:10:00\",\"2022-02-02T08:11:00\",\"2022-02-02T08:12:00\",\"2022-02-02T08:13:00\",\"2022-02-02T08:14:00\",\"2022-02-02T08:15:00\",\"2022-02-02T08:16:00\",\"2022-02-02T08:17:00\",\"2022-02-02T08:18:00\",\"2022-02-02T08:19:00\",\"2022-02-02T08:20:00\",\"2022-02-02T08:21:00\",\"2022-02-02T08:22:00\",\"2022-02-02T08:23:00\",\"2022-02-02T08:24:00\",\"2022-02-02T08:25:00\",\"2022-02-02T08:26:00\",\"2022-02-02T08:27:00\",\"2022-02-02T08:28:00\",\"2022-02-02T08:29:00\",\"2022-02-02T08:30:00\",\"2022-02-02T08:31:00\",\"2022-02-02T08:32:00\",\"2022-02-02T08:33:00\",\"2022-02-02T08:34:00\",\"2022-02-02T08:35:00\",\"2022-02-02T08:36:00\",\"2022-02-02T08:37:00\",\"2022-02-02T08:38:00\",\"2022-02-02T08:39:00\",\"2022-02-02T08:40:00\",\"2022-02-02T08:41:00\",\"2022-02-02T08:42:00\",\"2022-02-02T08:43:00\",\"2022-02-02T08:44:00\",\"2022-02-02T08:45:00\",\"2022-02-02T08:46:00\",\"2022-02-02T08:47:00\",\"2022-02-02T08:48:00\",\"2022-02-02T08:49:00\",\"2022-02-02T08:50:00\",\"2022-02-02T08:51:00\",\"2022-02-02T08:52:00\",\"2022-02-02T08:53:00\",\"2022-02-02T08:54:00\",\"2022-02-02T08:55:00\",\"2022-02-02T08:56:00\",\"2022-02-02T08:57:00\",\"2022-02-02T08:58:00\",\"2022-02-02T08:59:00\",\"2022-02-02T09:00:00\",\"2022-02-02T09:01:00\",\"2022-02-02T09:02:00\",\"2022-02-02T09:03:00\",\"2022-02-02T09:04:00\",\"2022-02-02T09:05:00\",\"2022-02-02T09:06:00\",\"2022-02-02T09:07:00\",\"2022-02-02T09:08:00\",\"2022-02-02T09:09:00\",\"2022-02-02T09:10:00\",\"2022-02-02T09:11:00\",\"2022-02-02T09:12:00\",\"2022-02-02T09:13:00\",\"2022-02-02T09:14:00\",\"2022-02-02T09:15:00\",\"2022-02-02T09:16:00\",\"2022-02-02T09:17:00\",\"2022-02-02T09:18:00\",\"2022-02-02T09:19:00\",\"2022-02-02T09:20:00\",\"2022-02-02T09:21:00\",\"2022-02-02T09:22:00\",\"2022-02-02T09:23:00\",\"2022-02-02T09:24:00\",\"2022-02-02T09:25:00\",\"2022-02-02T09:26:00\",\"2022-02-02T09:27:00\",\"2022-02-02T09:28:00\",\"2022-02-02T09:29:00\",\"2022-02-02T09:30:00\",\"2022-02-02T09:31:00\",\"2022-02-02T09:32:00\",\"2022-02-02T09:33:00\",\"2022-02-02T09:34:00\",\"2022-02-02T09:35:00\",\"2022-02-02T09:36:00\",\"2022-02-02T09:37:00\",\"2022-02-02T09:38:00\",\"2022-02-02T09:39:00\",\"2022-02-02T09:40:00\",\"2022-02-02T09:41:00\",\"2022-02-02T09:42:00\",\"2022-02-02T09:43:00\",\"2022-02-02T09:44:00\",\"2022-02-02T09:45:00\",\"2022-02-02T09:46:00\",\"2022-02-02T09:47:00\",\"2022-02-02T09:48:00\",\"2022-02-02T09:49:00\",\"2022-02-02T09:50:00\",\"2022-02-02T09:51:00\",\"2022-02-02T09:52:00\",\"2022-02-02T09:53:00\",\"2022-02-02T09:54:00\",\"2022-02-02T09:55:00\",\"2022-02-02T09:56:00\",\"2022-02-02T09:57:00\",\"2022-02-02T09:58:00\",\"2022-02-02T09:59:00\",\"2022-02-02T10:00:00\",\"2022-02-02T10:01:00\",\"2022-02-02T10:02:00\",\"2022-02-02T10:03:00\",\"2022-02-02T10:04:00\",\"2022-02-02T10:05:00\",\"2022-02-02T10:06:00\",\"2022-02-02T10:07:00\",\"2022-02-02T10:08:00\",\"2022-02-02T10:09:00\",\"2022-02-02T10:10:00\",\"2022-02-02T10:11:00\",\"2022-02-02T10:12:00\",\"2022-02-02T10:13:00\",\"2022-02-02T10:14:00\",\"2022-02-02T10:15:00\",\"2022-02-02T10:16:00\",\"2022-02-02T10:17:00\",\"2022-02-02T10:18:00\",\"2022-02-02T10:19:00\",\"2022-02-02T10:20:00\",\"2022-02-02T10:21:00\",\"2022-02-02T10:22:00\",\"2022-02-02T10:23:00\",\"2022-02-02T10:24:00\",\"2022-02-02T10:25:00\",\"2022-02-02T10:26:00\",\"2022-02-02T10:27:00\",\"2022-02-02T10:28:00\",\"2022-02-02T10:29:00\",\"2022-02-02T10:30:00\",\"2022-02-02T10:31:00\",\"2022-02-02T10:32:00\",\"2022-02-02T10:33:00\",\"2022-02-02T10:34:00\",\"2022-02-02T10:35:00\",\"2022-02-02T10:36:00\",\"2022-02-02T10:37:00\",\"2022-02-02T10:38:00\",\"2022-02-02T10:39:00\",\"2022-02-02T10:40:00\",\"2022-02-02T10:41:00\",\"2022-02-02T10:42:00\",\"2022-02-02T10:43:00\",\"2022-02-02T10:44:00\",\"2022-02-02T10:45:00\",\"2022-02-02T10:46:00\",\"2022-02-02T10:47:00\",\"2022-02-02T10:48:00\",\"2022-02-02T10:49:00\",\"2022-02-02T10:50:00\",\"2022-02-02T10:51:00\",\"2022-02-02T10:52:00\",\"2022-02-02T10:53:00\",\"2022-02-02T10:54:00\",\"2022-02-02T10:55:00\",\"2022-02-02T10:56:00\",\"2022-02-02T10:57:00\",\"2022-02-02T10:58:00\",\"2022-02-02T10:59:00\",\"2022-02-02T11:00:00\",\"2022-02-02T11:01:00\",\"2022-02-02T11:02:00\",\"2022-02-02T11:03:00\",\"2022-02-02T11:04:00\",\"2022-02-02T11:05:00\",\"2022-02-02T11:06:00\",\"2022-02-02T11:07:00\",\"2022-02-02T11:08:00\",\"2022-02-02T11:09:00\",\"2022-02-02T11:10:00\",\"2022-02-02T11:11:00\",\"2022-02-02T11:12:00\",\"2022-02-02T11:13:00\",\"2022-02-02T11:14:00\",\"2022-02-02T11:15:00\",\"2022-02-02T11:16:00\",\"2022-02-02T11:17:00\",\"2022-02-02T11:18:00\",\"2022-02-02T11:19:00\",\"2022-02-02T11:20:00\",\"2022-02-02T11:21:00\",\"2022-02-02T11:22:00\",\"2022-02-02T11:23:00\",\"2022-02-02T11:24:00\",\"2022-02-02T11:25:00\",\"2022-02-02T11:26:00\",\"2022-02-02T11:27:00\",\"2022-02-02T11:28:00\",\"2022-02-02T11:29:00\",\"2022-02-02T11:30:00\",\"2022-02-02T11:31:00\",\"2022-02-02T11:32:00\",\"2022-02-02T11:33:00\",\"2022-02-02T11:34:00\",\"2022-02-02T11:35:00\",\"2022-02-02T11:36:00\",\"2022-02-02T11:37:00\",\"2022-02-02T11:38:00\",\"2022-02-02T11:39:00\",\"2022-02-02T11:40:00\",\"2022-02-02T11:41:00\",\"2022-02-02T11:42:00\",\"2022-02-02T11:43:00\",\"2022-02-02T11:44:00\",\"2022-02-02T11:45:00\",\"2022-02-02T11:46:00\",\"2022-02-02T11:47:00\",\"2022-02-02T11:48:00\",\"2022-02-02T11:49:00\",\"2022-02-02T11:50:00\",\"2022-02-02T11:51:00\",\"2022-02-02T11:52:00\",\"2022-02-02T11:53:00\",\"2022-02-02T11:54:00\",\"2022-02-02T11:55:00\",\"2022-02-02T11:56:00\",\"2022-02-02T11:57:00\",\"2022-02-02T11:58:00\",\"2022-02-02T11:59:00\",\"2022-02-02T12:00:00\",\"2022-02-02T12:01:00\",\"2022-02-02T12:02:00\",\"2022-02-02T12:03:00\",\"2022-02-02T12:04:00\",\"2022-02-02T12:05:00\",\"2022-02-02T12:06:00\",\"2022-02-02T12:07:00\",\"2022-02-02T12:08:00\",\"2022-02-02T12:09:00\",\"2022-02-02T12:10:00\",\"2022-02-02T12:11:00\",\"2022-02-02T12:12:00\",\"2022-02-02T12:13:00\",\"2022-02-02T12:14:00\",\"2022-02-02T12:15:00\",\"2022-02-02T12:16:00\",\"2022-02-02T12:17:00\",\"2022-02-02T12:18:00\",\"2022-02-02T12:19:00\",\"2022-02-02T12:20:00\",\"2022-02-02T12:21:00\",\"2022-02-02T12:22:00\",\"2022-02-02T12:23:00\",\"2022-02-02T12:24:00\",\"2022-02-02T12:25:00\",\"2022-02-02T12:26:00\",\"2022-02-02T12:27:00\",\"2022-02-02T12:28:00\",\"2022-02-02T12:29:00\",\"2022-02-02T12:30:00\",\"2022-02-02T12:31:00\",\"2022-02-02T12:32:00\",\"2022-02-02T12:33:00\",\"2022-02-02T12:34:00\",\"2022-02-02T12:35:00\",\"2022-02-02T12:36:00\",\"2022-02-02T12:37:00\",\"2022-02-02T12:38:00\",\"2022-02-02T12:39:00\",\"2022-02-02T12:40:00\",\"2022-02-02T12:41:00\",\"2022-02-02T12:42:00\",\"2022-02-02T12:43:00\",\"2022-02-02T12:44:00\",\"2022-02-02T12:45:00\",\"2022-02-02T12:46:00\",\"2022-02-02T12:47:00\",\"2022-02-02T12:48:00\",\"2022-02-02T12:49:00\",\"2022-02-02T12:50:00\",\"2022-02-02T12:51:00\",\"2022-02-02T12:52:00\",\"2022-02-02T12:53:00\",\"2022-02-02T12:54:00\",\"2022-02-02T12:55:00\",\"2022-02-02T12:56:00\",\"2022-02-02T12:57:00\",\"2022-02-02T12:58:00\",\"2022-02-02T12:59:00\",\"2022-02-02T13:00:00\",\"2022-02-02T13:01:00\",\"2022-02-02T13:02:00\",\"2022-02-02T13:03:00\",\"2022-02-02T13:04:00\",\"2022-02-02T13:05:00\",\"2022-02-02T13:06:00\",\"2022-02-02T13:07:00\",\"2022-02-02T13:08:00\",\"2022-02-02T13:09:00\",\"2022-02-02T13:10:00\",\"2022-02-02T13:11:00\",\"2022-02-02T13:12:00\",\"2022-02-02T13:13:00\",\"2022-02-02T13:14:00\",\"2022-02-02T13:15:00\",\"2022-02-02T13:16:00\",\"2022-02-02T13:17:00\",\"2022-02-02T13:18:00\",\"2022-02-02T13:19:00\",\"2022-02-02T13:20:00\",\"2022-02-02T13:21:00\",\"2022-02-02T13:22:00\",\"2022-02-02T13:23:00\",\"2022-02-02T13:24:00\",\"2022-02-02T13:25:00\",\"2022-02-02T13:26:00\",\"2022-02-02T13:27:00\",\"2022-02-02T13:28:00\",\"2022-02-02T13:29:00\",\"2022-02-02T13:30:00\",\"2022-02-02T13:31:00\",\"2022-02-02T13:32:00\",\"2022-02-02T13:33:00\",\"2022-02-02T13:34:00\",\"2022-02-02T13:35:00\",\"2022-02-02T13:36:00\",\"2022-02-02T13:37:00\",\"2022-02-02T13:38:00\",\"2022-02-02T13:39:00\",\"2022-02-02T13:40:00\",\"2022-02-02T13:41:00\",\"2022-02-02T13:42:00\"],\"y\":[38763.09,38746.91,38728.05,38720.95,38675.95,38624.58,38654.65,38659.66,38686.7,38682.51,38747.76,38814.15,38802.79,38775.1,38787.77,38805.44,38823.4,38827.15,38804.95,38837.63,38841.02,38823.88,38799.42,38761.88,38756.55,38783.28,38801.99,38780.0,38754.14,38700.8,38630.88,38625.01,38517.26,38523.01,38511.2,38496.21,38480.25,38481.63,38469.03,38453.46,38490.7,38517.6,38502.17,38502.01,38480.9,38584.79,38555.76,38595.0,38622.39,38601.19,38616.3,38626.21,38647.18,38600.22,38564.19,38548.18,38547.95,38550.54,38557.27,38569.35,38555.41,38512.46,38529.22,38520.0,38559.37,38589.28,38619.27,38643.08,38639.91,38650.11,38645.24,38651.17,38651.72,38653.02,38571.01,38590.65,38585.99,38576.55,38550.0,38527.0,38515.15,38553.27,38532.74,38516.47,38484.13,38480.38,38499.47,38517.72,38496.31,38426.01,38389.62,38403.27,38426.34,38402.36,38399.92,38433.2,38402.88,38437.77,38422.63,38421.76,38427.52,38403.59,38400.0,38404.6,38409.45,38434.04,38444.42,38407.07,38426.86,38449.89,38459.98,38450.64,38410.0,38390.01,38402.16,38422.55,38410.54,38425.92,38439.76,38449.45,38465.78,38447.66,38422.2,38401.23,38433.14,38445.98,38441.06,38477.69,38476.57,38476.62,38511.52,38534.94,38530.91,38552.11,38558.2,38558.24,38595.62,38595.66,38580.85,38588.01,38599.6,38576.02,38607.9,38615.23,38609.31,38596.42,38600.01,38584.13,38604.33,38587.22,38569.22,38558.03,38563.38,38577.64,38595.09,38605.77,38604.84,38601.72,38619.05,38624.53,38625.0,38604.78,38630.64,38629.98,38628.16,38632.03,38634.9,38628.11,38625.51,38590.5,38599.83,38628.38,38640.38,38657.0,38663.45,38640.15,38644.36,38632.39,38622.81,38638.16,38654.51,38651.72,38661.29,38686.43,38676.91,38674.51,38663.31,38667.83,38676.54,38673.25,38673.14,38694.29,38695.99,38724.01,38738.23,38722.75,38691.85,38679.17,38666.02,38684.24,38695.35,38698.15,38698.13,38700.75,38697.0,38699.11,38693.41,38674.65,38674.58,38650.99,38639.29,38635.11,38635.13,38646.13,38614.98,38603.34,38579.95,38561.11,38578.34,38591.65,38583.38,38552.06,38552.07,38555.29,38558.99,38560.01,38560.01,38562.83,38564.86,38577.59,38585.69,38582.01,38578.8,38569.45,38573.07,38553.23,38552.87,38552.86,38552.87,38513.84,38499.25,38502.57,38486.65,38481.17,38480.99,38463.01,38456.67,38453.86,38430.03,38448.79,38432.53,38416.64,38431.14,38424.82,38426.67,38448.38,38467.41,38454.96,38464.7,38483.01,38494.84,38499.98,38496.3,38493.72,38509.98,38508.43,38502.91,38475.48,38460.58,38493.64,38415.27,38449.74,38459.99,38490.95,38527.78,38528.06,38525.89,38541.39,38543.51,38533.16,38525.01,38503.61,38506.51,38501.76,38475.92,38466.15,38450.49,38454.44,38455.85,38455.12,38451.17,38464.75,38509.16,38513.6,38529.05,38508.11,38520.6,38474.18,38423.44,38439.37,38427.68,38427.68,38474.16,38479.98,38480.01,38479.19,38496.11,38503.99,38488.83,38492.0,38468.19,38450.8,38432.49,38430.01,38420.0,38396.33,38395.94,38380.51,38373.14,38377.15,38342.17,38332.54,38345.34,38359.49,38333.85,38345.81,38340.7,38357.08,38366.64,38397.85,38350.0,38342.76,38346.99,38346.5,38359.8,38373.36,38380.01,38395.01,38389.08,38380.01,38380.91,38364.93,38341.28,38341.55,38356.85,38360.82,38370.0,38359.69,38364.37,38374.98,38369.0,38373.95,38362.1,38377.78,38379.06,38374.14,38387.09,38400.0,38416.38,38413.99,38391.96,38377.2,38400.0,38398.37,38410.24,38405.43,38418.39,38420.37,38429.74,38437.47,38440.09,38463.63,38446.63,38463.43,38467.41,38451.0,38446.63,38460.0,38465.89,38491.31,38511.23,38480.56,38480.4,38461.85,38436.53,38428.23,38428.23,38428.22,38451.92,38468.2,38461.14,38466.75,38459.36,38442.21,38349.44,38342.9,38330.57,38341.01,38327.04,38368.25,38376.7,38359.72,38280.0,38260.0,38296.82,38305.8,38280.75,38284.79,38252.24,38222.0,38229.99,38221.06,38202.99,38210.68,38222.15,38206.67,38219.99,38256.34,38277.51,38304.79,38262.68,38252.6,38217.43,38232.55,38272.47,38270.65,38244.07,38250.0,38256.04,38258.85,38293.54,38315.46,38321.01,38312.69,38332.22,38311.76,38283.29,38309.58,38304.21,38306.02,38314.99,38333.27,38341.5,38347.71,38345.56,38353.98,38352.77,38347.0,38353.5,38375.23,38355.19,38367.08,38345.9,38322.33,38320.0,38300.01,38294.17,38270.23,38275.58,38290.7,38292.54,38321.0,38295.1,38290.78,38255.5,38250.0,38240.38,38208.26,38217.15,38230.87,38211.02,38233.37,38235.99,38227.32,38265.63,38278.51,38295.6,38258.29,38284.69,38252.79,38226.91,38293.88,38333.0,38354.12,38340.36,38374.67,38370.01,38340.0,38364.65,38362.09,38363.04,38373.19,38368.01,38367.48,38398.83,38396.94,38404.42,38404.03,38397.19,38450.01,38380.0,38387.76,38406.05,38411.61,38404.26,38405.99,38408.02,38387.3,38369.26,38365.16,38372.08,38395.42,38385.63,38379.99,38390.71,38398.62,38409.29,38395.27,38387.92,38399.99,38394.67,38402.93,38401.74,38391.49,38385.02,38368.4,38358.47,38362.98,38343.94,38382.49,38381.53,38444.0,38397.65,38431.01,38429.52,38445.62,38462.86,38448.27,38447.49,38411.46,38427.05,38466.25,38488.78,38495.61,38487.56,38496.51,38473.55,38448.38,38424.14,38439.21,38404.47,38427.08,38423.59,38426.59,38428.55,38424.19,38405.0,38411.86,38417.75,38429.61,38469.14,38458.4,38443.74,38460.39,38478.38,38491.06,38483.02,38471.2,38445.01,38451.7,38469.23,38479.34,38472.59,38473.35,38472.51,38490.26,38478.06,38489.32,38481.5,38471.4,38472.09,38487.81,38501.05,38510.99,38503.74,38503.41,38528.49,38537.64,38538.08,38539.26,38541.74,38540.01,38522.2,38524.39,38544.33,38536.06,38518.03,38515.44,38530.85,38504.26,38503.49,38511.26,38503.03,38503.52,38511.86,38469.43,38468.61,38470.03,38466.09,38432.79,38416.81,38416.54,38434.86,38443.42,38452.1,38457.77,38447.89,38418.0,38407.49,38426.08,38427.89,38419.98,38443.48,38429.61,38434.91,38461.05,38482.32,38513.06,38511.29,38525.05,38540.0,38542.99,38538.5,38548.44,38550.51,38524.86,38524.85,38530.43,38540.61,38536.69,38485.55,38500.0,38497.15,38497.16,38489.1,38540.0,38531.65,38576.57,38572.17,38594.92,38577.01,38589.87,38591.71,38585.32,38580.02,38580.0,38567.94,38560.94,38566.26,38562.81,38539.17,38528.55,38527.81,38534.91,38529.36,38524.56,38500.6,38500.0,38483.59,38491.7,38485.98,38489.49,38487.0,38501.75,38500.43,38500.23,38494.68,38490.81,38458.56,38443.55,38470.13,38475.2,38499.99,38484.45,38480.31,38483.93,38483.99,38506.17,38521.46,38538.36,38521.46,38497.57,38473.26,38476.7,38474.65,38489.8,38485.17,38494.59,38508.53,38521.2,38506.85,38476.56,38477.49,38480.13,38505.86,38520.25,38529.24,38518.26,38509.64,38497.18,38491.71,38492.42,38499.97,38500.71,38506.04,38510.0,38511.21,38503.6,38490.0,38527.47,38503.43,38507.35,38519.53,38536.55,38539.95,38549.99,38555.41,38562.76,38565.83,38653.9,38652.23,38633.04,38663.33,38650.16,38674.91,38656.53,38629.3,38628.74,38582.41,38591.41,38580.61,38589.99,38589.52,38605.69,38607.68,38611.17,38631.33,38646.99,38643.09,38608.77,38594.45,38600.0,38589.0,38580.09,38620.0,38608.05,38606.82,38602.96,38609.92,38624.84,38645.5,38683.97,38698.11,38701.21,38710.89,38705.79,38725.95,38687.77,38695.38,38692.92,38651.65,38650.9,38668.51,38689.31,38709.93,38711.28,38697.5,38685.91,38723.99,38721.72,38732.1,38735.38,38748.61,38715.02,38719.29,38716.55,38700.84,38710.0,38710.02,38690.0,38662.27,38632.97,38608.95,38596.16,38594.79,38604.74,38564.43,38507.35,38557.12,38557.07,38514.88,38530.83,38490.01,38491.0,38472.45,38501.13,38487.4,38515.84,38529.98,38500.38,38520.0,38494.89,38505.11,38515.72,38529.47,38536.0,38541.61,38527.49,38533.38,38561.93,38551.3,38556.81,38485.36,38494.48,38450.14,38434.63,38450.7,38450.01,38406.91,38358.97,38410.77,38366.21,38373.92,38367.36,38391.81,38374.23,38381.64,38346.28,38361.61,38353.15,38395.13,38386.77,38395.21,38402.95,38390.0,38385.59,38337.53,38370.82,38379.48,38388.03,38384.15,38397.2,38424.57,38400.88,38423.83,38400.2,38401.53,38332.16,38331.59,38303.97,38306.96,38286.01,38264.88,38290.06,38324.72,38312.25,38338.22,38355.91,38346.2,38358.14,38315.22,38133.77,37895.99,37962.83,37945.75,37941.34,37895.62,37981.22,37951.26,37899.49,37864.3,37805.99,37768.38,37808.29,37828.46,37735.82,37760.63,37723.4,37626.66,37731.99,37749.36,37742.95,37725.15,37776.81,37725.67,37635.87,37671.97,37690.73,37703.72,37767.0,37797.65,37709.22,37652.3,37612.73,37680.64,37639.84,37689.84,37678.2,37712.13,37644.01,37692.59,37660.73,37630.68,37589.75,37622.1,37652.79,37604.74,37624.45,37658.62,37635.76,37613.82,37636.86,37612.53,37628.32,37613.35,37553.75,37653.28,37662.79,37619.97,37652.45,37627.95,37550.76,37485.2,37486.27,37453.59,37452.5,37447.82,37485.82,37487.77,37534.0,37495.28,37530.32,37518.92,37566.97,37540.01,37522.05,37502.27,37506.1,37498.12,37487.74,37483.67,37438.08,37404.64,37409.33,37429.88,37434.04,37384.62,37382.71,37429.78,37361.7,37404.32,37342.82,37276.48,37329.04,37306.08,37268.92,37215.99,37231.42,37240.0,37293.47,37253.92,37228.34,37193.37,37181.34,37069.57,37140.92,37152.43,37130.31,37162.8,37210.01,37238.34,37211.04,37250.08,37274.45,37258.2,37274.55,37305.74,37279.59,37239.02,37178.02,37214.99,37197.83,37192.82,37190.01,37185.4,37176.99,37196.08,37122.28,37135.05,37173.98,37180.97,37182.65],\"type\":\"scatter\"},{\"mode\":\"markers\",\"name\":\"Buys\",\"x\":[\"2022-02-01T21:25:00\",\"2022-02-01T21:53:00\",\"2022-02-01T22:13:00\",\"2022-02-01T22:31:00\",\"2022-02-01T22:55:00\",\"2022-02-01T23:29:00\",\"2022-02-02T00:19:00\",\"2022-02-02T00:33:00\",\"2022-02-02T00:58:00\",\"2022-02-02T01:10:00\",\"2022-02-02T01:29:00\",\"2022-02-02T01:43:00\",\"2022-02-02T01:57:00\",\"2022-02-02T02:19:00\",\"2022-02-02T03:37:00\",\"2022-02-02T03:50:00\",\"2022-02-02T04:49:00\",\"2022-02-02T04:59:00\",\"2022-02-02T05:47:00\",\"2022-02-02T06:09:00\",\"2022-02-02T06:59:00\",\"2022-02-02T07:39:00\",\"2022-02-02T09:20:00\",\"2022-02-02T09:31:00\",\"2022-02-02T09:49:00\",\"2022-02-02T10:15:00\",\"2022-02-02T10:44:00\",\"2022-02-02T11:17:00\",\"2022-02-02T11:30:00\",\"2022-02-02T11:43:00\",\"2022-02-02T11:54:00\",\"2022-02-02T12:04:00\",\"2022-02-02T12:15:00\",\"2022-02-02T12:33:00\",\"2022-02-02T12:53:00\",\"2022-02-02T13:03:00\",\"2022-02-02T13:16:00\",\"2022-02-02T13:31:00\"],\"y\":[38756.55,38647.18,38651.72,38389.62,38402.16,38604.33,38666.02,38635.13,38552.86,38448.79,38460.58,38506.51,38520.6,38373.14,38330.57,38222.0,38217.15,38284.69,38358.47,38424.14,38530.85,38540.61,38591.41,38594.45,38695.38,38594.79,38494.48,38401.53,38358.14,37768.38,37776.81,37612.73,37622.1,37485.2,37404.64,37276.48,37140.92,37214.99],\"type\":\"scatter\"},{\"mode\":\"markers\",\"name\":\"Sells\",\"x\":[\"2022-02-01T21:10:00\",\"2022-02-01T21:12:00\",\"2022-02-01T21:13:00\",\"2022-02-01T21:18:00\",\"2022-02-01T21:19:00\",\"2022-02-01T21:44:00\",\"2022-02-01T21:45:00\",\"2022-02-01T21:47:00\",\"2022-02-01T21:49:00\",\"2022-02-01T22:08:00\",\"2022-02-01T22:48:00\",\"2022-02-01T23:09:00\",\"2022-02-01T23:12:00\",\"2022-02-01T23:37:00\",\"2022-02-01T23:55:00\",\"2022-02-02T01:18:00\",\"2022-02-02T01:22:00\",\"2022-02-02T01:23:00\",\"2022-02-02T01:36:00\",\"2022-02-02T01:55:00\",\"2022-02-02T02:05:00\",\"2022-02-02T03:06:00\",\"2022-02-02T03:30:00\",\"2022-02-02T04:13:00\",\"2022-02-02T04:24:00\",\"2022-02-02T04:53:00\",\"2022-02-02T04:54:00\",\"2022-02-02T04:57:00\",\"2022-02-02T05:04:00\",\"2022-02-02T05:05:00\",\"2022-02-02T05:18:00\",\"2022-02-02T05:51:00\",\"2022-02-02T05:53:00\",\"2022-02-02T05:57:00\",\"2022-02-02T06:04:00\",\"2022-02-02T06:22:00\",\"2022-02-02T06:34:00\",\"2022-02-02T06:45:00\",\"2022-02-02T07:29:00\",\"2022-02-02T07:45:00\",\"2022-02-02T07:47:00\",\"2022-02-02T07:49:00\",\"2022-02-02T07:51:00\",\"2022-02-02T08:24:00\",\"2022-02-02T09:11:00\",\"2022-02-02T09:57:00\",\"2022-02-02T10:27:00\",\"2022-02-02T10:29:00\",\"2022-02-02T10:38:00\",\"2022-02-02T11:02:00\",\"2022-02-02T11:11:00\",\"2022-02-02T11:26:00\",\"2022-02-02T11:28:00\",\"2022-02-02T11:37:00\",\"2022-02-02T11:52:00\",\"2022-02-02T11:53:00\",\"2022-02-02T12:25:00\",\"2022-02-02T12:41:00\",\"2022-02-02T12:43:00\",\"2022-02-02T13:21:00\",\"2022-02-02T13:22:00\",\"2022-02-02T13:24:00\"],\"y\":[38682.51,38814.15,38802.79,38827.15,38804.95,38502.01,38480.9,38555.76,38622.39,38643.08,38407.07,38476.57,38534.94,38604.84,38663.45,38454.96,38499.98,38496.3,38528.06,38529.05,38480.01,38405.43,38468.2,38321.01,38347.71,38235.99,38227.32,38295.6,38354.12,38340.36,38404.03,38381.53,38397.65,38462.86,38495.61,38458.4,38473.35,38503.74,38511.29,38489.1,38531.65,38572.17,38577.01,38484.45,38652.23,38697.5,38487.4,38529.98,38527.49,38386.77,38384.15,38312.25,38355.91,37895.62,37742.95,37725.15,37613.35,37495.28,37518.92,37238.34,37211.04,37274.45],\"type\":\"scatter\"}],                        {\"template\":{\"data\":{\"histogram2dcontour\":[{\"type\":\"histogram2dcontour\",\"colorbar\":{\"outlinewidth\":0,\"ticks\":\"\"},\"colorscale\":[[0.0,\"#0d0887\"],[0.1111111111111111,\"#46039f\"],[0.2222222222222222,\"#7201a8\"],[0.3333333333333333,\"#9c179e\"],[0.4444444444444444,\"#bd3786\"],[0.5555555555555556,\"#d8576b\"],[0.6666666666666666,\"#ed7953\"],[0.7777777777777778,\"#fb9f3a\"],[0.8888888888888888,\"#fdca26\"],[1.0,\"#f0f921\"]]}],\"choropleth\":[{\"type\":\"choropleth\",\"colorbar\":{\"outlinewidth\":0,\"ticks\":\"\"}}],\"histogram2d\":[{\"type\":\"histogram2d\",\"colorbar\":{\"outlinewidth\":0,\"ticks\":\"\"},\"colorscale\":[[0.0,\"#0d0887\"],[0.1111111111111111,\"#46039f\"],[0.2222222222222222,\"#7201a8\"],[0.3333333333333333,\"#9c179e\"],[0.4444444444444444,\"#bd3786\"],[0.5555555555555556,\"#d8576b\"],[0.6666666666666666,\"#ed7953\"],[0.7777777777777778,\"#fb9f3a\"],[0.8888888888888888,\"#fdca26\"],[1.0,\"#f0f921\"]]}],\"heatmap\":[{\"type\":\"heatmap\",\"colorbar\":{\"outlinewidth\":0,\"ticks\":\"\"},\"colorscale\":[[0.0,\"#0d0887\"],[0.1111111111111111,\"#46039f\"],[0.2222222222222222,\"#7201a8\"],[0.3333333333333333,\"#9c179e\"],[0.4444444444444444,\"#bd3786\"],[0.5555555555555556,\"#d8576b\"],[0.6666666666666666,\"#ed7953\"],[0.7777777777777778,\"#fb9f3a\"],[0.8888888888888888,\"#fdca26\"],[1.0,\"#f0f921\"]]}],\"heatmapgl\":[{\"type\":\"heatmapgl\",\"colorbar\":{\"outlinewidth\":0,\"ticks\":\"\"},\"colorscale\":[[0.0,\"#0d0887\"],[0.1111111111111111,\"#46039f\"],[0.2222222222222222,\"#7201a8\"],[0.3333333333333333,\"#9c179e\"],[0.4444444444444444,\"#bd3786\"],[0.5555555555555556,\"#d8576b\"],[0.6666666666666666,\"#ed7953\"],[0.7777777777777778,\"#fb9f3a\"],[0.8888888888888888,\"#fdca26\"],[1.0,\"#f0f921\"]]}],\"contourcarpet\":[{\"type\":\"contourcarpet\",\"colorbar\":{\"outlinewidth\":0,\"ticks\":\"\"}}],\"contour\":[{\"type\":\"contour\",\"colorbar\":{\"outlinewidth\":0,\"ticks\":\"\"},\"colorscale\":[[0.0,\"#0d0887\"],[0.1111111111111111,\"#46039f\"],[0.2222222222222222,\"#7201a8\"],[0.3333333333333333,\"#9c179e\"],[0.4444444444444444,\"#bd3786\"],[0.5555555555555556,\"#d8576b\"],[0.6666666666666666,\"#ed7953\"],[0.7777777777777778,\"#fb9f3a\"],[0.8888888888888888,\"#fdca26\"],[1.0,\"#f0f921\"]]}],\"surface\":[{\"type\":\"surface\",\"colorbar\":{\"outlinewidth\":0,\"ticks\":\"\"},\"colorscale\":[[0.0,\"#0d0887\"],[0.1111111111111111,\"#46039f\"],[0.2222222222222222,\"#7201a8\"],[0.3333333333333333,\"#9c179e\"],[0.4444444444444444,\"#bd3786\"],[0.5555555555555556,\"#d8576b\"],[0.6666666666666666,\"#ed7953\"],[0.7777777777777778,\"#fb9f3a\"],[0.8888888888888888,\"#fdca26\"],[1.0,\"#f0f921\"]]}],\"mesh3d\":[{\"type\":\"mesh3d\",\"colorbar\":{\"outlinewidth\":0,\"ticks\":\"\"}}],\"scatter\":[{\"marker\":{\"line\":{\"color\":\"#283442\"}},\"type\":\"scatter\"}],\"parcoords\":[{\"type\":\"parcoords\",\"line\":{\"colorbar\":{\"outlinewidth\":0,\"ticks\":\"\"}}}],\"scatterpolargl\":[{\"type\":\"scatterpolargl\",\"marker\":{\"colorbar\":{\"outlinewidth\":0,\"ticks\":\"\"}}}],\"bar\":[{\"error_x\":{\"color\":\"#f2f5fa\"},\"error_y\":{\"color\":\"#f2f5fa\"},\"marker\":{\"line\":{\"color\":\"rgb(17,17,17)\",\"width\":0.5},\"pattern\":{\"fillmode\":\"overlay\",\"size\":10,\"solidity\":0.2}},\"type\":\"bar\"}],\"scattergeo\":[{\"type\":\"scattergeo\",\"marker\":{\"colorbar\":{\"outlinewidth\":0,\"ticks\":\"\"}}}],\"scatterpolar\":[{\"type\":\"scatterpolar\",\"marker\":{\"colorbar\":{\"outlinewidth\":0,\"ticks\":\"\"}}}],\"histogram\":[{\"marker\":{\"pattern\":{\"fillmode\":\"overlay\",\"size\":10,\"solidity\":0.2}},\"type\":\"histogram\"}],\"scattergl\":[{\"marker\":{\"line\":{\"color\":\"#283442\"}},\"type\":\"scattergl\"}],\"scatter3d\":[{\"type\":\"scatter3d\",\"line\":{\"colorbar\":{\"outlinewidth\":0,\"ticks\":\"\"}},\"marker\":{\"colorbar\":{\"outlinewidth\":0,\"ticks\":\"\"}}}],\"scattermapbox\":[{\"type\":\"scattermapbox\",\"marker\":{\"colorbar\":{\"outlinewidth\":0,\"ticks\":\"\"}}}],\"scatterternary\":[{\"type\":\"scatterternary\",\"marker\":{\"colorbar\":{\"outlinewidth\":0,\"ticks\":\"\"}}}],\"scattercarpet\":[{\"type\":\"scattercarpet\",\"marker\":{\"colorbar\":{\"outlinewidth\":0,\"ticks\":\"\"}}}],\"carpet\":[{\"aaxis\":{\"endlinecolor\":\"#A2B1C6\",\"gridcolor\":\"#506784\",\"linecolor\":\"#506784\",\"minorgridcolor\":\"#506784\",\"startlinecolor\":\"#A2B1C6\"},\"baxis\":{\"endlinecolor\":\"#A2B1C6\",\"gridcolor\":\"#506784\",\"linecolor\":\"#506784\",\"minorgridcolor\":\"#506784\",\"startlinecolor\":\"#A2B1C6\"},\"type\":\"carpet\"}],\"table\":[{\"cells\":{\"fill\":{\"color\":\"#506784\"},\"line\":{\"color\":\"rgb(17,17,17)\"}},\"header\":{\"fill\":{\"color\":\"#2a3f5f\"},\"line\":{\"color\":\"rgb(17,17,17)\"}},\"type\":\"table\"}],\"barpolar\":[{\"marker\":{\"line\":{\"color\":\"rgb(17,17,17)\",\"width\":0.5},\"pattern\":{\"fillmode\":\"overlay\",\"size\":10,\"solidity\":0.2}},\"type\":\"barpolar\"}],\"pie\":[{\"automargin\":true,\"type\":\"pie\"}]},\"layout\":{\"autotypenumbers\":\"strict\",\"colorway\":[\"#636efa\",\"#EF553B\",\"#00cc96\",\"#ab63fa\",\"#FFA15A\",\"#19d3f3\",\"#FF6692\",\"#B6E880\",\"#FF97FF\",\"#FECB52\"],\"font\":{\"color\":\"#f2f5fa\"},\"hovermode\":\"closest\",\"hoverlabel\":{\"align\":\"left\"},\"paper_bgcolor\":\"rgb(17,17,17)\",\"plot_bgcolor\":\"rgb(17,17,17)\",\"polar\":{\"bgcolor\":\"rgb(17,17,17)\",\"angularaxis\":{\"gridcolor\":\"#506784\",\"linecolor\":\"#506784\",\"ticks\":\"\"},\"radialaxis\":{\"gridcolor\":\"#506784\",\"linecolor\":\"#506784\",\"ticks\":\"\"}},\"ternary\":{\"bgcolor\":\"rgb(17,17,17)\",\"aaxis\":{\"gridcolor\":\"#506784\",\"linecolor\":\"#506784\",\"ticks\":\"\"},\"baxis\":{\"gridcolor\":\"#506784\",\"linecolor\":\"#506784\",\"ticks\":\"\"},\"caxis\":{\"gridcolor\":\"#506784\",\"linecolor\":\"#506784\",\"ticks\":\"\"}},\"coloraxis\":{\"colorbar\":{\"outlinewidth\":0,\"ticks\":\"\"}},\"colorscale\":{\"sequential\":[[0.0,\"#0d0887\"],[0.1111111111111111,\"#46039f\"],[0.2222222222222222,\"#7201a8\"],[0.3333333333333333,\"#9c179e\"],[0.4444444444444444,\"#bd3786\"],[0.5555555555555556,\"#d8576b\"],[0.6666666666666666,\"#ed7953\"],[0.7777777777777778,\"#fb9f3a\"],[0.8888888888888888,\"#fdca26\"],[1.0,\"#f0f921\"]],\"sequentialminus\":[[0.0,\"#0d0887\"],[0.1111111111111111,\"#46039f\"],[0.2222222222222222,\"#7201a8\"],[0.3333333333333333,\"#9c179e\"],[0.4444444444444444,\"#bd3786\"],[0.5555555555555556,\"#d8576b\"],[0.6666666666666666,\"#ed7953\"],[0.7777777777777778,\"#fb9f3a\"],[0.8888888888888888,\"#fdca26\"],[1.0,\"#f0f921\"]],\"diverging\":[[0,\"#8e0152\"],[0.1,\"#c51b7d\"],[0.2,\"#de77ae\"],[0.3,\"#f1b6da\"],[0.4,\"#fde0ef\"],[0.5,\"#f7f7f7\"],[0.6,\"#e6f5d0\"],[0.7,\"#b8e186\"],[0.8,\"#7fbc41\"],[0.9,\"#4d9221\"],[1,\"#276419\"]]},\"xaxis\":{\"gridcolor\":\"#283442\",\"linecolor\":\"#506784\",\"ticks\":\"\",\"title\":{\"standoff\":15},\"zerolinecolor\":\"#283442\",\"automargin\":true,\"zerolinewidth\":2},\"yaxis\":{\"gridcolor\":\"#283442\",\"linecolor\":\"#506784\",\"ticks\":\"\",\"title\":{\"standoff\":15},\"zerolinecolor\":\"#283442\",\"automargin\":true,\"zerolinewidth\":2},\"scene\":{\"xaxis\":{\"backgroundcolor\":\"rgb(17,17,17)\",\"gridcolor\":\"#506784\",\"linecolor\":\"#506784\",\"showbackground\":true,\"ticks\":\"\",\"zerolinecolor\":\"#C8D4E3\",\"gridwidth\":2},\"yaxis\":{\"backgroundcolor\":\"rgb(17,17,17)\",\"gridcolor\":\"#506784\",\"linecolor\":\"#506784\",\"showbackground\":true,\"ticks\":\"\",\"zerolinecolor\":\"#C8D4E3\",\"gridwidth\":2},\"zaxis\":{\"backgroundcolor\":\"rgb(17,17,17)\",\"gridcolor\":\"#506784\",\"linecolor\":\"#506784\",\"showbackground\":true,\"ticks\":\"\",\"zerolinecolor\":\"#C8D4E3\",\"gridwidth\":2}},\"shapedefaults\":{\"line\":{\"color\":\"#f2f5fa\"}},\"annotationdefaults\":{\"arrowcolor\":\"#f2f5fa\",\"arrowhead\":0,\"arrowwidth\":1},\"geo\":{\"bgcolor\":\"rgb(17,17,17)\",\"landcolor\":\"rgb(17,17,17)\",\"subunitcolor\":\"#506784\",\"showland\":true,\"showlakes\":true,\"lakecolor\":\"rgb(17,17,17)\"},\"title\":{\"x\":0.05},\"updatemenudefaults\":{\"bgcolor\":\"#506784\",\"borderwidth\":0},\"sliderdefaults\":{\"bgcolor\":\"#C8D4E3\",\"borderwidth\":1,\"bordercolor\":\"rgb(17,17,17)\",\"tickwidth\":0},\"mapbox\":{\"style\":\"dark\"}}},\"xaxis\":{\"anchor\":\"y\",\"domain\":[0.0,1.0]},\"yaxis\":{\"anchor\":\"x\",\"domain\":[0.0,1.0]},\"title\":{\"text\":\"Probable buys and sells for NDTR=2 and std=0.0003 | Amount of trades=36\"}},                        {\"responsive\": true}                    ).then(function(){\n                            \nvar gd = document.getElementById('a14b93bc-da90-4201-9c7f-b159da0a2ab8');\nvar x = new MutationObserver(function (mutations, observer) {{\n        var display = window.getComputedStyle(gd).display;\n        if (!display || display === 'none') {{\n            console.log([gd, 'removed!']);\n            Plotly.purge(gd);\n            observer.disconnect();\n        }}\n}});\n\n// Listen for the removal of the full notebook cells\nvar notebookContainer = gd.closest('#notebook-container');\nif (notebookContainer) {{\n    x.observe(notebookContainer, {childList: true});\n}}\n\n// Listen for the clearing of the current output cell\nvar outputEl = gd.closest('.output');\nif (outputEl) {{\n    x.observe(outputEl, {childList: true});\n}}\n\n                        })                };                });            </script>        </div>"
     },
     "metadata": {},
     "output_type": "display_data"
    }
   ],
   "source": [
    "# only one trade at a time\n",
    "copy_df = df.copy(deep=True)\n",
    "rets = []\n",
    "dates = []\n",
    "index_of_buy = []\n",
    "index_of_sell = []\n",
    "for i in range(len(copy_df)):\n",
    "    row = copy_df.iloc[i]\n",
    "    buy_price = row['close']\n",
    "    if row['buy'] == 1:\n",
    "        already_selled = False\n",
    "        for j in np.arange(i + 1, len(copy_df)):\n",
    "            if not already_selled:\n",
    "                possible_sell = copy_df.iloc[j]\n",
    "                sell_price = possible_sell['close']\n",
    "                if possible_sell['sell'] == 1 and j not in index_of_sell:\n",
    "                    index_of_sell.append(j)\n",
    "                    index_of_buy.append(i)\n",
    "                    i = j + 1\n",
    "\n",
    "                    rets.append(ret(buy_price, sell_price))\n",
    "                    dates.append(datetime.fromtimestamp(possible_sell['timestamp'] / 1000))\n",
    "                    already_selled = True\n",
    "                    break\n",
    "\n",
    "rets_cumsum = np.array(rets).cumsum()\n",
    "fig = make_subplots()\n",
    "fig.add_trace(go.Scatter(x=dates, y=rets_cumsum, mode='lines+markers'))\n",
    "fig.update_layout(title=\"Cumsum rets in time. Amount of trades=\" + str(len(index_of_sell)), yaxis_tickformat=\".00%\")\n",
    "fig.show()\n",
    "\n",
    "fig = make_subplots()\n",
    "fig.add_trace(go.Scatter(x=df['timestamp'].apply(lambda x: datetime.fromtimestamp(x / 1000)), y=df['close'],\n",
    "                         name=\"Close price in time\"))\n",
    "fig.add_trace(go.Scatter(x=copy_df[copy_df['buy'] == 1]['timestamp'].apply(lambda x: datetime.fromtimestamp(x / 1000)),\n",
    "                         y=copy_df[copy_df['buy'] == 1]['close'], name=\"Buys\", mode=\"markers\"))\n",
    "fig.add_trace(go.Scatter(x=copy_df[copy_df['sell'] == 1]['timestamp'].apply(lambda x: datetime.fromtimestamp(x / 1000)),\n",
    "                         y=copy_df[copy_df['sell'] == 1]['close'], name=\"Sells\", mode=\"markers\"))\n",
    "fig.update_layout(\n",
    "    title=\"Probable buys and sells for NDTR=\" + str(NDTR) + \" and std=\" + str(std) + \" | Amount of trades=\" + str(\n",
    "        len(index_of_sell)))\n",
    "fig.show()"
   ],
   "metadata": {
    "collapsed": false,
    "pycharm": {
     "name": "#%%\n"
    }
   }
  },
  {
   "cell_type": "code",
   "execution_count": 175,
   "outputs": [],
   "source": [],
   "metadata": {
    "collapsed": false,
    "pycharm": {
     "name": "#%%\n"
    }
   }
  }
 ],
 "metadata": {
  "kernelspec": {
   "display_name": "Python 3.8.10 64-bit ('3.8.10')",
   "language": "python",
   "name": "python3"
  },
  "language_info": {
   "codemirror_mode": {
    "name": "ipython",
    "version": 3
   },
   "file_extension": ".py",
   "mimetype": "text/x-python",
   "name": "python",
   "nbconvert_exporter": "python",
   "pygments_lexer": "ipython3",
   "version": "3.8.10"
  },
  "orig_nbformat": 4,
  "vscode": {
   "interpreter": {
    "hash": "51358056f74a2d21998dc5d866dbfaea4db2646fd9139b55e1f67d5243b0204f"
   }
  }
 },
 "nbformat": 4,
 "nbformat_minor": 2
}