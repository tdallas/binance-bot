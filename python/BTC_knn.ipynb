{
 "cells": [
  {
   "cell_type": "code",
   "execution_count": 23,
   "outputs": [
    {
     "name": "stdout",
     "output_type": "stream",
     "text": [
      "The jupyternotify extension is already loaded. To reload it, use:\n",
      "  %reload_ext jupyternotify\n"
     ]
    }
   ],
   "source": [
    "import json\n",
    "import math\n",
    "\n",
    "import numpy as np\n",
    "import pandas as pd\n",
    "import plotly.graph_objects as go\n",
    "from plotly.subplots import make_subplots\n",
    "from sklearn.neighbors import KNeighborsClassifier\n",
    "from tqdm import tqdm\n",
    "from datetime import datetime\n",
    "from sklearn.preprocessing import StandardScaler, MinMaxScaler, RobustScaler\n",
    "%load_ext jupyternotify\n"
   ],
   "metadata": {
    "collapsed": false,
    "pycharm": {
     "name": "#%%\n"
    }
   }
  },
  {
   "cell_type": "code",
   "execution_count": null,
   "outputs": [],
   "source": [
    "def ret(n, n_1):\n",
    "    return (n_1 - n) / n\n",
    "\n",
    "\n",
    "PREDICTIONS_TRAINING = 1000\n",
    "PREDICTIONS_TESTING = 1000\n",
    "\n",
    "# prices every 15 seconds\n",
    "# df = pd.read_csv(\"prices.csv\")\n",
    "f = open(\"BTC_USDT-3m.json\")\n",
    "df = pd.DataFrame.from_records(json.load(f), columns=['timestamp', 'open', 'high', 'low', 'close', 'vol'])\n",
    "df['ret_c'] = (df['close'] - df['close'].shift(1)) / df['close'].shift(1)\n",
    "df['ret_o'] = (df['open'] - df['open'].shift(1)) / df['open'].shift(1)\n",
    "df['ret_h'] = (df['high'] - df['high'].shift(1)) / df['high'].shift(1)\n",
    "df['ret_l'] = (df['low'] - df['low'].shift(1)) / df['low'].shift(1)\n",
    "\n",
    "df['ret'] = (df['open'].shift(-1) - df['open']) / df['open']\n",
    "\n",
    "df['ret_s'] = df['ret'].apply(lambda x: np.sign(x))\n"
   ],
   "metadata": {
    "collapsed": false,
    "pycharm": {
     "name": "#%%\n",
     "is_executing": true
    }
   }
  },
  {
   "cell_type": "code",
   "execution_count": 25,
   "outputs": [
    {
     "data": {
      "text/plain": "           timestamp      open      high       low     close         vol  \\\n0      1661904000000  19813.03  19838.84  19811.14  19819.50   582.13461   \n1      1661904180000  19820.97  19876.77  19797.94  19863.03   605.82699   \n2      1661904360000  19865.04  19910.78  19861.16  19904.99   578.33857   \n3      1661904540000  19905.80  19910.18  19864.75  19873.44   607.35949   \n4      1661904720000  19873.44  19892.60  19863.52  19883.66   354.87011   \n...              ...       ...       ...       ...       ...         ...   \n14668  1664544240000  19266.71  19269.34  19250.50  19254.16   962.51716   \n14669  1664544420000  19254.16  19273.33  19243.61  19253.00   736.75091   \n14670  1664544600000  19252.79  19297.79  19237.19  19242.77  2040.90584   \n14671  1664544780000  19244.20  19357.70  19242.73  19298.84  2174.22268   \n14672  1664544960000  19298.84  19303.69  19242.20  19252.89  1547.75787   \n\n          ret_c     ret_o     ret_h     ret_l       ret  ret_s  \n0           NaN       NaN       NaN       NaN  0.000401    1.0  \n1      0.002196  0.000401  0.001912 -0.000666  0.002223    1.0  \n2      0.002112  0.002223  0.001711  0.003193  0.002052    1.0  \n3     -0.001585  0.002052 -0.000030  0.000181 -0.001626   -1.0  \n4      0.000514 -0.001626 -0.000883 -0.000062  0.000466    1.0  \n...         ...       ...       ...       ...       ...    ...  \n14668 -0.000651 -0.000239 -0.000703 -0.000095 -0.000651   -1.0  \n14669 -0.000060 -0.000651  0.000207 -0.000358 -0.000071   -1.0  \n14670 -0.000531 -0.000071  0.001269 -0.000334 -0.000446   -1.0  \n14671  0.002914 -0.000446  0.003105  0.000288  0.002839    1.0  \n14672 -0.002381  0.002839 -0.002790 -0.000028       NaN    NaN  \n\n[14673 rows x 12 columns]",
      "text/html": "<div>\n<style scoped>\n    .dataframe tbody tr th:only-of-type {\n        vertical-align: middle;\n    }\n\n    .dataframe tbody tr th {\n        vertical-align: top;\n    }\n\n    .dataframe thead th {\n        text-align: right;\n    }\n</style>\n<table border=\"1\" class=\"dataframe\">\n  <thead>\n    <tr style=\"text-align: right;\">\n      <th></th>\n      <th>timestamp</th>\n      <th>open</th>\n      <th>high</th>\n      <th>low</th>\n      <th>close</th>\n      <th>vol</th>\n      <th>ret_c</th>\n      <th>ret_o</th>\n      <th>ret_h</th>\n      <th>ret_l</th>\n      <th>ret</th>\n      <th>ret_s</th>\n    </tr>\n  </thead>\n  <tbody>\n    <tr>\n      <th>0</th>\n      <td>1661904000000</td>\n      <td>19813.03</td>\n      <td>19838.84</td>\n      <td>19811.14</td>\n      <td>19819.50</td>\n      <td>582.13461</td>\n      <td>NaN</td>\n      <td>NaN</td>\n      <td>NaN</td>\n      <td>NaN</td>\n      <td>0.000401</td>\n      <td>1.0</td>\n    </tr>\n    <tr>\n      <th>1</th>\n      <td>1661904180000</td>\n      <td>19820.97</td>\n      <td>19876.77</td>\n      <td>19797.94</td>\n      <td>19863.03</td>\n      <td>605.82699</td>\n      <td>0.002196</td>\n      <td>0.000401</td>\n      <td>0.001912</td>\n      <td>-0.000666</td>\n      <td>0.002223</td>\n      <td>1.0</td>\n    </tr>\n    <tr>\n      <th>2</th>\n      <td>1661904360000</td>\n      <td>19865.04</td>\n      <td>19910.78</td>\n      <td>19861.16</td>\n      <td>19904.99</td>\n      <td>578.33857</td>\n      <td>0.002112</td>\n      <td>0.002223</td>\n      <td>0.001711</td>\n      <td>0.003193</td>\n      <td>0.002052</td>\n      <td>1.0</td>\n    </tr>\n    <tr>\n      <th>3</th>\n      <td>1661904540000</td>\n      <td>19905.80</td>\n      <td>19910.18</td>\n      <td>19864.75</td>\n      <td>19873.44</td>\n      <td>607.35949</td>\n      <td>-0.001585</td>\n      <td>0.002052</td>\n      <td>-0.000030</td>\n      <td>0.000181</td>\n      <td>-0.001626</td>\n      <td>-1.0</td>\n    </tr>\n    <tr>\n      <th>4</th>\n      <td>1661904720000</td>\n      <td>19873.44</td>\n      <td>19892.60</td>\n      <td>19863.52</td>\n      <td>19883.66</td>\n      <td>354.87011</td>\n      <td>0.000514</td>\n      <td>-0.001626</td>\n      <td>-0.000883</td>\n      <td>-0.000062</td>\n      <td>0.000466</td>\n      <td>1.0</td>\n    </tr>\n    <tr>\n      <th>...</th>\n      <td>...</td>\n      <td>...</td>\n      <td>...</td>\n      <td>...</td>\n      <td>...</td>\n      <td>...</td>\n      <td>...</td>\n      <td>...</td>\n      <td>...</td>\n      <td>...</td>\n      <td>...</td>\n      <td>...</td>\n    </tr>\n    <tr>\n      <th>14668</th>\n      <td>1664544240000</td>\n      <td>19266.71</td>\n      <td>19269.34</td>\n      <td>19250.50</td>\n      <td>19254.16</td>\n      <td>962.51716</td>\n      <td>-0.000651</td>\n      <td>-0.000239</td>\n      <td>-0.000703</td>\n      <td>-0.000095</td>\n      <td>-0.000651</td>\n      <td>-1.0</td>\n    </tr>\n    <tr>\n      <th>14669</th>\n      <td>1664544420000</td>\n      <td>19254.16</td>\n      <td>19273.33</td>\n      <td>19243.61</td>\n      <td>19253.00</td>\n      <td>736.75091</td>\n      <td>-0.000060</td>\n      <td>-0.000651</td>\n      <td>0.000207</td>\n      <td>-0.000358</td>\n      <td>-0.000071</td>\n      <td>-1.0</td>\n    </tr>\n    <tr>\n      <th>14670</th>\n      <td>1664544600000</td>\n      <td>19252.79</td>\n      <td>19297.79</td>\n      <td>19237.19</td>\n      <td>19242.77</td>\n      <td>2040.90584</td>\n      <td>-0.000531</td>\n      <td>-0.000071</td>\n      <td>0.001269</td>\n      <td>-0.000334</td>\n      <td>-0.000446</td>\n      <td>-1.0</td>\n    </tr>\n    <tr>\n      <th>14671</th>\n      <td>1664544780000</td>\n      <td>19244.20</td>\n      <td>19357.70</td>\n      <td>19242.73</td>\n      <td>19298.84</td>\n      <td>2174.22268</td>\n      <td>0.002914</td>\n      <td>-0.000446</td>\n      <td>0.003105</td>\n      <td>0.000288</td>\n      <td>0.002839</td>\n      <td>1.0</td>\n    </tr>\n    <tr>\n      <th>14672</th>\n      <td>1664544960000</td>\n      <td>19298.84</td>\n      <td>19303.69</td>\n      <td>19242.20</td>\n      <td>19252.89</td>\n      <td>1547.75787</td>\n      <td>-0.002381</td>\n      <td>0.002839</td>\n      <td>-0.002790</td>\n      <td>-0.000028</td>\n      <td>NaN</td>\n      <td>NaN</td>\n    </tr>\n  </tbody>\n</table>\n<p>14673 rows × 12 columns</p>\n</div>"
     },
     "execution_count": 25,
     "metadata": {},
     "output_type": "execute_result"
    }
   ],
   "source": [
    "df"
   ],
   "metadata": {
    "collapsed": false,
    "pycharm": {
     "name": "#%%\n"
    }
   }
  },
  {
   "cell_type": "code",
   "execution_count": 26,
   "outputs": [],
   "source": [
    "# training\n",
    "N_CANDLES = 6\n",
    "NDIM = N_CANDLES * 4  # NDTR velas * 4 datos por velas\n",
    "# K, NDTR, hit_rate\n"
   ],
   "metadata": {
    "collapsed": false,
    "pycharm": {
     "name": "#%%\n"
    }
   }
  },
  {
   "cell_type": "code",
   "execution_count": 27,
   "outputs": [
    {
     "name": "stderr",
     "output_type": "stream",
     "text": [
      "100%|██████████| 60/60 [58:24<00:00, 58.40s/it]\n",
      "UsageError: Line magic function `%%notify` not found.\n"
     ]
    }
   ],
   "source": [
    "hit_rates_K = []\n",
    "# K, NDTR, mean(ret)\n",
    "rets_K = []\n",
    "for K in tqdm(np.arange(1, 180, 3)):\n",
    "    for NDTR in (np.arange(500, 5000, 500)):\n",
    "\n",
    "        knn = KNeighborsClassifier(n_neighbors=K, weights=\"distance\")\n",
    "\n",
    "        xs = []\n",
    "        y_train = []\n",
    "        y_test = []\n",
    "        y_test_ret = []\n",
    "        y_predicted = []\n",
    "        for j in np.arange(K + 1 + N_CANDLES, K + 1 + N_CANDLES + NDTR):\n",
    "            small_df = df.iloc[j - N_CANDLES: j].copy(deep=True)[\n",
    "                ['ret_c', 'ret_s', 'ret_o', 'ret_h', 'ret_l']].reset_index(\n",
    "                drop=True)\n",
    "            x = np.array(small_df[['ret_c',  'ret_h', 'ret_l', 'ret_h']].values).reshape(NDIM)\n",
    "            y = df.iloc[j]['ret_s']\n",
    "            xs.append(x)\n",
    "            y_train.append(y)\n",
    "\n",
    "        for j in np.arange(K + 1 + NDTR + N_CANDLES, K + 1 + NDTR + N_CANDLES + PREDICTIONS_TESTING):\n",
    "            small_df = df.iloc[j - N_CANDLES: j].copy(deep=True)[\n",
    "                ['ret_c', 'ret_s', 'ret_o', 'ret_h', 'ret_l']].reset_index(\n",
    "                drop=True)\n",
    "            x = np.array(small_df[['ret_c', 'ret_h', 'ret_l','ret_h']].values).reshape(NDIM)\n",
    "            xs.append(x)\n",
    "            y_test.append(df.iloc[j - 1]['ret_s'])\n",
    "            y_test_ret.append(df.iloc[j - 1]['ret'])\n",
    "\n",
    "        st_x = RobustScaler()\n",
    "        xs_norm = st_x.fit_transform(xs)\n",
    "        x_train = xs_norm[:NDTR]\n",
    "        x_test = xs_norm[NDTR:]\n",
    "        knn.fit(x_train, y_train)\n",
    "\n",
    "        predictions = []\n",
    "        actuals = []\n",
    "        hits = 0\n",
    "        rets = []\n",
    "\n",
    "        for j in range(len(x_test)):\n",
    "            prediction = -(knn.predict([x_test[j]])[0])\n",
    "            actual = y_test[j]\n",
    "            if actual == prediction:\n",
    "                hits += 1\n",
    "            if actual > 0:\n",
    "                rets.append(y_test_ret[j])\n",
    "\n",
    "        hit_rates_K.append([K, NDTR, hits / PREDICTIONS_TESTING])\n",
    "        rets_K.append([K, NDTR, np.array(rets).mean() if len(rets) > 0 else 0])\n",
    "%%notify\n"
   ],
   "metadata": {
    "collapsed": false,
    "pycharm": {
     "name": "#%%\n"
    }
   }
  },
  {
   "cell_type": "code",
   "execution_count": 28,
   "outputs": [
    {
     "name": "stdout",
     "output_type": "stream",
     "text": [
      "       K  NDTR  hit_rate\n",
      "390  130  2000     0.631\n",
      "0.0010158177597703237\n"
     ]
    }
   ],
   "source": [
    "hit_rates_K = pd.DataFrame(hit_rates_K, columns=[\"K\", \"NDTR\", \"hit_rate\"])\n",
    "rets_K = pd.DataFrame(rets_K, columns=[\"K\", \"NDTR\", \"ret\"])\n",
    "print(hit_rates_K[hit_rates_K['hit_rate'] == hit_rates_K['hit_rate'].max()])\n",
    "print(rets_K['ret'].max())"
   ],
   "metadata": {
    "collapsed": false,
    "pycharm": {
     "name": "#%%\n"
    }
   }
  },
  {
   "cell_type": "code",
   "execution_count": 29,
   "outputs": [],
   "source": [
    "hit_rates_K.to_csv(\"knn/first_run_knn_hr_1000testing_6candles_ochl_complement.csv\")\n",
    "rets_K.to_csv(\"knn/first_run_knn_ret_1000testing_6candles_ochl_complement.csv\")"
   ],
   "metadata": {
    "collapsed": false,
    "pycharm": {
     "name": "#%%\n"
    }
   }
  },
  {
   "cell_type": "code",
   "execution_count": null,
   "outputs": [],
   "source": [],
   "metadata": {
    "collapsed": false,
    "pycharm": {
     "name": "#%%\n"
    }
   }
  }
 ],
 "metadata": {
  "kernelspec": {
   "display_name": "Python 3.8.10 64-bit ('3.8.10')",
   "language": "python",
   "name": "python3"
  },
  "language_info": {
   "codemirror_mode": {
    "name": "ipython",
    "version": 3
   },
   "file_extension": ".py",
   "mimetype": "text/x-python",
   "name": "python",
   "nbconvert_exporter": "python",
   "pygments_lexer": "ipython3",
   "version": "3.8.10"
  },
  "orig_nbformat": 4,
  "vscode": {
   "interpreter": {
    "hash": "51358056f74a2d21998dc5d866dbfaea4db2646fd9139b55e1f67d5243b0204f"
   }
  }
 },
 "nbformat": 4,
 "nbformat_minor": 2
}