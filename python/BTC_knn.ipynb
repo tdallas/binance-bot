{
 "cells": [
  {
   "cell_type": "code",
   "execution_count": 38,
   "outputs": [],
   "source": [
    "import json\n",
    "import math\n",
    "\n",
    "import numpy as np\n",
    "import pandas as pd\n",
    "import plotly.graph_objects as go\n",
    "from plotly.subplots import make_subplots\n",
    "from sklearn.neighbors import KNeighborsClassifier\n",
    "from tqdm import tqdm\n",
    "from datetime import datetime\n",
    "from sklearn.preprocessing import StandardScaler, MinMaxScaler, RobustScaler\n"
   ],
   "metadata": {
    "collapsed": false,
    "pycharm": {
     "name": "#%%\n"
    }
   }
  },
  {
   "cell_type": "code",
   "execution_count": 48,
   "outputs": [],
   "source": [
    "def ret(n, n_1):\n",
    "    return (n_1 - n) / n\n",
    "\n",
    "\n",
    "PREDICTIONS_TRAINING = 1000\n",
    "PREDICTIONS_TESTING = 700\n",
    "\n",
    "# prices every 15 seconds\n",
    "# df = pd.read_csv(\"prices.csv\")\n",
    "f = open(\"BTC_USDT-3m.json\")\n",
    "df = pd.DataFrame.from_records(json.load(f), columns=['timestamp', 'open', 'high', 'low', 'close', 'vol'])\n",
    "df['ret_c'] = (df['close'] - df['close'].shift(1)) / df['close'].shift(1)\n",
    "df['ret_o'] = (df['open'] - df['open'].shift(1)) / df['open'].shift(1)\n",
    "df['ret_h'] = (df['high'] - df['high'].shift(1)) / df['high'].shift(1)\n",
    "df['ret_l'] = (df['low'] - df['low'].shift(1)) / df['low'].shift(1)\n",
    "\n",
    "df['ret'] = (df['open'].shift(-1) - df['open']) / df['open']\n",
    "\n",
    "df['ret_s'] = df['ret'].apply(lambda x: np.sign(x))\n"
   ],
   "metadata": {
    "collapsed": false,
    "pycharm": {
     "name": "#%%\n"
    }
   }
  },
  {
   "cell_type": "code",
   "execution_count": 49,
   "outputs": [
    {
     "data": {
      "text/plain": "          timestamp      open      high       low     close        vol  \\\n0     1661904000000  19813.03  19838.84  19811.14  19819.50  582.13461   \n1     1661904180000  19820.97  19876.77  19797.94  19863.03  605.82699   \n2     1661904360000  19865.04  19910.78  19861.16  19904.99  578.33857   \n3     1661904540000  19905.80  19910.18  19864.75  19873.44  607.35949   \n4     1661904720000  19873.44  19892.60  19863.52  19883.66  354.87011   \n...             ...       ...       ...       ...       ...        ...   \n5243  1662847740000  21695.72  21747.90  21675.87  21725.07  914.47974   \n5244  1662847920000  21727.16  21735.53  21690.00  21723.08  710.86427   \n5245  1662848100000  21722.02  21729.23  21663.22  21689.83  844.59582   \n5246  1662848280000  21689.83  21697.99  21653.75  21658.57  746.62426   \n5247  1662848460000  21659.91  21700.00  21657.26  21688.59  612.96300   \n\n         ret_c     ret_o     ret_h     ret_l       ret  ret_s  \n0          NaN       NaN       NaN       NaN  0.000401    1.0  \n1     0.002196  0.000401  0.001912 -0.000666  0.002223    1.0  \n2     0.002112  0.002223  0.001711  0.003193  0.002052    1.0  \n3    -0.001585  0.002052 -0.000030  0.000181 -0.001626   -1.0  \n4     0.000514 -0.001626 -0.000883 -0.000062  0.000466    1.0  \n...        ...       ...       ...       ...       ...    ...  \n5243  0.001353 -0.000084  0.001325  0.000476  0.001449    1.0  \n5244 -0.000092  0.001449 -0.000569  0.000652 -0.000237   -1.0  \n5245 -0.001531 -0.000237 -0.000290 -0.001235 -0.001482   -1.0  \n5246 -0.001441 -0.001482 -0.001438 -0.000437 -0.001379   -1.0  \n5247  0.001386 -0.001379  0.000093  0.000162       NaN    NaN  \n\n[5248 rows x 12 columns]",
      "text/html": "<div>\n<style scoped>\n    .dataframe tbody tr th:only-of-type {\n        vertical-align: middle;\n    }\n\n    .dataframe tbody tr th {\n        vertical-align: top;\n    }\n\n    .dataframe thead th {\n        text-align: right;\n    }\n</style>\n<table border=\"1\" class=\"dataframe\">\n  <thead>\n    <tr style=\"text-align: right;\">\n      <th></th>\n      <th>timestamp</th>\n      <th>open</th>\n      <th>high</th>\n      <th>low</th>\n      <th>close</th>\n      <th>vol</th>\n      <th>ret_c</th>\n      <th>ret_o</th>\n      <th>ret_h</th>\n      <th>ret_l</th>\n      <th>ret</th>\n      <th>ret_s</th>\n    </tr>\n  </thead>\n  <tbody>\n    <tr>\n      <th>0</th>\n      <td>1661904000000</td>\n      <td>19813.03</td>\n      <td>19838.84</td>\n      <td>19811.14</td>\n      <td>19819.50</td>\n      <td>582.13461</td>\n      <td>NaN</td>\n      <td>NaN</td>\n      <td>NaN</td>\n      <td>NaN</td>\n      <td>0.000401</td>\n      <td>1.0</td>\n    </tr>\n    <tr>\n      <th>1</th>\n      <td>1661904180000</td>\n      <td>19820.97</td>\n      <td>19876.77</td>\n      <td>19797.94</td>\n      <td>19863.03</td>\n      <td>605.82699</td>\n      <td>0.002196</td>\n      <td>0.000401</td>\n      <td>0.001912</td>\n      <td>-0.000666</td>\n      <td>0.002223</td>\n      <td>1.0</td>\n    </tr>\n    <tr>\n      <th>2</th>\n      <td>1661904360000</td>\n      <td>19865.04</td>\n      <td>19910.78</td>\n      <td>19861.16</td>\n      <td>19904.99</td>\n      <td>578.33857</td>\n      <td>0.002112</td>\n      <td>0.002223</td>\n      <td>0.001711</td>\n      <td>0.003193</td>\n      <td>0.002052</td>\n      <td>1.0</td>\n    </tr>\n    <tr>\n      <th>3</th>\n      <td>1661904540000</td>\n      <td>19905.80</td>\n      <td>19910.18</td>\n      <td>19864.75</td>\n      <td>19873.44</td>\n      <td>607.35949</td>\n      <td>-0.001585</td>\n      <td>0.002052</td>\n      <td>-0.000030</td>\n      <td>0.000181</td>\n      <td>-0.001626</td>\n      <td>-1.0</td>\n    </tr>\n    <tr>\n      <th>4</th>\n      <td>1661904720000</td>\n      <td>19873.44</td>\n      <td>19892.60</td>\n      <td>19863.52</td>\n      <td>19883.66</td>\n      <td>354.87011</td>\n      <td>0.000514</td>\n      <td>-0.001626</td>\n      <td>-0.000883</td>\n      <td>-0.000062</td>\n      <td>0.000466</td>\n      <td>1.0</td>\n    </tr>\n    <tr>\n      <th>...</th>\n      <td>...</td>\n      <td>...</td>\n      <td>...</td>\n      <td>...</td>\n      <td>...</td>\n      <td>...</td>\n      <td>...</td>\n      <td>...</td>\n      <td>...</td>\n      <td>...</td>\n      <td>...</td>\n      <td>...</td>\n    </tr>\n    <tr>\n      <th>5243</th>\n      <td>1662847740000</td>\n      <td>21695.72</td>\n      <td>21747.90</td>\n      <td>21675.87</td>\n      <td>21725.07</td>\n      <td>914.47974</td>\n      <td>0.001353</td>\n      <td>-0.000084</td>\n      <td>0.001325</td>\n      <td>0.000476</td>\n      <td>0.001449</td>\n      <td>1.0</td>\n    </tr>\n    <tr>\n      <th>5244</th>\n      <td>1662847920000</td>\n      <td>21727.16</td>\n      <td>21735.53</td>\n      <td>21690.00</td>\n      <td>21723.08</td>\n      <td>710.86427</td>\n      <td>-0.000092</td>\n      <td>0.001449</td>\n      <td>-0.000569</td>\n      <td>0.000652</td>\n      <td>-0.000237</td>\n      <td>-1.0</td>\n    </tr>\n    <tr>\n      <th>5245</th>\n      <td>1662848100000</td>\n      <td>21722.02</td>\n      <td>21729.23</td>\n      <td>21663.22</td>\n      <td>21689.83</td>\n      <td>844.59582</td>\n      <td>-0.001531</td>\n      <td>-0.000237</td>\n      <td>-0.000290</td>\n      <td>-0.001235</td>\n      <td>-0.001482</td>\n      <td>-1.0</td>\n    </tr>\n    <tr>\n      <th>5246</th>\n      <td>1662848280000</td>\n      <td>21689.83</td>\n      <td>21697.99</td>\n      <td>21653.75</td>\n      <td>21658.57</td>\n      <td>746.62426</td>\n      <td>-0.001441</td>\n      <td>-0.001482</td>\n      <td>-0.001438</td>\n      <td>-0.000437</td>\n      <td>-0.001379</td>\n      <td>-1.0</td>\n    </tr>\n    <tr>\n      <th>5247</th>\n      <td>1662848460000</td>\n      <td>21659.91</td>\n      <td>21700.00</td>\n      <td>21657.26</td>\n      <td>21688.59</td>\n      <td>612.96300</td>\n      <td>0.001386</td>\n      <td>-0.001379</td>\n      <td>0.000093</td>\n      <td>0.000162</td>\n      <td>NaN</td>\n      <td>NaN</td>\n    </tr>\n  </tbody>\n</table>\n<p>5248 rows × 12 columns</p>\n</div>"
     },
     "execution_count": 49,
     "metadata": {},
     "output_type": "execute_result"
    }
   ],
   "source": [
    "df"
   ],
   "metadata": {
    "collapsed": false,
    "pycharm": {
     "name": "#%%\n"
    }
   }
  },
  {
   "cell_type": "code",
   "execution_count": 54,
   "outputs": [],
   "source": [
    "# training\n",
    "N_CANDLES = 10\n",
    "NDIM = N_CANDLES * 4  # NDTR velas * 4 datos por velas\n",
    "# K, NDTR, hit_rate\n"
   ],
   "metadata": {
    "collapsed": false,
    "pycharm": {
     "name": "#%%\n"
    }
   }
  },
  {
   "cell_type": "code",
   "execution_count": null,
   "outputs": [
    {
     "name": "stderr",
     "output_type": "stream",
     "text": [
      " 38%|███▊      | 11/29 [1:10:32<1:57:42, 392.38s/it]"
     ]
    }
   ],
   "source": [
    "hit_rates_K = []\n",
    "# K, NDTR, mean(ret)\n",
    "rets_K = []\n",
    "for K in tqdm(np.arange(5, 150, 5)):\n",
    "    for NDTR in (np.arange(150, 4000, 50)):\n",
    "\n",
    "        knn = KNeighborsClassifier(n_neighbors=K, weights=\"distance\")\n",
    "\n",
    "        xs = []\n",
    "        y_train = []\n",
    "        y_test = []\n",
    "        y_predicted = []\n",
    "        for j in np.arange(K + 1 + N_CANDLES, K + 1 + N_CANDLES + NDTR):\n",
    "            small_df = df.iloc[j - N_CANDLES: j].copy(deep=True)[\n",
    "                ['ret_o', 'ret_c', 'ret_h', 'ret_l', 'ret_s']].reset_index(\n",
    "                drop=True)\n",
    "\n",
    "            x = np.array(small_df[['ret_c', 'ret_h', 'ret_l', 'ret_o']].values).reshape(NDIM)\n",
    "            y = df.iloc[j]['ret_s']\n",
    "            xs.append(x)\n",
    "            y_train.append(y)\n",
    "\n",
    "        for j in np.arange(K + 1 + NDTR + N_CANDLES, K + 1 + NDTR + N_CANDLES + PREDICTIONS_TESTING):\n",
    "            small_df = df.iloc[j - N_CANDLES: j].copy(deep=True)[\n",
    "                ['ret_o', 'ret_c', 'ret_h', 'ret_l', 'ret_s']].reset_index(\n",
    "                drop=True)\n",
    "            x = np.array(small_df[['ret_c', 'ret_h', 'ret_l', 'ret_o']].values).reshape(NDIM)\n",
    "            xs.append(x)\n",
    "            y_test.append(df.iloc[j]['ret_s'])\n",
    "\n",
    "        st_x = RobustScaler()\n",
    "        xs_norm = st_x.fit_transform(xs)\n",
    "        x_train = xs_norm[:NDTR]\n",
    "        x_test = xs_norm[NDTR:]\n",
    "        knn.fit(x_train, y_train)\n",
    "\n",
    "        predictions = []\n",
    "        actuals = []\n",
    "        hits = 0\n",
    "        rets = []\n",
    "\n",
    "        for j in np.arange(K + 1 + NDTR + N_CANDLES, K + 1 + NDTR + N_CANDLES + PREDICTIONS_TESTING):\n",
    "            small_df = df.iloc[j - N_CANDLES: j]\n",
    "\n",
    "            x_test = [np.array(small_df[['ret_c', 'ret_h', 'ret_l', 'ret_o']].values).reshape(NDIM)]\n",
    "            y_test = df.iloc[j - 1]['ret_s']\n",
    "            # st_x= RobustScaler()\n",
    "            # x_test= st_x.fit_transform(x_test)\n",
    "            prediction = knn.predict(x_test)[0]\n",
    "            actual = y_test\n",
    "            predictions.append(prediction)\n",
    "            actuals.append(actual)\n",
    "            if actual == prediction:\n",
    "                hits += 1\n",
    "            if prediction > 0:\n",
    "                rets.append(df.iloc[j - 1]['ret'])\n",
    "        hit_rates_K.append([K, NDTR, hits / PREDICTIONS_TESTING])\n",
    "        rets_K.append([K, NDTR, np.array(rets).mean() if len(rets)>0 else 0])\n"
   ],
   "metadata": {
    "collapsed": false,
    "pycharm": {
     "name": "#%%\n",
     "is_executing": true
    }
   }
  },
  {
   "cell_type": "code",
   "execution_count": 52,
   "outputs": [
    {
     "name": "stdout",
     "output_type": "stream",
     "text": [
      "0.6085714285714285\n",
      "0.0034869021597492356\n"
     ]
    }
   ],
   "source": [
    "hit_rates_K = pd.DataFrame(hit_rates_K, columns=[\"K\", \"NDTR\", \"hit_rate\"])\n",
    "rets_K = pd.DataFrame(rets_K, columns=[\"K\", \"NDTR\", \"ret\"])\n",
    "print(hit_rates_K['hit_rate'].max())\n",
    "print(rets_K['ret'].max())"
   ],
   "metadata": {
    "collapsed": false,
    "pycharm": {
     "name": "#%%\n"
    }
   }
  },
  {
   "cell_type": "code",
   "execution_count": 53,
   "outputs": [],
   "source": [
    "hit_rates_K.to_csv(\"knn/first_run_knn_hr_700testing_10candles.csv\")\n",
    "rets_K.to_csv(\"knn/first_run_knn_ret_700testing_10candles.csv\")"
   ],
   "metadata": {
    "collapsed": false,
    "pycharm": {
     "name": "#%%\n"
    }
   }
  },
  {
   "cell_type": "code",
   "execution_count": null,
   "outputs": [],
   "source": [],
   "metadata": {
    "collapsed": false,
    "pycharm": {
     "name": "#%%\n"
    }
   }
  }
 ],
 "metadata": {
  "kernelspec": {
   "display_name": "Python 3.8.10 64-bit ('3.8.10')",
   "language": "python",
   "name": "python3"
  },
  "language_info": {
   "codemirror_mode": {
    "name": "ipython",
    "version": 3
   },
   "file_extension": ".py",
   "mimetype": "text/x-python",
   "name": "python",
   "nbconvert_exporter": "python",
   "pygments_lexer": "ipython3",
   "version": "3.8.10"
  },
  "orig_nbformat": 4,
  "vscode": {
   "interpreter": {
    "hash": "51358056f74a2d21998dc5d866dbfaea4db2646fd9139b55e1f67d5243b0204f"
   }
  }
 },
 "nbformat": 4,
 "nbformat_minor": 2
}