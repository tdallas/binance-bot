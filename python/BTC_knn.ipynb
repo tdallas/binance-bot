{
 "cells": [
  {
   "cell_type": "code",
   "execution_count": 332,
   "outputs": [],
   "source": [
    "import json\n",
    "import math\n",
    "\n",
    "import numpy as np\n",
    "import pandas as pd\n",
    "import plotly.graph_objects as go\n",
    "from plotly.subplots import make_subplots\n",
    "from sklearn.neighbors import KNeighborsClassifier\n",
    "from tqdm import tqdm\n",
    "from datetime import datetime\n",
    "from sklearn.preprocessing import StandardScaler, MinMaxScaler, RobustScaler\n"
   ],
   "metadata": {
    "collapsed": false,
    "pycharm": {
     "name": "#%%\n"
    }
   }
  },
  {
   "cell_type": "code",
   "execution_count": 333,
   "outputs": [
    {
     "name": "stdout",
     "output_type": "stream",
     "text": [
      "2\n",
      "2597\n",
      "2648\n"
     ]
    }
   ],
   "source": [
    "def ret(n, n_1):\n",
    "    return (n_1 - n) / n\n",
    "\n",
    "\n",
    "PREDICTIONS = 700\n",
    "# prices every 15 seconds\n",
    "# df = pd.read_csv(\"prices.csv\")\n",
    "f = open(\"BTC_USDT-3m.json\")\n",
    "df = pd.DataFrame.from_records(json.load(f), columns=['timestamp', 'open', 'high', 'low', 'close', 'vol'])\n",
    "# df.columns = ['price']\n",
    "df['ret_c'] = (df['close'] - df['close'].shift(1)) / df['close'].shift(1)\n",
    "df['ret_o'] = (df['open'] - df['open'].shift(1)) / df['open'].shift(1)\n",
    "\n",
    "df['ret_h'] = (df['high'] - df['high'].shift(1)) / df['high'].shift(1)\n",
    "df['ret_l'] = (df['low'] - df['low'].shift(1)) / df['low'].shift(1)\n",
    "\n",
    "df['mid'] = (df['low'] + df['high'])/2\n",
    "\n",
    "df['ret'] = (df['open'].shift(-1) - df['open']) / df['open']\n",
    "df['close_n'] = df['close'].shift(-1)\n",
    "mean_ret = 0.0001\n",
    "df['ret'] = df['ret'].apply(lambda x: np.sign(x))\n",
    "print(len(df[df['ret'] == 0]))\n",
    "print(len(df[df['ret'] == -1]))\n",
    "print(len(df[df['ret'] == 1]))\n",
    "\n",
    "df['co_d'] = df['close'] - df['open']\n",
    "\n",
    "\n",
    "def perc_dif(actual, prediction):\n",
    "    return np.abs(prediction - actual) / prediction"
   ],
   "metadata": {
    "collapsed": false,
    "pycharm": {
     "name": "#%%\n"
    }
   }
  },
  {
   "cell_type": "code",
   "execution_count": 334,
   "outputs": [
    {
     "data": {
      "text/plain": "          timestamp      open      high       low     close        vol  \\\n0     1661904000000  19813.03  19838.84  19811.14  19819.50  582.13461   \n1     1661904180000  19820.97  19876.77  19797.94  19863.03  605.82699   \n2     1661904360000  19865.04  19910.78  19861.16  19904.99  578.33857   \n3     1661904540000  19905.80  19910.18  19864.75  19873.44  607.35949   \n4     1661904720000  19873.44  19892.60  19863.52  19883.66  354.87011   \n...             ...       ...       ...       ...       ...        ...   \n5243  1662847740000  21695.72  21747.90  21675.87  21725.07  914.47974   \n5244  1662847920000  21727.16  21735.53  21690.00  21723.08  710.86427   \n5245  1662848100000  21722.02  21729.23  21663.22  21689.83  844.59582   \n5246  1662848280000  21689.83  21697.99  21653.75  21658.57  746.62426   \n5247  1662848460000  21659.91  21700.00  21657.26  21688.59  612.96300   \n\n         ret_c     ret_o     ret_h     ret_l        mid  ret   close_n   co_d  \n0          NaN       NaN       NaN       NaN  19824.990  1.0  19863.03   6.47  \n1     0.002196  0.000401  0.001912 -0.000666  19837.355  1.0  19904.99  42.06  \n2     0.002112  0.002223  0.001711  0.003193  19885.970  1.0  19873.44  39.95  \n3    -0.001585  0.002052 -0.000030  0.000181  19887.465 -1.0  19883.66 -32.36  \n4     0.000514 -0.001626 -0.000883 -0.000062  19878.060  1.0  19891.34  10.22  \n...        ...       ...       ...       ...        ...  ...       ...    ...  \n5243  0.001353 -0.000084  0.001325  0.000476  21711.885  1.0  21723.08  29.35  \n5244 -0.000092  0.001449 -0.000569  0.000652  21712.765 -1.0  21689.83  -4.08  \n5245 -0.001531 -0.000237 -0.000290 -0.001235  21696.225 -1.0  21658.57 -32.19  \n5246 -0.001441 -0.001482 -0.001438 -0.000437  21675.870 -1.0  21688.59 -31.26  \n5247  0.001386 -0.001379  0.000093  0.000162  21678.630  NaN       NaN  28.68  \n\n[5248 rows x 14 columns]",
      "text/html": "<div>\n<style scoped>\n    .dataframe tbody tr th:only-of-type {\n        vertical-align: middle;\n    }\n\n    .dataframe tbody tr th {\n        vertical-align: top;\n    }\n\n    .dataframe thead th {\n        text-align: right;\n    }\n</style>\n<table border=\"1\" class=\"dataframe\">\n  <thead>\n    <tr style=\"text-align: right;\">\n      <th></th>\n      <th>timestamp</th>\n      <th>open</th>\n      <th>high</th>\n      <th>low</th>\n      <th>close</th>\n      <th>vol</th>\n      <th>ret_c</th>\n      <th>ret_o</th>\n      <th>ret_h</th>\n      <th>ret_l</th>\n      <th>mid</th>\n      <th>ret</th>\n      <th>close_n</th>\n      <th>co_d</th>\n    </tr>\n  </thead>\n  <tbody>\n    <tr>\n      <th>0</th>\n      <td>1661904000000</td>\n      <td>19813.03</td>\n      <td>19838.84</td>\n      <td>19811.14</td>\n      <td>19819.50</td>\n      <td>582.13461</td>\n      <td>NaN</td>\n      <td>NaN</td>\n      <td>NaN</td>\n      <td>NaN</td>\n      <td>19824.990</td>\n      <td>1.0</td>\n      <td>19863.03</td>\n      <td>6.47</td>\n    </tr>\n    <tr>\n      <th>1</th>\n      <td>1661904180000</td>\n      <td>19820.97</td>\n      <td>19876.77</td>\n      <td>19797.94</td>\n      <td>19863.03</td>\n      <td>605.82699</td>\n      <td>0.002196</td>\n      <td>0.000401</td>\n      <td>0.001912</td>\n      <td>-0.000666</td>\n      <td>19837.355</td>\n      <td>1.0</td>\n      <td>19904.99</td>\n      <td>42.06</td>\n    </tr>\n    <tr>\n      <th>2</th>\n      <td>1661904360000</td>\n      <td>19865.04</td>\n      <td>19910.78</td>\n      <td>19861.16</td>\n      <td>19904.99</td>\n      <td>578.33857</td>\n      <td>0.002112</td>\n      <td>0.002223</td>\n      <td>0.001711</td>\n      <td>0.003193</td>\n      <td>19885.970</td>\n      <td>1.0</td>\n      <td>19873.44</td>\n      <td>39.95</td>\n    </tr>\n    <tr>\n      <th>3</th>\n      <td>1661904540000</td>\n      <td>19905.80</td>\n      <td>19910.18</td>\n      <td>19864.75</td>\n      <td>19873.44</td>\n      <td>607.35949</td>\n      <td>-0.001585</td>\n      <td>0.002052</td>\n      <td>-0.000030</td>\n      <td>0.000181</td>\n      <td>19887.465</td>\n      <td>-1.0</td>\n      <td>19883.66</td>\n      <td>-32.36</td>\n    </tr>\n    <tr>\n      <th>4</th>\n      <td>1661904720000</td>\n      <td>19873.44</td>\n      <td>19892.60</td>\n      <td>19863.52</td>\n      <td>19883.66</td>\n      <td>354.87011</td>\n      <td>0.000514</td>\n      <td>-0.001626</td>\n      <td>-0.000883</td>\n      <td>-0.000062</td>\n      <td>19878.060</td>\n      <td>1.0</td>\n      <td>19891.34</td>\n      <td>10.22</td>\n    </tr>\n    <tr>\n      <th>...</th>\n      <td>...</td>\n      <td>...</td>\n      <td>...</td>\n      <td>...</td>\n      <td>...</td>\n      <td>...</td>\n      <td>...</td>\n      <td>...</td>\n      <td>...</td>\n      <td>...</td>\n      <td>...</td>\n      <td>...</td>\n      <td>...</td>\n      <td>...</td>\n    </tr>\n    <tr>\n      <th>5243</th>\n      <td>1662847740000</td>\n      <td>21695.72</td>\n      <td>21747.90</td>\n      <td>21675.87</td>\n      <td>21725.07</td>\n      <td>914.47974</td>\n      <td>0.001353</td>\n      <td>-0.000084</td>\n      <td>0.001325</td>\n      <td>0.000476</td>\n      <td>21711.885</td>\n      <td>1.0</td>\n      <td>21723.08</td>\n      <td>29.35</td>\n    </tr>\n    <tr>\n      <th>5244</th>\n      <td>1662847920000</td>\n      <td>21727.16</td>\n      <td>21735.53</td>\n      <td>21690.00</td>\n      <td>21723.08</td>\n      <td>710.86427</td>\n      <td>-0.000092</td>\n      <td>0.001449</td>\n      <td>-0.000569</td>\n      <td>0.000652</td>\n      <td>21712.765</td>\n      <td>-1.0</td>\n      <td>21689.83</td>\n      <td>-4.08</td>\n    </tr>\n    <tr>\n      <th>5245</th>\n      <td>1662848100000</td>\n      <td>21722.02</td>\n      <td>21729.23</td>\n      <td>21663.22</td>\n      <td>21689.83</td>\n      <td>844.59582</td>\n      <td>-0.001531</td>\n      <td>-0.000237</td>\n      <td>-0.000290</td>\n      <td>-0.001235</td>\n      <td>21696.225</td>\n      <td>-1.0</td>\n      <td>21658.57</td>\n      <td>-32.19</td>\n    </tr>\n    <tr>\n      <th>5246</th>\n      <td>1662848280000</td>\n      <td>21689.83</td>\n      <td>21697.99</td>\n      <td>21653.75</td>\n      <td>21658.57</td>\n      <td>746.62426</td>\n      <td>-0.001441</td>\n      <td>-0.001482</td>\n      <td>-0.001438</td>\n      <td>-0.000437</td>\n      <td>21675.870</td>\n      <td>-1.0</td>\n      <td>21688.59</td>\n      <td>-31.26</td>\n    </tr>\n    <tr>\n      <th>5247</th>\n      <td>1662848460000</td>\n      <td>21659.91</td>\n      <td>21700.00</td>\n      <td>21657.26</td>\n      <td>21688.59</td>\n      <td>612.96300</td>\n      <td>0.001386</td>\n      <td>-0.001379</td>\n      <td>0.000093</td>\n      <td>0.000162</td>\n      <td>21678.630</td>\n      <td>NaN</td>\n      <td>NaN</td>\n      <td>28.68</td>\n    </tr>\n  </tbody>\n</table>\n<p>5248 rows × 14 columns</p>\n</div>"
     },
     "execution_count": 334,
     "metadata": {},
     "output_type": "execute_result"
    }
   ],
   "source": [
    "df"
   ],
   "metadata": {
    "collapsed": false,
    "pycharm": {
     "name": "#%%\n"
    }
   }
  },
  {
   "cell_type": "code",
   "execution_count": 339,
   "outputs": [],
   "source": [
    "hit_rates = []\n",
    "normalized = \"non_norm_ohlc_3m_det\"\n",
    "for K in np.arange(13, 14):\n",
    "    for NDTR in tqdm((np.arange(K, 500, 10))):\n",
    "        nans = 0\n",
    "        actuals = []\n",
    "        predictions = []\n",
    "        hits = 0\n",
    "        for i in np.arange(NDTR, len(df)):\n",
    "            if len(predictions) < PREDICTIONS:\n",
    "                small_df = df.iloc[i: i + NDTR + 1].copy(deep=True)[\n",
    "                    ['ret_o','ret_c', 'ret_h','ret_l','ret']].reset_index(\n",
    "                    drop=True)\n",
    "\n",
    "                if len(small_df) > 0:\n",
    "                    x_train = small_df.iloc[0:NDTR][['ret_c', 'ret_h','ret_l','ret_o']].values\n",
    "                    y_train = small_df['ret'].iloc[0:NDTR].values\n",
    "                    st_x= RobustScaler()\n",
    "                    x_train= st_x.fit_transform(x_train)\n",
    "                    knn2 = KNeighborsClassifier(n_neighbors=K,weights=\"distance\")\n",
    "                    knn2.fit(x_train, y_train)\n",
    "                    if len(small_df) > NDTR:\n",
    "                        x_test = [small_df.iloc[NDTR][['ret_o','ret_h','ret_l', 'ret_c']].values]\n",
    "                        x_test= st_x.transform(x_test)\n",
    "\n",
    "                        prediction = knn2.predict(x_test)\n",
    "                        if math.isnan(prediction):\n",
    "                            nans += 1\n",
    "                            prediction = 0\n",
    "                        else:\n",
    "                            actual = small_df['ret'].iloc[NDTR]\n",
    "                            prediction = prediction[0]\n",
    "                            if actual == prediction:\n",
    "                                hits += 1\n",
    "                            actuals.append(actual)\n",
    "                            predictions.append(prediction)\n",
    "            else:\n",
    "                i = len(df)\n",
    "        if len(actuals) > 0:\n",
    "            small_df = df.iloc[NDTR:NDTR + 50]\n",
    "            hit_rates.append([hits / len(actuals), NDTR, len(actuals), K])\n",
    "            # print('1', len(list(filter(lambda x: x == 1, predictions))))\n",
    "            # print('-1', len(list(filter(lambda x: x == -1, predictions))))\n",
    "            # print('0', len(list(filter(lambda x: x == 0, predictions))))\n",
    "\n",
    "        # fig = make_subplots(specs=[[{\"secondary_y\": True}]])\n",
    "        # fig.add_trace(\n",
    "        #     go.Scatter(x=small_df['timestamp'].apply(lambda x: datetime.fromtimestamp(x / 1000)), y=actuals,\n",
    "        #                name=\"Retorno reales\", mode='lines'))\n",
    "        # fig.add_trace(\n",
    "        #     go.Scatter(x=small_df['timestamp'].apply(lambda x: datetime.fromtimestamp(x / 1000)), y=predictions,\n",
    "        #                name=\"Retorno predichos\", mode='lines'), secondary_y=True)\n",
    "        # title = \"PNN K=\" + str(NDTR) + normalized + \"|HitRate=\" + \"{:.2%}\".format(hits / len(actuals))\n",
    "        # fig.update_layout(title=title, xaxis_title=\"Real\", yaxis_title=\"Prediction\")\n",
    "        # # fig.show()\n",
    "        # fig.write_image(\"knn/prediction_vs_real_K\" + str(NDTR) + \"_std\" + normalized + \".png\")\n",
    "\n",
    "    # small_df = df.iloc[NDTR: 50+NDTR]\n",
    "    # fig = make_subplots()\n",
    "    # fig.add_trace(\n",
    "    #     go.Scatter(x=small_df['timestamp'].apply(lambda x: datetime.fromtimestamp(x / 1000)), y=small_df['ret'],\n",
    "    #                 name=\"Retornos\", mode='lines+markers'))\n",
    "    # fig.add_trace(\n",
    "    #     go.Scatter(x=small_df['timestamp'].apply(lambda x: datetime.fromtimestamp(x / 1000)), y=predictions[NDTR:],\n",
    "    #                name=\"Retornos predichos\", mode='lines+markers'))\n",
    "    # fig.update_layout(title=\"Predicciones con NDTR=\" + str(NDTR))\n",
    "    # fig.show()"
   ],
   "metadata": {
    "collapsed": false,
    "pycharm": {
     "name": "#%%\n"
    }
   }
  },
  {
   "cell_type": "code",
   "execution_count": 340,
   "outputs": [
    {
     "name": "stdout",
     "output_type": "stream",
     "text": [
      "   hit_rate  NDTR  predictions   K\n",
      "0     0.474   158          500  13\n"
     ]
    }
   ],
   "source": [
    "hit_df = pd.DataFrame(hit_rates, columns=['hit_rate', 'NDTR', 'predictions', 'K'])\n",
    "print(hit_df)\n",
    "hit_df.to_csv(\"knn/knn_hit_rates\" + normalized + \"_withK2.csv\", header=None, index=None)"
   ],
   "metadata": {
    "collapsed": false,
    "pycharm": {
     "name": "#%%\n"
    }
   }
  },
  {
   "cell_type": "code",
   "execution_count": 341,
   "outputs": [
    {
     "data": {
      "application/vnd.plotly.v1+json": {
       "data": [
        {
         "mode": "markers+lines",
         "name": "K=2",
         "x": [],
         "y": [],
         "type": "scatter"
        },
        {
         "mode": "markers+lines",
         "name": "K=3",
         "x": [],
         "y": [],
         "type": "scatter"
        },
        {
         "mode": "markers+lines",
         "name": "K=4",
         "x": [],
         "y": [],
         "type": "scatter"
        },
        {
         "mode": "markers+lines",
         "name": "K=5",
         "x": [],
         "y": [],
         "type": "scatter"
        },
        {
         "mode": "markers+lines",
         "name": "K=6",
         "x": [],
         "y": [],
         "type": "scatter"
        },
        {
         "mode": "markers+lines",
         "name": "K=7",
         "x": [],
         "y": [],
         "type": "scatter"
        },
        {
         "mode": "markers+lines",
         "name": "K=8",
         "x": [],
         "y": [],
         "type": "scatter"
        },
        {
         "mode": "markers+lines",
         "name": "K=9",
         "x": [],
         "y": [],
         "type": "scatter"
        },
        {
         "mode": "markers+lines",
         "name": "K=10",
         "x": [],
         "y": [],
         "type": "scatter"
        },
        {
         "mode": "markers+lines",
         "name": "K=11",
         "x": [],
         "y": [],
         "type": "scatter"
        },
        {
         "mode": "markers+lines",
         "name": "K=12",
         "x": [],
         "y": [],
         "type": "scatter"
        },
        {
         "mode": "markers+lines",
         "name": "K=13",
         "x": [
          158
         ],
         "y": [
          0.474
         ],
         "type": "scatter"
        },
        {
         "mode": "markers+lines",
         "name": "K=14",
         "x": [],
         "y": [],
         "type": "scatter"
        }
       ],
       "layout": {
        "template": {
         "data": {
          "histogram2dcontour": [
           {
            "type": "histogram2dcontour",
            "colorbar": {
             "outlinewidth": 0,
             "ticks": ""
            },
            "colorscale": [
             [
              0.0,
              "#0d0887"
             ],
             [
              0.1111111111111111,
              "#46039f"
             ],
             [
              0.2222222222222222,
              "#7201a8"
             ],
             [
              0.3333333333333333,
              "#9c179e"
             ],
             [
              0.4444444444444444,
              "#bd3786"
             ],
             [
              0.5555555555555556,
              "#d8576b"
             ],
             [
              0.6666666666666666,
              "#ed7953"
             ],
             [
              0.7777777777777778,
              "#fb9f3a"
             ],
             [
              0.8888888888888888,
              "#fdca26"
             ],
             [
              1.0,
              "#f0f921"
             ]
            ]
           }
          ],
          "choropleth": [
           {
            "type": "choropleth",
            "colorbar": {
             "outlinewidth": 0,
             "ticks": ""
            }
           }
          ],
          "histogram2d": [
           {
            "type": "histogram2d",
            "colorbar": {
             "outlinewidth": 0,
             "ticks": ""
            },
            "colorscale": [
             [
              0.0,
              "#0d0887"
             ],
             [
              0.1111111111111111,
              "#46039f"
             ],
             [
              0.2222222222222222,
              "#7201a8"
             ],
             [
              0.3333333333333333,
              "#9c179e"
             ],
             [
              0.4444444444444444,
              "#bd3786"
             ],
             [
              0.5555555555555556,
              "#d8576b"
             ],
             [
              0.6666666666666666,
              "#ed7953"
             ],
             [
              0.7777777777777778,
              "#fb9f3a"
             ],
             [
              0.8888888888888888,
              "#fdca26"
             ],
             [
              1.0,
              "#f0f921"
             ]
            ]
           }
          ],
          "heatmap": [
           {
            "type": "heatmap",
            "colorbar": {
             "outlinewidth": 0,
             "ticks": ""
            },
            "colorscale": [
             [
              0.0,
              "#0d0887"
             ],
             [
              0.1111111111111111,
              "#46039f"
             ],
             [
              0.2222222222222222,
              "#7201a8"
             ],
             [
              0.3333333333333333,
              "#9c179e"
             ],
             [
              0.4444444444444444,
              "#bd3786"
             ],
             [
              0.5555555555555556,
              "#d8576b"
             ],
             [
              0.6666666666666666,
              "#ed7953"
             ],
             [
              0.7777777777777778,
              "#fb9f3a"
             ],
             [
              0.8888888888888888,
              "#fdca26"
             ],
             [
              1.0,
              "#f0f921"
             ]
            ]
           }
          ],
          "heatmapgl": [
           {
            "type": "heatmapgl",
            "colorbar": {
             "outlinewidth": 0,
             "ticks": ""
            },
            "colorscale": [
             [
              0.0,
              "#0d0887"
             ],
             [
              0.1111111111111111,
              "#46039f"
             ],
             [
              0.2222222222222222,
              "#7201a8"
             ],
             [
              0.3333333333333333,
              "#9c179e"
             ],
             [
              0.4444444444444444,
              "#bd3786"
             ],
             [
              0.5555555555555556,
              "#d8576b"
             ],
             [
              0.6666666666666666,
              "#ed7953"
             ],
             [
              0.7777777777777778,
              "#fb9f3a"
             ],
             [
              0.8888888888888888,
              "#fdca26"
             ],
             [
              1.0,
              "#f0f921"
             ]
            ]
           }
          ],
          "contourcarpet": [
           {
            "type": "contourcarpet",
            "colorbar": {
             "outlinewidth": 0,
             "ticks": ""
            }
           }
          ],
          "contour": [
           {
            "type": "contour",
            "colorbar": {
             "outlinewidth": 0,
             "ticks": ""
            },
            "colorscale": [
             [
              0.0,
              "#0d0887"
             ],
             [
              0.1111111111111111,
              "#46039f"
             ],
             [
              0.2222222222222222,
              "#7201a8"
             ],
             [
              0.3333333333333333,
              "#9c179e"
             ],
             [
              0.4444444444444444,
              "#bd3786"
             ],
             [
              0.5555555555555556,
              "#d8576b"
             ],
             [
              0.6666666666666666,
              "#ed7953"
             ],
             [
              0.7777777777777778,
              "#fb9f3a"
             ],
             [
              0.8888888888888888,
              "#fdca26"
             ],
             [
              1.0,
              "#f0f921"
             ]
            ]
           }
          ],
          "surface": [
           {
            "type": "surface",
            "colorbar": {
             "outlinewidth": 0,
             "ticks": ""
            },
            "colorscale": [
             [
              0.0,
              "#0d0887"
             ],
             [
              0.1111111111111111,
              "#46039f"
             ],
             [
              0.2222222222222222,
              "#7201a8"
             ],
             [
              0.3333333333333333,
              "#9c179e"
             ],
             [
              0.4444444444444444,
              "#bd3786"
             ],
             [
              0.5555555555555556,
              "#d8576b"
             ],
             [
              0.6666666666666666,
              "#ed7953"
             ],
             [
              0.7777777777777778,
              "#fb9f3a"
             ],
             [
              0.8888888888888888,
              "#fdca26"
             ],
             [
              1.0,
              "#f0f921"
             ]
            ]
           }
          ],
          "mesh3d": [
           {
            "type": "mesh3d",
            "colorbar": {
             "outlinewidth": 0,
             "ticks": ""
            }
           }
          ],
          "scatter": [
           {
            "marker": {
             "line": {
              "color": "#283442"
             }
            },
            "type": "scatter"
           }
          ],
          "parcoords": [
           {
            "type": "parcoords",
            "line": {
             "colorbar": {
              "outlinewidth": 0,
              "ticks": ""
             }
            }
           }
          ],
          "scatterpolargl": [
           {
            "type": "scatterpolargl",
            "marker": {
             "colorbar": {
              "outlinewidth": 0,
              "ticks": ""
             }
            }
           }
          ],
          "bar": [
           {
            "error_x": {
             "color": "#f2f5fa"
            },
            "error_y": {
             "color": "#f2f5fa"
            },
            "marker": {
             "line": {
              "color": "rgb(17,17,17)",
              "width": 0.5
             },
             "pattern": {
              "fillmode": "overlay",
              "size": 10,
              "solidity": 0.2
             }
            },
            "type": "bar"
           }
          ],
          "scattergeo": [
           {
            "type": "scattergeo",
            "marker": {
             "colorbar": {
              "outlinewidth": 0,
              "ticks": ""
             }
            }
           }
          ],
          "scatterpolar": [
           {
            "type": "scatterpolar",
            "marker": {
             "colorbar": {
              "outlinewidth": 0,
              "ticks": ""
             }
            }
           }
          ],
          "histogram": [
           {
            "marker": {
             "pattern": {
              "fillmode": "overlay",
              "size": 10,
              "solidity": 0.2
             }
            },
            "type": "histogram"
           }
          ],
          "scattergl": [
           {
            "marker": {
             "line": {
              "color": "#283442"
             }
            },
            "type": "scattergl"
           }
          ],
          "scatter3d": [
           {
            "type": "scatter3d",
            "line": {
             "colorbar": {
              "outlinewidth": 0,
              "ticks": ""
             }
            },
            "marker": {
             "colorbar": {
              "outlinewidth": 0,
              "ticks": ""
             }
            }
           }
          ],
          "scattermapbox": [
           {
            "type": "scattermapbox",
            "marker": {
             "colorbar": {
              "outlinewidth": 0,
              "ticks": ""
             }
            }
           }
          ],
          "scatterternary": [
           {
            "type": "scatterternary",
            "marker": {
             "colorbar": {
              "outlinewidth": 0,
              "ticks": ""
             }
            }
           }
          ],
          "scattercarpet": [
           {
            "type": "scattercarpet",
            "marker": {
             "colorbar": {
              "outlinewidth": 0,
              "ticks": ""
             }
            }
           }
          ],
          "carpet": [
           {
            "aaxis": {
             "endlinecolor": "#A2B1C6",
             "gridcolor": "#506784",
             "linecolor": "#506784",
             "minorgridcolor": "#506784",
             "startlinecolor": "#A2B1C6"
            },
            "baxis": {
             "endlinecolor": "#A2B1C6",
             "gridcolor": "#506784",
             "linecolor": "#506784",
             "minorgridcolor": "#506784",
             "startlinecolor": "#A2B1C6"
            },
            "type": "carpet"
           }
          ],
          "table": [
           {
            "cells": {
             "fill": {
              "color": "#506784"
             },
             "line": {
              "color": "rgb(17,17,17)"
             }
            },
            "header": {
             "fill": {
              "color": "#2a3f5f"
             },
             "line": {
              "color": "rgb(17,17,17)"
             }
            },
            "type": "table"
           }
          ],
          "barpolar": [
           {
            "marker": {
             "line": {
              "color": "rgb(17,17,17)",
              "width": 0.5
             },
             "pattern": {
              "fillmode": "overlay",
              "size": 10,
              "solidity": 0.2
             }
            },
            "type": "barpolar"
           }
          ],
          "pie": [
           {
            "automargin": true,
            "type": "pie"
           }
          ]
         },
         "layout": {
          "autotypenumbers": "strict",
          "colorway": [
           "#636efa",
           "#EF553B",
           "#00cc96",
           "#ab63fa",
           "#FFA15A",
           "#19d3f3",
           "#FF6692",
           "#B6E880",
           "#FF97FF",
           "#FECB52"
          ],
          "font": {
           "color": "#f2f5fa"
          },
          "hovermode": "closest",
          "hoverlabel": {
           "align": "left"
          },
          "paper_bgcolor": "rgb(17,17,17)",
          "plot_bgcolor": "rgb(17,17,17)",
          "polar": {
           "bgcolor": "rgb(17,17,17)",
           "angularaxis": {
            "gridcolor": "#506784",
            "linecolor": "#506784",
            "ticks": ""
           },
           "radialaxis": {
            "gridcolor": "#506784",
            "linecolor": "#506784",
            "ticks": ""
           }
          },
          "ternary": {
           "bgcolor": "rgb(17,17,17)",
           "aaxis": {
            "gridcolor": "#506784",
            "linecolor": "#506784",
            "ticks": ""
           },
           "baxis": {
            "gridcolor": "#506784",
            "linecolor": "#506784",
            "ticks": ""
           },
           "caxis": {
            "gridcolor": "#506784",
            "linecolor": "#506784",
            "ticks": ""
           }
          },
          "coloraxis": {
           "colorbar": {
            "outlinewidth": 0,
            "ticks": ""
           }
          },
          "colorscale": {
           "sequential": [
            [
             0.0,
             "#0d0887"
            ],
            [
             0.1111111111111111,
             "#46039f"
            ],
            [
             0.2222222222222222,
             "#7201a8"
            ],
            [
             0.3333333333333333,
             "#9c179e"
            ],
            [
             0.4444444444444444,
             "#bd3786"
            ],
            [
             0.5555555555555556,
             "#d8576b"
            ],
            [
             0.6666666666666666,
             "#ed7953"
            ],
            [
             0.7777777777777778,
             "#fb9f3a"
            ],
            [
             0.8888888888888888,
             "#fdca26"
            ],
            [
             1.0,
             "#f0f921"
            ]
           ],
           "sequentialminus": [
            [
             0.0,
             "#0d0887"
            ],
            [
             0.1111111111111111,
             "#46039f"
            ],
            [
             0.2222222222222222,
             "#7201a8"
            ],
            [
             0.3333333333333333,
             "#9c179e"
            ],
            [
             0.4444444444444444,
             "#bd3786"
            ],
            [
             0.5555555555555556,
             "#d8576b"
            ],
            [
             0.6666666666666666,
             "#ed7953"
            ],
            [
             0.7777777777777778,
             "#fb9f3a"
            ],
            [
             0.8888888888888888,
             "#fdca26"
            ],
            [
             1.0,
             "#f0f921"
            ]
           ],
           "diverging": [
            [
             0,
             "#8e0152"
            ],
            [
             0.1,
             "#c51b7d"
            ],
            [
             0.2,
             "#de77ae"
            ],
            [
             0.3,
             "#f1b6da"
            ],
            [
             0.4,
             "#fde0ef"
            ],
            [
             0.5,
             "#f7f7f7"
            ],
            [
             0.6,
             "#e6f5d0"
            ],
            [
             0.7,
             "#b8e186"
            ],
            [
             0.8,
             "#7fbc41"
            ],
            [
             0.9,
             "#4d9221"
            ],
            [
             1,
             "#276419"
            ]
           ]
          },
          "xaxis": {
           "gridcolor": "#283442",
           "linecolor": "#506784",
           "ticks": "",
           "title": {
            "standoff": 15
           },
           "zerolinecolor": "#283442",
           "automargin": true,
           "zerolinewidth": 2
          },
          "yaxis": {
           "gridcolor": "#283442",
           "linecolor": "#506784",
           "ticks": "",
           "title": {
            "standoff": 15
           },
           "zerolinecolor": "#283442",
           "automargin": true,
           "zerolinewidth": 2
          },
          "scene": {
           "xaxis": {
            "backgroundcolor": "rgb(17,17,17)",
            "gridcolor": "#506784",
            "linecolor": "#506784",
            "showbackground": true,
            "ticks": "",
            "zerolinecolor": "#C8D4E3",
            "gridwidth": 2
           },
           "yaxis": {
            "backgroundcolor": "rgb(17,17,17)",
            "gridcolor": "#506784",
            "linecolor": "#506784",
            "showbackground": true,
            "ticks": "",
            "zerolinecolor": "#C8D4E3",
            "gridwidth": 2
           },
           "zaxis": {
            "backgroundcolor": "rgb(17,17,17)",
            "gridcolor": "#506784",
            "linecolor": "#506784",
            "showbackground": true,
            "ticks": "",
            "zerolinecolor": "#C8D4E3",
            "gridwidth": 2
           }
          },
          "shapedefaults": {
           "line": {
            "color": "#f2f5fa"
           }
          },
          "annotationdefaults": {
           "arrowcolor": "#f2f5fa",
           "arrowhead": 0,
           "arrowwidth": 1
          },
          "geo": {
           "bgcolor": "rgb(17,17,17)",
           "landcolor": "rgb(17,17,17)",
           "subunitcolor": "#506784",
           "showland": true,
           "showlakes": true,
           "lakecolor": "rgb(17,17,17)"
          },
          "title": {
           "x": 0.05
          },
          "updatemenudefaults": {
           "bgcolor": "#506784",
           "borderwidth": 0
          },
          "sliderdefaults": {
           "bgcolor": "#C8D4E3",
           "borderwidth": 1,
           "bordercolor": "rgb(17,17,17)",
           "tickwidth": 0
          },
          "mapbox": {
           "style": "dark"
          }
         }
        },
        "xaxis": {
         "anchor": "y",
         "domain": [
          0.0,
          1.0
         ],
         "title": {
          "text": "NDTR"
         },
         "tickformat": "none"
        },
        "yaxis": {
         "anchor": "x",
         "domain": [
          0.0,
          1.0
         ],
         "tickformat": ".2%",
         "title": {
          "text": "Hit rate"
         }
        },
        "title": {
         "text": "Hit rate of prediction for a given K"
        }
       },
       "config": {
        "plotlyServerURL": "https://plot.ly"
       }
      },
      "text/html": "<div>                            <div id=\"b48e4d27-a1ff-4339-bbf1-58559849b9e5\" class=\"plotly-graph-div\" style=\"height:525px; width:100%;\"></div>            <script type=\"text/javascript\">                require([\"plotly\"], function(Plotly) {                    window.PLOTLYENV=window.PLOTLYENV || {};                                    if (document.getElementById(\"b48e4d27-a1ff-4339-bbf1-58559849b9e5\")) {                    Plotly.newPlot(                        \"b48e4d27-a1ff-4339-bbf1-58559849b9e5\",                        [{\"mode\":\"markers+lines\",\"name\":\"K=2\",\"x\":[],\"y\":[],\"type\":\"scatter\"},{\"mode\":\"markers+lines\",\"name\":\"K=3\",\"x\":[],\"y\":[],\"type\":\"scatter\"},{\"mode\":\"markers+lines\",\"name\":\"K=4\",\"x\":[],\"y\":[],\"type\":\"scatter\"},{\"mode\":\"markers+lines\",\"name\":\"K=5\",\"x\":[],\"y\":[],\"type\":\"scatter\"},{\"mode\":\"markers+lines\",\"name\":\"K=6\",\"x\":[],\"y\":[],\"type\":\"scatter\"},{\"mode\":\"markers+lines\",\"name\":\"K=7\",\"x\":[],\"y\":[],\"type\":\"scatter\"},{\"mode\":\"markers+lines\",\"name\":\"K=8\",\"x\":[],\"y\":[],\"type\":\"scatter\"},{\"mode\":\"markers+lines\",\"name\":\"K=9\",\"x\":[],\"y\":[],\"type\":\"scatter\"},{\"mode\":\"markers+lines\",\"name\":\"K=10\",\"x\":[],\"y\":[],\"type\":\"scatter\"},{\"mode\":\"markers+lines\",\"name\":\"K=11\",\"x\":[],\"y\":[],\"type\":\"scatter\"},{\"mode\":\"markers+lines\",\"name\":\"K=12\",\"x\":[],\"y\":[],\"type\":\"scatter\"},{\"mode\":\"markers+lines\",\"name\":\"K=13\",\"x\":[158],\"y\":[0.474],\"type\":\"scatter\"},{\"mode\":\"markers+lines\",\"name\":\"K=14\",\"x\":[],\"y\":[],\"type\":\"scatter\"}],                        {\"template\":{\"data\":{\"histogram2dcontour\":[{\"type\":\"histogram2dcontour\",\"colorbar\":{\"outlinewidth\":0,\"ticks\":\"\"},\"colorscale\":[[0.0,\"#0d0887\"],[0.1111111111111111,\"#46039f\"],[0.2222222222222222,\"#7201a8\"],[0.3333333333333333,\"#9c179e\"],[0.4444444444444444,\"#bd3786\"],[0.5555555555555556,\"#d8576b\"],[0.6666666666666666,\"#ed7953\"],[0.7777777777777778,\"#fb9f3a\"],[0.8888888888888888,\"#fdca26\"],[1.0,\"#f0f921\"]]}],\"choropleth\":[{\"type\":\"choropleth\",\"colorbar\":{\"outlinewidth\":0,\"ticks\":\"\"}}],\"histogram2d\":[{\"type\":\"histogram2d\",\"colorbar\":{\"outlinewidth\":0,\"ticks\":\"\"},\"colorscale\":[[0.0,\"#0d0887\"],[0.1111111111111111,\"#46039f\"],[0.2222222222222222,\"#7201a8\"],[0.3333333333333333,\"#9c179e\"],[0.4444444444444444,\"#bd3786\"],[0.5555555555555556,\"#d8576b\"],[0.6666666666666666,\"#ed7953\"],[0.7777777777777778,\"#fb9f3a\"],[0.8888888888888888,\"#fdca26\"],[1.0,\"#f0f921\"]]}],\"heatmap\":[{\"type\":\"heatmap\",\"colorbar\":{\"outlinewidth\":0,\"ticks\":\"\"},\"colorscale\":[[0.0,\"#0d0887\"],[0.1111111111111111,\"#46039f\"],[0.2222222222222222,\"#7201a8\"],[0.3333333333333333,\"#9c179e\"],[0.4444444444444444,\"#bd3786\"],[0.5555555555555556,\"#d8576b\"],[0.6666666666666666,\"#ed7953\"],[0.7777777777777778,\"#fb9f3a\"],[0.8888888888888888,\"#fdca26\"],[1.0,\"#f0f921\"]]}],\"heatmapgl\":[{\"type\":\"heatmapgl\",\"colorbar\":{\"outlinewidth\":0,\"ticks\":\"\"},\"colorscale\":[[0.0,\"#0d0887\"],[0.1111111111111111,\"#46039f\"],[0.2222222222222222,\"#7201a8\"],[0.3333333333333333,\"#9c179e\"],[0.4444444444444444,\"#bd3786\"],[0.5555555555555556,\"#d8576b\"],[0.6666666666666666,\"#ed7953\"],[0.7777777777777778,\"#fb9f3a\"],[0.8888888888888888,\"#fdca26\"],[1.0,\"#f0f921\"]]}],\"contourcarpet\":[{\"type\":\"contourcarpet\",\"colorbar\":{\"outlinewidth\":0,\"ticks\":\"\"}}],\"contour\":[{\"type\":\"contour\",\"colorbar\":{\"outlinewidth\":0,\"ticks\":\"\"},\"colorscale\":[[0.0,\"#0d0887\"],[0.1111111111111111,\"#46039f\"],[0.2222222222222222,\"#7201a8\"],[0.3333333333333333,\"#9c179e\"],[0.4444444444444444,\"#bd3786\"],[0.5555555555555556,\"#d8576b\"],[0.6666666666666666,\"#ed7953\"],[0.7777777777777778,\"#fb9f3a\"],[0.8888888888888888,\"#fdca26\"],[1.0,\"#f0f921\"]]}],\"surface\":[{\"type\":\"surface\",\"colorbar\":{\"outlinewidth\":0,\"ticks\":\"\"},\"colorscale\":[[0.0,\"#0d0887\"],[0.1111111111111111,\"#46039f\"],[0.2222222222222222,\"#7201a8\"],[0.3333333333333333,\"#9c179e\"],[0.4444444444444444,\"#bd3786\"],[0.5555555555555556,\"#d8576b\"],[0.6666666666666666,\"#ed7953\"],[0.7777777777777778,\"#fb9f3a\"],[0.8888888888888888,\"#fdca26\"],[1.0,\"#f0f921\"]]}],\"mesh3d\":[{\"type\":\"mesh3d\",\"colorbar\":{\"outlinewidth\":0,\"ticks\":\"\"}}],\"scatter\":[{\"marker\":{\"line\":{\"color\":\"#283442\"}},\"type\":\"scatter\"}],\"parcoords\":[{\"type\":\"parcoords\",\"line\":{\"colorbar\":{\"outlinewidth\":0,\"ticks\":\"\"}}}],\"scatterpolargl\":[{\"type\":\"scatterpolargl\",\"marker\":{\"colorbar\":{\"outlinewidth\":0,\"ticks\":\"\"}}}],\"bar\":[{\"error_x\":{\"color\":\"#f2f5fa\"},\"error_y\":{\"color\":\"#f2f5fa\"},\"marker\":{\"line\":{\"color\":\"rgb(17,17,17)\",\"width\":0.5},\"pattern\":{\"fillmode\":\"overlay\",\"size\":10,\"solidity\":0.2}},\"type\":\"bar\"}],\"scattergeo\":[{\"type\":\"scattergeo\",\"marker\":{\"colorbar\":{\"outlinewidth\":0,\"ticks\":\"\"}}}],\"scatterpolar\":[{\"type\":\"scatterpolar\",\"marker\":{\"colorbar\":{\"outlinewidth\":0,\"ticks\":\"\"}}}],\"histogram\":[{\"marker\":{\"pattern\":{\"fillmode\":\"overlay\",\"size\":10,\"solidity\":0.2}},\"type\":\"histogram\"}],\"scattergl\":[{\"marker\":{\"line\":{\"color\":\"#283442\"}},\"type\":\"scattergl\"}],\"scatter3d\":[{\"type\":\"scatter3d\",\"line\":{\"colorbar\":{\"outlinewidth\":0,\"ticks\":\"\"}},\"marker\":{\"colorbar\":{\"outlinewidth\":0,\"ticks\":\"\"}}}],\"scattermapbox\":[{\"type\":\"scattermapbox\",\"marker\":{\"colorbar\":{\"outlinewidth\":0,\"ticks\":\"\"}}}],\"scatterternary\":[{\"type\":\"scatterternary\",\"marker\":{\"colorbar\":{\"outlinewidth\":0,\"ticks\":\"\"}}}],\"scattercarpet\":[{\"type\":\"scattercarpet\",\"marker\":{\"colorbar\":{\"outlinewidth\":0,\"ticks\":\"\"}}}],\"carpet\":[{\"aaxis\":{\"endlinecolor\":\"#A2B1C6\",\"gridcolor\":\"#506784\",\"linecolor\":\"#506784\",\"minorgridcolor\":\"#506784\",\"startlinecolor\":\"#A2B1C6\"},\"baxis\":{\"endlinecolor\":\"#A2B1C6\",\"gridcolor\":\"#506784\",\"linecolor\":\"#506784\",\"minorgridcolor\":\"#506784\",\"startlinecolor\":\"#A2B1C6\"},\"type\":\"carpet\"}],\"table\":[{\"cells\":{\"fill\":{\"color\":\"#506784\"},\"line\":{\"color\":\"rgb(17,17,17)\"}},\"header\":{\"fill\":{\"color\":\"#2a3f5f\"},\"line\":{\"color\":\"rgb(17,17,17)\"}},\"type\":\"table\"}],\"barpolar\":[{\"marker\":{\"line\":{\"color\":\"rgb(17,17,17)\",\"width\":0.5},\"pattern\":{\"fillmode\":\"overlay\",\"size\":10,\"solidity\":0.2}},\"type\":\"barpolar\"}],\"pie\":[{\"automargin\":true,\"type\":\"pie\"}]},\"layout\":{\"autotypenumbers\":\"strict\",\"colorway\":[\"#636efa\",\"#EF553B\",\"#00cc96\",\"#ab63fa\",\"#FFA15A\",\"#19d3f3\",\"#FF6692\",\"#B6E880\",\"#FF97FF\",\"#FECB52\"],\"font\":{\"color\":\"#f2f5fa\"},\"hovermode\":\"closest\",\"hoverlabel\":{\"align\":\"left\"},\"paper_bgcolor\":\"rgb(17,17,17)\",\"plot_bgcolor\":\"rgb(17,17,17)\",\"polar\":{\"bgcolor\":\"rgb(17,17,17)\",\"angularaxis\":{\"gridcolor\":\"#506784\",\"linecolor\":\"#506784\",\"ticks\":\"\"},\"radialaxis\":{\"gridcolor\":\"#506784\",\"linecolor\":\"#506784\",\"ticks\":\"\"}},\"ternary\":{\"bgcolor\":\"rgb(17,17,17)\",\"aaxis\":{\"gridcolor\":\"#506784\",\"linecolor\":\"#506784\",\"ticks\":\"\"},\"baxis\":{\"gridcolor\":\"#506784\",\"linecolor\":\"#506784\",\"ticks\":\"\"},\"caxis\":{\"gridcolor\":\"#506784\",\"linecolor\":\"#506784\",\"ticks\":\"\"}},\"coloraxis\":{\"colorbar\":{\"outlinewidth\":0,\"ticks\":\"\"}},\"colorscale\":{\"sequential\":[[0.0,\"#0d0887\"],[0.1111111111111111,\"#46039f\"],[0.2222222222222222,\"#7201a8\"],[0.3333333333333333,\"#9c179e\"],[0.4444444444444444,\"#bd3786\"],[0.5555555555555556,\"#d8576b\"],[0.6666666666666666,\"#ed7953\"],[0.7777777777777778,\"#fb9f3a\"],[0.8888888888888888,\"#fdca26\"],[1.0,\"#f0f921\"]],\"sequentialminus\":[[0.0,\"#0d0887\"],[0.1111111111111111,\"#46039f\"],[0.2222222222222222,\"#7201a8\"],[0.3333333333333333,\"#9c179e\"],[0.4444444444444444,\"#bd3786\"],[0.5555555555555556,\"#d8576b\"],[0.6666666666666666,\"#ed7953\"],[0.7777777777777778,\"#fb9f3a\"],[0.8888888888888888,\"#fdca26\"],[1.0,\"#f0f921\"]],\"diverging\":[[0,\"#8e0152\"],[0.1,\"#c51b7d\"],[0.2,\"#de77ae\"],[0.3,\"#f1b6da\"],[0.4,\"#fde0ef\"],[0.5,\"#f7f7f7\"],[0.6,\"#e6f5d0\"],[0.7,\"#b8e186\"],[0.8,\"#7fbc41\"],[0.9,\"#4d9221\"],[1,\"#276419\"]]},\"xaxis\":{\"gridcolor\":\"#283442\",\"linecolor\":\"#506784\",\"ticks\":\"\",\"title\":{\"standoff\":15},\"zerolinecolor\":\"#283442\",\"automargin\":true,\"zerolinewidth\":2},\"yaxis\":{\"gridcolor\":\"#283442\",\"linecolor\":\"#506784\",\"ticks\":\"\",\"title\":{\"standoff\":15},\"zerolinecolor\":\"#283442\",\"automargin\":true,\"zerolinewidth\":2},\"scene\":{\"xaxis\":{\"backgroundcolor\":\"rgb(17,17,17)\",\"gridcolor\":\"#506784\",\"linecolor\":\"#506784\",\"showbackground\":true,\"ticks\":\"\",\"zerolinecolor\":\"#C8D4E3\",\"gridwidth\":2},\"yaxis\":{\"backgroundcolor\":\"rgb(17,17,17)\",\"gridcolor\":\"#506784\",\"linecolor\":\"#506784\",\"showbackground\":true,\"ticks\":\"\",\"zerolinecolor\":\"#C8D4E3\",\"gridwidth\":2},\"zaxis\":{\"backgroundcolor\":\"rgb(17,17,17)\",\"gridcolor\":\"#506784\",\"linecolor\":\"#506784\",\"showbackground\":true,\"ticks\":\"\",\"zerolinecolor\":\"#C8D4E3\",\"gridwidth\":2}},\"shapedefaults\":{\"line\":{\"color\":\"#f2f5fa\"}},\"annotationdefaults\":{\"arrowcolor\":\"#f2f5fa\",\"arrowhead\":0,\"arrowwidth\":1},\"geo\":{\"bgcolor\":\"rgb(17,17,17)\",\"landcolor\":\"rgb(17,17,17)\",\"subunitcolor\":\"#506784\",\"showland\":true,\"showlakes\":true,\"lakecolor\":\"rgb(17,17,17)\"},\"title\":{\"x\":0.05},\"updatemenudefaults\":{\"bgcolor\":\"#506784\",\"borderwidth\":0},\"sliderdefaults\":{\"bgcolor\":\"#C8D4E3\",\"borderwidth\":1,\"bordercolor\":\"rgb(17,17,17)\",\"tickwidth\":0},\"mapbox\":{\"style\":\"dark\"}}},\"xaxis\":{\"anchor\":\"y\",\"domain\":[0.0,1.0],\"title\":{\"text\":\"NDTR\"},\"tickformat\":\"none\"},\"yaxis\":{\"anchor\":\"x\",\"domain\":[0.0,1.0],\"tickformat\":\".2%\",\"title\":{\"text\":\"Hit rate\"}},\"title\":{\"text\":\"Hit rate of prediction for a given K\"}},                        {\"responsive\": true}                    ).then(function(){\n                            \nvar gd = document.getElementById('b48e4d27-a1ff-4339-bbf1-58559849b9e5');\nvar x = new MutationObserver(function (mutations, observer) {{\n        var display = window.getComputedStyle(gd).display;\n        if (!display || display === 'none') {{\n            console.log([gd, 'removed!']);\n            Plotly.purge(gd);\n            observer.disconnect();\n        }}\n}});\n\n// Listen for the removal of the full notebook cells\nvar notebookContainer = gd.closest('#notebook-container');\nif (notebookContainer) {{\n    x.observe(notebookContainer, {childList: true});\n}}\n\n// Listen for the clearing of the current output cell\nvar outputEl = gd.closest('.output');\nif (outputEl) {{\n    x.observe(outputEl, {childList: true});\n}}\n\n                        })                };                });            </script>        </div>"
     },
     "metadata": {},
     "output_type": "display_data"
    }
   ],
   "source": [
    "# error_df = pd.read_csv(\"ret_h/oc/errors.csv\")\n",
    "# error_df.columns = ['error', 'std', 'NDTR']\n",
    "# 55.57\n",
    "# other_errors = pd.read_csv(\"ret_h/oc/errors.csv\")\n",
    "# other_errors.columns = ['error', 'std', 'NDTR']\n",
    "\n",
    "# error_df = pd.concat([other_errors, error_df])\n",
    "\n",
    "fig = make_subplots()\n",
    "\n",
    "# for NDTR in error_df['NDTR'].unique():\n",
    "#     small_df = error_df[error_df['NDTR'] == NDTR]\n",
    "#     actual_hdf= hit_df[hit_df['NDTR'] == NDTR]\n",
    "#     fig.add_trace(go.Scatter(x=actual_hdf['std'], y=actual_hdf['hit_rate'].apply(lambda x: 1 - x), name=\"NDTR=\" + str(NDTR), mode=\"markers+lines\"))\n",
    "\n",
    "for K in np.arange(2,15):\n",
    "    small_df = hit_df[hit_df['K'] ==K]\n",
    "    fig.add_trace(\n",
    "        go.Scatter(x=small_df['NDTR'], y=small_df['hit_rate'], mode=\"markers+lines\", name=\"K=\"+str(K)))\n",
    "\n",
    "fig.update_layout(yaxis_tickformat=\".2%\", title=\"Hit rate of prediction for a given K\", xaxis_title=\"NDTR\",\n",
    "                  yaxis_title=\"Hit rate\", xaxis_tickformat=\"none\")\n",
    "fig.write_image(\"knn/hitrate_withK.png\")\n",
    "\n",
    "fig.show()"
   ],
   "metadata": {
    "collapsed": false,
    "pycharm": {
     "name": "#%%\n"
    }
   }
  },
  {
   "cell_type": "code",
   "execution_count": 337,
   "outputs": [],
   "source": [],
   "metadata": {
    "collapsed": false,
    "pycharm": {
     "name": "#%%\n"
    }
   }
  }
 ],
 "metadata": {
  "kernelspec": {
   "display_name": "Python 3.8.10 64-bit ('3.8.10')",
   "language": "python",
   "name": "python3"
  },
  "language_info": {
   "codemirror_mode": {
    "name": "ipython",
    "version": 3
   },
   "file_extension": ".py",
   "mimetype": "text/x-python",
   "name": "python",
   "nbconvert_exporter": "python",
   "pygments_lexer": "ipython3",
   "version": "3.8.10"
  },
  "orig_nbformat": 4,
  "vscode": {
   "interpreter": {
    "hash": "51358056f74a2d21998dc5d866dbfaea4db2646fd9139b55e1f67d5243b0204f"
   }
  }
 },
 "nbformat": 4,
 "nbformat_minor": 2
}