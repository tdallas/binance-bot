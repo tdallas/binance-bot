{
 "cells": [
  {
   "cell_type": "code",
   "execution_count": 1,
   "outputs": [
    {
     "name": "stderr",
     "output_type": "stream",
     "text": [
      "/Users/tomas.dallas/itba/binance-bot/venv/lib/python3.8/site-packages/theano/configdefaults.py:560: UserWarning: DeprecationWarning: there is no c++ compiler.This is deprecated and with Theano 0.11 a c++ compiler will be mandatory\n",
      "  warnings.warn(\"DeprecationWarning: there is no c++ compiler.\"\n",
      "WARNING (theano.configdefaults): g++ not detected ! Theano will be unable to execute optimized C-implementations (for both CPU and GPU) and will default to Python implementations. Performance will be severely degraded. To remove this warning, set Theano flags cxx to an empty string.\n",
      "WARNING (theano.tensor.blas): Using NumPy C-API based implementation for BLAS functions.\n"
     ]
    }
   ],
   "source": [
    "import math\n",
    "\n",
    "import pandas as pd\n",
    "from neupy import algorithms\n",
    "import numpy as np\n",
    "import json\n",
    "from tqdm import tqdm\n",
    "from datetime import datetime\n",
    "import plotly.graph_objects as go\n",
    "from plotly.subplots import make_subplots\n",
    "import plotly.express as px\n",
    "from sklearn.metrics import mean_squared_error, mean_absolute_percentage_error\n",
    "from numpy import sqrt\n",
    "import math"
   ],
   "metadata": {
    "collapsed": false,
    "pycharm": {
     "name": "#%%\n"
    }
   }
  },
  {
   "cell_type": "code",
   "execution_count": 2,
   "outputs": [],
   "source": [
    "def ret(n, n_1):\n",
    "    return (n_1 - n) / n\n",
    "\n",
    "\n",
    "PREDICTIONS = 1000\n",
    "# prices every 15 seconds\n",
    "# df = pd.read_csv(\"prices.csv\")\n",
    "f = open(\"BTC_USDT-3m.json\")\n",
    "df = pd.DataFrame.from_records(json.load(f), columns=['timestamp', 'open', 'high', 'low', 'close', 'vol'])\n",
    "# df.columns = ['price']\n",
    "df['ret_c'] = (df['close'] - df['close'].shift(1)) / df['close'].shift(1)\n",
    "df['ret_o'] = (df['open'] - df['open'].shift(1)) / df['open'].shift(1)\n",
    "\n",
    "df['ret_h'] = (df['high'] - df['high'].shift(1)) / df['high'].shift(1)\n",
    "df['ret_l'] = (df['low'] - df['low'].shift(1)) / df['low'].shift(1)\n",
    "df['ret'] = (df['high'].shift(-1) - df['close']) / df['close']\n",
    "df['ret_s'] = df['ret'].apply(lambda x:  np.sign(x))\n",
    "df = df.iloc[0:PREDICTIONS + 3]\n",
    "\n",
    "\n",
    "def perc_dif(actual, prediction):\n",
    "    return np.abs(prediction - actual) / prediction"
   ],
   "metadata": {
    "collapsed": false,
    "pycharm": {
     "name": "#%%\n"
    }
   }
  },
  {
   "cell_type": "code",
   "execution_count": 3,
   "outputs": [
    {
     "data": {
      "text/plain": "          timestamp      open      high       low     close        vol  \\\n0     1661040000000  21140.07  21163.88  21136.70  21162.06  298.59140   \n1     1661040180000  21162.06  21170.01  21119.90  21128.62  383.42144   \n2     1661040360000  21128.62  21164.99  21118.71  21163.56  319.63957   \n3     1661040540000  21163.56  21205.00  21161.60  21189.24  385.29906   \n4     1661040720000  21189.24  21190.74  21158.10  21168.10  263.47068   \n...             ...       ...       ...       ...       ...        ...   \n998   1661219640000  21317.88  21320.96  21303.54  21304.06  127.66907   \n999   1661219820000  21304.06  21319.00  21301.96  21306.86  171.74079   \n1000  1661220000000  21306.86  21314.07  21300.00  21302.51  185.11035   \n1001  1661220180000  21303.71  21308.78  21295.86  21299.96  233.84119   \n1002  1661220360000  21299.96  21322.60  21295.01  21302.61  290.49927   \n\n         ret_c     ret_o     ret_h     ret_l       ret  ret_s  \n0          NaN       NaN       NaN       NaN  0.000376    1.0  \n1    -0.001580  0.001040  0.000290 -0.000795  0.001721    1.0  \n2     0.001654 -0.001580 -0.000237 -0.000056  0.001958    1.0  \n3     0.001213  0.001654  0.001890  0.002031  0.000071    1.0  \n4    -0.000998  0.001213 -0.000672 -0.000165  0.002209    1.0  \n...        ...       ...       ...       ...       ...    ...  \n998  -0.000685 -0.000067 -0.000289  0.000618  0.000701    1.0  \n999   0.000131 -0.000648 -0.000092 -0.000074  0.000338    1.0  \n1000 -0.000204  0.000131 -0.000231 -0.000092  0.000294    1.0  \n1001 -0.000120 -0.000148 -0.000248 -0.000194  0.001063    1.0  \n1002  0.000124 -0.000176  0.000649 -0.000040  0.000112    1.0  \n\n[1003 rows x 12 columns]",
      "text/html": "<div>\n<style scoped>\n    .dataframe tbody tr th:only-of-type {\n        vertical-align: middle;\n    }\n\n    .dataframe tbody tr th {\n        vertical-align: top;\n    }\n\n    .dataframe thead th {\n        text-align: right;\n    }\n</style>\n<table border=\"1\" class=\"dataframe\">\n  <thead>\n    <tr style=\"text-align: right;\">\n      <th></th>\n      <th>timestamp</th>\n      <th>open</th>\n      <th>high</th>\n      <th>low</th>\n      <th>close</th>\n      <th>vol</th>\n      <th>ret_c</th>\n      <th>ret_o</th>\n      <th>ret_h</th>\n      <th>ret_l</th>\n      <th>ret</th>\n      <th>ret_s</th>\n    </tr>\n  </thead>\n  <tbody>\n    <tr>\n      <th>0</th>\n      <td>1661040000000</td>\n      <td>21140.07</td>\n      <td>21163.88</td>\n      <td>21136.70</td>\n      <td>21162.06</td>\n      <td>298.59140</td>\n      <td>NaN</td>\n      <td>NaN</td>\n      <td>NaN</td>\n      <td>NaN</td>\n      <td>0.000376</td>\n      <td>1.0</td>\n    </tr>\n    <tr>\n      <th>1</th>\n      <td>1661040180000</td>\n      <td>21162.06</td>\n      <td>21170.01</td>\n      <td>21119.90</td>\n      <td>21128.62</td>\n      <td>383.42144</td>\n      <td>-0.001580</td>\n      <td>0.001040</td>\n      <td>0.000290</td>\n      <td>-0.000795</td>\n      <td>0.001721</td>\n      <td>1.0</td>\n    </tr>\n    <tr>\n      <th>2</th>\n      <td>1661040360000</td>\n      <td>21128.62</td>\n      <td>21164.99</td>\n      <td>21118.71</td>\n      <td>21163.56</td>\n      <td>319.63957</td>\n      <td>0.001654</td>\n      <td>-0.001580</td>\n      <td>-0.000237</td>\n      <td>-0.000056</td>\n      <td>0.001958</td>\n      <td>1.0</td>\n    </tr>\n    <tr>\n      <th>3</th>\n      <td>1661040540000</td>\n      <td>21163.56</td>\n      <td>21205.00</td>\n      <td>21161.60</td>\n      <td>21189.24</td>\n      <td>385.29906</td>\n      <td>0.001213</td>\n      <td>0.001654</td>\n      <td>0.001890</td>\n      <td>0.002031</td>\n      <td>0.000071</td>\n      <td>1.0</td>\n    </tr>\n    <tr>\n      <th>4</th>\n      <td>1661040720000</td>\n      <td>21189.24</td>\n      <td>21190.74</td>\n      <td>21158.10</td>\n      <td>21168.10</td>\n      <td>263.47068</td>\n      <td>-0.000998</td>\n      <td>0.001213</td>\n      <td>-0.000672</td>\n      <td>-0.000165</td>\n      <td>0.002209</td>\n      <td>1.0</td>\n    </tr>\n    <tr>\n      <th>...</th>\n      <td>...</td>\n      <td>...</td>\n      <td>...</td>\n      <td>...</td>\n      <td>...</td>\n      <td>...</td>\n      <td>...</td>\n      <td>...</td>\n      <td>...</td>\n      <td>...</td>\n      <td>...</td>\n      <td>...</td>\n    </tr>\n    <tr>\n      <th>998</th>\n      <td>1661219640000</td>\n      <td>21317.88</td>\n      <td>21320.96</td>\n      <td>21303.54</td>\n      <td>21304.06</td>\n      <td>127.66907</td>\n      <td>-0.000685</td>\n      <td>-0.000067</td>\n      <td>-0.000289</td>\n      <td>0.000618</td>\n      <td>0.000701</td>\n      <td>1.0</td>\n    </tr>\n    <tr>\n      <th>999</th>\n      <td>1661219820000</td>\n      <td>21304.06</td>\n      <td>21319.00</td>\n      <td>21301.96</td>\n      <td>21306.86</td>\n      <td>171.74079</td>\n      <td>0.000131</td>\n      <td>-0.000648</td>\n      <td>-0.000092</td>\n      <td>-0.000074</td>\n      <td>0.000338</td>\n      <td>1.0</td>\n    </tr>\n    <tr>\n      <th>1000</th>\n      <td>1661220000000</td>\n      <td>21306.86</td>\n      <td>21314.07</td>\n      <td>21300.00</td>\n      <td>21302.51</td>\n      <td>185.11035</td>\n      <td>-0.000204</td>\n      <td>0.000131</td>\n      <td>-0.000231</td>\n      <td>-0.000092</td>\n      <td>0.000294</td>\n      <td>1.0</td>\n    </tr>\n    <tr>\n      <th>1001</th>\n      <td>1661220180000</td>\n      <td>21303.71</td>\n      <td>21308.78</td>\n      <td>21295.86</td>\n      <td>21299.96</td>\n      <td>233.84119</td>\n      <td>-0.000120</td>\n      <td>-0.000148</td>\n      <td>-0.000248</td>\n      <td>-0.000194</td>\n      <td>0.001063</td>\n      <td>1.0</td>\n    </tr>\n    <tr>\n      <th>1002</th>\n      <td>1661220360000</td>\n      <td>21299.96</td>\n      <td>21322.60</td>\n      <td>21295.01</td>\n      <td>21302.61</td>\n      <td>290.49927</td>\n      <td>0.000124</td>\n      <td>-0.000176</td>\n      <td>0.000649</td>\n      <td>-0.000040</td>\n      <td>0.000112</td>\n      <td>1.0</td>\n    </tr>\n  </tbody>\n</table>\n<p>1003 rows × 12 columns</p>\n</div>"
     },
     "execution_count": 3,
     "metadata": {},
     "output_type": "execute_result"
    }
   ],
   "source": [
    "df"
   ],
   "metadata": {
    "collapsed": false,
    "pycharm": {
     "name": "#%%\n"
    }
   }
  },
  {
   "cell_type": "code",
   "execution_count": 4,
   "outputs": [
    {
     "name": "stderr",
     "output_type": "stream",
     "text": [
      "100%|██████████| 138/138 [05:06<00:00,  2.22s/it]\n",
      "100%|██████████| 138/138 [05:11<00:00,  2.26s/it]\n",
      "100%|██████████| 138/138 [05:05<00:00,  2.21s/it]\n",
      "100%|██████████| 138/138 [05:02<00:00,  2.19s/it]\n",
      "100%|██████████| 138/138 [04:58<00:00,  2.16s/it]\n",
      "100%|██████████| 138/138 [06:06<00:00,  2.65s/it]\n",
      "  1%|▏         | 2/138 [00:08<10:05,  4.45s/it]\n"
     ]
    },
    {
     "ename": "KeyboardInterrupt",
     "evalue": "",
     "output_type": "error",
     "traceback": [
      "\u001B[0;31m---------------------------------------------------------------------------\u001B[0m",
      "\u001B[0;31mKeyboardInterrupt\u001B[0m                         Traceback (most recent call last)",
      "Input \u001B[0;32mIn [4]\u001B[0m, in \u001B[0;36m<cell line: 6>\u001B[0;34m()\u001B[0m\n\u001B[1;32m     11\u001B[0m hits \u001B[38;5;241m=\u001B[39m \u001B[38;5;241m0\u001B[39m\n\u001B[1;32m     12\u001B[0m \u001B[38;5;28;01mfor\u001B[39;00m i \u001B[38;5;129;01min\u001B[39;00m np\u001B[38;5;241m.\u001B[39marange(NDTR, NDTR \u001B[38;5;241m+\u001B[39m PREDICTIONS \u001B[38;5;241m+\u001B[39m \u001B[38;5;241m1\u001B[39m):\n\u001B[0;32m---> 13\u001B[0m     small_df \u001B[38;5;241m=\u001B[39m \u001B[43mdf\u001B[49m\u001B[38;5;241;43m.\u001B[39;49m\u001B[43miloc\u001B[49m\u001B[43m[\u001B[49m\u001B[43mi\u001B[49m\u001B[43m:\u001B[49m\u001B[43m \u001B[49m\u001B[43mi\u001B[49m\u001B[43m \u001B[49m\u001B[38;5;241;43m+\u001B[39;49m\u001B[43m \u001B[49m\u001B[43mNDTR\u001B[49m\u001B[43m \u001B[49m\u001B[38;5;241;43m+\u001B[39;49m\u001B[43m \u001B[49m\u001B[38;5;241;43m1\u001B[39;49m\u001B[43m]\u001B[49m\u001B[38;5;241;43m.\u001B[39;49m\u001B[43mcopy\u001B[49m\u001B[43m(\u001B[49m\u001B[43mdeep\u001B[49m\u001B[38;5;241;43m=\u001B[39;49m\u001B[38;5;28;43;01mTrue\u001B[39;49;00m\u001B[43m)\u001B[49m\u001B[43m[\u001B[49m\u001B[43m[\u001B[49m\u001B[38;5;124;43m'\u001B[39;49m\u001B[38;5;124;43mret_o\u001B[39;49m\u001B[38;5;124;43m'\u001B[39;49m\u001B[43m,\u001B[49m\u001B[43m \u001B[49m\u001B[38;5;124;43m'\u001B[39;49m\u001B[38;5;124;43mret\u001B[39;49m\u001B[38;5;124;43m'\u001B[39;49m\u001B[43m]\u001B[49m\u001B[43m]\u001B[49m\u001B[38;5;241m.\u001B[39mreset_index(\n\u001B[1;32m     14\u001B[0m         drop\u001B[38;5;241m=\u001B[39m\u001B[38;5;28;01mTrue\u001B[39;00m)\n\u001B[1;32m     15\u001B[0m     small_df[\u001B[38;5;124m'\u001B[39m\u001B[38;5;124mret_o\u001B[39m\u001B[38;5;124m'\u001B[39m] \u001B[38;5;241m=\u001B[39m small_df[\u001B[38;5;124m'\u001B[39m\u001B[38;5;124mret_o\u001B[39m\u001B[38;5;124m'\u001B[39m] \u001B[38;5;241m/\u001B[39m small_df[\u001B[38;5;124m'\u001B[39m\u001B[38;5;124mret_o\u001B[39m\u001B[38;5;124m'\u001B[39m]\u001B[38;5;241m.\u001B[39mmean()\n\u001B[1;32m     16\u001B[0m     small_df[\u001B[38;5;124m'\u001B[39m\u001B[38;5;124mret\u001B[39m\u001B[38;5;124m'\u001B[39m] \u001B[38;5;241m=\u001B[39m small_df[\u001B[38;5;124m'\u001B[39m\u001B[38;5;124mret\u001B[39m\u001B[38;5;124m'\u001B[39m] \u001B[38;5;241m/\u001B[39m small_df[\u001B[38;5;124m'\u001B[39m\u001B[38;5;124mret\u001B[39m\u001B[38;5;124m'\u001B[39m]\u001B[38;5;241m.\u001B[39mmean()\n",
      "File \u001B[0;32m~/itba/binance-bot/venv/lib/python3.8/site-packages/pandas/core/frame.py:3511\u001B[0m, in \u001B[0;36mDataFrame.__getitem__\u001B[0;34m(self, key)\u001B[0m\n\u001B[1;32m   3509\u001B[0m     \u001B[38;5;28;01mif\u001B[39;00m is_iterator(key):\n\u001B[1;32m   3510\u001B[0m         key \u001B[38;5;241m=\u001B[39m \u001B[38;5;28mlist\u001B[39m(key)\n\u001B[0;32m-> 3511\u001B[0m     indexer \u001B[38;5;241m=\u001B[39m \u001B[38;5;28;43mself\u001B[39;49m\u001B[38;5;241;43m.\u001B[39;49m\u001B[43mcolumns\u001B[49m\u001B[38;5;241;43m.\u001B[39;49m\u001B[43m_get_indexer_strict\u001B[49m\u001B[43m(\u001B[49m\u001B[43mkey\u001B[49m\u001B[43m,\u001B[49m\u001B[43m \u001B[49m\u001B[38;5;124;43m\"\u001B[39;49m\u001B[38;5;124;43mcolumns\u001B[39;49m\u001B[38;5;124;43m\"\u001B[39;49m\u001B[43m)\u001B[49m[\u001B[38;5;241m1\u001B[39m]\n\u001B[1;32m   3513\u001B[0m \u001B[38;5;66;03m# take() does not accept boolean indexers\u001B[39;00m\n\u001B[1;32m   3514\u001B[0m \u001B[38;5;28;01mif\u001B[39;00m \u001B[38;5;28mgetattr\u001B[39m(indexer, \u001B[38;5;124m\"\u001B[39m\u001B[38;5;124mdtype\u001B[39m\u001B[38;5;124m\"\u001B[39m, \u001B[38;5;28;01mNone\u001B[39;00m) \u001B[38;5;241m==\u001B[39m \u001B[38;5;28mbool\u001B[39m:\n",
      "File \u001B[0;32m~/itba/binance-bot/venv/lib/python3.8/site-packages/pandas/core/indexes/base.py:5777\u001B[0m, in \u001B[0;36mIndex._get_indexer_strict\u001B[0;34m(self, key, axis_name)\u001B[0m\n\u001B[1;32m   5774\u001B[0m     keyarr \u001B[38;5;241m=\u001B[39m com\u001B[38;5;241m.\u001B[39masarray_tuplesafe(keyarr)\n\u001B[1;32m   5776\u001B[0m \u001B[38;5;28;01mif\u001B[39;00m \u001B[38;5;28mself\u001B[39m\u001B[38;5;241m.\u001B[39m_index_as_unique:\n\u001B[0;32m-> 5777\u001B[0m     indexer \u001B[38;5;241m=\u001B[39m \u001B[38;5;28;43mself\u001B[39;49m\u001B[38;5;241;43m.\u001B[39;49m\u001B[43mget_indexer_for\u001B[49m\u001B[43m(\u001B[49m\u001B[43mkeyarr\u001B[49m\u001B[43m)\u001B[49m\n\u001B[1;32m   5778\u001B[0m     keyarr \u001B[38;5;241m=\u001B[39m \u001B[38;5;28mself\u001B[39m\u001B[38;5;241m.\u001B[39mreindex(keyarr)[\u001B[38;5;241m0\u001B[39m]\n\u001B[1;32m   5779\u001B[0m \u001B[38;5;28;01melse\u001B[39;00m:\n",
      "File \u001B[0;32m~/itba/binance-bot/venv/lib/python3.8/site-packages/pandas/core/indexes/base.py:5764\u001B[0m, in \u001B[0;36mIndex.get_indexer_for\u001B[0;34m(self, target)\u001B[0m\n\u001B[1;32m   5746\u001B[0m \u001B[38;5;124;03m\"\"\"\u001B[39;00m\n\u001B[1;32m   5747\u001B[0m \u001B[38;5;124;03mGuaranteed return of an indexer even when non-unique.\u001B[39;00m\n\u001B[1;32m   5748\u001B[0m \n\u001B[0;32m   (...)\u001B[0m\n\u001B[1;32m   5761\u001B[0m \u001B[38;5;124;03marray([0, 2])\u001B[39;00m\n\u001B[1;32m   5762\u001B[0m \u001B[38;5;124;03m\"\"\"\u001B[39;00m\n\u001B[1;32m   5763\u001B[0m \u001B[38;5;28;01mif\u001B[39;00m \u001B[38;5;28mself\u001B[39m\u001B[38;5;241m.\u001B[39m_index_as_unique:\n\u001B[0;32m-> 5764\u001B[0m     \u001B[38;5;28;01mreturn\u001B[39;00m \u001B[38;5;28;43mself\u001B[39;49m\u001B[38;5;241;43m.\u001B[39;49m\u001B[43mget_indexer\u001B[49m\u001B[43m(\u001B[49m\u001B[43mtarget\u001B[49m\u001B[43m)\u001B[49m\n\u001B[1;32m   5765\u001B[0m indexer, _ \u001B[38;5;241m=\u001B[39m \u001B[38;5;28mself\u001B[39m\u001B[38;5;241m.\u001B[39mget_indexer_non_unique(target)\n\u001B[1;32m   5766\u001B[0m \u001B[38;5;28;01mreturn\u001B[39;00m indexer\n",
      "File \u001B[0;32m~/itba/binance-bot/venv/lib/python3.8/site-packages/pandas/core/indexes/base.py:3716\u001B[0m, in \u001B[0;36mIndex.get_indexer\u001B[0;34m(self, target, method, limit, tolerance)\u001B[0m\n\u001B[1;32m   3706\u001B[0m \u001B[38;5;129m@Appender\u001B[39m(_index_shared_docs[\u001B[38;5;124m\"\u001B[39m\u001B[38;5;124mget_indexer\u001B[39m\u001B[38;5;124m\"\u001B[39m] \u001B[38;5;241m%\u001B[39m _index_doc_kwargs)\n\u001B[1;32m   3707\u001B[0m \u001B[38;5;129m@final\u001B[39m\n\u001B[1;32m   3708\u001B[0m \u001B[38;5;28;01mdef\u001B[39;00m \u001B[38;5;21mget_indexer\u001B[39m(\n\u001B[0;32m   (...)\u001B[0m\n\u001B[1;32m   3713\u001B[0m     tolerance\u001B[38;5;241m=\u001B[39m\u001B[38;5;28;01mNone\u001B[39;00m,\n\u001B[1;32m   3714\u001B[0m ) \u001B[38;5;241m-\u001B[39m\u001B[38;5;241m>\u001B[39m npt\u001B[38;5;241m.\u001B[39mNDArray[np\u001B[38;5;241m.\u001B[39mintp]:\n\u001B[1;32m   3715\u001B[0m     method \u001B[38;5;241m=\u001B[39m missing\u001B[38;5;241m.\u001B[39mclean_reindex_fill_method(method)\n\u001B[0;32m-> 3716\u001B[0m     target \u001B[38;5;241m=\u001B[39m \u001B[38;5;28;43mself\u001B[39;49m\u001B[38;5;241;43m.\u001B[39;49m\u001B[43m_maybe_cast_listlike_indexer\u001B[49m\u001B[43m(\u001B[49m\u001B[43mtarget\u001B[49m\u001B[43m)\u001B[49m\n\u001B[1;32m   3718\u001B[0m     \u001B[38;5;28mself\u001B[39m\u001B[38;5;241m.\u001B[39m_check_indexing_method(method, limit, tolerance)\n\u001B[1;32m   3720\u001B[0m     \u001B[38;5;28;01mif\u001B[39;00m \u001B[38;5;129;01mnot\u001B[39;00m \u001B[38;5;28mself\u001B[39m\u001B[38;5;241m.\u001B[39m_index_as_unique:\n",
      "File \u001B[0;32m~/itba/binance-bot/venv/lib/python3.8/site-packages/pandas/core/indexes/base.py:6297\u001B[0m, in \u001B[0;36mIndex._maybe_cast_listlike_indexer\u001B[0;34m(self, target)\u001B[0m\n\u001B[1;32m   6293\u001B[0m \u001B[38;5;28;01mdef\u001B[39;00m \u001B[38;5;21m_maybe_cast_listlike_indexer\u001B[39m(\u001B[38;5;28mself\u001B[39m, target) \u001B[38;5;241m-\u001B[39m\u001B[38;5;241m>\u001B[39m Index:\n\u001B[1;32m   6294\u001B[0m     \u001B[38;5;124;03m\"\"\"\u001B[39;00m\n\u001B[1;32m   6295\u001B[0m \u001B[38;5;124;03m    Analogue to maybe_cast_indexer for get_indexer instead of get_loc.\u001B[39;00m\n\u001B[1;32m   6296\u001B[0m \u001B[38;5;124;03m    \"\"\"\u001B[39;00m\n\u001B[0;32m-> 6297\u001B[0m     \u001B[38;5;28;01mreturn\u001B[39;00m \u001B[43mensure_index\u001B[49m\u001B[43m(\u001B[49m\u001B[43mtarget\u001B[49m\u001B[43m)\u001B[49m\n",
      "File \u001B[0;32m~/itba/binance-bot/venv/lib/python3.8/site-packages/pandas/core/indexes/base.py:7043\u001B[0m, in \u001B[0;36mensure_index\u001B[0;34m(index_like, copy)\u001B[0m\n\u001B[1;32m   7041\u001B[0m         \u001B[38;5;28;01mreturn\u001B[39;00m Index\u001B[38;5;241m.\u001B[39m_with_infer(index_like, copy\u001B[38;5;241m=\u001B[39mcopy, tupleize_cols\u001B[38;5;241m=\u001B[39m\u001B[38;5;28;01mFalse\u001B[39;00m)\n\u001B[1;32m   7042\u001B[0m \u001B[38;5;28;01melse\u001B[39;00m:\n\u001B[0;32m-> 7043\u001B[0m     \u001B[38;5;28;01mreturn\u001B[39;00m \u001B[43mIndex\u001B[49m\u001B[38;5;241;43m.\u001B[39;49m\u001B[43m_with_infer\u001B[49m\u001B[43m(\u001B[49m\u001B[43mindex_like\u001B[49m\u001B[43m,\u001B[49m\u001B[43m \u001B[49m\u001B[43mcopy\u001B[49m\u001B[38;5;241;43m=\u001B[39;49m\u001B[43mcopy\u001B[49m\u001B[43m)\u001B[49m\n",
      "File \u001B[0;32m~/itba/binance-bot/venv/lib/python3.8/site-packages/pandas/core/indexes/base.py:679\u001B[0m, in \u001B[0;36mIndex._with_infer\u001B[0;34m(cls, *args, **kwargs)\u001B[0m\n\u001B[1;32m    674\u001B[0m \u001B[38;5;124;03m\"\"\"\u001B[39;00m\n\u001B[1;32m    675\u001B[0m \u001B[38;5;124;03mConstructor that uses the 1.0.x behavior inferring numeric dtypes\u001B[39;00m\n\u001B[1;32m    676\u001B[0m \u001B[38;5;124;03mfor ndarray[object] inputs.\u001B[39;00m\n\u001B[1;32m    677\u001B[0m \u001B[38;5;124;03m\"\"\"\u001B[39;00m\n\u001B[1;32m    678\u001B[0m \u001B[38;5;28;01mwith\u001B[39;00m warnings\u001B[38;5;241m.\u001B[39mcatch_warnings():\n\u001B[0;32m--> 679\u001B[0m     \u001B[43mwarnings\u001B[49m\u001B[38;5;241;43m.\u001B[39;49m\u001B[43mfilterwarnings\u001B[49m\u001B[43m(\u001B[49m\u001B[38;5;124;43m\"\u001B[39;49m\u001B[38;5;124;43mignore\u001B[39;49m\u001B[38;5;124;43m\"\u001B[39;49m\u001B[43m,\u001B[49m\u001B[43m \u001B[49m\u001B[38;5;124;43m\"\u001B[39;49m\u001B[38;5;124;43m.*the Index constructor\u001B[39;49m\u001B[38;5;124;43m\"\u001B[39;49m\u001B[43m,\u001B[49m\u001B[43m \u001B[49m\u001B[38;5;167;43;01mFutureWarning\u001B[39;49;00m\u001B[43m)\u001B[49m\n\u001B[1;32m    680\u001B[0m     result \u001B[38;5;241m=\u001B[39m \u001B[38;5;28mcls\u001B[39m(\u001B[38;5;241m*\u001B[39margs, \u001B[38;5;241m*\u001B[39m\u001B[38;5;241m*\u001B[39mkwargs)\n\u001B[1;32m    682\u001B[0m \u001B[38;5;28;01mif\u001B[39;00m result\u001B[38;5;241m.\u001B[39mdtype \u001B[38;5;241m==\u001B[39m _dtype_obj \u001B[38;5;129;01mand\u001B[39;00m \u001B[38;5;129;01mnot\u001B[39;00m result\u001B[38;5;241m.\u001B[39m_is_multi:\n\u001B[1;32m    683\u001B[0m     \u001B[38;5;66;03m# error: Argument 1 to \"maybe_convert_objects\" has incompatible type\u001B[39;00m\n\u001B[1;32m    684\u001B[0m     \u001B[38;5;66;03m# \"Union[ExtensionArray, ndarray[Any, Any]]\"; expected\u001B[39;00m\n\u001B[1;32m    685\u001B[0m     \u001B[38;5;66;03m# \"ndarray[Any, Any]\"\u001B[39;00m\n",
      "File \u001B[0;32m~/.pyenv/versions/3.8.10/lib/python3.8/warnings.py:155\u001B[0m, in \u001B[0;36mfilterwarnings\u001B[0;34m(action, message, category, module, lineno, append)\u001B[0m\n\u001B[1;32m    152\u001B[0m     \u001B[38;5;28;01mimport\u001B[39;00m \u001B[38;5;21;01mre\u001B[39;00m\n\u001B[1;32m    154\u001B[0m \u001B[38;5;28;01mif\u001B[39;00m message:\n\u001B[0;32m--> 155\u001B[0m     message \u001B[38;5;241m=\u001B[39m \u001B[43mre\u001B[49m\u001B[38;5;241;43m.\u001B[39;49m\u001B[43mcompile\u001B[49m\u001B[43m(\u001B[49m\u001B[43mmessage\u001B[49m\u001B[43m,\u001B[49m\u001B[43m \u001B[49m\u001B[43mre\u001B[49m\u001B[38;5;241;43m.\u001B[39;49m\u001B[43mI\u001B[49m\u001B[43m)\u001B[49m\n\u001B[1;32m    156\u001B[0m \u001B[38;5;28;01melse\u001B[39;00m:\n\u001B[1;32m    157\u001B[0m     message \u001B[38;5;241m=\u001B[39m \u001B[38;5;28;01mNone\u001B[39;00m\n",
      "File \u001B[0;32m~/.pyenv/versions/3.8.10/lib/python3.8/re.py:252\u001B[0m, in \u001B[0;36mcompile\u001B[0;34m(pattern, flags)\u001B[0m\n\u001B[1;32m    250\u001B[0m \u001B[38;5;28;01mdef\u001B[39;00m \u001B[38;5;21mcompile\u001B[39m(pattern, flags\u001B[38;5;241m=\u001B[39m\u001B[38;5;241m0\u001B[39m):\n\u001B[1;32m    251\u001B[0m     \u001B[38;5;124m\"\u001B[39m\u001B[38;5;124mCompile a regular expression pattern, returning a Pattern object.\u001B[39m\u001B[38;5;124m\"\u001B[39m\n\u001B[0;32m--> 252\u001B[0m     \u001B[38;5;28;01mreturn\u001B[39;00m \u001B[43m_compile\u001B[49m\u001B[43m(\u001B[49m\u001B[43mpattern\u001B[49m\u001B[43m,\u001B[49m\u001B[43m \u001B[49m\u001B[43mflags\u001B[49m\u001B[43m)\u001B[49m\n",
      "File \u001B[0;32m~/.pyenv/versions/3.8.10/lib/python3.8/re.py:294\u001B[0m, in \u001B[0;36m_compile\u001B[0;34m(pattern, flags)\u001B[0m\n\u001B[1;32m    292\u001B[0m     flags \u001B[38;5;241m=\u001B[39m flags\u001B[38;5;241m.\u001B[39mvalue\n\u001B[1;32m    293\u001B[0m \u001B[38;5;28;01mtry\u001B[39;00m:\n\u001B[0;32m--> 294\u001B[0m     \u001B[38;5;28;01mreturn\u001B[39;00m \u001B[43m_cache\u001B[49m\u001B[43m[\u001B[49m\u001B[38;5;28;43mtype\u001B[39;49m\u001B[43m(\u001B[49m\u001B[43mpattern\u001B[49m\u001B[43m)\u001B[49m\u001B[43m,\u001B[49m\u001B[43m \u001B[49m\u001B[43mpattern\u001B[49m\u001B[43m,\u001B[49m\u001B[43m \u001B[49m\u001B[43mflags\u001B[49m\u001B[43m]\u001B[49m\n\u001B[1;32m    295\u001B[0m \u001B[38;5;28;01mexcept\u001B[39;00m \u001B[38;5;167;01mKeyError\u001B[39;00m:\n\u001B[1;32m    296\u001B[0m     \u001B[38;5;28;01mpass\u001B[39;00m\n",
      "\u001B[0;31mKeyboardInterrupt\u001B[0m: "
     ]
    }
   ],
   "source": [
    "# OJO CON NDTR=2 y std=0.0029\n",
    "# OJO CON NDTR=4 y std=0.000075\n",
    "sq_errors = []\n",
    "std = 0.0003\n",
    "hit_rates = []\n",
    "for NDTR in np.arange(2, 10):\n",
    "    for std in tqdm(np.concatenate((np.arange(0.001, 1, 0.01), np.arange(0.00001, 0.001, 0.00005), np.arange(1, 10, 0.5)))):\n",
    "        nans = 0\n",
    "        actuals = []\n",
    "        predictions = []\n",
    "        hits = 0\n",
    "        for i in np.arange(NDTR, NDTR + PREDICTIONS + 1):\n",
    "            small_df = df.iloc[i: i + NDTR + 1].copy(deep=True)[['ret_o', 'ret']].reset_index(\n",
    "                drop=True)\n",
    "            small_df['ret_o'] = small_df['ret_o'] / small_df['ret_o'].mean()\n",
    "            small_df['ret'] = small_df['ret'] / small_df['ret'].mean()\n",
    "            x_train = small_df.iloc[0:NDTR][['ret_o']].values\n",
    "            y_train = small_df['ret'].iloc[0:NDTR].values\n",
    "            grnn = algorithms.GRNN(std=std, verbose=False)\n",
    "            grnn.train(x_train, y_train)\n",
    "            if len(small_df) > NDTR:\n",
    "                x_predict = small_df.iloc[NDTR][['ret_o']].values\n",
    "                prediction = grnn.predict([x_predict])\n",
    "                if math.isnan(prediction):\n",
    "                    nans += 1\n",
    "                    prediction = 0\n",
    "                else:\n",
    "                    actual = small_df['ret'].iloc[NDTR]\n",
    "                    prediction = prediction[0]\n",
    "                    if np.sign(actual) == np.sign(prediction):\n",
    "                        hits += 1\n",
    "                    actuals.append(actual)\n",
    "                    predictions.append(prediction)\n",
    "        if len(actuals) > 900:\n",
    "            hit_rates.append([hits / len(actuals), std, NDTR, len(actuals)])\n",
    "            # fig = make_subplots()\n",
    "            # fig.add_trace(\n",
    "            #     go.Scatter(x=actuals, y=predictions,\n",
    "            #                name=\"Retornos\", mode='lines+markers'))\n",
    "            # title= \"GRNN NDTR=\" + str(NDTR) + \"| std=\" + str(std) + \"|HitRate=\" + \"{:.2%}\".format(hits/len(actuals))\n",
    "            # fig.update_layout(title=title, xaxis_title=\"Real\", yaxis_title=\"Prediction\")\n",
    "            # # fig.show()\n",
    "            # fig.write_image(\"grnn/prediction_vs_real_NDTR\" + str(NDTR) + \"_std\" + str(std) + \"_nosign_nonorm.png\")\n",
    "\n",
    "hit_df = pd.DataFrame(hit_rates, columns=['hit_rate', 'std', 'NDTR', 'predictions'])\n",
    "hit_df.to_csv(\"grnn/hits_grnn_nosign_high.csv\", header=None, index=None)\n",
    "\n",
    "hit_df = hit_df[hit_df['predictions'] > 900]\n",
    "fig = make_subplots()\n",
    "\n",
    "for NDTR in hit_df['NDTR'].unique():\n",
    "    actual_hdf = hit_df[hit_df['NDTR'] == NDTR]\n",
    "    fig.add_trace(\n",
    "        go.Scatter(x=actual_hdf['std'], y=actual_hdf['hit_rate'].apply(lambda x: 1 - x), name=\"NDTR=\" + str(NDTR),\n",
    "                   mode=\"markers+lines\"))\n",
    "\n",
    "fig.update_layout(yaxis_tickformat=\".2%\", title=\"Hit rate of prediction for a given std\", xaxis_title=\"STD\",\n",
    "                  yaxis_title=\"Hit rate\", xaxis_tickformat=\"none\")\n",
    "fig.write_image(\"grnn/hitrate_nosign_rethigh.png\")\n",
    "\n",
    "fig.show()"
   ],
   "metadata": {
    "collapsed": false,
    "pycharm": {
     "name": "#%%\n"
    }
   }
  },
  {
   "cell_type": "code",
   "execution_count": null,
   "outputs": [],
   "source": [],
   "metadata": {
    "collapsed": false,
    "pycharm": {
     "name": "#%%\n"
    }
   }
  }
 ],
 "metadata": {
  "kernelspec": {
   "display_name": "Python 3.8.10 64-bit ('3.8.10')",
   "language": "python",
   "name": "python3"
  },
  "language_info": {
   "codemirror_mode": {
    "name": "ipython",
    "version": 3
   },
   "file_extension": ".py",
   "mimetype": "text/x-python",
   "name": "python",
   "nbconvert_exporter": "python",
   "pygments_lexer": "ipython3",
   "version": "3.8.10"
  },
  "orig_nbformat": 4,
  "vscode": {
   "interpreter": {
    "hash": "51358056f74a2d21998dc5d866dbfaea4db2646fd9139b55e1f67d5243b0204f"
   }
  }
 },
 "nbformat": 4,
 "nbformat_minor": 2
}