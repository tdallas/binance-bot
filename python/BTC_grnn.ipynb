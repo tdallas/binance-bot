{
 "cells": [
  {
   "cell_type": "code",
   "execution_count": null,
   "outputs": [],
   "source": [
    "import math\n",
    "\n",
    "import pandas as pd\n",
    "from neupy import algorithms\n",
    "import numpy as np\n",
    "import json\n",
    "from tqdm import tqdm\n",
    "from datetime import datetime\n",
    "import plotly.graph_objects as go\n",
    "from plotly.subplots import make_subplots\n",
    "import plotly.express as px\n",
    "from sklearn.metrics import mean_squared_error, mean_absolute_percentage_error\n",
    "from numpy import sqrt\n",
    "import math"
   ],
   "metadata": {
    "collapsed": false,
    "pycharm": {
     "name": "#%%\n"
    }
   }
  },
  {
   "cell_type": "code",
   "execution_count": null,
   "outputs": [],
   "source": [
    "def ret(n, n_1):\n",
    "    return (n_1 - n) / n\n",
    "\n",
    "\n",
    "PREDICTIONS = 1000\n",
    "# prices every 15 seconds\n",
    "# df = pd.read_csv(\"prices.csv\")\n",
    "f = open(\"BTC_USDT-3m.json\")\n",
    "df = pd.DataFrame.from_records(json.load(f), columns=['timestamp', 'open', 'high', 'low', 'close', 'vol'])\n",
    "# df.columns = ['price']\n",
    "df['ret_c'] = (df['close'] - df['close'].shift(1)) / df['close'].shift(1)\n",
    "df['ret_o'] = (df['open'] - df['open'].shift(1)) / df['open'].shift(1)\n",
    "\n",
    "df['ret_h'] = (df['high'] - df['high'].shift(1)) / df['high'].shift(1)\n",
    "df['ret_l'] = (df['low'] - df['low'].shift(1)) / df['low'].shift(1)\n",
    "df['ret'] = (df['high'].shift(-1) - df['close']) / df['close']\n",
    "df['ret_s'] = df['ret'].apply(lambda x:  np.sign(x))\n",
    "df = df.iloc[0:PREDICTIONS + 3]\n",
    "\n",
    "\n",
    "def perc_dif(actual, prediction):\n",
    "    return np.abs(prediction - actual) / prediction"
   ],
   "metadata": {
    "collapsed": false,
    "pycharm": {
     "name": "#%%\n",
     "is_executing": true
    }
   }
  },
  {
   "cell_type": "code",
   "execution_count": null,
   "outputs": [],
   "source": [
    "df"
   ],
   "metadata": {
    "collapsed": false,
    "pycharm": {
     "name": "#%%\n"
    }
   }
  },
  {
   "cell_type": "code",
   "execution_count": null,
   "outputs": [],
   "source": [
    "# OJO CON NDTR=2 y std=0.0029\n",
    "# OJO CON NDTR=4 y std=0.000075\n",
    "sq_errors = []\n",
    "std = 0.0003\n",
    "hit_rates = []\n",
    "for NDTR in np.arange(2, 10):\n",
    "    for std in tqdm(np.concatenate((np.arange(0.001, 1, 0.01), np.arange(0.00001, 0.001, 0.00005), np.arange(1, 10, 0.5)))):\n",
    "        nans = 0\n",
    "        actuals = []\n",
    "        predictions = []\n",
    "        hits = 0\n",
    "        for i in np.arange(NDTR, NDTR + PREDICTIONS + 1):\n",
    "            small_df = df.iloc[i: i + NDTR + 1].copy(deep=True)[['ret_o', 'ret']].reset_index(\n",
    "                drop=True)\n",
    "            small_df['ret_o'] = small_df['ret_o'] / small_df['ret_o'].mean()\n",
    "            small_df['ret'] = small_df['ret'] / small_df['ret'].mean()\n",
    "            x_train = small_df.iloc[0:NDTR][['ret_o']].values\n",
    "            y_train = small_df['ret'].iloc[0:NDTR].values\n",
    "            grnn = algorithms.GRNN(std=std, verbose=False)\n",
    "            grnn.train(x_train, y_train)\n",
    "            if len(small_df) > NDTR:\n",
    "                x_predict = small_df.iloc[NDTR][['ret_o']].values\n",
    "                prediction = grnn.predict([x_predict])\n",
    "                if math.isnan(prediction):\n",
    "                    nans += 1\n",
    "                    prediction = 0\n",
    "                else:\n",
    "                    actual = small_df['ret'].iloc[NDTR]\n",
    "                    prediction = prediction[0]\n",
    "                    if np.sign(actual) == np.sign(prediction):\n",
    "                        hits += 1\n",
    "                    actuals.append(actual)\n",
    "                    predictions.append(prediction)\n",
    "        if len(actuals) > 900:\n",
    "            hit_rates.append([hits / len(actuals), std, NDTR, len(actuals)])\n",
    "            # fig = make_subplots()\n",
    "            # fig.add_trace(\n",
    "            #     go.Scatter(x=actuals, y=predictions,\n",
    "            #                name=\"Retornos\", mode='lines+markers'))\n",
    "            # title= \"GRNN NDTR=\" + str(NDTR) + \"| std=\" + str(std) + \"|HitRate=\" + \"{:.2%}\".format(hits/len(actuals))\n",
    "            # fig.update_layout(title=title, xaxis_title=\"Real\", yaxis_title=\"Prediction\")\n",
    "            # # fig.show()\n",
    "            # fig.write_image(\"grnn/prediction_vs_real_NDTR\" + str(NDTR) + \"_std\" + str(std) + \"_nosign_nonorm.png\")\n",
    "\n",
    "hit_df = pd.DataFrame(hit_rates, columns=['hit_rate', 'std', 'NDTR', 'predictions'])\n",
    "hit_df.to_csv(\"grnn/hits_grnn_nosign_high.csv\", header=None, index=None)\n",
    "\n",
    "hit_df = hit_df[hit_df['predictions'] > 900]\n",
    "fig = make_subplots()\n",
    "\n",
    "for NDTR in hit_df['NDTR'].unique():\n",
    "    actual_hdf = hit_df[hit_df['NDTR'] == NDTR]\n",
    "    fig.add_trace(\n",
    "        go.Scatter(x=actual_hdf['std'], y=actual_hdf['hit_rate'].apply(lambda x: 1 - x), name=\"NDTR=\" + str(NDTR),\n",
    "                   mode=\"markers+lines\"))\n",
    "\n",
    "fig.update_layout(yaxis_tickformat=\".2%\", title=\"Hit rate of prediction for a given std\", xaxis_title=\"STD\",\n",
    "                  yaxis_title=\"Hit rate\", xaxis_tickformat=\"none\")\n",
    "fig.write_image(\"grnn/hitrate_nosign_rethigh.png\")\n",
    "\n",
    "fig.show()"
   ],
   "metadata": {
    "collapsed": false,
    "pycharm": {
     "name": "#%%\n"
    }
   }
  },
  {
   "cell_type": "code",
   "execution_count": null,
   "outputs": [],
   "source": [],
   "metadata": {
    "collapsed": false,
    "pycharm": {
     "name": "#%%\n"
    }
   }
  }
 ],
 "metadata": {
  "kernelspec": {
   "display_name": "Python 3.8.10 64-bit ('3.8.10')",
   "language": "python",
   "name": "python3"
  },
  "language_info": {
   "codemirror_mode": {
    "name": "ipython",
    "version": 3
   },
   "file_extension": ".py",
   "mimetype": "text/x-python",
   "name": "python",
   "nbconvert_exporter": "python",
   "pygments_lexer": "ipython3",
   "version": "3.8.10"
  },
  "orig_nbformat": 4,
  "vscode": {
   "interpreter": {
    "hash": "51358056f74a2d21998dc5d866dbfaea4db2646fd9139b55e1f67d5243b0204f"
   }
  }
 },
 "nbformat": 4,
 "nbformat_minor": 2
}