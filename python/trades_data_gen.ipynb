{
 "cells": [
  {
   "cell_type": "code",
   "execution_count": 20,
   "metadata": {
    "collapsed": true,
    "pycharm": {
     "name": "#%%\n"
    }
   },
   "outputs": [],
   "source": [
    "import json\n",
    "import math\n",
    "\n",
    "import numpy as np\n",
    "import pandas as pd\n",
    "import plotly.graph_objects as go\n",
    "from plotly.subplots import make_subplots\n",
    "from sklearn.neighbors import KNeighborsClassifier\n",
    "from tqdm import tqdm\n",
    "from datetime import datetime\n",
    "from sklearn.preprocessing import StandardScaler, MinMaxScaler, RobustScaler\n",
    "import plotly.express as px\n",
    "import requests\n",
    "import random\n"
   ]
  },
  {
   "cell_type": "code",
   "execution_count": 21,
   "outputs": [],
   "source": [
    "columns = ['timestamp', 'price', 'pair']\n",
    "\n",
    "\n",
    "def price_diff(price0, price1):\n",
    "    return (price1 - price0) / price0"
   ],
   "metadata": {
    "collapsed": false,
    "pycharm": {
     "name": "#%%\n"
    }
   }
  },
  {
   "cell_type": "code",
   "execution_count": 22,
   "outputs": [
    {
     "name": "stderr",
     "output_type": "stream",
     "text": [
      "100%|██████████| 862/862 [1:29:49<00:00,  6.25s/it]\n"
     ]
    }
   ],
   "source": [
    "# Pairs without BTC and ETH\n",
    "df = []\n",
    "PAIRS = requests.get(\"http://localhost:8000/market-info/USD\").json()\n",
    "random.shuffle(PAIRS)\n",
    "# training data\n",
    "for pair in tqdm(PAIRS):\n",
    "    first_trades = list(map(lambda x: [x['time'], x['price'], pair],\n",
    "                            requests.get(\"http://localhost:8000/get-trades/\" + pair + \"?qty=10000\").json()))\n",
    "    first_timestamp = first_trades[0][0]\n",
    "    first_price = float(first_trades[0][1])\n",
    "    second_price = float(first_trades[1][1])\n",
    "    df = df + first_trades\n",
    "\n",
    "    # if first_timestamp > (1672602133 * 1000):\n",
    "    #     df = df + first_trades\n"
   ],
   "metadata": {
    "collapsed": false,
    "pycharm": {
     "name": "#%%\n"
    }
   }
  },
  {
   "cell_type": "code",
   "execution_count": 24,
   "outputs": [
    {
     "name": "stdout",
     "output_type": "stream",
     "text": [
      "862\n"
     ]
    },
    {
     "data": {
      "text/plain": "             timestamp        price         pair\n0        1607670000000  10.00000000  XLMDOWNUSDT\n1        1607670172194  10.16700000  XLMDOWNUSDT\n2        1607670284340  10.19000000  XLMDOWNUSDT\n3        1607670293095  10.18800000  XLMDOWNUSDT\n4        1607670306704  10.22200000  XLMDOWNUSDT\n...                ...          ...          ...\n8567392  1600459462436   3.79200000     SWRVBUSD\n8567393  1600459462436   3.79200000     SWRVBUSD\n8567394  1600459462436   3.79200000     SWRVBUSD\n8567395  1600459462441   3.79200000     SWRVBUSD\n8567396  1600459580377   3.94100000     SWRVBUSD\n\n[8567397 rows x 3 columns]",
      "text/html": "<div>\n<style scoped>\n    .dataframe tbody tr th:only-of-type {\n        vertical-align: middle;\n    }\n\n    .dataframe tbody tr th {\n        vertical-align: top;\n    }\n\n    .dataframe thead th {\n        text-align: right;\n    }\n</style>\n<table border=\"1\" class=\"dataframe\">\n  <thead>\n    <tr style=\"text-align: right;\">\n      <th></th>\n      <th>timestamp</th>\n      <th>price</th>\n      <th>pair</th>\n    </tr>\n  </thead>\n  <tbody>\n    <tr>\n      <th>0</th>\n      <td>1607670000000</td>\n      <td>10.00000000</td>\n      <td>XLMDOWNUSDT</td>\n    </tr>\n    <tr>\n      <th>1</th>\n      <td>1607670172194</td>\n      <td>10.16700000</td>\n      <td>XLMDOWNUSDT</td>\n    </tr>\n    <tr>\n      <th>2</th>\n      <td>1607670284340</td>\n      <td>10.19000000</td>\n      <td>XLMDOWNUSDT</td>\n    </tr>\n    <tr>\n      <th>3</th>\n      <td>1607670293095</td>\n      <td>10.18800000</td>\n      <td>XLMDOWNUSDT</td>\n    </tr>\n    <tr>\n      <th>4</th>\n      <td>1607670306704</td>\n      <td>10.22200000</td>\n      <td>XLMDOWNUSDT</td>\n    </tr>\n    <tr>\n      <th>...</th>\n      <td>...</td>\n      <td>...</td>\n      <td>...</td>\n    </tr>\n    <tr>\n      <th>8567392</th>\n      <td>1600459462436</td>\n      <td>3.79200000</td>\n      <td>SWRVBUSD</td>\n    </tr>\n    <tr>\n      <th>8567393</th>\n      <td>1600459462436</td>\n      <td>3.79200000</td>\n      <td>SWRVBUSD</td>\n    </tr>\n    <tr>\n      <th>8567394</th>\n      <td>1600459462436</td>\n      <td>3.79200000</td>\n      <td>SWRVBUSD</td>\n    </tr>\n    <tr>\n      <th>8567395</th>\n      <td>1600459462441</td>\n      <td>3.79200000</td>\n      <td>SWRVBUSD</td>\n    </tr>\n    <tr>\n      <th>8567396</th>\n      <td>1600459580377</td>\n      <td>3.94100000</td>\n      <td>SWRVBUSD</td>\n    </tr>\n  </tbody>\n</table>\n<p>8567397 rows × 3 columns</p>\n</div>"
     },
     "execution_count": 24,
     "metadata": {},
     "output_type": "execute_result"
    }
   ],
   "source": [
    "df = pd.DataFrame(df, columns=columns)\n",
    "print(len(df['pair'].unique()))\n",
    "df.to_csv(\"trades_all_10000.csv\", header=None, index=None)\n",
    "df"
   ],
   "metadata": {
    "collapsed": false,
    "pycharm": {
     "name": "#%%\n"
    }
   }
  },
  {
   "cell_type": "code",
   "execution_count": 23,
   "outputs": [],
   "source": [],
   "metadata": {
    "collapsed": false,
    "pycharm": {
     "name": "#%%\n"
    }
   }
  }
 ],
 "metadata": {
  "kernelspec": {
   "display_name": "Python 3",
   "language": "python",
   "name": "python3"
  },
  "language_info": {
   "codemirror_mode": {
    "name": "ipython",
    "version": 2
   },
   "file_extension": ".py",
   "mimetype": "text/x-python",
   "name": "python",
   "nbconvert_exporter": "python",
   "pygments_lexer": "ipython2",
   "version": "2.7.6"
  }
 },
 "nbformat": 4,
 "nbformat_minor": 0
}