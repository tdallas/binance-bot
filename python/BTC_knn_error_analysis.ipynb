{
 "cells": [
  {
   "cell_type": "code",
   "execution_count": 1,
   "outputs": [
    {
     "name": "stderr",
     "output_type": "stream",
     "text": [
      "/Users/tomas.dallas/itba/binance-bot/venv/lib/python3.8/site-packages/theano/configdefaults.py:560: UserWarning: DeprecationWarning: there is no c++ compiler.This is deprecated and with Theano 0.11 a c++ compiler will be mandatory\n",
      "  warnings.warn(\"DeprecationWarning: there is no c++ compiler.\"\n",
      "WARNING (theano.configdefaults): g++ not detected ! Theano will be unable to execute optimized C-implementations (for both CPU and GPU) and will default to Python implementations. Performance will be severely degraded. To remove this warning, set Theano flags cxx to an empty string.\n",
      "WARNING (theano.tensor.blas): Using NumPy C-API based implementation for BLAS functions.\n"
     ]
    }
   ],
   "source": [
    "import math\n",
    "\n",
    "import pandas as pd\n",
    "from neupy import algorithms\n",
    "import numpy as np\n",
    "import json\n",
    "from tqdm import tqdm\n",
    "from datetime import datetime\n",
    "import plotly.graph_objects as go\n",
    "from plotly.subplots import make_subplots\n",
    "import plotly.express as px\n",
    "from sklearn.metrics import mean_squared_error, mean_absolute_percentage_error\n",
    "from numpy import sqrt\n",
    "import math\n",
    "\n",
    "from sklearn.neighbors import KNeighborsClassifier\n",
    "from sklearn.model_selection import train_test_split"
   ],
   "metadata": {
    "collapsed": false,
    "pycharm": {
     "name": "#%%\n"
    }
   }
  },
  {
   "cell_type": "code",
   "execution_count": 2,
   "outputs": [],
   "source": [
    "def ret(n, n_1):\n",
    "    return (n_1 - n) / n\n",
    "\n",
    "\n",
    "PREDICTIONS = 1000\n",
    "# prices every 15 seconds\n",
    "# df = pd.read_csv(\"prices.csv\")\n",
    "f = open(\"BTC_USDT-3m.json\")\n",
    "df = pd.DataFrame.from_records(json.load(f), columns=['timestamp', 'open', 'high', 'low', 'close', 'vol'])\n",
    "# df.columns = ['price']\n",
    "df['ret_c'] = (df['close'] - df['close'].shift(1)) / df['close'].shift(1)\n",
    "df['ret_o'] = (df['open'] - df['open'].shift(1)) / df['open'].shift(1)\n",
    "\n",
    "df['ret_h'] = (df['high'] - df['high'].shift(1)) / df['high'].shift(1)\n",
    "df['ret_l'] = (df['low'] - df['low'].shift(1)) / df['low'].shift(1)\n",
    "df['ret'] = (df['close'].shift(-1) - df['close']) / df['close']\n",
    "df['ret'] = df['ret'].apply(lambda x: np.sign(x) if np.abs(x) < 0.0001 else (-2 if np.sign(x) < 0 else 2))\n",
    "\n",
    "\n",
    "def perc_dif(actual, prediction):\n",
    "    return np.abs(prediction - actual) / prediction"
   ],
   "metadata": {
    "collapsed": false,
    "pycharm": {
     "name": "#%%\n"
    }
   }
  },
  {
   "cell_type": "code",
   "execution_count": 3,
   "outputs": [
    {
     "data": {
      "text/plain": "          timestamp      open      high       low     close        vol  \\\n0     1661040000000  21140.07  21163.88  21136.70  21162.06  298.59140   \n1     1661040180000  21162.06  21170.01  21119.90  21128.62  383.42144   \n2     1661040360000  21128.62  21164.99  21118.71  21163.56  319.63957   \n3     1661040540000  21163.56  21205.00  21161.60  21189.24  385.29906   \n4     1661040720000  21189.24  21190.74  21158.10  21168.10  263.47068   \n...             ...       ...       ...       ...       ...        ...   \n5247  1661984460000  20136.67  20160.39  20134.47  20137.42  523.00044   \n5248  1661984640000  20138.89  20156.64  20105.75  20113.18  601.23214   \n5249  1661984820000  20113.18  20136.82  20110.00  20115.62  376.35440   \n5250  1661985000000  20114.57  20126.16  20085.70  20103.86  615.45862   \n5251  1661985180000  20102.12  20131.22  20100.72  20114.88  455.78273   \n\n         ret_c         ret_o     ret_h     ret_l  ret  \n0          NaN           NaN       NaN       NaN -2.0  \n1    -0.001580  1.040205e-03  0.000290 -0.000795  2.0  \n2     0.001654 -1.580186e-03 -0.000237 -0.000056  2.0  \n3     0.001213  1.653681e-03  0.001890  0.002031 -2.0  \n4    -0.000998  1.213406e-03 -0.000672 -0.000165  2.0  \n...        ...           ...       ...       ...  ...  \n5247  0.000037  4.966067e-07  0.000608  0.001916 -2.0  \n5248 -0.001204  1.102466e-04 -0.000186 -0.001426  2.0  \n5249  0.000121 -1.276634e-03 -0.000983  0.000211 -2.0  \n5250 -0.000585  6.910891e-05 -0.000529 -0.001208  2.0  \n5251  0.000548 -6.189543e-04  0.000251  0.000748  2.0  \n\n[5252 rows x 11 columns]",
      "text/html": "<div>\n<style scoped>\n    .dataframe tbody tr th:only-of-type {\n        vertical-align: middle;\n    }\n\n    .dataframe tbody tr th {\n        vertical-align: top;\n    }\n\n    .dataframe thead th {\n        text-align: right;\n    }\n</style>\n<table border=\"1\" class=\"dataframe\">\n  <thead>\n    <tr style=\"text-align: right;\">\n      <th></th>\n      <th>timestamp</th>\n      <th>open</th>\n      <th>high</th>\n      <th>low</th>\n      <th>close</th>\n      <th>vol</th>\n      <th>ret_c</th>\n      <th>ret_o</th>\n      <th>ret_h</th>\n      <th>ret_l</th>\n      <th>ret</th>\n    </tr>\n  </thead>\n  <tbody>\n    <tr>\n      <th>0</th>\n      <td>1661040000000</td>\n      <td>21140.07</td>\n      <td>21163.88</td>\n      <td>21136.70</td>\n      <td>21162.06</td>\n      <td>298.59140</td>\n      <td>NaN</td>\n      <td>NaN</td>\n      <td>NaN</td>\n      <td>NaN</td>\n      <td>-2.0</td>\n    </tr>\n    <tr>\n      <th>1</th>\n      <td>1661040180000</td>\n      <td>21162.06</td>\n      <td>21170.01</td>\n      <td>21119.90</td>\n      <td>21128.62</td>\n      <td>383.42144</td>\n      <td>-0.001580</td>\n      <td>1.040205e-03</td>\n      <td>0.000290</td>\n      <td>-0.000795</td>\n      <td>2.0</td>\n    </tr>\n    <tr>\n      <th>2</th>\n      <td>1661040360000</td>\n      <td>21128.62</td>\n      <td>21164.99</td>\n      <td>21118.71</td>\n      <td>21163.56</td>\n      <td>319.63957</td>\n      <td>0.001654</td>\n      <td>-1.580186e-03</td>\n      <td>-0.000237</td>\n      <td>-0.000056</td>\n      <td>2.0</td>\n    </tr>\n    <tr>\n      <th>3</th>\n      <td>1661040540000</td>\n      <td>21163.56</td>\n      <td>21205.00</td>\n      <td>21161.60</td>\n      <td>21189.24</td>\n      <td>385.29906</td>\n      <td>0.001213</td>\n      <td>1.653681e-03</td>\n      <td>0.001890</td>\n      <td>0.002031</td>\n      <td>-2.0</td>\n    </tr>\n    <tr>\n      <th>4</th>\n      <td>1661040720000</td>\n      <td>21189.24</td>\n      <td>21190.74</td>\n      <td>21158.10</td>\n      <td>21168.10</td>\n      <td>263.47068</td>\n      <td>-0.000998</td>\n      <td>1.213406e-03</td>\n      <td>-0.000672</td>\n      <td>-0.000165</td>\n      <td>2.0</td>\n    </tr>\n    <tr>\n      <th>...</th>\n      <td>...</td>\n      <td>...</td>\n      <td>...</td>\n      <td>...</td>\n      <td>...</td>\n      <td>...</td>\n      <td>...</td>\n      <td>...</td>\n      <td>...</td>\n      <td>...</td>\n      <td>...</td>\n    </tr>\n    <tr>\n      <th>5247</th>\n      <td>1661984460000</td>\n      <td>20136.67</td>\n      <td>20160.39</td>\n      <td>20134.47</td>\n      <td>20137.42</td>\n      <td>523.00044</td>\n      <td>0.000037</td>\n      <td>4.966067e-07</td>\n      <td>0.000608</td>\n      <td>0.001916</td>\n      <td>-2.0</td>\n    </tr>\n    <tr>\n      <th>5248</th>\n      <td>1661984640000</td>\n      <td>20138.89</td>\n      <td>20156.64</td>\n      <td>20105.75</td>\n      <td>20113.18</td>\n      <td>601.23214</td>\n      <td>-0.001204</td>\n      <td>1.102466e-04</td>\n      <td>-0.000186</td>\n      <td>-0.001426</td>\n      <td>2.0</td>\n    </tr>\n    <tr>\n      <th>5249</th>\n      <td>1661984820000</td>\n      <td>20113.18</td>\n      <td>20136.82</td>\n      <td>20110.00</td>\n      <td>20115.62</td>\n      <td>376.35440</td>\n      <td>0.000121</td>\n      <td>-1.276634e-03</td>\n      <td>-0.000983</td>\n      <td>0.000211</td>\n      <td>-2.0</td>\n    </tr>\n    <tr>\n      <th>5250</th>\n      <td>1661985000000</td>\n      <td>20114.57</td>\n      <td>20126.16</td>\n      <td>20085.70</td>\n      <td>20103.86</td>\n      <td>615.45862</td>\n      <td>-0.000585</td>\n      <td>6.910891e-05</td>\n      <td>-0.000529</td>\n      <td>-0.001208</td>\n      <td>2.0</td>\n    </tr>\n    <tr>\n      <th>5251</th>\n      <td>1661985180000</td>\n      <td>20102.12</td>\n      <td>20131.22</td>\n      <td>20100.72</td>\n      <td>20114.88</td>\n      <td>455.78273</td>\n      <td>0.000548</td>\n      <td>-6.189543e-04</td>\n      <td>0.000251</td>\n      <td>0.000748</td>\n      <td>2.0</td>\n    </tr>\n  </tbody>\n</table>\n<p>5252 rows × 11 columns</p>\n</div>"
     },
     "execution_count": 3,
     "metadata": {},
     "output_type": "execute_result"
    }
   ],
   "source": [
    "df"
   ],
   "metadata": {
    "collapsed": false,
    "pycharm": {
     "name": "#%%\n"
    }
   }
  },
  {
   "cell_type": "code",
   "execution_count": 3,
   "outputs": [],
   "source": [],
   "metadata": {
    "collapsed": false,
    "pycharm": {
     "name": "#%%\n"
    }
   }
  },
  {
   "cell_type": "code",
   "execution_count": 4,
   "outputs": [
    {
     "ename": "ValueError",
     "evalue": "Length mismatch: Expected axis has 4 elements, new values have 3 elements",
     "output_type": "error",
     "traceback": [
      "\u001B[0;31m---------------------------------------------------------------------------\u001B[0m",
      "\u001B[0;31mValueError\u001B[0m                                Traceback (most recent call last)",
      "Input \u001B[0;32mIn [4]\u001B[0m, in \u001B[0;36m<cell line: 2>\u001B[0;34m()\u001B[0m\n\u001B[1;32m      1\u001B[0m hit_df \u001B[38;5;241m=\u001B[39m pd\u001B[38;5;241m.\u001B[39mread_csv(\u001B[38;5;124m\"\u001B[39m\u001B[38;5;124mret_h/oc/errors_knn_oc_3m_normalized.csv\u001B[39m\u001B[38;5;124m\"\u001B[39m)\n\u001B[0;32m----> 2\u001B[0m \u001B[43mhit_df\u001B[49m\u001B[38;5;241;43m.\u001B[39;49m\u001B[43mcolumns\u001B[49m \u001B[38;5;241m=\u001B[39m [\u001B[38;5;124m'\u001B[39m\u001B[38;5;124mhit_rate\u001B[39m\u001B[38;5;124m'\u001B[39m, \u001B[38;5;124m'\u001B[39m\u001B[38;5;124mNDTR\u001B[39m\u001B[38;5;124m'\u001B[39m, \u001B[38;5;124m'\u001B[39m\u001B[38;5;124mpredictions\u001B[39m\u001B[38;5;124m'\u001B[39m]\n\u001B[1;32m      4\u001B[0m fig \u001B[38;5;241m=\u001B[39m make_subplots()\n\u001B[1;32m      6\u001B[0m fig\u001B[38;5;241m.\u001B[39madd_trace(\n\u001B[1;32m      7\u001B[0m     go\u001B[38;5;241m.\u001B[39mScatter(x\u001B[38;5;241m=\u001B[39mhit_df[\u001B[38;5;124m'\u001B[39m\u001B[38;5;124mNDTR\u001B[39m\u001B[38;5;124m'\u001B[39m], y\u001B[38;5;241m=\u001B[39mhit_df[\u001B[38;5;124m'\u001B[39m\u001B[38;5;124mhit_rate\u001B[39m\u001B[38;5;124m'\u001B[39m], mode\u001B[38;5;241m=\u001B[39m\u001B[38;5;124m\"\u001B[39m\u001B[38;5;124mmarkers+lines\u001B[39m\u001B[38;5;124m\"\u001B[39m))\n",
      "File \u001B[0;32m~/itba/binance-bot/venv/lib/python3.8/site-packages/pandas/core/generic.py:5588\u001B[0m, in \u001B[0;36mNDFrame.__setattr__\u001B[0;34m(self, name, value)\u001B[0m\n\u001B[1;32m   5586\u001B[0m \u001B[38;5;28;01mtry\u001B[39;00m:\n\u001B[1;32m   5587\u001B[0m     \u001B[38;5;28mobject\u001B[39m\u001B[38;5;241m.\u001B[39m\u001B[38;5;21m__getattribute__\u001B[39m(\u001B[38;5;28mself\u001B[39m, name)\n\u001B[0;32m-> 5588\u001B[0m     \u001B[38;5;28;01mreturn\u001B[39;00m \u001B[38;5;28;43mobject\u001B[39;49m\u001B[38;5;241;43m.\u001B[39;49m\u001B[38;5;21;43m__setattr__\u001B[39;49m\u001B[43m(\u001B[49m\u001B[38;5;28;43mself\u001B[39;49m\u001B[43m,\u001B[49m\u001B[43m \u001B[49m\u001B[43mname\u001B[49m\u001B[43m,\u001B[49m\u001B[43m \u001B[49m\u001B[43mvalue\u001B[49m\u001B[43m)\u001B[49m\n\u001B[1;32m   5589\u001B[0m \u001B[38;5;28;01mexcept\u001B[39;00m \u001B[38;5;167;01mAttributeError\u001B[39;00m:\n\u001B[1;32m   5590\u001B[0m     \u001B[38;5;28;01mpass\u001B[39;00m\n",
      "File \u001B[0;32m~/itba/binance-bot/venv/lib/python3.8/site-packages/pandas/_libs/properties.pyx:70\u001B[0m, in \u001B[0;36mpandas._libs.properties.AxisProperty.__set__\u001B[0;34m()\u001B[0m\n",
      "File \u001B[0;32m~/itba/binance-bot/venv/lib/python3.8/site-packages/pandas/core/generic.py:769\u001B[0m, in \u001B[0;36mNDFrame._set_axis\u001B[0;34m(self, axis, labels)\u001B[0m\n\u001B[1;32m    767\u001B[0m \u001B[38;5;28;01mdef\u001B[39;00m \u001B[38;5;21m_set_axis\u001B[39m(\u001B[38;5;28mself\u001B[39m, axis: \u001B[38;5;28mint\u001B[39m, labels: Index) \u001B[38;5;241m-\u001B[39m\u001B[38;5;241m>\u001B[39m \u001B[38;5;28;01mNone\u001B[39;00m:\n\u001B[1;32m    768\u001B[0m     labels \u001B[38;5;241m=\u001B[39m ensure_index(labels)\n\u001B[0;32m--> 769\u001B[0m     \u001B[38;5;28;43mself\u001B[39;49m\u001B[38;5;241;43m.\u001B[39;49m\u001B[43m_mgr\u001B[49m\u001B[38;5;241;43m.\u001B[39;49m\u001B[43mset_axis\u001B[49m\u001B[43m(\u001B[49m\u001B[43maxis\u001B[49m\u001B[43m,\u001B[49m\u001B[43m \u001B[49m\u001B[43mlabels\u001B[49m\u001B[43m)\u001B[49m\n\u001B[1;32m    770\u001B[0m     \u001B[38;5;28mself\u001B[39m\u001B[38;5;241m.\u001B[39m_clear_item_cache()\n",
      "File \u001B[0;32m~/itba/binance-bot/venv/lib/python3.8/site-packages/pandas/core/internals/managers.py:214\u001B[0m, in \u001B[0;36mBaseBlockManager.set_axis\u001B[0;34m(self, axis, new_labels)\u001B[0m\n\u001B[1;32m    212\u001B[0m \u001B[38;5;28;01mdef\u001B[39;00m \u001B[38;5;21mset_axis\u001B[39m(\u001B[38;5;28mself\u001B[39m, axis: \u001B[38;5;28mint\u001B[39m, new_labels: Index) \u001B[38;5;241m-\u001B[39m\u001B[38;5;241m>\u001B[39m \u001B[38;5;28;01mNone\u001B[39;00m:\n\u001B[1;32m    213\u001B[0m     \u001B[38;5;66;03m# Caller is responsible for ensuring we have an Index object.\u001B[39;00m\n\u001B[0;32m--> 214\u001B[0m     \u001B[38;5;28;43mself\u001B[39;49m\u001B[38;5;241;43m.\u001B[39;49m\u001B[43m_validate_set_axis\u001B[49m\u001B[43m(\u001B[49m\u001B[43maxis\u001B[49m\u001B[43m,\u001B[49m\u001B[43m \u001B[49m\u001B[43mnew_labels\u001B[49m\u001B[43m)\u001B[49m\n\u001B[1;32m    215\u001B[0m     \u001B[38;5;28mself\u001B[39m\u001B[38;5;241m.\u001B[39maxes[axis] \u001B[38;5;241m=\u001B[39m new_labels\n",
      "File \u001B[0;32m~/itba/binance-bot/venv/lib/python3.8/site-packages/pandas/core/internals/base.py:69\u001B[0m, in \u001B[0;36mDataManager._validate_set_axis\u001B[0;34m(self, axis, new_labels)\u001B[0m\n\u001B[1;32m     66\u001B[0m     \u001B[38;5;28;01mpass\u001B[39;00m\n\u001B[1;32m     68\u001B[0m \u001B[38;5;28;01melif\u001B[39;00m new_len \u001B[38;5;241m!=\u001B[39m old_len:\n\u001B[0;32m---> 69\u001B[0m     \u001B[38;5;28;01mraise\u001B[39;00m \u001B[38;5;167;01mValueError\u001B[39;00m(\n\u001B[1;32m     70\u001B[0m         \u001B[38;5;124mf\u001B[39m\u001B[38;5;124m\"\u001B[39m\u001B[38;5;124mLength mismatch: Expected axis has \u001B[39m\u001B[38;5;132;01m{\u001B[39;00mold_len\u001B[38;5;132;01m}\u001B[39;00m\u001B[38;5;124m elements, new \u001B[39m\u001B[38;5;124m\"\u001B[39m\n\u001B[1;32m     71\u001B[0m         \u001B[38;5;124mf\u001B[39m\u001B[38;5;124m\"\u001B[39m\u001B[38;5;124mvalues have \u001B[39m\u001B[38;5;132;01m{\u001B[39;00mnew_len\u001B[38;5;132;01m}\u001B[39;00m\u001B[38;5;124m elements\u001B[39m\u001B[38;5;124m\"\u001B[39m\n\u001B[1;32m     72\u001B[0m     )\n",
      "\u001B[0;31mValueError\u001B[0m: Length mismatch: Expected axis has 4 elements, new values have 3 elements"
     ]
    }
   ],
   "source": [
    "hit_df = pd.read_csv(\"ret_h/oc/errors_knn_oc_3m_normalized.csv\")\n",
    "hit_df.columns = ['hit_rate', 'NDTR', 'predictions']\n",
    "\n",
    "fig = make_subplots()\n",
    "\n",
    "fig.add_trace(\n",
    "    go.Scatter(x=hit_df['NDTR'], y=hit_df['hit_rate'], mode=\"markers+lines\"))\n",
    "\n",
    "fig.update_layout(yaxis_tickformat=\".2%\", title=\"Hit rate of prediction for a given NDTR/K\", xaxis_title=\"NDTR/K\",\n",
    "                  yaxis_title=\"Hit rate\", xaxis_tickformat=\"none\")\n",
    "fig.show()"
   ],
   "metadata": {
    "collapsed": false,
    "pycharm": {
     "name": "#%%\n"
    }
   }
  },
  {
   "cell_type": "code",
   "execution_count": null,
   "outputs": [],
   "source": [],
   "metadata": {
    "collapsed": false,
    "pycharm": {
     "name": "#%%\n"
    }
   }
  },
  {
   "cell_type": "code",
   "execution_count": null,
   "outputs": [],
   "source": [
    "# buys = [0] * NDTR\n",
    "# sells = [0] * NDTR\n",
    "# for i in np.arange(NDTR, len(df)):\n",
    "#     small_df = df.iloc[i: i + 3].copy(deep=True)[['ret', 'ret_p']]\n",
    "#     if len(small_df) == 3:\n",
    "#         first = small_df['ret'].iloc[0]\n",
    "#         second = small_df['ret'].iloc[1]\n",
    "#         third = small_df['ret_p'].iloc[2]\n",
    "#         if first < 0 and second < 0 and third > 0.0001:\n",
    "#             buys.append(1)\n",
    "#         else:\n",
    "#             buys.append(0)\n",
    "#     else:\n",
    "#         buys.append(0)\n",
    "# df['buy'] = buys"
   ],
   "metadata": {
    "collapsed": false,
    "pycharm": {
     "name": "#%%\n"
    }
   }
  },
  {
   "cell_type": "code",
   "execution_count": null,
   "outputs": [],
   "source": [
    "# df['sell'] = 0\n",
    "# for i in np.arange(NDTR, len(df)):\n",
    "#     small_df = df[['buy', 'close', 'high']]\n",
    "#     buy = small_df['buy'].iloc[i]\n",
    "#     if buy == 1:\n",
    "#         buy_price = small_df['high'].iloc[i]\n",
    "#         for j in np.arange(i + 1, len(df)):\n",
    "#             sell_price = small_df['close'].iloc[j]\n",
    "#             actual_ret = ret(buy_price, sell_price)\n",
    "#             if actual_ret > 0.0001:\n",
    "#                 df.at[j, 'sell'] = 1\n",
    "#                 break"
   ],
   "metadata": {
    "collapsed": false,
    "pycharm": {
     "name": "#%%\n"
    }
   }
  },
  {
   "cell_type": "code",
   "execution_count": null,
   "outputs": [],
   "source": [
    "df"
   ],
   "metadata": {
    "collapsed": false,
    "pycharm": {
     "name": "#%%\n"
    }
   }
  },
  {
   "cell_type": "code",
   "execution_count": null,
   "outputs": [],
   "source": [],
   "metadata": {
    "collapsed": false,
    "pycharm": {
     "name": "#%%\n"
    }
   }
  }
 ],
 "metadata": {
  "kernelspec": {
   "display_name": "Python 3.8.10 64-bit ('3.8.10')",
   "language": "python",
   "name": "python3"
  },
  "language_info": {
   "codemirror_mode": {
    "name": "ipython",
    "version": 3
   },
   "file_extension": ".py",
   "mimetype": "text/x-python",
   "name": "python",
   "nbconvert_exporter": "python",
   "pygments_lexer": "ipython3",
   "version": "3.8.10"
  },
  "orig_nbformat": 4,
  "vscode": {
   "interpreter": {
    "hash": "51358056f74a2d21998dc5d866dbfaea4db2646fd9139b55e1f67d5243b0204f"
   }
  }
 },
 "nbformat": 4,
 "nbformat_minor": 2
}